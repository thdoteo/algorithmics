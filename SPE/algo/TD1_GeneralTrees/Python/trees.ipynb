{
 "cells": [
  {
   "cell_type": "markdown",
   "metadata": {},
   "source": [
    "# General Trees \n",
    "\n",
    "There are two classical implementations of general trees : \n",
    "\n",
    "- Either as a list of nodes each containing as a list of children \n",
    "- Or implemented through binary trees ; in that case the two children of \n",
    "  a node $N$ in a binary tree respectively correspond to first child of \n",
    "  $N$ and right sibling. \n",
    "  \n",
    "The primitive `display`, available in each sub-module representing data structures\n",
    "in the algopy module enables to display trees on within a jupyter notebook."
   ]
  },
  {
   "cell_type": "code",
   "execution_count": 1,
   "metadata": {},
   "outputs": [],
   "source": [
    "from algopy import tree\n",
    "from algopy import treeasbin\n",
    "\n",
    "from algopy.tree import Tree\n",
    "from algopy.treeasbin import TreeAsBin"
   ]
  },
  {
   "cell_type": "raw",
   "metadata": {},
   "source": [
    "class Tree:\n",
    "    \"\"\"Simple class for general tree.\n",
    "\n",
    "    Attributes:\n",
    "        key (Any): Node key.\n",
    "        children (List[Tree]): Node children.\n",
    "\n",
    "    \"\"\"\n",
    "\n",
    "    def __init__(self, key=None, children=None):\n",
    "        \"\"\"Init general tree, ensure children are properly set.\n",
    "\n",
    "        Args:\n",
    "            key (Any).\n",
    "            children (List[Tree]).\n",
    "\n",
    "        \"\"\"\n",
    "\n",
    "        self.key = key\n",
    "\n",
    "        if children is None:\n",
    "            self.children = []\n",
    "        else:\n",
    "            self.children = children\n",
    "\n",
    "    @property\n",
    "    def nbchildren(self):\n",
    "        \"\"\"Number of children of node.\"\"\"\n",
    "\n",
    "        return len(self.children)\n"
   ]
  },
  {
   "cell_type": "markdown",
   "metadata": {},
   "source": [
    "## Implementation : `tuple` - variant"
   ]
  },
  {
   "cell_type": "code",
   "execution_count": 2,
   "metadata": {},
   "outputs": [],
   "source": [
    "def tutoEx1():\n",
    "    C1 = Tree(3, [Tree(-6), Tree(10)])\n",
    "    C2 = Tree(8, [Tree(11, [Tree(0), Tree(4)]), Tree(2), Tree(5)])\n",
    "    C3 = Tree(9)\n",
    "    return Tree(15, [C1, C2, C3])"
   ]
  },
  {
   "cell_type": "code",
   "execution_count": 3,
   "metadata": {},
   "outputs": [],
   "source": [
    "L = tutoEx1()"
   ]
  },
  {
   "cell_type": "code",
   "execution_count": 4,
   "metadata": {},
   "outputs": [
    {
     "data": {
      "image/svg+xml": [
       "<svg height=\"260pt\" viewBox=\"0.00 0.00 350.00 260.00\" width=\"350pt\" xmlns=\"http://www.w3.org/2000/svg\" xmlns:xlink=\"http://www.w3.org/1999/xlink\">\n",
       "<g class=\"graph\" id=\"graph0\" transform=\"scale(1 1) rotate(0) translate(4 256)\">\n",
       "<title>temp</title>\n",
       "<polygon fill=\"#ffffff\" points=\"-4,4 -4,-256 346,-256 346,4 -4,4\" stroke=\"transparent\"/>\n",
       "<!-- 4357379856 -->\n",
       "<g class=\"node\" id=\"node1\">\n",
       "<title>4357379856</title>\n",
       "<ellipse cx=\"207\" cy=\"-234\" fill=\"none\" rx=\"27\" ry=\"18\" stroke=\"#000000\"/>\n",
       "<text fill=\"#000000\" font-family=\"Times,serif\" font-size=\"14.00\" text-anchor=\"middle\" x=\"207\" y=\"-229.8\">15</text>\n",
       "</g>\n",
       "<!-- 4357379240 -->\n",
       "<g class=\"node\" id=\"node2\">\n",
       "<title>4357379240</title>\n",
       "<ellipse cx=\"99\" cy=\"-162\" fill=\"none\" rx=\"27\" ry=\"18\" stroke=\"#000000\"/>\n",
       "<text fill=\"#000000\" font-family=\"Times,serif\" font-size=\"14.00\" text-anchor=\"middle\" x=\"99\" y=\"-157.8\">3</text>\n",
       "</g>\n",
       "<!-- 4357379856&#45;&#45;4357379240 -->\n",
       "<g class=\"edge\" id=\"edge1\">\n",
       "<title>4357379856--4357379240</title>\n",
       "<path d=\"M187.6918,-221.1278C168.0337,-208.0225 137.7386,-187.8257 118.1411,-174.7607\" fill=\"none\" stroke=\"#000000\"/>\n",
       "</g>\n",
       "<!-- 4357379688 -->\n",
       "<g class=\"node\" id=\"node3\">\n",
       "<title>4357379688</title>\n",
       "<ellipse cx=\"207\" cy=\"-162\" fill=\"none\" rx=\"27\" ry=\"18\" stroke=\"#000000\"/>\n",
       "<text fill=\"#000000\" font-family=\"Times,serif\" font-size=\"14.00\" text-anchor=\"middle\" x=\"207\" y=\"-157.8\">8</text>\n",
       "</g>\n",
       "<!-- 4357379856&#45;&#45;4357379688 -->\n",
       "<g class=\"edge\" id=\"edge2\">\n",
       "<title>4357379856--4357379688</title>\n",
       "<path d=\"M207,-215.8314C207,-205 207,-191.2876 207,-180.4133\" fill=\"none\" stroke=\"#000000\"/>\n",
       "</g>\n",
       "<!-- 4357379744 -->\n",
       "<g class=\"node\" id=\"node4\">\n",
       "<title>4357379744</title>\n",
       "<ellipse cx=\"279\" cy=\"-162\" fill=\"none\" rx=\"27\" ry=\"18\" stroke=\"#000000\"/>\n",
       "<text fill=\"#000000\" font-family=\"Times,serif\" font-size=\"14.00\" text-anchor=\"middle\" x=\"279\" y=\"-157.8\">9</text>\n",
       "</g>\n",
       "<!-- 4357379856&#45;&#45;4357379744 -->\n",
       "<g class=\"edge\" id=\"edge3\">\n",
       "<title>4357379856--4357379744</title>\n",
       "<path d=\"M222.2693,-218.7307C234.488,-206.512 251.5398,-189.4602 263.7527,-177.2473\" fill=\"none\" stroke=\"#000000\"/>\n",
       "</g>\n",
       "<!-- 4357379072 -->\n",
       "<g class=\"node\" id=\"node5\">\n",
       "<title>4357379072</title>\n",
       "<ellipse cx=\"27\" cy=\"-90\" fill=\"none\" rx=\"27\" ry=\"18\" stroke=\"#000000\"/>\n",
       "<text fill=\"#000000\" font-family=\"Times,serif\" font-size=\"14.00\" text-anchor=\"middle\" x=\"27\" y=\"-85.8\">-6</text>\n",
       "</g>\n",
       "<!-- 4357379240&#45;&#45;4357379072 -->\n",
       "<g class=\"edge\" id=\"edge4\">\n",
       "<title>4357379240--4357379072</title>\n",
       "<path d=\"M83.7307,-146.7307C71.512,-134.512 54.4602,-117.4602 42.2473,-105.2473\" fill=\"none\" stroke=\"#000000\"/>\n",
       "</g>\n",
       "<!-- 4357378904 -->\n",
       "<g class=\"node\" id=\"node6\">\n",
       "<title>4357378904</title>\n",
       "<ellipse cx=\"99\" cy=\"-90\" fill=\"none\" rx=\"27\" ry=\"18\" stroke=\"#000000\"/>\n",
       "<text fill=\"#000000\" font-family=\"Times,serif\" font-size=\"14.00\" text-anchor=\"middle\" x=\"99\" y=\"-85.8\">10</text>\n",
       "</g>\n",
       "<!-- 4357379240&#45;&#45;4357378904 -->\n",
       "<g class=\"edge\" id=\"edge5\">\n",
       "<title>4357379240--4357378904</title>\n",
       "<path d=\"M99,-143.8314C99,-133 99,-119.2876 99,-108.4133\" fill=\"none\" stroke=\"#000000\"/>\n",
       "</g>\n",
       "<!-- 4357379408 -->\n",
       "<g class=\"node\" id=\"node7\">\n",
       "<title>4357379408</title>\n",
       "<ellipse cx=\"171\" cy=\"-90\" fill=\"none\" rx=\"27\" ry=\"18\" stroke=\"#000000\"/>\n",
       "<text fill=\"#000000\" font-family=\"Times,serif\" font-size=\"14.00\" text-anchor=\"middle\" x=\"171\" y=\"-85.8\">11</text>\n",
       "</g>\n",
       "<!-- 4357379688&#45;&#45;4357379408 -->\n",
       "<g class=\"edge\" id=\"edge6\">\n",
       "<title>4357379688--4357379408</title>\n",
       "<path d=\"M198.2854,-144.5708C192.6253,-133.2506 185.2784,-118.5568 179.6343,-107.2687\" fill=\"none\" stroke=\"#000000\"/>\n",
       "</g>\n",
       "<!-- 4357379520 -->\n",
       "<g class=\"node\" id=\"node8\">\n",
       "<title>4357379520</title>\n",
       "<ellipse cx=\"243\" cy=\"-90\" fill=\"none\" rx=\"27\" ry=\"18\" stroke=\"#000000\"/>\n",
       "<text fill=\"#000000\" font-family=\"Times,serif\" font-size=\"14.00\" text-anchor=\"middle\" x=\"243\" y=\"-85.8\">2</text>\n",
       "</g>\n",
       "<!-- 4357379688&#45;&#45;4357379520 -->\n",
       "<g class=\"edge\" id=\"edge7\">\n",
       "<title>4357379688--4357379520</title>\n",
       "<path d=\"M215.7146,-144.5708C221.3747,-133.2506 228.7216,-118.5568 234.3657,-107.2687\" fill=\"none\" stroke=\"#000000\"/>\n",
       "</g>\n",
       "<!-- 4357379632 -->\n",
       "<g class=\"node\" id=\"node9\">\n",
       "<title>4357379632</title>\n",
       "<ellipse cx=\"315\" cy=\"-90\" fill=\"none\" rx=\"27\" ry=\"18\" stroke=\"#000000\"/>\n",
       "<text fill=\"#000000\" font-family=\"Times,serif\" font-size=\"14.00\" text-anchor=\"middle\" x=\"315\" y=\"-85.8\">5</text>\n",
       "</g>\n",
       "<!-- 4357379688&#45;&#45;4357379632 -->\n",
       "<g class=\"edge\" id=\"edge8\">\n",
       "<title>4357379688--4357379632</title>\n",
       "<path d=\"M226.3082,-149.1278C245.9663,-136.0225 276.2614,-115.8257 295.8589,-102.7607\" fill=\"none\" stroke=\"#000000\"/>\n",
       "</g>\n",
       "<!-- 4357379352 -->\n",
       "<g class=\"node\" id=\"node10\">\n",
       "<title>4357379352</title>\n",
       "<ellipse cx=\"135\" cy=\"-18\" fill=\"none\" rx=\"27\" ry=\"18\" stroke=\"#000000\"/>\n",
       "<text fill=\"#000000\" font-family=\"Times,serif\" font-size=\"14.00\" text-anchor=\"middle\" x=\"135\" y=\"-13.8\">0</text>\n",
       "</g>\n",
       "<!-- 4357379408&#45;&#45;4357379352 -->\n",
       "<g class=\"edge\" id=\"edge9\">\n",
       "<title>4357379408--4357379352</title>\n",
       "<path d=\"M162.2854,-72.5708C156.6253,-61.2506 149.2784,-46.5568 143.6343,-35.2687\" fill=\"none\" stroke=\"#000000\"/>\n",
       "</g>\n",
       "<!-- 4357379296 -->\n",
       "<g class=\"node\" id=\"node11\">\n",
       "<title>4357379296</title>\n",
       "<ellipse cx=\"207\" cy=\"-18\" fill=\"none\" rx=\"27\" ry=\"18\" stroke=\"#000000\"/>\n",
       "<text fill=\"#000000\" font-family=\"Times,serif\" font-size=\"14.00\" text-anchor=\"middle\" x=\"207\" y=\"-13.8\">4</text>\n",
       "</g>\n",
       "<!-- 4357379408&#45;&#45;4357379296 -->\n",
       "<g class=\"edge\" id=\"edge10\">\n",
       "<title>4357379408--4357379296</title>\n",
       "<path d=\"M179.7146,-72.5708C185.3747,-61.2506 192.7216,-46.5568 198.3657,-35.2687\" fill=\"none\" stroke=\"#000000\"/>\n",
       "</g>\n",
       "</g>\n",
       "</svg>"
      ],
      "text/plain": [
       "<IPython.core.display.SVG object>"
      ]
     },
     "execution_count": 4,
     "metadata": {},
     "output_type": "execute_result"
    }
   ],
   "source": [
    "tree.display(L)"
   ]
  },
  {
   "cell_type": "markdown",
   "metadata": {},
   "source": [
    "## Implementation : `first-child right-sibling` - variant"
   ]
  },
  {
   "cell_type": "raw",
   "metadata": {
    "collapsed": true
   },
   "source": [
    "class TreeAsBin:\n",
    "    \"\"\"Simple class for (General) trees as binary \n",
    "    \n",
    "    Trees are represented as Binary Trees (first child - right sibling)\n",
    "    \n",
    "    \"\"\"\n",
    "\n",
    "    def __init__(self, key, child=None, sibling=None):\n",
    "        \"\"\"\n",
    "        Init Tree\n",
    "        \"\"\"\n",
    "        self.key = key\n",
    "        self.child = child\n",
    "        self.sibling = sibling"
   ]
  },
  {
   "cell_type": "code",
   "execution_count": 5,
   "metadata": {},
   "outputs": [],
   "source": [
    "def tutoEx2():\n",
    "    C1 = TreeAsBin(3, TreeAsBin(-6, None, TreeAsBin(10)))\n",
    "    C2 = TreeAsBin(8, TreeAsBin(11, TreeAsBin(0, None, TreeAsBin(4)), \n",
    "                                TreeAsBin(2, None, TreeAsBin(5))))\n",
    "    C3 = TreeAsBin(9)\n",
    "    C1.sibling = C2\n",
    "    C2.sibling = C3\n",
    "    return TreeAsBin(15, C1, None)"
   ]
  },
  {
   "cell_type": "code",
   "execution_count": 6,
   "metadata": {},
   "outputs": [],
   "source": [
    "LTAB = tutoEx2()"
   ]
  },
  {
   "cell_type": "code",
   "execution_count": 7,
   "metadata": {},
   "outputs": [
    {
     "data": {
      "image/svg+xml": [
       "<?xml version=\"1.0\" encoding=\"UTF-8\" standalone=\"no\"?>\n",
       "<!DOCTYPE svg PUBLIC \"-//W3C//DTD SVG 1.1//EN\"\n",
       " \"http://www.w3.org/Graphics/SVG/1.1/DTD/svg11.dtd\">\n",
       "<!-- Generated by graphviz version 2.40.1 (20161225.0304)\n",
       " -->\n",
       "<!-- Title: %3 Pages: 1 -->\n",
       "<svg width=\"260pt\" height=\"260pt\"\n",
       " viewBox=\"0.00 0.00 260.00 260.00\" xmlns=\"http://www.w3.org/2000/svg\" xmlns:xlink=\"http://www.w3.org/1999/xlink\">\n",
       "<g id=\"graph0\" class=\"graph\" transform=\"scale(1 1) rotate(0) translate(4 256)\">\n",
       "<title>%3</title>\n",
       "<polygon fill=\"#ffffff\" stroke=\"transparent\" points=\"-4,4 -4,-256 256,-256 256,4 -4,4\"/>\n",
       "<!-- 15 -->\n",
       "<g id=\"node1\" class=\"node\">\n",
       "<title>15</title>\n",
       "<ellipse fill=\"none\" stroke=\"#000000\" cx=\"153\" cy=\"-234\" rx=\"18\" ry=\"18\"/>\n",
       "<text text-anchor=\"middle\" x=\"153\" y=\"-229.8\" font-family=\"Times,serif\" font-size=\"14.00\" fill=\"#000000\">15</text>\n",
       "</g>\n",
       "<!-- 3 -->\n",
       "<g id=\"node2\" class=\"node\">\n",
       "<title>3</title>\n",
       "<ellipse fill=\"none\" stroke=\"#000000\" cx=\"72\" cy=\"-162\" rx=\"18\" ry=\"18\"/>\n",
       "<text text-anchor=\"middle\" x=\"72\" y=\"-157.8\" font-family=\"Times,serif\" font-size=\"14.00\" fill=\"#000000\">3</text>\n",
       "</g>\n",
       "<!-- 15&#45;&#45;3 -->\n",
       "<g id=\"edge1\" class=\"edge\">\n",
       "<title>15&#45;&#45;3</title>\n",
       "<path fill=\"none\" stroke=\"#000000\" d=\"M139.2595,-221.7862C124.2743,-208.466 100.4423,-187.2821 85.5376,-174.0334\"/>\n",
       "</g>\n",
       "<!-- 8 -->\n",
       "<g id=\"node3\" class=\"node\">\n",
       "<title>8</title>\n",
       "<ellipse fill=\"none\" stroke=\"#000000\" cx=\"153\" cy=\"-162\" rx=\"18\" ry=\"18\"/>\n",
       "<text text-anchor=\"middle\" x=\"153\" y=\"-157.8\" font-family=\"Times,serif\" font-size=\"14.00\" fill=\"#000000\">8</text>\n",
       "</g>\n",
       "<!-- 15&#45;&#45;8 -->\n",
       "<g id=\"edge2\" class=\"edge\">\n",
       "<title>15&#45;&#45;8</title>\n",
       "<path fill=\"none\" stroke=\"#000000\" d=\"M153,-215.8314C153,-205 153,-191.2876 153,-180.4133\"/>\n",
       "</g>\n",
       "<!-- 9 -->\n",
       "<g id=\"node4\" class=\"node\">\n",
       "<title>9</title>\n",
       "<ellipse fill=\"none\" stroke=\"#000000\" cx=\"207\" cy=\"-162\" rx=\"18\" ry=\"18\"/>\n",
       "<text text-anchor=\"middle\" x=\"207\" y=\"-157.8\" font-family=\"Times,serif\" font-size=\"14.00\" fill=\"#000000\">9</text>\n",
       "</g>\n",
       "<!-- 15&#45;&#45;9 -->\n",
       "<g id=\"edge3\" class=\"edge\">\n",
       "<title>15&#45;&#45;9</title>\n",
       "<path fill=\"none\" stroke=\"#000000\" d=\"M163.9277,-219.4297C173.2965,-206.938 186.7245,-189.034 196.0885,-176.5486\"/>\n",
       "</g>\n",
       "<!-- &#45;6 -->\n",
       "<g id=\"node5\" class=\"node\">\n",
       "<title>&#45;6</title>\n",
       "<ellipse fill=\"none\" stroke=\"#000000\" cx=\"18\" cy=\"-90\" rx=\"18\" ry=\"18\"/>\n",
       "<text text-anchor=\"middle\" x=\"18\" y=\"-85.8\" font-family=\"Times,serif\" font-size=\"14.00\" fill=\"#000000\">&#45;6</text>\n",
       "</g>\n",
       "<!-- 3&#45;&#45;&#45;6 -->\n",
       "<g id=\"edge4\" class=\"edge\">\n",
       "<title>3&#45;&#45;&#45;6</title>\n",
       "<path fill=\"none\" stroke=\"#000000\" d=\"M61.0723,-147.4297C51.7035,-134.938 38.2755,-117.034 28.9115,-104.5486\"/>\n",
       "</g>\n",
       "<!-- 10 -->\n",
       "<g id=\"node6\" class=\"node\">\n",
       "<title>10</title>\n",
       "<ellipse fill=\"none\" stroke=\"#000000\" cx=\"72\" cy=\"-90\" rx=\"18\" ry=\"18\"/>\n",
       "<text text-anchor=\"middle\" x=\"72\" y=\"-85.8\" font-family=\"Times,serif\" font-size=\"14.00\" fill=\"#000000\">10</text>\n",
       "</g>\n",
       "<!-- 3&#45;&#45;10 -->\n",
       "<g id=\"edge5\" class=\"edge\">\n",
       "<title>3&#45;&#45;10</title>\n",
       "<path fill=\"none\" stroke=\"#000000\" d=\"M72,-143.8314C72,-133 72,-119.2876 72,-108.4133\"/>\n",
       "</g>\n",
       "<!-- 11 -->\n",
       "<g id=\"node7\" class=\"node\">\n",
       "<title>11</title>\n",
       "<ellipse fill=\"none\" stroke=\"#000000\" cx=\"126\" cy=\"-90\" rx=\"18\" ry=\"18\"/>\n",
       "<text text-anchor=\"middle\" x=\"126\" y=\"-85.8\" font-family=\"Times,serif\" font-size=\"14.00\" fill=\"#000000\">11</text>\n",
       "</g>\n",
       "<!-- 8&#45;&#45;11 -->\n",
       "<g id=\"edge6\" class=\"edge\">\n",
       "<title>8&#45;&#45;11</title>\n",
       "<path fill=\"none\" stroke=\"#000000\" d=\"M146.6014,-144.937C142.2974,-133.4596 136.6471,-118.3922 132.3527,-106.9405\"/>\n",
       "</g>\n",
       "<!-- 2 -->\n",
       "<g id=\"node8\" class=\"node\">\n",
       "<title>2</title>\n",
       "<ellipse fill=\"none\" stroke=\"#000000\" cx=\"180\" cy=\"-90\" rx=\"18\" ry=\"18\"/>\n",
       "<text text-anchor=\"middle\" x=\"180\" y=\"-85.8\" font-family=\"Times,serif\" font-size=\"14.00\" fill=\"#000000\">2</text>\n",
       "</g>\n",
       "<!-- 8&#45;&#45;2 -->\n",
       "<g id=\"edge7\" class=\"edge\">\n",
       "<title>8&#45;&#45;2</title>\n",
       "<path fill=\"none\" stroke=\"#000000\" d=\"M159.3986,-144.937C163.7026,-133.4596 169.3529,-118.3922 173.6473,-106.9405\"/>\n",
       "</g>\n",
       "<!-- 5 -->\n",
       "<g id=\"node9\" class=\"node\">\n",
       "<title>5</title>\n",
       "<ellipse fill=\"none\" stroke=\"#000000\" cx=\"234\" cy=\"-90\" rx=\"18\" ry=\"18\"/>\n",
       "<text text-anchor=\"middle\" x=\"234\" y=\"-85.8\" font-family=\"Times,serif\" font-size=\"14.00\" fill=\"#000000\">5</text>\n",
       "</g>\n",
       "<!-- 8&#45;&#45;5 -->\n",
       "<g id=\"edge8\" class=\"edge\">\n",
       "<title>8&#45;&#45;5</title>\n",
       "<path fill=\"none\" stroke=\"#000000\" d=\"M166.7405,-149.7862C181.7257,-136.466 205.5577,-115.2821 220.4624,-102.0334\"/>\n",
       "</g>\n",
       "<!-- 0 -->\n",
       "<g id=\"node10\" class=\"node\">\n",
       "<title>0</title>\n",
       "<ellipse fill=\"none\" stroke=\"#000000\" cx=\"99\" cy=\"-18\" rx=\"18\" ry=\"18\"/>\n",
       "<text text-anchor=\"middle\" x=\"99\" y=\"-13.8\" font-family=\"Times,serif\" font-size=\"14.00\" fill=\"#000000\">0</text>\n",
       "</g>\n",
       "<!-- 11&#45;&#45;0 -->\n",
       "<g id=\"edge9\" class=\"edge\">\n",
       "<title>11&#45;&#45;0</title>\n",
       "<path fill=\"none\" stroke=\"#000000\" d=\"M119.6014,-72.937C115.2974,-61.4596 109.6471,-46.3922 105.3527,-34.9405\"/>\n",
       "</g>\n",
       "<!-- 4 -->\n",
       "<g id=\"node11\" class=\"node\">\n",
       "<title>4</title>\n",
       "<ellipse fill=\"none\" stroke=\"#000000\" cx=\"153\" cy=\"-18\" rx=\"18\" ry=\"18\"/>\n",
       "<text text-anchor=\"middle\" x=\"153\" y=\"-13.8\" font-family=\"Times,serif\" font-size=\"14.00\" fill=\"#000000\">4</text>\n",
       "</g>\n",
       "<!-- 11&#45;&#45;4 -->\n",
       "<g id=\"edge10\" class=\"edge\">\n",
       "<title>11&#45;&#45;4</title>\n",
       "<path fill=\"none\" stroke=\"#000000\" d=\"M132.3986,-72.937C136.7026,-61.4596 142.3529,-46.3922 146.6473,-34.9405\"/>\n",
       "</g>\n",
       "</g>\n",
       "</svg>\n"
      ],
      "text/plain": [
       "<graphviz.files.Source at 0x103c63fd0>"
      ]
     },
     "execution_count": 7,
     "metadata": {},
     "output_type": "execute_result"
    }
   ],
   "source": [
    "treeasbin.display(LTAB)"
   ]
  },
  {
   "cell_type": "markdown",
   "metadata": {
    "collapsed": true
   },
   "source": [
    "# 1. Measures"
   ]
  },
  {
   "cell_type": "markdown",
   "metadata": {},
   "source": [
    "## 1.1 Size"
   ]
  },
  {
   "cell_type": "markdown",
   "metadata": {},
   "source": [
    "### <b> <font color = blue> What is it? </font> </b>"
   ]
  },
  {
   "cell_type": "markdown",
   "metadata": {},
   "source": [
    "The number of nodes of tree."
   ]
  },
  {
   "cell_type": "markdown",
   "metadata": {},
   "source": [
    "### <b> <font color = blue> Compute size </font> </b>\n",
    "\n",
    "#### Implementation : `tuple`- variant"
   ]
  },
  {
   "cell_type": "code",
   "execution_count": 6,
   "metadata": {},
   "outputs": [],
   "source": [
    "def size (T):\n",
    "    n = 1\n",
    "    for child in T.children:\n",
    "        n += size(child)\n",
    "    return n"
   ]
  },
  {
   "cell_type": "code",
   "execution_count": 7,
   "metadata": {},
   "outputs": [
    {
     "data": {
      "text/plain": [
       "11"
      ]
     },
     "execution_count": 7,
     "metadata": {},
     "output_type": "execute_result"
    }
   ],
   "source": [
    "size(L)"
   ]
  },
  {
   "cell_type": "markdown",
   "metadata": {},
   "source": [
    "#### Implementation : `first-child right-sibling`-variant"
   ]
  },
  {
   "cell_type": "code",
   "execution_count": 8,
   "metadata": {},
   "outputs": [],
   "source": [
    "def size_asbin (T):\n",
    "    if T is None:\n",
    "        return 0\n",
    "    else:\n",
    "        return 1 + size_asbin(T.child) + size_asbin(T.sibling)"
   ]
  },
  {
   "cell_type": "code",
   "execution_count": 9,
   "metadata": {},
   "outputs": [
    {
     "data": {
      "text/plain": [
       "11"
      ]
     },
     "execution_count": 9,
     "metadata": {},
     "output_type": "execute_result"
    }
   ],
   "source": [
    "size_asbin(LTAB)"
   ]
  },
  {
   "cell_type": "code",
   "execution_count": 10,
   "metadata": {},
   "outputs": [],
   "source": [
    "def size_asbin_(T):\n",
    "    n = 1\n",
    "    C = T.child\n",
    "    while C:\n",
    "        n += size_asbin_(C)\n",
    "        C = C.sibling\n",
    "    return n"
   ]
  },
  {
   "cell_type": "code",
   "execution_count": 11,
   "metadata": {},
   "outputs": [
    {
     "data": {
      "text/plain": [
       "11"
      ]
     },
     "execution_count": 11,
     "metadata": {},
     "output_type": "execute_result"
    }
   ],
   "source": [
    "size_asbin_(LTAB)"
   ]
  },
  {
   "cell_type": "markdown",
   "metadata": {},
   "source": [
    "## 1.2 Height"
   ]
  },
  {
   "cell_type": "markdown",
   "metadata": {},
   "source": [
    "### <b> <font color = blue> What is the height of a tree? </font> </b>"
   ]
  },
  {
   "cell_type": "markdown",
   "metadata": {},
   "source": [
    "It's the maximum of depths of nodes. The depth of a node being the number of parent-child link from root to node. "
   ]
  },
  {
   "cell_type": "markdown",
   "metadata": {},
   "source": [
    "### <b> <font color = blue> Compute the height of a tree. </font> </b>\n",
    "\n",
    "#### Implementation : `tuple` - variant"
   ]
  },
  {
   "cell_type": "code",
   "execution_count": 12,
   "metadata": {},
   "outputs": [],
   "source": [
    "def height (T):\n",
    "    h = 0\n",
    "    for child in T.children:\n",
    "        h = max(h, 1 + height(child))\n",
    "    return h"
   ]
  },
  {
   "cell_type": "code",
   "execution_count": 13,
   "metadata": {},
   "outputs": [
    {
     "data": {
      "text/plain": [
       "3"
      ]
     },
     "execution_count": 13,
     "metadata": {},
     "output_type": "execute_result"
    }
   ],
   "source": [
    "height(L)"
   ]
  },
  {
   "cell_type": "code",
   "execution_count": 15,
   "metadata": {},
   "outputs": [],
   "source": [
    "def height_(T):\n",
    "    if not T.children:\n",
    "        return 0\n",
    "    else:\n",
    "        return max([1 + height_(child) for child in T.children])"
   ]
  },
  {
   "cell_type": "code",
   "execution_count": 16,
   "metadata": {},
   "outputs": [
    {
     "data": {
      "text/plain": [
       "3"
      ]
     },
     "execution_count": 16,
     "metadata": {},
     "output_type": "execute_result"
    }
   ],
   "source": [
    "height_(L)"
   ]
  },
  {
   "cell_type": "markdown",
   "metadata": {},
   "source": [
    "#### Implementation : `first-child right-sibling` - variant"
   ]
  },
  {
   "cell_type": "code",
   "execution_count": 17,
   "metadata": {},
   "outputs": [],
   "source": [
    "def height_asbin (T):\n",
    "    h = 0\n",
    "    C = T.child\n",
    "    while C:\n",
    "        h = max(h, 1 + height_asbin(C))\n",
    "        C = C.sibling\n",
    "    return h"
   ]
  },
  {
   "cell_type": "code",
   "execution_count": 18,
   "metadata": {},
   "outputs": [
    {
     "data": {
      "text/plain": [
       "3"
      ]
     },
     "execution_count": 18,
     "metadata": {},
     "output_type": "execute_result"
    }
   ],
   "source": [
    "height_asbin(LTAB)"
   ]
  },
  {
   "cell_type": "code",
   "execution_count": 19,
   "metadata": {},
   "outputs": [],
   "source": [
    "def height_asbin_(T):\n",
    "    if T is None:\n",
    "        return -1\n",
    "    else:\n",
    "        return max(1 + height_asbin_(T.child), height_asbin_(T.sibling))"
   ]
  },
  {
   "cell_type": "code",
   "execution_count": 20,
   "metadata": {},
   "outputs": [
    {
     "data": {
      "text/plain": [
       "3"
      ]
     },
     "execution_count": 20,
     "metadata": {},
     "output_type": "execute_result"
    }
   ],
   "source": [
    "height_asbin_(LTAB)"
   ]
  },
  {
   "cell_type": "markdown",
   "metadata": {},
   "source": [
    "## 1.3 Average External Depth"
   ]
  },
  {
   "cell_type": "markdown",
   "metadata": {},
   "source": [
    "### <b> <font color = blue> What is it? </font> </b>"
   ]
  },
  {
   "cell_type": "markdown",
   "metadata": {},
   "source": [
    "The sum of lenght of leaves divided by the number of leaves."
   ]
  },
  {
   "cell_type": "markdown",
   "metadata": {},
   "source": [
    "### <b> <font color = blue> Compute it. </font> </b>\n",
    "\n",
    "#### Implementation : `tuple` - variant"
   ]
  },
  {
   "cell_type": "code",
   "execution_count": 8,
   "metadata": {},
   "outputs": [],
   "source": [
    "def _aed(T, h=0):\n",
    "    if not T.children:\n",
    "        return 1, h\n",
    "    else:\n",
    "        nbl, sumep = 0, 0\n",
    "        for child in T.children:\n",
    "            (n, s) = _aed(child, h + 1)\n",
    "            nbl += n\n",
    "            sumep += s\n",
    "        return nbl, sumep"
   ]
  },
  {
   "cell_type": "code",
   "execution_count": 9,
   "metadata": {},
   "outputs": [],
   "source": [
    "def aed(T):\n",
    "    (n, epl) = _aed(T)\n",
    "    return epl / n"
   ]
  },
  {
   "cell_type": "code",
   "execution_count": 10,
   "metadata": {},
   "outputs": [
    {
     "data": {
      "text/plain": [
       "2.142857142857143"
      ]
     },
     "execution_count": 10,
     "metadata": {},
     "output_type": "execute_result"
    }
   ],
   "source": [
    "aed(L)"
   ]
  },
  {
   "cell_type": "code",
   "execution_count": 11,
   "metadata": {},
   "outputs": [],
   "source": [
    "def _aed_(T, h=0):\n",
    "    if T.nbchildren == 0:\n",
    "        return 1, h\n",
    "    else:\n",
    "        nbl, sumep = 0, 0\n",
    "        for index in range(T.nbchildren):\n",
    "            (n, s) = _aed(T.children[index], h + 1)\n",
    "            nbl += n\n",
    "            sumep += s\n",
    "        return nbl, sumep"
   ]
  },
  {
   "cell_type": "code",
   "execution_count": 13,
   "metadata": {},
   "outputs": [],
   "source": [
    "def aed_(T):\n",
    "    (n, epl) = _aed_(T)\n",
    "    return epl / n"
   ]
  },
  {
   "cell_type": "code",
   "execution_count": 15,
   "metadata": {},
   "outputs": [
    {
     "data": {
      "text/plain": [
       "2.142857142857143"
      ]
     },
     "execution_count": 15,
     "metadata": {},
     "output_type": "execute_result"
    }
   ],
   "source": [
    "aed(L)"
   ]
  },
  {
   "cell_type": "markdown",
   "metadata": {},
   "source": [
    "#### Implementation : `first-child right-sibling` - variant"
   ]
  },
  {
   "cell_type": "code",
   "execution_count": 16,
   "metadata": {},
   "outputs": [],
   "source": [
    "def _aed_asbin(T, h=0):\n",
    "    if not T.child:\n",
    "        return 1, h\n",
    "    else:\n",
    "        nbl, sumep = 0, 0\n",
    "        C = T.child\n",
    "        while C:\n",
    "            (n, s) = _aed_asbin(C, h + 1)\n",
    "            nbl += n\n",
    "            sumep += s\n",
    "            C = C.sibling\n",
    "        return nbl, sumep"
   ]
  },
  {
   "cell_type": "code",
   "execution_count": 17,
   "metadata": {},
   "outputs": [],
   "source": [
    "def aed_asbin(T):\n",
    "    (s, ep) = _aed_asbin(T)\n",
    "    return ep / s"
   ]
  },
  {
   "cell_type": "code",
   "execution_count": 18,
   "metadata": {},
   "outputs": [
    {
     "data": {
      "text/plain": [
       "2.142857142857143"
      ]
     },
     "execution_count": 18,
     "metadata": {},
     "output_type": "execute_result"
    }
   ],
   "source": [
    "aed_asbin(LTAB)"
   ]
  },
  {
   "cell_type": "markdown",
   "metadata": {},
   "source": [
    "# 2. Traversals\n",
    "\n",
    "## 2.1 Depth First Traversals\n",
    "\n",
    "### <b> <font color = blue> What is the principle of such traversal? </font> </b>"
   ]
  },
  {
   "cell_type": "markdown",
   "metadata": {},
   "source": [
    "Keep tree on your left and go on visiting tree nodes keeping this constraint."
   ]
  },
  {
   "cell_type": "markdown",
   "metadata": {},
   "source": [
    "### <b> <font color = blue> List keys encountered in preorder and postorder of DFT. </font> </b>"
   ]
  },
  {
   "cell_type": "markdown",
   "metadata": {},
   "source": [
    "#### preoreder encounter of keys."
   ]
  },
  {
   "cell_type": "markdown",
   "metadata": {},
   "source": [
    "15 3 -6 10 8 11 0 4 2 5 9"
   ]
  },
  {
   "cell_type": "markdown",
   "metadata": {},
   "source": [
    "#### postorder encounter of keys"
   ]
  },
  {
   "cell_type": "markdown",
   "metadata": {},
   "source": [
    "-6 10 3 0 4 11 2 5 8 9 15"
   ]
  },
  {
   "cell_type": "markdown",
   "metadata": {},
   "source": [
    "### <b> <font color = blue> What other treatments can one do? </font> </b>"
   ]
  },
  {
   "cell_type": "markdown",
   "metadata": {},
   "source": [
    "Intermediate orders."
   ]
  },
  {
   "cell_type": "markdown",
   "metadata": {},
   "source": [
    "### <b> <font color = blue> Write down DFTs </font> </b>\n",
    "\n",
    "#### Implementation : `tuple` - variant"
   ]
  },
  {
   "cell_type": "code",
   "execution_count": 31,
   "metadata": {},
   "outputs": [],
   "source": [
    "def dft(T):\n",
    "    #print(\"Key in preorder is : {}\".format(T.key))\n",
    "    #This includes leaf treatment.\n",
    "    if T.nbchildren > 0:\n",
    "        for i in range(T.nbchildren - 1):\n",
    "            dft(T.children[i])\n",
    "            print(\"Key in intermediate orders: {}\".format(T.key))\n",
    "        dft(T.children[-1])\n",
    "        #print(\"Key in postorder is : {}\".format(T.key))"
   ]
  },
  {
   "cell_type": "code",
   "execution_count": 32,
   "metadata": {},
   "outputs": [
    {
     "name": "stdout",
     "output_type": "stream",
     "text": [
      "Key in intermediate orders: 3\n",
      "Key in intermediate orders: 15\n",
      "Key in intermediate orders: 11\n",
      "Key in intermediate orders: 8\n",
      "Key in intermediate orders: 8\n",
      "Key in intermediate orders: 15\n"
     ]
    }
   ],
   "source": [
    "dft(L)"
   ]
  },
  {
   "cell_type": "markdown",
   "metadata": {},
   "source": [
    "#### Implementation : `first-child right-sibling` - variant"
   ]
  },
  {
   "cell_type": "code",
   "execution_count": 33,
   "metadata": {},
   "outputs": [],
   "source": [
    "def dft_asbin(T):\n",
    "    if T.child:\n",
    "        #preoder treatment\n",
    "        C = T.child\n",
    "        while C.sibling:\n",
    "            dft_asbin(C)\n",
    "            C = C.sibling\n",
    "            #intermerdiate treatment on T\n",
    "        dft_asbin(C)\n",
    "        #postorder treatment\n",
    "    else:\n",
    "        print(\"Leaf: {}\".format(T.key))\n",
    "        #leaf treatment"
   ]
  },
  {
   "cell_type": "markdown",
   "metadata": {},
   "source": [
    "## 2.2 Breadth First Traversal\n",
    "\n",
    "### <b> <font color = blue> What is the gist of it? </font> </b>"
   ]
  },
  {
   "cell_type": "markdown",
   "metadata": {},
   "source": [
    "We visit nodes of the tree level-per-level from left to right. This traversal doesn't respect the recursive structure of the tree. To enable such a traversal one needs a FIFO. "
   ]
  },
  {
   "cell_type": "markdown",
   "metadata": {},
   "source": [
    "### <b> <font color = blue> How does one detect level change? </font> </b>"
   ]
  },
  {
   "cell_type": "markdown",
   "metadata": {},
   "source": [
    "Either by using two queues one for current treated nodes and the other for the level to come, or using a marker marking end of level."
   ]
  },
  {
   "cell_type": "markdown",
   "metadata": {},
   "source": [
    "### The `queue` module\n",
    "\n",
    "Here is the interface for the `queue` module."
   ]
  },
  {
   "cell_type": "raw",
   "metadata": {},
   "source": [
    "# -*- coding: utf-8 -*-\n",
    "\"\"\"Queue module.\"\"\"\n",
    "\n",
    "from collections import deque\n",
    "\n",
    "class Queue:\n",
    "    \"\"\"Simple class for FIFO (first-in-first-out) container.\"\"\"\n",
    "\n",
    "    def __init__(self):\n",
    "        \"\"\"Init queue.\"\"\"\n",
    "\n",
    "        self.elements = deque()\n",
    "\n",
    "    def enqueue(self, elt):\n",
    "        \"\"\"Add an element to the queue.\n",
    "\n",
    "        Args:\n",
    "            elt (Any): Element to enqueue.\n",
    "\n",
    "        Returns:\n",
    "            Queue: The updated queue.\n",
    "\n",
    "        \"\"\"\n",
    "\n",
    "        self.elements.append(elt)\n",
    "        return self\n",
    "\n",
    "    def dequeue(self):\n",
    "        \"\"\"Remove and return next element from the queue.\n",
    "\n",
    "        Returns:\n",
    "            Any: Element from the queue.\n",
    "\n",
    "        Raises:\n",
    "            IndexError: If queue is empty.\n",
    "\n",
    "        \"\"\"\n",
    "\n",
    "        return self.elements.popleft()\n",
    "\n",
    "    def isempty(self):\n",
    "        \"\"\"Check whether queue is empty.\n",
    "\n",
    "        Returns:\n",
    "            bool: True if queue is empty, False otherwise.\n",
    "\n",
    "        \"\"\"\n",
    "\n",
    "        return len(self.elements) == 0\n"
   ]
  },
  {
   "cell_type": "code",
   "execution_count": 19,
   "metadata": {},
   "outputs": [],
   "source": [
    "from algopy import queue\n",
    "from algopy.queue import Queue"
   ]
  },
  {
   "cell_type": "markdown",
   "metadata": {},
   "source": [
    "Here is a use example."
   ]
  },
  {
   "cell_type": "code",
   "execution_count": 20,
   "metadata": {},
   "outputs": [
    {
     "data": {
      "text/plain": [
       "<algopy.queue.Queue at 0x103cf5518>"
      ]
     },
     "execution_count": 20,
     "metadata": {},
     "output_type": "execute_result"
    }
   ],
   "source": [
    "q = Queue()\n",
    "\n",
    "q"
   ]
  },
  {
   "cell_type": "code",
   "execution_count": 38,
   "metadata": {},
   "outputs": [],
   "source": [
    "for i in range(10):\n",
    "    q.enqueue(i)"
   ]
  },
  {
   "cell_type": "code",
   "execution_count": 39,
   "metadata": {},
   "outputs": [
    {
     "name": "stdout",
     "output_type": "stream",
     "text": [
      "0\n",
      "1\n",
      "2\n",
      "3\n",
      "4\n",
      "5\n",
      "6\n",
      "7\n",
      "8\n",
      "9\n"
     ]
    }
   ],
   "source": [
    "while not q.isempty():\n",
    "    print(q.dequeue())"
   ]
  },
  {
   "cell_type": "code",
   "execution_count": 40,
   "metadata": {},
   "outputs": [
    {
     "data": {
      "text/plain": [
       "True"
      ]
     },
     "execution_count": 40,
     "metadata": {},
     "output_type": "execute_result"
    }
   ],
   "source": [
    "q.isempty()"
   ]
  },
  {
   "cell_type": "markdown",
   "metadata": {},
   "source": [
    "### <b> <font color = blue> Write a BFT printing keys one level per line. </font> </b>\n",
    "\n",
    "#### Implementation : `tuple` - variant"
   ]
  },
  {
   "cell_type": "code",
   "execution_count": 41,
   "metadata": {},
   "outputs": [],
   "source": [
    "def bft(T):\n",
    "    q = Queue()\n",
    "    f = Queue()\n",
    "    q.enqueue(T)\n",
    "    while not q.isempty():\n",
    "        node = q.dequeue()\n",
    "        print(node.key, end=\" \")\n",
    "        for child in node.children:\n",
    "            f.enqueue(child)\n",
    "        if q.isempty():\n",
    "            f, q = q, f\n",
    "            print()"
   ]
  },
  {
   "cell_type": "code",
   "execution_count": 42,
   "metadata": {},
   "outputs": [
    {
     "name": "stdout",
     "output_type": "stream",
     "text": [
      "15 \n",
      "3 8 9 \n",
      "-6 10 11 2 5 \n",
      "0 4 \n"
     ]
    }
   ],
   "source": [
    "bft(L)"
   ]
  },
  {
   "cell_type": "markdown",
   "metadata": {},
   "source": [
    "### Compute Width of a General Tree"
   ]
  },
  {
   "cell_type": "code",
   "execution_count": 43,
   "metadata": {},
   "outputs": [],
   "source": [
    "def tree_width(T):\n",
    "    q = Queue()\n",
    "    f = Queue()\n",
    "    width, l_width = 0, 0\n",
    "    q.enqueue(T)\n",
    "    while not q.isempty():\n",
    "        node = q.dequeue()\n",
    "        l_width += 1\n",
    "        for child in node.children:\n",
    "            f.enqueue(child)\n",
    "        if q.isempty():\n",
    "            f, q = q, f\n",
    "            width = max(width, l_width)\n",
    "            l_width = 0\n",
    "    return width"
   ]
  },
  {
   "cell_type": "markdown",
   "metadata": {},
   "source": [
    "#### Implementation : `first-child right-sibling` - variant"
   ]
  },
  {
   "cell_type": "code",
   "execution_count": 44,
   "metadata": {},
   "outputs": [],
   "source": [
    "def BFT_asbin(B):\n",
    "    q = Queue()\n",
    "    q.enqueue(B)\n",
    "    q.enqueue(None)\n",
    "    while not q.isempty():\n",
    "        node = q.dequeue()\n",
    "        if node:\n",
    "            print(node.key, end=' ')\n",
    "            child = node.child          \n",
    "            while child:\n",
    "                q.enqueue(child)\n",
    "                child = child.sibling\n",
    "        else:\n",
    "            print()\n",
    "            if not q.isempty():\n",
    "                q.enqueue(None)"
   ]
  },
  {
   "cell_type": "code",
   "execution_count": 45,
   "metadata": {},
   "outputs": [
    {
     "name": "stdout",
     "output_type": "stream",
     "text": [
      "15 \n",
      "3 8 9 \n",
      "-6 10 11 2 5 \n",
      "0 4 \n"
     ]
    }
   ],
   "source": [
    "BFT_asbin(LTAB)"
   ]
  },
  {
   "cell_type": "markdown",
   "metadata": {},
   "source": [
    "# Applications\n",
    "\n",
    "## Exercice 3.1 \n",
    "\n",
    "Write down a function returning list of preorder-postorder encounters of keys in a DFS."
   ]
  },
  {
   "cell_type": "markdown",
   "metadata": {},
   "source": [
    "#### `tuple`-variant"
   ]
  },
  {
   "cell_type": "code",
   "execution_count": 48,
   "metadata": {},
   "outputs": [],
   "source": [
    "def __prefsuff(T, L):\n",
    "    L.append(T.key)\n",
    "    for child in T.children:\n",
    "        __prefsuff(child, L)\n",
    "    L.append(T.key)\n",
    "    \n",
    "def prefsuff(T):\n",
    "    L = []\n",
    "    __prefsuff(T, L)\n",
    "    return L"
   ]
  },
  {
   "cell_type": "code",
   "execution_count": 49,
   "metadata": {},
   "outputs": [
    {
     "data": {
      "text/plain": [
       "[15, 3, -6, -6, 10, 10, 3, 8, 11, 0, 0, 4, 4, 11, 2, 2, 5, 5, 8, 9, 9, 15]"
      ]
     },
     "execution_count": 49,
     "metadata": {},
     "output_type": "execute_result"
    }
   ],
   "source": [
    "prefsuff(L)"
   ]
  },
  {
   "cell_type": "markdown",
   "metadata": {},
   "source": [
    "#### `first-child right-sibling` -variant"
   ]
  },
  {
   "cell_type": "code",
   "execution_count": 50,
   "metadata": {},
   "outputs": [],
   "source": [
    "def __prefsuff_asbin(T, L):\n",
    "    L.append(T.key)\n",
    "    C = T.child\n",
    "    while C:\n",
    "        __prefsuff_asbin(C,L)\n",
    "        C = C.sibling\n",
    "    L.append(T.key)\n",
    "\n",
    "def prefsuff_asbin(T):\n",
    "    L = []\n",
    "    __prefsuff_asbin(T,L)\n",
    "    return L\n",
    "    "
   ]
  },
  {
   "cell_type": "markdown",
   "metadata": {},
   "source": [
    "## Exercise 3.2\n",
    "\n",
    "Write a function that builds a linear representation (as a string) from a tree."
   ]
  },
  {
   "cell_type": "markdown",
   "metadata": {},
   "source": [
    "#### `tuple`- variant"
   ]
  },
  {
   "cell_type": "code",
   "execution_count": 51,
   "metadata": {},
   "outputs": [],
   "source": [
    "def to_string(T):\n",
    "    s = \"({}\".format(T.key)\n",
    "    for child in T.children:\n",
    "        s += to_string(child)\n",
    "    s += \")\"\n",
    "    return s"
   ]
  },
  {
   "cell_type": "code",
   "execution_count": 52,
   "metadata": {},
   "outputs": [
    {
     "data": {
      "text/plain": [
       "'(15(3(-6)(10))(8(11(0)(4))(2)(5))(9))'"
      ]
     },
     "execution_count": 52,
     "metadata": {},
     "output_type": "execute_result"
    }
   ],
   "source": [
    "to_string(L)"
   ]
  },
  {
   "cell_type": "markdown",
   "metadata": {},
   "source": [
    "#### `first-child right-sibling`-variant"
   ]
  },
  {
   "cell_type": "code",
   "execution_count": 55,
   "metadata": {},
   "outputs": [],
   "source": [
    "def to_string_asbin(T):\n",
    "    s = \"({}\".format(T.key)\n",
    "    C = T.child\n",
    "    while C:\n",
    "        s += to_string_asbin(C)\n",
    "        C = C.sibling\n",
    "    s += \")\"\n",
    "    return s"
   ]
  },
  {
   "cell_type": "code",
   "execution_count": 54,
   "metadata": {},
   "outputs": [
    {
     "data": {
      "text/plain": [
       "'(15(3(-6)(10))(8(11(0)(4))(2)(5))(9))'"
      ]
     },
     "execution_count": 54,
     "metadata": {},
     "output_type": "execute_result"
    }
   ],
   "source": [
    "to_string_asbin(LTAB)"
   ]
  },
  {
   "cell_type": "markdown",
   "metadata": {},
   "source": [
    "## Exercice 3.3\n",
    "\n",
    "Write down a function computing average arity of a general tree, implemented using `first-child right-sibling`-variant."
   ]
  },
  {
   "cell_type": "code",
   "execution_count": 55,
   "metadata": {},
   "outputs": [],
   "source": [
    "def __average_arity(T):\n",
    "    nb_children = 0\n",
    "    nb_internal_nodes = 0\n",
    "    C = T.child\n",
    "    if C:\n",
    "        nb_internal_nodes += 1\n",
    "    while C:\n",
    "        nb_children += 1\n",
    "        call = __average_arity(C)\n",
    "        nb_children += call[0]\n",
    "        nb_internal_nodes += call[1]\n",
    "        C = C.sibling\n",
    "    return nb_children, nb_internal_nodes\n",
    "\n",
    "def average_arity(T):\n",
    "    nb_children, nb_internal_nodes = __average_arity(T)\n",
    "    if nb_internal_nodes > 0:\n",
    "        return nb_children/nb_internal_nodes\n",
    "    else:\n",
    "        raise Exception(\"Isolated root.\")"
   ]
  },
  {
   "cell_type": "code",
   "execution_count": 56,
   "metadata": {},
   "outputs": [
    {
     "data": {
      "text/plain": [
       "2.5"
      ]
     },
     "execution_count": 56,
     "metadata": {},
     "output_type": "execute_result"
    }
   ],
   "source": [
    "average_arity(LTAB)"
   ]
  },
  {
   "cell_type": "markdown",
   "metadata": {},
   "source": [
    "## Exercise 3.4"
   ]
  },
  {
   "cell_type": "code",
   "execution_count": 28,
   "metadata": {},
   "outputs": [],
   "source": [
    "def tree_to_dot(T):\n",
    "    s = \"graph {\\n\"\n",
    "    q = Queue()\n",
    "    q.enqueue(T)\n",
    "    while not q.isempty():\n",
    "        node = q.dequeue()\n",
    "        for child in node.children:\n",
    "            line = \"\\t {} -- {}\".format(node.key, \"{};\\n\")\n",
    "            line = line.format(child.key)\n",
    "            s += line\n",
    "            q.enqueue(child)\n",
    "    s += \"}\"\n",
    "    return s"
   ]
  },
  {
   "cell_type": "code",
   "execution_count": 30,
   "metadata": {},
   "outputs": [
    {
     "name": "stdout",
     "output_type": "stream",
     "text": [
      "graph {\n",
      "\t 15 -- 3;\n",
      "\t 15 -- 8;\n",
      "\t 15 -- 9;\n",
      "\t 3 -- -6;\n",
      "\t 3 -- 10;\n",
      "\t 8 -- 11;\n",
      "\t 8 -- 2;\n",
      "\t 8 -- 5;\n",
      "\t 11 -- 0;\n",
      "\t 11 -- 4;\n",
      "}\n"
     ]
    }
   ],
   "source": [
    "print(tree_to_dot(L))"
   ]
  },
  {
   "cell_type": "code",
   "execution_count": 25,
   "metadata": {},
   "outputs": [],
   "source": [
    "def tree_to_dot_(T):\n",
    "    Q = Queue()\n",
    "    res = \"graph {\\n\"\n",
    "    Q.enqueue(T)\n",
    "    while not Q.isempty():\n",
    "        A = Q.dequeue()\n",
    "        if A.children:\n",
    "            res +=\"      \"+ str(A.key) +\" -- {\"\n",
    "            for i in range(A.nbchildren - 1):\n",
    "                res+= str(A.children[i].key) + \"; \"\n",
    "                Q.enqueue(A.children[i])\n",
    "            res += str(A.children[-1].key) + \"};\\n\"\n",
    "            Q.enqueue(A.children[-1])\n",
    "    return res + \"}\""
   ]
  },
  {
   "cell_type": "code",
   "execution_count": 26,
   "metadata": {},
   "outputs": [
    {
     "name": "stdout",
     "output_type": "stream",
     "text": [
      "graph {\n",
      "      15 -- {3; 8; 9};\n",
      "      3 -- {-6; 10};\n",
      "      8 -- {11; 2; 5};\n",
      "      11 -- {0; 4};\n",
      "}\n"
     ]
    }
   ],
   "source": [
    "print(tree_to_dot_(L))"
   ]
  },
  {
   "cell_type": "code",
   "execution_count": 33,
   "metadata": {},
   "outputs": [],
   "source": [
    "def asbin_to_dot(B):\n",
    "    Q = Queue()\n",
    "    res = \"graph {\\n\"\n",
    "    Q.enqueue(B)\n",
    "    while not Q.isempty():\n",
    "        node = Q.dequeue()\n",
    "        if node.child:\n",
    "            res += \"      \"+ str(node.key) +\" -- {\"\n",
    "            C = node.child\n",
    "            while C.sibling:\n",
    "                res += str(C.key) + \"; \"\n",
    "                Q.enqueue(C)\n",
    "                C = C.sibling\n",
    "            res += str(C.key) + \"};\\n\"\n",
    "            Q.enqueue(C)\n",
    "    return res + \"}\""
   ]
  },
  {
   "cell_type": "code",
   "execution_count": 34,
   "metadata": {},
   "outputs": [
    {
     "name": "stdout",
     "output_type": "stream",
     "text": [
      "graph {\n",
      "      15 -- {3; 8; 9};\n",
      "      3 -- {-6; 10};\n",
      "      8 -- {11; 2; 5};\n",
      "      11 -- {0; 4};\n",
      "}\n"
     ]
    }
   ],
   "source": [
    "print(asbin_to_dot(LTAB))"
   ]
  },
  {
   "cell_type": "markdown",
   "metadata": {},
   "source": [
    "## Exercise 3.5\n",
    "\n",
    "Write conversions of a general tree from `tuple`-variant to `first-child right-sibling`-variant and vice-versa."
   ]
  },
  {
   "cell_type": "markdown",
   "metadata": {},
   "source": [
    "#### From `tuple`-variant to `first-child right-sibling` one"
   ]
  },
  {
   "cell_type": "code",
   "execution_count": 39,
   "metadata": {},
   "outputs": [],
   "source": [
    "def tree_to_bin(T):\n",
    "    B = TreeAsBin(T.key, None, None)\n",
    "    R = B\n",
    "    if T.children:\n",
    "        R.child = tree_to_bin(T.children[0])\n",
    "        R = R.child\n",
    "        for i in range(1,T.nbchildren):\n",
    "            R.sibling = tree_to_bin(T.children[i])\n",
    "            R = R.sibling\n",
    "    return B"
   ]
  },
  {
   "cell_type": "code",
   "execution_count": 42,
   "metadata": {},
   "outputs": [
    {
     "name": "stdout",
     "output_type": "stream",
     "text": [
      "graph {\n",
      "      15 -- {3; 8; 9};\n",
      "      3 -- {-6; 10};\n",
      "      8 -- {11; 2; 5};\n",
      "      11 -- {0; 4};\n",
      "}\n"
     ]
    }
   ],
   "source": [
    "print(asbin_to_dot(tree_to_bin(L)))"
   ]
  },
  {
   "cell_type": "markdown",
   "metadata": {},
   "source": [
    "#### From `first-child right-sibling`-variant to `tuple` one"
   ]
  },
  {
   "cell_type": "code",
   "execution_count": 43,
   "metadata": {},
   "outputs": [],
   "source": [
    "def bin_to_tuple(B):\n",
    "    T = Tree(B.key)\n",
    "    B = B.child\n",
    "    while B:\n",
    "        T.children.append(bin_to_tuple(B))\n",
    "        B = B.sibling\n",
    "    return T"
   ]
  },
  {
   "cell_type": "code",
   "execution_count": 46,
   "metadata": {},
   "outputs": [
    {
     "name": "stdout",
     "output_type": "stream",
     "text": [
      "graph {\n",
      "\t 15 -- 3;\n",
      "\t 15 -- 8;\n",
      "\t 15 -- 9;\n",
      "\t 3 -- -6;\n",
      "\t 3 -- 10;\n",
      "\t 8 -- 11;\n",
      "\t 8 -- 2;\n",
      "\t 8 -- 5;\n",
      "\t 11 -- 0;\n",
      "\t 11 -- 4;\n",
      "}\n"
     ]
    }
   ],
   "source": [
    "print(tree_to_dot(bin_to_tuple(LTAB)))"
   ]
  },
  {
   "cell_type": "markdown",
   "metadata": {},
   "source": [
    "## Exercise 3.6\n",
    "\n",
    "Write down a function that loads a file of `.tree` type in both tree implementations we've been manipulating."
   ]
  },
  {
   "cell_type": "markdown",
   "metadata": {},
   "source": [
    "#### `tuple`-variant"
   ]
  },
  {
   "cell_type": "code",
   "execution_count": 47,
   "metadata": {},
   "outputs": [],
   "source": [
    "def __load(t_file, i):\n",
    "    s = \"\"\n",
    "    while t_file[i]!= '(' and t_file[i]!= ')':\n",
    "        s += t_file[i]\n",
    "        i += 1\n",
    "    root = Tree(s, [])\n",
    "    while t_file[i] != ')':\n",
    "        c, i = __load(t_file, i+1)\n",
    "        root.children.append(c)\n",
    "    return root, i+1\n",
    "\n",
    "def load(t_file):\n",
    "    T = None\n",
    "    if t_file:\n",
    "        T, i = __load(t_file, 1)\n",
    "    return T"
   ]
  },
  {
   "cell_type": "code",
   "execution_count": 48,
   "metadata": {},
   "outputs": [],
   "source": [
    "load(\"\")"
   ]
  },
  {
   "cell_type": "code",
   "execution_count": 52,
   "metadata": {},
   "outputs": [
    {
     "data": {
      "image/svg+xml": [
       "<svg height=\"260pt\" viewBox=\"0.00 0.00 350.00 260.00\" width=\"350pt\" xmlns=\"http://www.w3.org/2000/svg\" xmlns:xlink=\"http://www.w3.org/1999/xlink\">\n",
       "<g class=\"graph\" id=\"graph0\" transform=\"scale(1 1) rotate(0) translate(4 256)\">\n",
       "<title>temp</title>\n",
       "<polygon fill=\"#ffffff\" points=\"-4,4 -4,-256 346,-256 346,4 -4,4\" stroke=\"transparent\"/>\n",
       "<!-- 4359042720 -->\n",
       "<g class=\"node\" id=\"node1\">\n",
       "<title>4359042720</title>\n",
       "<ellipse cx=\"207\" cy=\"-234\" fill=\"none\" rx=\"27\" ry=\"18\" stroke=\"#000000\"/>\n",
       "<text fill=\"#000000\" font-family=\"Times,serif\" font-size=\"14.00\" text-anchor=\"middle\" x=\"207\" y=\"-229.8\">15</text>\n",
       "</g>\n",
       "<!-- 4359044736 -->\n",
       "<g class=\"node\" id=\"node2\">\n",
       "<title>4359044736</title>\n",
       "<ellipse cx=\"99\" cy=\"-162\" fill=\"none\" rx=\"27\" ry=\"18\" stroke=\"#000000\"/>\n",
       "<text fill=\"#000000\" font-family=\"Times,serif\" font-size=\"14.00\" text-anchor=\"middle\" x=\"99\" y=\"-157.8\">3</text>\n",
       "</g>\n",
       "<!-- 4359042720&#45;&#45;4359044736 -->\n",
       "<g class=\"edge\" id=\"edge1\">\n",
       "<title>4359042720--4359044736</title>\n",
       "<path d=\"M187.6918,-221.1278C168.0337,-208.0225 137.7386,-187.8257 118.1411,-174.7607\" fill=\"none\" stroke=\"#000000\"/>\n",
       "</g>\n",
       "<!-- 4359042104 -->\n",
       "<g class=\"node\" id=\"node3\">\n",
       "<title>4359042104</title>\n",
       "<ellipse cx=\"207\" cy=\"-162\" fill=\"none\" rx=\"27\" ry=\"18\" stroke=\"#000000\"/>\n",
       "<text fill=\"#000000\" font-family=\"Times,serif\" font-size=\"14.00\" text-anchor=\"middle\" x=\"207\" y=\"-157.8\">8</text>\n",
       "</g>\n",
       "<!-- 4359042720&#45;&#45;4359042104 -->\n",
       "<g class=\"edge\" id=\"edge2\">\n",
       "<title>4359042720--4359042104</title>\n",
       "<path d=\"M207,-215.8314C207,-205 207,-191.2876 207,-180.4133\" fill=\"none\" stroke=\"#000000\"/>\n",
       "</g>\n",
       "<!-- 4358885952 -->\n",
       "<g class=\"node\" id=\"node4\">\n",
       "<title>4358885952</title>\n",
       "<ellipse cx=\"279\" cy=\"-162\" fill=\"none\" rx=\"27\" ry=\"18\" stroke=\"#000000\"/>\n",
       "<text fill=\"#000000\" font-family=\"Times,serif\" font-size=\"14.00\" text-anchor=\"middle\" x=\"279\" y=\"-157.8\">9</text>\n",
       "</g>\n",
       "<!-- 4359042720&#45;&#45;4358885952 -->\n",
       "<g class=\"edge\" id=\"edge3\">\n",
       "<title>4359042720--4358885952</title>\n",
       "<path d=\"M222.2693,-218.7307C234.488,-206.512 251.5398,-189.4602 263.7527,-177.2473\" fill=\"none\" stroke=\"#000000\"/>\n",
       "</g>\n",
       "<!-- 4359044176 -->\n",
       "<g class=\"node\" id=\"node5\">\n",
       "<title>4359044176</title>\n",
       "<ellipse cx=\"27\" cy=\"-90\" fill=\"none\" rx=\"27\" ry=\"18\" stroke=\"#000000\"/>\n",
       "<text fill=\"#000000\" font-family=\"Times,serif\" font-size=\"14.00\" text-anchor=\"middle\" x=\"27\" y=\"-85.8\">-6</text>\n",
       "</g>\n",
       "<!-- 4359044736&#45;&#45;4359044176 -->\n",
       "<g class=\"edge\" id=\"edge4\">\n",
       "<title>4359044736--4359044176</title>\n",
       "<path d=\"M83.7307,-146.7307C71.512,-134.512 54.4602,-117.4602 42.2473,-105.2473\" fill=\"none\" stroke=\"#000000\"/>\n",
       "</g>\n",
       "<!-- 4359043056 -->\n",
       "<g class=\"node\" id=\"node6\">\n",
       "<title>4359043056</title>\n",
       "<ellipse cx=\"99\" cy=\"-90\" fill=\"none\" rx=\"27\" ry=\"18\" stroke=\"#000000\"/>\n",
       "<text fill=\"#000000\" font-family=\"Times,serif\" font-size=\"14.00\" text-anchor=\"middle\" x=\"99\" y=\"-85.8\">10</text>\n",
       "</g>\n",
       "<!-- 4359044736&#45;&#45;4359043056 -->\n",
       "<g class=\"edge\" id=\"edge5\">\n",
       "<title>4359044736--4359043056</title>\n",
       "<path d=\"M99,-143.8314C99,-133 99,-119.2876 99,-108.4133\" fill=\"none\" stroke=\"#000000\"/>\n",
       "</g>\n",
       "<!-- 4359043616 -->\n",
       "<g class=\"node\" id=\"node7\">\n",
       "<title>4359043616</title>\n",
       "<ellipse cx=\"171\" cy=\"-90\" fill=\"none\" rx=\"27\" ry=\"18\" stroke=\"#000000\"/>\n",
       "<text fill=\"#000000\" font-family=\"Times,serif\" font-size=\"14.00\" text-anchor=\"middle\" x=\"171\" y=\"-85.8\">11</text>\n",
       "</g>\n",
       "<!-- 4359042104&#45;&#45;4359043616 -->\n",
       "<g class=\"edge\" id=\"edge6\">\n",
       "<title>4359042104--4359043616</title>\n",
       "<path d=\"M198.2854,-144.5708C192.6253,-133.2506 185.2784,-118.5568 179.6343,-107.2687\" fill=\"none\" stroke=\"#000000\"/>\n",
       "</g>\n",
       "<!-- 4358290288 -->\n",
       "<g class=\"node\" id=\"node8\">\n",
       "<title>4358290288</title>\n",
       "<ellipse cx=\"243\" cy=\"-90\" fill=\"none\" rx=\"27\" ry=\"18\" stroke=\"#000000\"/>\n",
       "<text fill=\"#000000\" font-family=\"Times,serif\" font-size=\"14.00\" text-anchor=\"middle\" x=\"243\" y=\"-85.8\">2</text>\n",
       "</g>\n",
       "<!-- 4359042104&#45;&#45;4358290288 -->\n",
       "<g class=\"edge\" id=\"edge7\">\n",
       "<title>4359042104--4358290288</title>\n",
       "<path d=\"M215.7146,-144.5708C221.3747,-133.2506 228.7216,-118.5568 234.3657,-107.2687\" fill=\"none\" stroke=\"#000000\"/>\n",
       "</g>\n",
       "<!-- 4358889088 -->\n",
       "<g class=\"node\" id=\"node9\">\n",
       "<title>4358889088</title>\n",
       "<ellipse cx=\"315\" cy=\"-90\" fill=\"none\" rx=\"27\" ry=\"18\" stroke=\"#000000\"/>\n",
       "<text fill=\"#000000\" font-family=\"Times,serif\" font-size=\"14.00\" text-anchor=\"middle\" x=\"315\" y=\"-85.8\">5</text>\n",
       "</g>\n",
       "<!-- 4359042104&#45;&#45;4358889088 -->\n",
       "<g class=\"edge\" id=\"edge8\">\n",
       "<title>4359042104--4358889088</title>\n",
       "<path d=\"M226.3082,-149.1278C245.9663,-136.0225 276.2614,-115.8257 295.8589,-102.7607\" fill=\"none\" stroke=\"#000000\"/>\n",
       "</g>\n",
       "<!-- 4358414688 -->\n",
       "<g class=\"node\" id=\"node10\">\n",
       "<title>4358414688</title>\n",
       "<ellipse cx=\"135\" cy=\"-18\" fill=\"none\" rx=\"27\" ry=\"18\" stroke=\"#000000\"/>\n",
       "<text fill=\"#000000\" font-family=\"Times,serif\" font-size=\"14.00\" text-anchor=\"middle\" x=\"135\" y=\"-13.8\">0</text>\n",
       "</g>\n",
       "<!-- 4359043616&#45;&#45;4358414688 -->\n",
       "<g class=\"edge\" id=\"edge9\">\n",
       "<title>4359043616--4358414688</title>\n",
       "<path d=\"M162.2854,-72.5708C156.6253,-61.2506 149.2784,-46.5568 143.6343,-35.2687\" fill=\"none\" stroke=\"#000000\"/>\n",
       "</g>\n",
       "<!-- 4358417208 -->\n",
       "<g class=\"node\" id=\"node11\">\n",
       "<title>4358417208</title>\n",
       "<ellipse cx=\"207\" cy=\"-18\" fill=\"none\" rx=\"27\" ry=\"18\" stroke=\"#000000\"/>\n",
       "<text fill=\"#000000\" font-family=\"Times,serif\" font-size=\"14.00\" text-anchor=\"middle\" x=\"207\" y=\"-13.8\">4</text>\n",
       "</g>\n",
       "<!-- 4359043616&#45;&#45;4358417208 -->\n",
       "<g class=\"edge\" id=\"edge10\">\n",
       "<title>4359043616--4358417208</title>\n",
       "<path d=\"M179.7146,-72.5708C185.3747,-61.2506 192.7216,-46.5568 198.3657,-35.2687\" fill=\"none\" stroke=\"#000000\"/>\n",
       "</g>\n",
       "</g>\n",
       "</svg>"
      ],
      "text/plain": [
       "<IPython.core.display.SVG object>"
      ]
     },
     "execution_count": 52,
     "metadata": {},
     "output_type": "execute_result"
    }
   ],
   "source": [
    "tree.display(load(to_string(L)))"
   ]
  },
  {
   "cell_type": "markdown",
   "metadata": {},
   "source": [
    "#### `first-child right-sibling`-variant"
   ]
  },
  {
   "cell_type": "code",
   "execution_count": 53,
   "metadata": {},
   "outputs": [],
   "source": [
    "def __load_asbin(t_file, i, l):\n",
    "    tree = None\n",
    "    if i < l and t_file[i] == '(':\n",
    "        new_key = \"\"\n",
    "        i += 1\n",
    "        while t_file[i] not in \"()\":\n",
    "            new_key += t_file[i]\n",
    "            i += 1\n",
    "        tree = TreeAsBin(new_key, None, None)\n",
    "        tree.child, i = __load_asbin(t_file, i, l)\n",
    "        i += 1\n",
    "        tree.sibling, i = __load_asbin(t_file, i, l)\n",
    "    return tree, i\n",
    "\n",
    "def load_asbin(t_file):\n",
    "    tree = __load_asbin(t_file, 0, len(t_file))[0]\n",
    "    return tree"
   ]
  },
  {
   "cell_type": "code",
   "execution_count": 56,
   "metadata": {},
   "outputs": [
    {
     "data": {
      "image/svg+xml": [
       "<?xml version=\"1.0\" encoding=\"UTF-8\" standalone=\"no\"?>\n",
       "<!DOCTYPE svg PUBLIC \"-//W3C//DTD SVG 1.1//EN\"\n",
       " \"http://www.w3.org/Graphics/SVG/1.1/DTD/svg11.dtd\">\n",
       "<!-- Generated by graphviz version 2.40.1 (20161225.0304)\n",
       " -->\n",
       "<!-- Title: %3 Pages: 1 -->\n",
       "<svg width=\"260pt\" height=\"260pt\"\n",
       " viewBox=\"0.00 0.00 260.00 260.00\" xmlns=\"http://www.w3.org/2000/svg\" xmlns:xlink=\"http://www.w3.org/1999/xlink\">\n",
       "<g id=\"graph0\" class=\"graph\" transform=\"scale(1 1) rotate(0) translate(4 256)\">\n",
       "<title>%3</title>\n",
       "<polygon fill=\"#ffffff\" stroke=\"transparent\" points=\"-4,4 -4,-256 256,-256 256,4 -4,4\"/>\n",
       "<!-- 15 -->\n",
       "<g id=\"node1\" class=\"node\">\n",
       "<title>15</title>\n",
       "<ellipse fill=\"none\" stroke=\"#000000\" cx=\"153\" cy=\"-234\" rx=\"18\" ry=\"18\"/>\n",
       "<text text-anchor=\"middle\" x=\"153\" y=\"-229.8\" font-family=\"Times,serif\" font-size=\"14.00\" fill=\"#000000\">15</text>\n",
       "</g>\n",
       "<!-- 3 -->\n",
       "<g id=\"node2\" class=\"node\">\n",
       "<title>3</title>\n",
       "<ellipse fill=\"none\" stroke=\"#000000\" cx=\"72\" cy=\"-162\" rx=\"18\" ry=\"18\"/>\n",
       "<text text-anchor=\"middle\" x=\"72\" y=\"-157.8\" font-family=\"Times,serif\" font-size=\"14.00\" fill=\"#000000\">3</text>\n",
       "</g>\n",
       "<!-- 15&#45;&#45;3 -->\n",
       "<g id=\"edge1\" class=\"edge\">\n",
       "<title>15&#45;&#45;3</title>\n",
       "<path fill=\"none\" stroke=\"#000000\" d=\"M139.2595,-221.7862C124.2743,-208.466 100.4423,-187.2821 85.5376,-174.0334\"/>\n",
       "</g>\n",
       "<!-- 8 -->\n",
       "<g id=\"node3\" class=\"node\">\n",
       "<title>8</title>\n",
       "<ellipse fill=\"none\" stroke=\"#000000\" cx=\"153\" cy=\"-162\" rx=\"18\" ry=\"18\"/>\n",
       "<text text-anchor=\"middle\" x=\"153\" y=\"-157.8\" font-family=\"Times,serif\" font-size=\"14.00\" fill=\"#000000\">8</text>\n",
       "</g>\n",
       "<!-- 15&#45;&#45;8 -->\n",
       "<g id=\"edge2\" class=\"edge\">\n",
       "<title>15&#45;&#45;8</title>\n",
       "<path fill=\"none\" stroke=\"#000000\" d=\"M153,-215.8314C153,-205 153,-191.2876 153,-180.4133\"/>\n",
       "</g>\n",
       "<!-- 9 -->\n",
       "<g id=\"node4\" class=\"node\">\n",
       "<title>9</title>\n",
       "<ellipse fill=\"none\" stroke=\"#000000\" cx=\"207\" cy=\"-162\" rx=\"18\" ry=\"18\"/>\n",
       "<text text-anchor=\"middle\" x=\"207\" y=\"-157.8\" font-family=\"Times,serif\" font-size=\"14.00\" fill=\"#000000\">9</text>\n",
       "</g>\n",
       "<!-- 15&#45;&#45;9 -->\n",
       "<g id=\"edge3\" class=\"edge\">\n",
       "<title>15&#45;&#45;9</title>\n",
       "<path fill=\"none\" stroke=\"#000000\" d=\"M163.9277,-219.4297C173.2965,-206.938 186.7245,-189.034 196.0885,-176.5486\"/>\n",
       "</g>\n",
       "<!-- &#45;6 -->\n",
       "<g id=\"node5\" class=\"node\">\n",
       "<title>&#45;6</title>\n",
       "<ellipse fill=\"none\" stroke=\"#000000\" cx=\"18\" cy=\"-90\" rx=\"18\" ry=\"18\"/>\n",
       "<text text-anchor=\"middle\" x=\"18\" y=\"-85.8\" font-family=\"Times,serif\" font-size=\"14.00\" fill=\"#000000\">&#45;6</text>\n",
       "</g>\n",
       "<!-- 3&#45;&#45;&#45;6 -->\n",
       "<g id=\"edge4\" class=\"edge\">\n",
       "<title>3&#45;&#45;&#45;6</title>\n",
       "<path fill=\"none\" stroke=\"#000000\" d=\"M61.0723,-147.4297C51.7035,-134.938 38.2755,-117.034 28.9115,-104.5486\"/>\n",
       "</g>\n",
       "<!-- 10 -->\n",
       "<g id=\"node6\" class=\"node\">\n",
       "<title>10</title>\n",
       "<ellipse fill=\"none\" stroke=\"#000000\" cx=\"72\" cy=\"-90\" rx=\"18\" ry=\"18\"/>\n",
       "<text text-anchor=\"middle\" x=\"72\" y=\"-85.8\" font-family=\"Times,serif\" font-size=\"14.00\" fill=\"#000000\">10</text>\n",
       "</g>\n",
       "<!-- 3&#45;&#45;10 -->\n",
       "<g id=\"edge5\" class=\"edge\">\n",
       "<title>3&#45;&#45;10</title>\n",
       "<path fill=\"none\" stroke=\"#000000\" d=\"M72,-143.8314C72,-133 72,-119.2876 72,-108.4133\"/>\n",
       "</g>\n",
       "<!-- 11 -->\n",
       "<g id=\"node7\" class=\"node\">\n",
       "<title>11</title>\n",
       "<ellipse fill=\"none\" stroke=\"#000000\" cx=\"126\" cy=\"-90\" rx=\"18\" ry=\"18\"/>\n",
       "<text text-anchor=\"middle\" x=\"126\" y=\"-85.8\" font-family=\"Times,serif\" font-size=\"14.00\" fill=\"#000000\">11</text>\n",
       "</g>\n",
       "<!-- 8&#45;&#45;11 -->\n",
       "<g id=\"edge6\" class=\"edge\">\n",
       "<title>8&#45;&#45;11</title>\n",
       "<path fill=\"none\" stroke=\"#000000\" d=\"M146.6014,-144.937C142.2974,-133.4596 136.6471,-118.3922 132.3527,-106.9405\"/>\n",
       "</g>\n",
       "<!-- 2 -->\n",
       "<g id=\"node8\" class=\"node\">\n",
       "<title>2</title>\n",
       "<ellipse fill=\"none\" stroke=\"#000000\" cx=\"180\" cy=\"-90\" rx=\"18\" ry=\"18\"/>\n",
       "<text text-anchor=\"middle\" x=\"180\" y=\"-85.8\" font-family=\"Times,serif\" font-size=\"14.00\" fill=\"#000000\">2</text>\n",
       "</g>\n",
       "<!-- 8&#45;&#45;2 -->\n",
       "<g id=\"edge7\" class=\"edge\">\n",
       "<title>8&#45;&#45;2</title>\n",
       "<path fill=\"none\" stroke=\"#000000\" d=\"M159.3986,-144.937C163.7026,-133.4596 169.3529,-118.3922 173.6473,-106.9405\"/>\n",
       "</g>\n",
       "<!-- 5 -->\n",
       "<g id=\"node9\" class=\"node\">\n",
       "<title>5</title>\n",
       "<ellipse fill=\"none\" stroke=\"#000000\" cx=\"234\" cy=\"-90\" rx=\"18\" ry=\"18\"/>\n",
       "<text text-anchor=\"middle\" x=\"234\" y=\"-85.8\" font-family=\"Times,serif\" font-size=\"14.00\" fill=\"#000000\">5</text>\n",
       "</g>\n",
       "<!-- 8&#45;&#45;5 -->\n",
       "<g id=\"edge8\" class=\"edge\">\n",
       "<title>8&#45;&#45;5</title>\n",
       "<path fill=\"none\" stroke=\"#000000\" d=\"M166.7405,-149.7862C181.7257,-136.466 205.5577,-115.2821 220.4624,-102.0334\"/>\n",
       "</g>\n",
       "<!-- 0 -->\n",
       "<g id=\"node10\" class=\"node\">\n",
       "<title>0</title>\n",
       "<ellipse fill=\"none\" stroke=\"#000000\" cx=\"99\" cy=\"-18\" rx=\"18\" ry=\"18\"/>\n",
       "<text text-anchor=\"middle\" x=\"99\" y=\"-13.8\" font-family=\"Times,serif\" font-size=\"14.00\" fill=\"#000000\">0</text>\n",
       "</g>\n",
       "<!-- 11&#45;&#45;0 -->\n",
       "<g id=\"edge9\" class=\"edge\">\n",
       "<title>11&#45;&#45;0</title>\n",
       "<path fill=\"none\" stroke=\"#000000\" d=\"M119.6014,-72.937C115.2974,-61.4596 109.6471,-46.3922 105.3527,-34.9405\"/>\n",
       "</g>\n",
       "<!-- 4 -->\n",
       "<g id=\"node11\" class=\"node\">\n",
       "<title>4</title>\n",
       "<ellipse fill=\"none\" stroke=\"#000000\" cx=\"153\" cy=\"-18\" rx=\"18\" ry=\"18\"/>\n",
       "<text text-anchor=\"middle\" x=\"153\" y=\"-13.8\" font-family=\"Times,serif\" font-size=\"14.00\" fill=\"#000000\">4</text>\n",
       "</g>\n",
       "<!-- 11&#45;&#45;4 -->\n",
       "<g id=\"edge10\" class=\"edge\">\n",
       "<title>11&#45;&#45;4</title>\n",
       "<path fill=\"none\" stroke=\"#000000\" d=\"M132.3986,-72.937C136.7026,-61.4596 142.3529,-46.3922 146.6473,-34.9405\"/>\n",
       "</g>\n",
       "</g>\n",
       "</svg>\n"
      ],
      "text/plain": [
       "<graphviz.files.Source at 0x103d1be80>"
      ]
     },
     "execution_count": 56,
     "metadata": {},
     "output_type": "execute_result"
    }
   ],
   "source": [
    "treeasbin.display(load_asbin(to_string_asbin(LTAB)))"
   ]
  },
  {
   "cell_type": "code",
   "execution_count": null,
   "metadata": {},
   "outputs": [],
   "source": []
  }
 ],
 "metadata": {
  "kernelspec": {
   "display_name": "Python 3",
   "language": "python",
   "name": "python3"
  },
  "language_info": {
   "codemirror_mode": {
    "name": "ipython",
    "version": 3
   },
   "file_extension": ".py",
   "mimetype": "text/x-python",
   "name": "python",
   "nbconvert_exporter": "python",
   "pygments_lexer": "ipython3",
   "version": "3.7.0"
  }
 },
 "nbformat": 4,
 "nbformat_minor": 1
}
