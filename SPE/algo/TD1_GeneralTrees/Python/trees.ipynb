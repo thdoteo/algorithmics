{
 "cells": [
  {
   "cell_type": "markdown",
   "metadata": {},
   "source": [
    "# General Trees \n",
    "\n",
    "There are two classical implementations of general trees : \n",
    "\n",
    "- Either as a list of nodes each containing as a list of children \n",
    "- Or implemented through binary trees ; in that case the two children of \n",
    "  a node $N$ in a binary tree respectively correspond to first child of \n",
    "  $N$ and right sibling. \n",
    "  \n",
    "The primitive `display`, available in each sub-module representing data structures\n",
    "in the algopy module enables to display trees on within a jupyter notebook."
   ]
  },
  {
   "cell_type": "code",
   "execution_count": 4,
   "metadata": {
    "collapsed": true
   },
   "outputs": [],
   "source": [
    "from algopy import tree\n",
    "from algopy import treeasbin\n",
    "\n",
    "from algopy.tree import Tree\n",
    "from algopy.treeasbin import TreeAsBin"
   ]
  },
  {
   "cell_type": "raw",
   "metadata": {},
   "source": [
    "class Tree:\n",
    "    \"\"\"Simple class for general tree.\n",
    "\n",
    "    Attributes:\n",
    "        key (Any): Node key.\n",
    "        children (List[Tree]): Node children.\n",
    "\n",
    "    \"\"\"\n",
    "\n",
    "    def __init__(self, key=None, children=None):\n",
    "        \"\"\"Init general tree, ensure children are properly set.\n",
    "\n",
    "        Args:\n",
    "            key (Any).\n",
    "            children (List[Tree]).\n",
    "\n",
    "        \"\"\"\n",
    "\n",
    "        self.key = key\n",
    "\n",
    "        if children is None:\n",
    "            self.children = []\n",
    "        else:\n",
    "            self.children = children\n",
    "\n",
    "    @property\n",
    "    def nbchildren(self):\n",
    "        \"\"\"Number of children of node.\"\"\"\n",
    "\n",
    "        return len(self.children)\n"
   ]
  },
  {
   "cell_type": "markdown",
   "metadata": {},
   "source": [
    "## Implementation : `tuple` - variant"
   ]
  },
  {
   "cell_type": "code",
   "execution_count": 5,
   "metadata": {
    "collapsed": true
   },
   "outputs": [],
   "source": [
    "def tutoEx1():\n",
    "    C1 = Tree(3, [Tree(-6), Tree(10)])\n",
    "    C2 = Tree(8, [Tree(11, [Tree(0), Tree(4)]), Tree(2), Tree(5)])\n",
    "    C3 = Tree(9)\n",
    "    return Tree(15, [C1, C2, C3])"
   ]
  },
  {
   "cell_type": "code",
   "execution_count": 6,
   "metadata": {},
   "outputs": [],
   "source": [
    "L = tutoEx1()"
   ]
  },
  {
   "cell_type": "code",
   "execution_count": 7,
   "metadata": {},
   "outputs": [
    {
     "ename": "Exception",
     "evalue": "Missing module: graphviz and/or IPython.",
     "output_type": "error",
     "traceback": [
      "\u001b[1;31m---------------------------------------------------------------------------\u001b[0m",
      "\u001b[1;31mModuleNotFoundError\u001b[0m                       Traceback (most recent call last)",
      "\u001b[1;32m~\\AlgoEpita\\SPE\\TD1_GeneralTrees\\Python\\algopy\\tree.py\u001b[0m in \u001b[0;36mdisplay\u001b[1;34m(ref, filename)\u001b[0m\n\u001b[0;32m    195\u001b[0m     \u001b[1;32mtry\u001b[0m\u001b[1;33m:\u001b[0m\u001b[1;33m\u001b[0m\u001b[0m\n\u001b[1;32m--> 196\u001b[1;33m         \u001b[1;32mfrom\u001b[0m \u001b[0mgraphviz\u001b[0m \u001b[1;32mimport\u001b[0m \u001b[0mGraph\u001b[0m\u001b[1;33m\u001b[0m\u001b[0m\n\u001b[0m\u001b[0;32m    197\u001b[0m         \u001b[1;32mfrom\u001b[0m \u001b[0mIPython\u001b[0m\u001b[1;33m.\u001b[0m\u001b[0mdisplay\u001b[0m \u001b[1;32mimport\u001b[0m \u001b[0mSVG\u001b[0m\u001b[1;33m\u001b[0m\u001b[0m\n",
      "\u001b[1;31mModuleNotFoundError\u001b[0m: No module named 'graphviz'",
      "\nDuring handling of the above exception, another exception occurred:\n",
      "\u001b[1;31mException\u001b[0m                                 Traceback (most recent call last)",
      "\u001b[1;32m<ipython-input-7-777faf334514>\u001b[0m in \u001b[0;36m<module>\u001b[1;34m()\u001b[0m\n\u001b[1;32m----> 1\u001b[1;33m \u001b[0mtree\u001b[0m\u001b[1;33m.\u001b[0m\u001b[0mdisplay\u001b[0m\u001b[1;33m(\u001b[0m\u001b[0mL\u001b[0m\u001b[1;33m)\u001b[0m\u001b[1;33m\u001b[0m\u001b[0m\n\u001b[0m",
      "\u001b[1;32m~\\AlgoEpita\\SPE\\TD1_GeneralTrees\\Python\\algopy\\tree.py\u001b[0m in \u001b[0;36mdisplay\u001b[1;34m(ref, filename)\u001b[0m\n\u001b[0;32m    197\u001b[0m         \u001b[1;32mfrom\u001b[0m \u001b[0mIPython\u001b[0m\u001b[1;33m.\u001b[0m\u001b[0mdisplay\u001b[0m \u001b[1;32mimport\u001b[0m \u001b[0mSVG\u001b[0m\u001b[1;33m\u001b[0m\u001b[0m\n\u001b[0;32m    198\u001b[0m     \u001b[1;32mexcept\u001b[0m\u001b[1;33m:\u001b[0m\u001b[1;33m\u001b[0m\u001b[0m\n\u001b[1;32m--> 199\u001b[1;33m         \u001b[1;32mraise\u001b[0m \u001b[0mException\u001b[0m\u001b[1;33m(\u001b[0m\u001b[1;34m\"Missing module: graphviz and/or IPython.\"\u001b[0m\u001b[1;33m)\u001b[0m\u001b[1;33m\u001b[0m\u001b[0m\n\u001b[0m\u001b[0;32m    200\u001b[0m     \u001b[1;31m# Traverse tree and generate temporary Graph object\u001b[0m\u001b[1;33m\u001b[0m\u001b[1;33m\u001b[0m\u001b[0m\n\u001b[0;32m    201\u001b[0m     \u001b[0moutput_format\u001b[0m \u001b[1;33m=\u001b[0m \u001b[1;34m'svg'\u001b[0m\u001b[1;33m\u001b[0m\u001b[0m\n",
      "\u001b[1;31mException\u001b[0m: Missing module: graphviz and/or IPython."
     ]
    }
   ],
   "source": [
    "tree.display(L)"
   ]
  },
  {
   "cell_type": "markdown",
   "metadata": {},
   "source": [
    "## Implementation : `first-child right-sibling` - variant"
   ]
  },
  {
   "cell_type": "raw",
   "metadata": {
    "collapsed": true
   },
   "source": [
    "class TreeAsBin:\n",
    "    \"\"\"Simple class for (General) trees as binary \n",
    "    \n",
    "    Trees are represented as Binary Trees (first child - right sibling)\n",
    "    \n",
    "    \"\"\"\n",
    "\n",
    "    def __init__(self, key, child=None, sibling=None):\n",
    "        \"\"\"\n",
    "        Init Tree\n",
    "        \"\"\"\n",
    "        self.key = key\n",
    "        self.child = child\n",
    "        self.sibling = sibling"
   ]
  },
  {
   "cell_type": "code",
   "execution_count": null,
   "metadata": {
    "collapsed": true
   },
   "outputs": [],
   "source": [
    "def tutoEx2():\n",
    "    C1 = TreeAsBin(3, TreeAsBin(-6, None, TreeAsBin(10)))\n",
    "    C2 = TreeAsBin(8, TreeAsBin(11, TreeAsBin(0, None, TreeAsBin(4)), \n",
    "                                TreeAsBin(2, None, TreeAsBin(5))))\n",
    "    C3 = TreeAsBin(9)\n",
    "    C1.sibling = C2\n",
    "    C2.sibling = C3\n",
    "    return TreeAsBin(15, C1, None)"
   ]
  },
  {
   "cell_type": "code",
   "execution_count": null,
   "metadata": {
    "collapsed": true
   },
   "outputs": [],
   "source": [
    "LTAB = tutoEx2()"
   ]
  },
  {
   "cell_type": "code",
   "execution_count": null,
   "metadata": {
    "collapsed": true
   },
   "outputs": [],
   "source": [
    "treeasbin.display(LTAB)"
   ]
  },
  {
   "cell_type": "markdown",
   "metadata": {
    "collapsed": true
   },
   "source": [
    "# 1. Measures"
   ]
  },
  {
   "cell_type": "markdown",
   "metadata": {},
   "source": [
    "## 1.1 Size"
   ]
  },
  {
   "cell_type": "markdown",
   "metadata": {},
   "source": [
    "### <b> <font color = blue> What is it? </font> </b>"
   ]
  },
  {
   "cell_type": "markdown",
   "metadata": {},
   "source": [
    "The number of nodes of tree."
   ]
  },
  {
   "cell_type": "markdown",
   "metadata": {},
   "source": [
    "### <b> <font color = blue> Compute size </font> </b>\n",
    "\n",
    "#### Implementation : `tuple`- variant"
   ]
  },
  {
   "cell_type": "code",
   "execution_count": null,
   "metadata": {
    "collapsed": true
   },
   "outputs": [],
   "source": [
    "def size (T):\n",
    "    n = 1\n",
    "    for child in T.children:\n",
    "        n += size(child)\n",
    "    return n"
   ]
  },
  {
   "cell_type": "code",
   "execution_count": null,
   "metadata": {
    "collapsed": true
   },
   "outputs": [],
   "source": [
    "size(L)"
   ]
  },
  {
   "cell_type": "markdown",
   "metadata": {},
   "source": [
    "#### Implementation : `first-child right-sibling`-variant"
   ]
  },
  {
   "cell_type": "code",
   "execution_count": null,
   "metadata": {
    "collapsed": true
   },
   "outputs": [],
   "source": [
    "def size_asbin (T):\n",
    "    if T is None:\n",
    "        return 0\n",
    "    else:\n",
    "        return 1 + size_asbin(T.child) + size_asbin(T.sibling)"
   ]
  },
  {
   "cell_type": "code",
   "execution_count": null,
   "metadata": {
    "collapsed": true
   },
   "outputs": [],
   "source": [
    "size_asbin(LTAB)"
   ]
  },
  {
   "cell_type": "code",
   "execution_count": null,
   "metadata": {
    "collapsed": true
   },
   "outputs": [],
   "source": [
    "def size_asbin_(T):\n",
    "    n = 1\n",
    "    C = T.child\n",
    "    while C:\n",
    "        n += size_asbin_(C)\n",
    "        C = C.sibling\n",
    "    return n"
   ]
  },
  {
   "cell_type": "code",
   "execution_count": null,
   "metadata": {
    "collapsed": true
   },
   "outputs": [],
   "source": [
    "size_asbin_(LTAB)"
   ]
  },
  {
   "cell_type": "markdown",
   "metadata": {},
   "source": [
    "## 1.2 Height"
   ]
  },
  {
   "cell_type": "markdown",
   "metadata": {},
   "source": [
    "### <b> <font color = blue> What is the height of a tree? </font> </b>"
   ]
  },
  {
   "cell_type": "markdown",
   "metadata": {},
   "source": [
    "It's the maximum of depths of nodes. The depth of a node being the number of parent-child link from root to node. "
   ]
  },
  {
   "cell_type": "markdown",
   "metadata": {},
   "source": [
    "### <b> <font color = blue> Compute the height of a tree. </font> </b>\n",
    "\n",
    "#### Implementation : `tuple` - variant"
   ]
  },
  {
   "cell_type": "code",
   "execution_count": null,
   "metadata": {
    "collapsed": true
   },
   "outputs": [],
   "source": [
    "def height (T):\n",
    "    h = 0\n",
    "    for child in T.children:\n",
    "        h = max(h, 1 + height(child))\n",
    "    return h"
   ]
  },
  {
   "cell_type": "code",
   "execution_count": null,
   "metadata": {
    "collapsed": true
   },
   "outputs": [],
   "source": [
    "height(L)"
   ]
  },
  {
   "cell_type": "code",
   "execution_count": null,
   "metadata": {
    "collapsed": true
   },
   "outputs": [],
   "source": [
    "def height_(T):\n",
    "    if not T.children:\n",
    "        return 0\n",
    "    else:\n",
    "        return max([1 + height_(child) for child in T.children])"
   ]
  },
  {
   "cell_type": "code",
   "execution_count": null,
   "metadata": {
    "collapsed": true
   },
   "outputs": [],
   "source": [
    "height_(L)"
   ]
  },
  {
   "cell_type": "markdown",
   "metadata": {},
   "source": [
    "#### Implementation : `first-child right-sibling` - variant"
   ]
  },
  {
   "cell_type": "code",
   "execution_count": null,
   "metadata": {
    "collapsed": true
   },
   "outputs": [],
   "source": [
    "def height_asbin (T):\n",
    "    h = 0\n",
    "    C = T.child\n",
    "    while C:\n",
    "        h = max(h, 1 + height_asbin(C))\n",
    "        C = C.sibling\n",
    "    return h"
   ]
  },
  {
   "cell_type": "code",
   "execution_count": null,
   "metadata": {
    "collapsed": true
   },
   "outputs": [],
   "source": [
    "height_asbin(LTAB)"
   ]
  },
  {
   "cell_type": "code",
   "execution_count": null,
   "metadata": {
    "collapsed": true
   },
   "outputs": [],
   "source": [
    "def height_asbin_(T):\n",
    "    if T is None:\n",
    "        return -1\n",
    "    else:\n",
    "        return max(1 + height_asbin_(T.child), height_asbin_(T.sibling))"
   ]
  },
  {
   "cell_type": "code",
   "execution_count": null,
   "metadata": {
    "collapsed": true
   },
   "outputs": [],
   "source": [
    "height_asbin_(LTAB)"
   ]
  },
  {
   "cell_type": "markdown",
   "metadata": {},
   "source": [
    "## 1.3 Average External Depth"
   ]
  },
  {
   "cell_type": "markdown",
   "metadata": {},
   "source": [
    "### <b> <font color = blue> What is it? </font> </b>"
   ]
  },
  {
   "cell_type": "markdown",
   "metadata": {},
   "source": [
    "The sum of lenght of leaves divided by the number of leaves."
   ]
  },
  {
   "cell_type": "markdown",
   "metadata": {},
   "source": [
    "### <b> <font color = blue> Compute it. </font> </b>\n",
    "\n",
    "#### Implementation : `tuple` - variant"
   ]
  },
  {
   "cell_type": "code",
   "execution_count": null,
   "metadata": {
    "collapsed": true
   },
   "outputs": [],
   "source": [
    "def _aed(T, h=0):\n",
    "    if not T.children:\n",
    "        return 1, h\n",
    "    else:\n",
    "        nbl, sumep = 0, 0\n",
    "        for child in T.children:\n",
    "            (n, s) = _aed(child, h + 1)\n",
    "            nbl += n\n",
    "            sumep += s\n",
    "        return nbl, sumep"
   ]
  },
  {
   "cell_type": "code",
   "execution_count": null,
   "metadata": {
    "collapsed": true
   },
   "outputs": [],
   "source": [
    "def aed(T):\n",
    "    (n, epl) = _aed(T)\n",
    "    return epl / n"
   ]
  },
  {
   "cell_type": "code",
   "execution_count": null,
   "metadata": {
    "collapsed": true
   },
   "outputs": [],
   "source": [
    "aed(L)"
   ]
  },
  {
   "cell_type": "code",
   "execution_count": null,
   "metadata": {
    "collapsed": true
   },
   "outputs": [],
   "source": [
    "def _aed_(T, h=0):\n",
    "    if T.nbchildren == 0:\n",
    "        return 1, h\n",
    "    else:\n",
    "        nbl, sumep = 0, 0\n",
    "        for index in range(T.nbchildren):\n",
    "            (n, s) = _aed(T.children[index], h + 1)\n",
    "            nbl += n\n",
    "            sumep += s\n",
    "        return nbl, sumep"
   ]
  },
  {
   "cell_type": "code",
   "execution_count": null,
   "metadata": {
    "collapsed": true
   },
   "outputs": [],
   "source": [
    "def aed_(T):\n",
    "    (n, epl) = _aed_(T)\n",
    "    return epl / n"
   ]
  },
  {
   "cell_type": "code",
   "execution_count": null,
   "metadata": {
    "collapsed": true
   },
   "outputs": [],
   "source": [
    "aed(L)"
   ]
  },
  {
   "cell_type": "markdown",
   "metadata": {},
   "source": [
    "#### Implementation : `first-child right-sibling` - variant"
   ]
  },
  {
   "cell_type": "code",
   "execution_count": null,
   "metadata": {
    "collapsed": true
   },
   "outputs": [],
   "source": [
    "def _aed_asbin(T, h=0):\n",
    "    if not T.child:\n",
    "        return 1, h\n",
    "    else:\n",
    "        nbl, sumep = 0, 0\n",
    "        C = T.child\n",
    "        while C:\n",
    "            (n, s) = _aed_asbin(C, h + 1)\n",
    "            nbl += n\n",
    "            sumep += s\n",
    "            C = C.sibling\n",
    "        return nbl, sumep"
   ]
  },
  {
   "cell_type": "code",
   "execution_count": null,
   "metadata": {
    "collapsed": true
   },
   "outputs": [],
   "source": [
    "def aed_asbin(T):\n",
    "    (s, ep) = _aed_asbin(T)\n",
    "    return ep / s"
   ]
  },
  {
   "cell_type": "code",
   "execution_count": null,
   "metadata": {
    "collapsed": true
   },
   "outputs": [],
   "source": [
    "aed_asbin(LTAB)"
   ]
  },
  {
   "cell_type": "markdown",
   "metadata": {},
   "source": [
    "# 2. Traversals\n",
    "\n",
    "## 2.1 Depth First Traversals\n",
    "\n",
    "### <b> <font color = blue> What is the principle of such traversal? </font> </b>"
   ]
  },
  {
   "cell_type": "markdown",
   "metadata": {},
   "source": [
    "Keep tree on your left and go on visiting tree nodes keeping this constraint."
   ]
  },
  {
   "cell_type": "markdown",
   "metadata": {},
   "source": [
    "### <b> <font color = blue> List keys encountered in preorder and postorder of DFT. </font> </b>"
   ]
  },
  {
   "cell_type": "markdown",
   "metadata": {},
   "source": [
    "#### preoreder encounter of keys."
   ]
  },
  {
   "cell_type": "markdown",
   "metadata": {},
   "source": [
    "15 3 -6 10 8 11 0 4 2 5 9"
   ]
  },
  {
   "cell_type": "markdown",
   "metadata": {},
   "source": [
    "#### postorder encounter of keys"
   ]
  },
  {
   "cell_type": "markdown",
   "metadata": {},
   "source": [
    "-6 10 3 0 4 11 2 5 8 9 15"
   ]
  },
  {
   "cell_type": "markdown",
   "metadata": {},
   "source": [
    "### <b> <font color = blue> What other treatments can one do? </font> </b>"
   ]
  },
  {
   "cell_type": "markdown",
   "metadata": {},
   "source": [
    "Intermediate orders."
   ]
  },
  {
   "cell_type": "markdown",
   "metadata": {},
   "source": [
    "### <b> <font color = blue> Write down DFTs </font> </b>\n",
    "\n",
    "#### Implementation : `tuple` - variant"
   ]
  },
  {
   "cell_type": "code",
   "execution_count": null,
   "metadata": {
    "collapsed": true
   },
   "outputs": [],
   "source": [
    "def dft(T):\n",
    "    #print(\"Key in preorder is : {}\".format(T.key))\n",
    "    #This includes leaf treatment.\n",
    "    if T.nbchildren > 0:\n",
    "        for i in range(T.nbchildren - 1):\n",
    "            dft(T.children[i])\n",
    "            print(\"Key in intermediate orders: {}\".format(T.key))\n",
    "        dft(T.children[-1])\n",
    "        #print(\"Key in postorder is : {}\".format(T.key))"
   ]
  },
  {
   "cell_type": "code",
   "execution_count": null,
   "metadata": {
    "collapsed": true
   },
   "outputs": [],
   "source": [
    "dft(L)"
   ]
  },
  {
   "cell_type": "markdown",
   "metadata": {},
   "source": [
    "#### Implementation : `first-child right-sibling` - variant"
   ]
  },
  {
   "cell_type": "code",
   "execution_count": null,
   "metadata": {
    "collapsed": true
   },
   "outputs": [],
   "source": [
    "def dft_asbin(T):\n",
    "    if T.child:\n",
    "        #preoder treatment\n",
    "        C = T.child\n",
    "        while C.sibling:\n",
    "            dft_asbin(C)\n",
    "            C = C.sibling\n",
    "            #intermerdiate treatment on T\n",
    "        dft_asbin(C)\n",
    "        #postorder treatment\n",
    "    else:\n",
    "        print(\"Leaf: {}\".format(T.key))\n",
    "        #leaf treatment"
   ]
  },
  {
   "cell_type": "markdown",
   "metadata": {},
   "source": [
    "## 2.2 Breadth First Traversal\n",
    "\n",
    "### <b> <font color = blue> What is the gist of it? </font> </b>"
   ]
  },
  {
   "cell_type": "markdown",
   "metadata": {},
   "source": [
    "We visit nodes of the tree level-per-level from left to right. This traversal doesn't respect the recursive structure of the tree. To enable such a traversal one needs a FIFO. "
   ]
  },
  {
   "cell_type": "markdown",
   "metadata": {},
   "source": [
    "### <b> <font color = blue> How does one detect level change? </font> </b>"
   ]
  },
  {
   "cell_type": "markdown",
   "metadata": {},
   "source": [
    "Either by using two queues one for current treated nodes and the other for the level to come, or using a marker marking end of level."
   ]
  },
  {
   "cell_type": "markdown",
   "metadata": {},
   "source": [
    "### The `queue` module\n",
    "\n",
    "Here is the interface for the `queue` module."
   ]
  },
  {
   "cell_type": "raw",
   "metadata": {},
   "source": [
    "# -*- coding: utf-8 -*-\n",
    "\"\"\"Queue module.\"\"\"\n",
    "\n",
    "from collections import deque\n",
    "\n",
    "class Queue:\n",
    "    \"\"\"Simple class for FIFO (first-in-first-out) container.\"\"\"\n",
    "\n",
    "    def __init__(self):\n",
    "        \"\"\"Init queue.\"\"\"\n",
    "\n",
    "        self.elements = deque()\n",
    "\n",
    "    def enqueue(self, elt):\n",
    "        \"\"\"Add an element to the queue.\n",
    "\n",
    "        Args:\n",
    "            elt (Any): Element to enqueue.\n",
    "\n",
    "        Returns:\n",
    "            Queue: The updated queue.\n",
    "\n",
    "        \"\"\"\n",
    "\n",
    "        self.elements.append(elt)\n",
    "        return self\n",
    "\n",
    "    def dequeue(self):\n",
    "        \"\"\"Remove and return next element from the queue.\n",
    "\n",
    "        Returns:\n",
    "            Any: Element from the queue.\n",
    "\n",
    "        Raises:\n",
    "            IndexError: If queue is empty.\n",
    "\n",
    "        \"\"\"\n",
    "\n",
    "        return self.elements.popleft()\n",
    "\n",
    "    def isempty(self):\n",
    "        \"\"\"Check whether queue is empty.\n",
    "\n",
    "        Returns:\n",
    "            bool: True if queue is empty, False otherwise.\n",
    "\n",
    "        \"\"\"\n",
    "\n",
    "        return len(self.elements) == 0\n"
   ]
  },
  {
   "cell_type": "code",
   "execution_count": null,
   "metadata": {
    "collapsed": true
   },
   "outputs": [],
   "source": [
    "from algopy import queue\n",
    "from algopy.queue import Queue"
   ]
  },
  {
   "cell_type": "markdown",
   "metadata": {},
   "source": [
    "Here is a use example."
   ]
  },
  {
   "cell_type": "code",
   "execution_count": null,
   "metadata": {
    "collapsed": true
   },
   "outputs": [],
   "source": [
    "q = Queue()\n",
    "\n",
    "q"
   ]
  },
  {
   "cell_type": "code",
   "execution_count": null,
   "metadata": {
    "collapsed": true
   },
   "outputs": [],
   "source": [
    "for i in range(10):\n",
    "    q.enqueue(i)"
   ]
  },
  {
   "cell_type": "code",
   "execution_count": null,
   "metadata": {
    "collapsed": true
   },
   "outputs": [],
   "source": [
    "while not q.isempty():\n",
    "    print(q.dequeue())"
   ]
  },
  {
   "cell_type": "code",
   "execution_count": null,
   "metadata": {
    "collapsed": true
   },
   "outputs": [],
   "source": [
    "q.isempty()"
   ]
  },
  {
   "cell_type": "markdown",
   "metadata": {},
   "source": [
    "### <b> <font color = blue> Write a BFT printing keys one level per line. </font> </b>\n",
    "\n",
    "#### Implementation : `tuple` - variant"
   ]
  },
  {
   "cell_type": "code",
   "execution_count": null,
   "metadata": {
    "collapsed": true
   },
   "outputs": [],
   "source": [
    "def bft(T):\n",
    "    q = Queue()\n",
    "    f = Queue()\n",
    "    q.enqueue(T)\n",
    "    while not q.isempty():\n",
    "        node = q.dequeue()\n",
    "        print(node.key, end=\" \")\n",
    "        for child in node.children:\n",
    "            f.enqueue(child)\n",
    "        if q.isempty():\n",
    "            f, q = q, f\n",
    "            print()"
   ]
  },
  {
   "cell_type": "code",
   "execution_count": null,
   "metadata": {
    "collapsed": true
   },
   "outputs": [],
   "source": [
    "bft(L)"
   ]
  },
  {
   "cell_type": "markdown",
   "metadata": {},
   "source": [
    "### Compute Width of a General Tree"
   ]
  },
  {
   "cell_type": "code",
   "execution_count": null,
   "metadata": {
    "collapsed": true
   },
   "outputs": [],
   "source": [
    "def tree_width(T):\n",
    "    q = Queue()\n",
    "    f = Queue()\n",
    "    width, l_width = 0, 0\n",
    "    q.enqueue(T)\n",
    "    while not q.isempty():\n",
    "        node = q.dequeue()\n",
    "        l_width += 1\n",
    "        for child in node.children:\n",
    "            f.enqueue(child)\n",
    "        if q.isempty():\n",
    "            f, q = q, f\n",
    "            width = max(width, l_width)\n",
    "            l_width = 0\n",
    "    return width"
   ]
  },
  {
   "cell_type": "markdown",
   "metadata": {},
   "source": [
    "#### Implementation : `first-child right-sibling` - variant"
   ]
  },
  {
   "cell_type": "code",
   "execution_count": null,
   "metadata": {
    "collapsed": true
   },
   "outputs": [],
   "source": [
    "def BFT_asbin(B):\n",
    "    q = Queue()\n",
    "    q.enqueue(B)\n",
    "    q.enqueue(None)\n",
    "    while not q.isempty():\n",
    "        node = q.dequeue()\n",
    "        if node:\n",
    "            print(node.key, end=' ')\n",
    "            child = node.child          \n",
    "            while child:\n",
    "                q.enqueue(child)\n",
    "                child = child.sibling\n",
    "        else:\n",
    "            print()\n",
    "            if not q.isempty():\n",
    "                q.enqueue(None)"
   ]
  },
  {
   "cell_type": "code",
   "execution_count": null,
   "metadata": {
    "collapsed": true
   },
   "outputs": [],
   "source": [
    "BFT_asbin(LTAB)"
   ]
  },
  {
   "cell_type": "markdown",
   "metadata": {},
   "source": [
    "# Applications\n",
    "\n",
    "## Exercice 3.1 \n",
    "\n",
    "Write down a function returning list of preorder-postorder encounters of keys in a DFS."
   ]
  },
  {
   "cell_type": "markdown",
   "metadata": {},
   "source": [
    "#### `tuple`-variant"
   ]
  },
  {
   "cell_type": "code",
   "execution_count": null,
   "metadata": {
    "collapsed": true
   },
   "outputs": [],
   "source": [
    "def __prefsuff(T, L):\n",
    "    L.append(T.key)\n",
    "    for child in T.children:\n",
    "        __prefsuff(child, L)\n",
    "    L.append(T.key)\n",
    "    \n",
    "def prefsuff(T):\n",
    "    L = []\n",
    "    __prefsuff(T, L)\n",
    "    return L"
   ]
  },
  {
   "cell_type": "code",
   "execution_count": null,
   "metadata": {
    "collapsed": true
   },
   "outputs": [],
   "source": [
    "prefsuff(L)"
   ]
  },
  {
   "cell_type": "markdown",
   "metadata": {},
   "source": [
    "#### `first-child right-sibling` -variant"
   ]
  },
  {
   "cell_type": "code",
   "execution_count": null,
   "metadata": {
    "collapsed": true
   },
   "outputs": [],
   "source": [
    "def __prefsuff_asbin(T, L):\n",
    "    L.append(T.key)\n",
    "    C = T.child\n",
    "    while C:\n",
    "        __prefsuff_asbin(C,L)\n",
    "        C = C.sibling\n",
    "    L.append(T.key)\n",
    "\n",
    "def prefsuff_asbin(T):\n",
    "    L = []\n",
    "    __prefsuff_asbin(T,L)\n",
    "    return L\n",
    "    "
   ]
  },
  {
   "cell_type": "markdown",
   "metadata": {},
   "source": [
    "## Exercise 3.2\n",
    "\n",
    "Write a function that builds a linear representation (as a string) from a tree."
   ]
  },
  {
   "cell_type": "markdown",
   "metadata": {},
   "source": [
    "#### `tuple`- variant"
   ]
  },
  {
   "cell_type": "code",
   "execution_count": null,
   "metadata": {
    "collapsed": true
   },
   "outputs": [],
   "source": [
    "def to_string(T):\n",
    "    s = \"({}\".format(T.key)\n",
    "    for child in T.children:\n",
    "        s += to_string(child)\n",
    "    s += \")\"\n",
    "    return s"
   ]
  },
  {
   "cell_type": "code",
   "execution_count": null,
   "metadata": {
    "collapsed": true
   },
   "outputs": [],
   "source": [
    "to_string(L)"
   ]
  },
  {
   "cell_type": "markdown",
   "metadata": {},
   "source": [
    "#### `first-child right-sibling`-variant"
   ]
  },
  {
   "cell_type": "code",
   "execution_count": null,
   "metadata": {
    "collapsed": true
   },
   "outputs": [],
   "source": [
    "def to_string_asbin(T):\n",
    "    s = \"({}\".format(T.key)\n",
    "    C = T.child\n",
    "    while C:\n",
    "        s += to_string_asbin(C)\n",
    "        C = C.sibling\n",
    "    s += \")\"\n",
    "    return s"
   ]
  },
  {
   "cell_type": "code",
   "execution_count": null,
   "metadata": {
    "collapsed": true
   },
   "outputs": [],
   "source": [
    "to_string_asbin(LTAB)"
   ]
  },
  {
   "cell_type": "markdown",
   "metadata": {},
   "source": [
    "## Exercice 3.3\n",
    "\n",
    "Write down a function computing average arity of a general tree, implemented using `first-child right-sibling`-variant."
   ]
  },
  {
   "cell_type": "code",
   "execution_count": null,
   "metadata": {
    "collapsed": true
   },
   "outputs": [],
   "source": [
    "def __average_arity(T):\n",
    "    nb_children = 0\n",
    "    nb_internal_nodes = 0\n",
    "    C = T.child\n",
    "    if C:\n",
    "        nb_internal_nodes += 1\n",
    "    while C:\n",
    "        nb_children += 1\n",
    "        call = __average_arity(C)\n",
    "        nb_children += call[0]\n",
    "        nb_internal_nodes += call[1]\n",
    "        C = C.sibling\n",
    "    return nb_children, nb_internal_nodes\n",
    "\n",
    "def average_arity(T):\n",
    "    nb_children, nb_internal_nodes = __average_arity(T)\n",
    "    if nb_internal_nodes > 0:\n",
    "        return nb_children/nb_internal_nodes\n",
    "    else:\n",
    "        raise Exception(\"Isolated root.\")"
   ]
  },
  {
   "cell_type": "code",
   "execution_count": null,
   "metadata": {
    "collapsed": true
   },
   "outputs": [],
   "source": [
    "average_arity(LTAB)"
   ]
  },
  {
   "cell_type": "markdown",
   "metadata": {},
   "source": [
    "## Exercise 3.4"
   ]
  },
  {
   "cell_type": "code",
   "execution_count": null,
   "metadata": {
    "collapsed": true
   },
   "outputs": [],
   "source": [
    "def tree_to_dot(T):\n",
    "    s = \"graph {\\n\"\n",
    "    q = Queue()\n",
    "    q.enqueue(T)\n",
    "    while not q.isempty():\n",
    "        node = q.dequeue()\n",
    "        for child in node.children:\n",
    "            line = \"\\t {} -- {}\".format(node.key, \"{};\\n\")\n",
    "            line = line.format(child.key)\n",
    "            s += line\n",
    "            q.enqueue(child)\n",
    "    s += \"}\"\n",
    "    return s"
   ]
  },
  {
   "cell_type": "code",
   "execution_count": null,
   "metadata": {
    "collapsed": true
   },
   "outputs": [],
   "source": [
    "print(tree_to_dot(L))"
   ]
  },
  {
   "cell_type": "code",
   "execution_count": null,
   "metadata": {
    "collapsed": true
   },
   "outputs": [],
   "source": [
    "def tree_to_dot_(T):\n",
    "    Q = Queue()\n",
    "    res = \"graph {\\n\"\n",
    "    Q.enqueue(T)\n",
    "    while not Q.isempty():\n",
    "        A = Q.dequeue()\n",
    "        if A.children:\n",
    "            res +=\"      \"+ str(A.key) +\" -- {\"\n",
    "            for i in range(A.nbchildren - 1):\n",
    "                res+= str(A.children[i].key) + \"; \"\n",
    "                Q.enqueue(A.children[i])\n",
    "            res += str(A.children[-1].key) + \"};\\n\"\n",
    "            Q.enqueue(A.children[-1])\n",
    "    return res + \"}\""
   ]
  },
  {
   "cell_type": "code",
   "execution_count": null,
   "metadata": {
    "collapsed": true
   },
   "outputs": [],
   "source": [
    "print(tree_to_dot_(L))"
   ]
  },
  {
   "cell_type": "code",
   "execution_count": null,
   "metadata": {
    "collapsed": true
   },
   "outputs": [],
   "source": [
    "def asbin_to_dot(B):\n",
    "    Q = Queue()\n",
    "    res = \"graph {\\n\"\n",
    "    Q.enqueue(B)\n",
    "    while not Q.isempty():\n",
    "        node = Q.dequeue()\n",
    "        if node.child:\n",
    "            res += \"      \"+ str(node.key) +\" -- {\"\n",
    "            C = node.child\n",
    "            while C.sibling:\n",
    "                res += str(C.key) + \"; \"\n",
    "                Q.enqueue(C)\n",
    "                C = C.sibling\n",
    "            res += str(C.key) + \"};\\n\"\n",
    "            Q.enqueue(C)\n",
    "    return res + \"}\""
   ]
  },
  {
   "cell_type": "code",
   "execution_count": null,
   "metadata": {
    "collapsed": true
   },
   "outputs": [],
   "source": [
    "print(asbin_to_dot(LTAB))"
   ]
  },
  {
   "cell_type": "markdown",
   "metadata": {},
   "source": [
    "## Exercise 3.5\n",
    "\n",
    "Write conversions of a general tree from `tuple`-variant to `first-child right-sibling`-variant and vice-versa."
   ]
  },
  {
   "cell_type": "markdown",
   "metadata": {},
   "source": [
    "#### From `tuple`-variant to `first-child right-sibling` one"
   ]
  },
  {
   "cell_type": "code",
   "execution_count": null,
   "metadata": {
    "collapsed": true
   },
   "outputs": [],
   "source": [
    "def tree_to_bin(T):\n",
    "    B = TreeAsBin(T.key, None, None)\n",
    "    R = B\n",
    "    if T.children:\n",
    "        R.child = tree_to_bin(T.children[0])\n",
    "        R = R.child\n",
    "        for i in range(1,T.nbchildren):\n",
    "            R.sibling = tree_to_bin(T.children[i])\n",
    "            R = R.sibling\n",
    "    return B"
   ]
  },
  {
   "cell_type": "code",
   "execution_count": null,
   "metadata": {
    "collapsed": true
   },
   "outputs": [],
   "source": [
    "print(asbin_to_dot(tree_to_bin(L)))"
   ]
  },
  {
   "cell_type": "markdown",
   "metadata": {},
   "source": [
    "#### From `first-child right-sibling`-variant to `tuple` one"
   ]
  },
  {
   "cell_type": "code",
   "execution_count": null,
   "metadata": {
    "collapsed": true
   },
   "outputs": [],
   "source": [
    "def bin_to_tuple(B):\n",
    "    T = Tree(B.key)\n",
    "    B = B.child\n",
    "    while B:\n",
    "        T.children.append(bin_to_tuple(B))\n",
    "        B = B.sibling\n",
    "    return T"
   ]
  },
  {
   "cell_type": "code",
   "execution_count": null,
   "metadata": {
    "collapsed": true
   },
   "outputs": [],
   "source": [
    "print(tree_to_dot(bin_to_tuple(LTAB)))"
   ]
  },
  {
   "cell_type": "markdown",
   "metadata": {},
   "source": [
    "## Exercise 3.6\n",
    "\n",
    "Write down a function that loads a file of `.tree` type in both tree implementations we've been manipulating."
   ]
  },
  {
   "cell_type": "markdown",
   "metadata": {},
   "source": [
    "#### `tuple`-variant"
   ]
  },
  {
   "cell_type": "code",
   "execution_count": null,
   "metadata": {
    "collapsed": true
   },
   "outputs": [],
   "source": [
    "def __load(t_file, i):\n",
    "    s = \"\"\n",
    "    while t_file[i]!= '(' and t_file[i]!= ')':\n",
    "        s += t_file[i]\n",
    "        i += 1\n",
    "    root = Tree(s, [])\n",
    "    while t_file[i] != ')':\n",
    "        c, i = __load(t_file, i+1)\n",
    "        root.children.append(c)\n",
    "    return root, i+1\n",
    "\n",
    "def load(t_file):\n",
    "    T = None\n",
    "    if t_file:\n",
    "        T, i = __load(t_file, 1)\n",
    "    return T"
   ]
  },
  {
   "cell_type": "code",
   "execution_count": null,
   "metadata": {
    "collapsed": true
   },
   "outputs": [],
   "source": [
    "load(\"\")"
   ]
  },
  {
   "cell_type": "code",
   "execution_count": null,
   "metadata": {
    "collapsed": true
   },
   "outputs": [],
   "source": [
    "tree.display(load(to_string(L)))"
   ]
  },
  {
   "cell_type": "markdown",
   "metadata": {},
   "source": [
    "#### `first-child right-sibling`-variant"
   ]
  },
  {
   "cell_type": "code",
   "execution_count": null,
   "metadata": {
    "collapsed": true
   },
   "outputs": [],
   "source": [
    "def __load_asbin(t_file, i, l):\n",
    "    tree = None\n",
    "    if i < l and t_file[i] == '(':\n",
    "        new_key = \"\"\n",
    "        i += 1\n",
    "        while t_file[i] not in \"()\":\n",
    "            new_key += t_file[i]\n",
    "            i += 1\n",
    "        tree = TreeAsBin(new_key, None, None)\n",
    "        tree.child, i = __load_asbin(t_file, i, l)\n",
    "        i += 1\n",
    "        tree.sibling, i = __load_asbin(t_file, i, l)\n",
    "    return tree, i\n",
    "\n",
    "def load_asbin(t_file):\n",
    "    tree = __load_asbin(t_file, 0, len(t_file))[0]\n",
    "    return tree"
   ]
  },
  {
   "cell_type": "code",
   "execution_count": null,
   "metadata": {
    "collapsed": true
   },
   "outputs": [],
   "source": [
    "treeasbin.display(load_asbin(to_string_asbin(LTAB)))"
   ]
  },
  {
   "cell_type": "code",
   "execution_count": null,
   "metadata": {
    "collapsed": true
   },
   "outputs": [],
   "source": []
  }
 ],
 "metadata": {
  "kernelspec": {
   "display_name": "Python 3",
   "language": "python",
   "name": "python3"
  },
  "language_info": {
   "codemirror_mode": {
    "name": "ipython",
    "version": 3
   },
   "file_extension": ".py",
   "mimetype": "text/x-python",
   "name": "python",
   "nbconvert_exporter": "python",
   "pygments_lexer": "ipython3",
   "version": "3.6.3"
  }
 },
 "nbformat": 4,
 "nbformat_minor": 1
}
