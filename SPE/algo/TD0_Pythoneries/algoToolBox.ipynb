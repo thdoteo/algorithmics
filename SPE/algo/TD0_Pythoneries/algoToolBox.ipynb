{
 "cells": [
  {
   "cell_type": "markdown",
   "metadata": {},
   "source": [
    "# Algo Toolbox and \"<em>Pythoneries</em>\"\n",
    "## Lists"
   ]
  },
  {
   "cell_type": "markdown",
   "metadata": {
    "collapsed": true
   },
   "source": [
    "### <b><font color=\"blue\">Exercise: Split List</font></b>\n",
    "Write a function that split a list of length <tt>n</tt>, with n odd, into 3 parts: \n",
    "- the elements of the first half of the list (without the middle one)\n",
    "- the middle element\n",
    "- the elements of the second half of the list (without the middle one)\n"
   ]
  },
  {
   "cell_type": "code",
   "execution_count": 4,
   "metadata": {
    "collapsed": true
   },
   "outputs": [],
   "source": [
    "def splitlist(L):\n",
    "    ln = len(L)\n",
    "    mid = ln // 2\n",
    "    left, right = [], []\n",
    "    for i in range(mid):\n",
    "        left.append(L[i])\n",
    "    for j in range(mid + 1, ln):\n",
    "        right.append(L[j])\n",
    "    return left, L[mid], right"
   ]
  },
  {
   "cell_type": "code",
   "execution_count": 5,
   "metadata": {},
   "outputs": [
    {
     "data": {
      "text/plain": [
       "([1, 2], 3, [4, 5])"
      ]
     },
     "execution_count": 5,
     "metadata": {},
     "output_type": "execute_result"
    }
   ],
   "source": [
    "splitlist([1, 2, 3, 4, 5])"
   ]
  },
  {
   "cell_type": "code",
   "execution_count": 6,
   "metadata": {
    "collapsed": true
   },
   "outputs": [],
   "source": [
    "splitlist??"
   ]
  },
  {
   "cell_type": "markdown",
   "metadata": {},
   "source": [
    "#### Pythonery\n",
    "This can be simplified with <em>Python list slices</em>:\n",
    "- L[a:b] is the sub list of L with elements from positions a to b (b excluded)\n",
    "- L[:a] is the list L[0:a]\n",
    "- L[a:] is the list L[b:len(n)]\n",
    "- L[-1] is L[len(L)]"
   ]
  },
  {
   "cell_type": "code",
   "execution_count": 7,
   "metadata": {
    "collapsed": true
   },
   "outputs": [],
   "source": [
    "L = [1, 2, 3, 4, 5, 6, 7, 8, 9, 10]"
   ]
  },
  {
   "cell_type": "code",
   "execution_count": 8,
   "metadata": {},
   "outputs": [
    {
     "data": {
      "text/plain": [
       "[2, 3, 4, 5, 6, 7, 8, 9, 10]"
      ]
     },
     "execution_count": 8,
     "metadata": {},
     "output_type": "execute_result"
    }
   ],
   "source": [
    "L[1:10]"
   ]
  },
  {
   "cell_type": "code",
   "execution_count": 9,
   "metadata": {
    "collapsed": true
   },
   "outputs": [],
   "source": [
    "def splitlist(L):\n",
    "    mid = len(L) // 2\n",
    "    return L[:mid], L[mid], L[mid + 1:]"
   ]
  },
  {
   "cell_type": "code",
   "execution_count": 10,
   "metadata": {},
   "outputs": [
    {
     "data": {
      "text/plain": [
       "([1, 2, 3, 4, 5], 6, [7, 8, 9, 10])"
      ]
     },
     "execution_count": 10,
     "metadata": {},
     "output_type": "execute_result"
    }
   ],
   "source": [
    "L = [1, 2, 3, 4, 5, 6, 7, 8, 9, 10]\n",
    "splitlist(L)"
   ]
  },
  {
   "cell_type": "markdown",
   "metadata": {},
   "source": [
    "### <b><font color=\"blue\">Exercise: Binary Search</font></b>\n",
    "Write two functions to search an element in a sorted (in increasing order) list:\n",
    "- <tt>binarysearch(L, x, left, right)</tt> returns the position where <tt>x</tt> is or might be in <tt>L[left, right[</tt>, with  <tt>L</tt> sorted in increasing order.\n"
   ]
  },
  {
   "cell_type": "code",
   "execution_count": 11,
   "metadata": {
    "collapsed": true
   },
   "outputs": [],
   "source": [
    "def binarysearch(L, x, left, right):\n",
    "    \"\"\"Binary Search\n",
    "    \n",
    "    Args:\n",
    "        L: List to search in\n",
    "        x: Value to search\n",
    "        left, right: Search intervalle in L [left, right[\n",
    "        \n",
    "    Returns:\n",
    "        The position where x is or might be\n",
    "    \"\"\"\n",
    "    if left >= right:\n",
    "        return left\n",
    "    else:\n",
    "        mid = left + (right - left) // 2\n",
    "        if L[mid] == x:\n",
    "            return mid\n",
    "        elif L[mid] > x:\n",
    "            return binarysearch(L, x, left, mid)\n",
    "        else: # L[nid] < x\n",
    "            return binarysearch(L, x, mid + 1, right)"
   ]
  },
  {
   "cell_type": "code",
   "execution_count": 12,
   "metadata": {
    "collapsed": true
   },
   "outputs": [],
   "source": [
    "L = [-3, 0, 5, 8, 13, 24, 32, 37, 42]"
   ]
  },
  {
   "cell_type": "code",
   "execution_count": 13,
   "metadata": {},
   "outputs": [
    {
     "data": {
      "text/plain": [
       "9"
      ]
     },
     "execution_count": 13,
     "metadata": {},
     "output_type": "execute_result"
    }
   ],
   "source": [
    "binarysearch(L, 43, 0, len(L))"
   ]
  },
  {
   "cell_type": "markdown",
   "metadata": {},
   "source": [
    "- <tt>listSearch(L, x)</tt> returns <tt>-1</tt> if <tt>x</tt> in not in the list <tt>L</tt>, its position otherwise"
   ]
  },
  {
   "cell_type": "code",
   "execution_count": 14,
   "metadata": {
    "collapsed": true
   },
   "outputs": [],
   "source": [
    "def listsearch(L, x):\n",
    "    index = binarysearch(L, x, 0, len(L))\n",
    "    if L[index] == x:\n",
    "        return index\n",
    "    else:\n",
    "        return -1"
   ]
  },
  {
   "cell_type": "markdown",
   "metadata": {},
   "source": [
    "#### Pythonery\n",
    "Use <em>Python \"ternary\" operator</em>:\n",
    "<tt>[on_true] if [expression] else [on_false]</tt>"
   ]
  },
  {
   "cell_type": "code",
   "execution_count": 15,
   "metadata": {
    "collapsed": true
   },
   "outputs": [],
   "source": [
    "def listsearch2(x, L):\n",
    "    index = binarysearch(L, x, 0, len(L))\n",
    "    return index if L[index] == x else -1 "
   ]
  },
  {
   "cell_type": "code",
   "execution_count": 16,
   "metadata": {},
   "outputs": [
    {
     "data": {
      "text/plain": [
       "1"
      ]
     },
     "execution_count": 16,
     "metadata": {},
     "output_type": "execute_result"
    }
   ],
   "source": [
    "listsearch2(2, [1, 2, 3, 4, 5, 6])"
   ]
  },
  {
   "cell_type": "markdown",
   "metadata": {},
   "source": [
    "### <b><font color=\"blue\">Exercise: Build List &rarr; Build Matrix</font></b>\n",
    "Write the function <tt>buildlist(nb, val = None, alea = None)</tt> that builds a new list of length <tt>nb</tt>:\n",
    "- <tt>buildlist(nb)</tt> returns  <tt>[None, None, ...]</tt>\n",
    "- <tt>buildlist(nb, val)</tt> returns <tt>[val, val, ...]</tt>\n",
    "- <tt>buildlist(nb, alea = (a, b))</tt> returns a list of <tt>nb</tt> random values in <tt>[a, b[</tt>"
   ]
  },
  {
   "cell_type": "markdown",
   "metadata": {},
   "source": [
    "Note: <tt>if a:</tt> is <tt>False</tt> when <tt>a</tt> is <tt>0, None, [], \"\" ...</tt>"
   ]
  },
  {
   "cell_type": "code",
   "execution_count": 17,
   "metadata": {
    "collapsed": true
   },
   "outputs": [],
   "source": [
    "# Reminder on imports, random and seed\n",
    "import random\n",
    "random.randint?"
   ]
  },
  {
   "cell_type": "code",
   "execution_count": 18,
   "metadata": {},
   "outputs": [
    {
     "name": "stdout",
     "output_type": "stream",
     "text": [
      "Help on method seed in module random:\n",
      "\n",
      "seed(a=None, version=2) method of random.Random instance\n",
      "    Initialize internal state from hashable object.\n",
      "    \n",
      "    None or no argument seeds from current time or from an operating\n",
      "    system specific randomness source if available.\n",
      "    \n",
      "    If *a* is an int, all bits are used.\n",
      "    \n",
      "    For version 2 (the default), all of the bits are used if *a* is a str,\n",
      "    bytes, or bytearray.  For version 1 (provided for reproducing random\n",
      "    sequences from older versions of Python), the algorithm for str and\n",
      "    bytes generates a narrower range of seeds.\n",
      "\n"
     ]
    }
   ],
   "source": [
    "help(random.seed)\n",
    "random.seed(42)    # do it once only!"
   ]
  },
  {
   "cell_type": "code",
   "execution_count": 32,
   "metadata": {
    "collapsed": true
   },
   "outputs": [],
   "source": [
    "def buildlist(nb, val = None, alea = None):\n",
    "    L = []\n",
    "    if (not alea):\n",
    "        for i in range(nb):\n",
    "            L.append(val)\n",
    "    else:\n",
    "        for i in range(nb):\n",
    "            L.append(random.randint(alea[0], alea[1] - 1))\n",
    "    return L    "
   ]
  },
  {
   "cell_type": "code",
   "execution_count": 33,
   "metadata": {},
   "outputs": [
    {
     "data": {
      "text/plain": [
       "[None, None]"
      ]
     },
     "execution_count": 33,
     "metadata": {},
     "output_type": "execute_result"
    }
   ],
   "source": [
    "buildlist(2)"
   ]
  },
  {
   "cell_type": "markdown",
   "metadata": {},
   "source": [
    "#### Pythonery: *List Comprehension*\n",
    "Test the following, then use it to write again <code>buildlist</code>"
   ]
  },
  {
   "cell_type": "code",
   "execution_count": 48,
   "metadata": {},
   "outputs": [
    {
     "data": {
      "text/plain": [
       "[0, 1, 2, 3, 4, 5, 6, 7, 8, 9]"
      ]
     },
     "execution_count": 48,
     "metadata": {},
     "output_type": "execute_result"
    }
   ],
   "source": [
    "[i for i in range(10)]"
   ]
  },
  {
   "cell_type": "code",
   "execution_count": 54,
   "metadata": {
    "collapsed": true
   },
   "outputs": [],
   "source": [
    "def buildlist_lc(nb, val = None, alea = None):\n",
    "    if (not alea):\n",
    "        L = [val for _ in range(nb)]\n",
    "    else:\n",
    "        L = [random.randint(alea[0], alea[1] - 1) for _ in range(nb)]\n",
    "    return L   "
   ]
  },
  {
   "cell_type": "code",
   "execution_count": 55,
   "metadata": {},
   "outputs": [
    {
     "data": {
      "text/plain": [
       "([None, None, None, None, None], [0, 0, 0, 0, 0], [0, 4, 3, 3, 2])"
      ]
     },
     "execution_count": 55,
     "metadata": {},
     "output_type": "execute_result"
    }
   ],
   "source": [
    "buildlist_lc(5), buildlist_lc(5, 0), buildlist_lc(5, alea = (0,10))"
   ]
  },
  {
   "cell_type": "markdown",
   "metadata": {},
   "source": [
    "#### Pythonery : *Short Version for Defining a List of Constants*\n",
    "\n",
    "Python gives a short way to build list: `[val] * nb`"
   ]
  },
  {
   "cell_type": "code",
   "execution_count": 60,
   "metadata": {
    "collapsed": true
   },
   "outputs": [],
   "source": [
    "def buildlist_sv(nb, val = None, alea = None):\n",
    "    if (not alea):\n",
    "        L = [val]*nb\n",
    "    else:\n",
    "        L = [random.randint(alea[0], alea[1] - 1) for _ in range(nb)]\n",
    "    return L   "
   ]
  },
  {
   "cell_type": "code",
   "execution_count": 61,
   "metadata": {},
   "outputs": [
    {
     "data": {
      "text/plain": [
       "([None, None, None, None, None], [0, 0, 0, 0, 0], [54, 4, 3, 11, 27])"
      ]
     },
     "execution_count": 61,
     "metadata": {},
     "output_type": "execute_result"
    }
   ],
   "source": [
    "buildlist_sv(5), buildlist_sv(5, 0), buildlist_sv(5, alea = (0, 100))"
   ]
  },
  {
   "cell_type": "markdown",
   "metadata": {},
   "source": [
    "Test the *short* version `[val] * n` with random numbers!"
   ]
  },
  {
   "cell_type": "code",
   "execution_count": 62,
   "metadata": {},
   "outputs": [
    {
     "data": {
      "text/plain": [
       "[3, 3, 3, 3, 3]"
      ]
     },
     "execution_count": 62,
     "metadata": {},
     "output_type": "execute_result"
    }
   ],
   "source": [
    "[random.randint(0, 10)] * 5"
   ]
  },
  {
   "cell_type": "markdown",
   "metadata": {},
   "source": [
    "### <font color=\"red\">WARNING :</font> When You Want to build a list of lists "
   ]
  },
  {
   "cell_type": "markdown",
   "metadata": {},
   "source": [
    "The previous functions have a problem coming from the fact that mutable elements are passed as `ref` within functions' parameters. If any *in-place* change becomes of any of such parameter then it shall affect all shared references to that object."
   ]
  },
  {
   "cell_type": "code",
   "execution_count": 34,
   "metadata": {
    "collapsed": true
   },
   "outputs": [],
   "source": [
    "L = buildlist(2, [12837])"
   ]
  },
  {
   "cell_type": "code",
   "execution_count": 35,
   "metadata": {},
   "outputs": [
    {
     "data": {
      "text/plain": [
       "[[12837, 3], [12837, 3]]"
      ]
     },
     "execution_count": 35,
     "metadata": {},
     "output_type": "execute_result"
    }
   ],
   "source": [
    "L[0].append(3)\n",
    "L"
   ]
  },
  {
   "cell_type": "markdown",
   "metadata": {},
   "source": [
    "Remember that a way to check for whether you have shared reference or not is to ask for the `id` of a given object. It is a hash that points to the object's address."
   ]
  },
  {
   "cell_type": "code",
   "execution_count": 37,
   "metadata": {},
   "outputs": [
    {
     "data": {
      "text/plain": [
       "[4586606792, 4586606792]"
      ]
     },
     "execution_count": 37,
     "metadata": {},
     "output_type": "execute_result"
    }
   ],
   "source": [
    "[id(element) for element in L]"
   ]
  },
  {
   "cell_type": "markdown",
   "metadata": {},
   "source": [
    "### Write again `buildlist` to avoid the problem"
   ]
  },
  {
   "cell_type": "markdown",
   "metadata": {},
   "source": [
    "The only definite solution for such issues is to use the `deepcopy` function available in the `copy` module. You **MUST TAKE CARE** using such a module because it affects the standard `python` behaviour."
   ]
  },
  {
   "cell_type": "code",
   "execution_count": 26,
   "metadata": {
    "collapsed": true
   },
   "outputs": [],
   "source": [
    "from copy import deepcopy"
   ]
  },
  {
   "cell_type": "code",
   "execution_count": 41,
   "metadata": {
    "collapsed": true
   },
   "outputs": [],
   "source": [
    "def buildlist_(nb, val = None, alea = None):\n",
    "    L = []\n",
    "    if (not alea):\n",
    "        for i in range(nb):\n",
    "            L.append(deepcopy(val))\n",
    "    else:\n",
    "        for i in range(nb):\n",
    "            L.append(random.randint(alea[0], alea[1] - 1))\n",
    "    return L    "
   ]
  },
  {
   "cell_type": "code",
   "execution_count": 42,
   "metadata": {
    "collapsed": true
   },
   "outputs": [],
   "source": [
    "L = buildlist_(2, [12837])"
   ]
  },
  {
   "cell_type": "code",
   "execution_count": 43,
   "metadata": {},
   "outputs": [
    {
     "data": {
      "text/plain": [
       "[[12837, 3], [12837]]"
      ]
     },
     "execution_count": 43,
     "metadata": {},
     "output_type": "execute_result"
    }
   ],
   "source": [
    "L[0].append(3)\n",
    "L"
   ]
  },
  {
   "cell_type": "code",
   "execution_count": 44,
   "metadata": {},
   "outputs": [
    {
     "data": {
      "text/plain": [
       "[4585045960, 4586483144]"
      ]
     },
     "execution_count": 44,
     "metadata": {},
     "output_type": "execute_result"
    }
   ],
   "source": [
    "[id(element) for element in L]"
   ]
  },
  {
   "cell_type": "markdown",
   "metadata": {},
   "source": [
    "Use `buildlist_` to build a `5 * 5`-matrix filled with None, then change a value."
   ]
  },
  {
   "cell_type": "code",
   "execution_count": 63,
   "metadata": {
    "collapsed": true
   },
   "outputs": [],
   "source": [
    "M = buildlist_(4, buildlist_(5, None))"
   ]
  },
  {
   "cell_type": "code",
   "execution_count": 64,
   "metadata": {},
   "outputs": [
    {
     "data": {
      "text/plain": [
       "[[None, None, None, None, None],\n",
       " [None, None, None, None, None],\n",
       " [None, None, None, None, None],\n",
       " [None, None, None, None, None]]"
      ]
     },
     "execution_count": 64,
     "metadata": {},
     "output_type": "execute_result"
    }
   ],
   "source": [
    "M"
   ]
  },
  {
   "cell_type": "code",
   "execution_count": 65,
   "metadata": {
    "collapsed": true
   },
   "outputs": [],
   "source": [
    "M[0][0] = 5"
   ]
  },
  {
   "cell_type": "code",
   "execution_count": 67,
   "metadata": {},
   "outputs": [
    {
     "data": {
      "text/plain": [
       "[[5, None, None, None, None],\n",
       " [None, None, None, None, None],\n",
       " [None, None, None, None, None],\n",
       " [None, None, None, None, None]]"
      ]
     },
     "execution_count": 67,
     "metadata": {},
     "output_type": "execute_result"
    }
   ],
   "source": [
    "M"
   ]
  },
  {
   "cell_type": "markdown",
   "metadata": {},
   "source": [
    "If that one works then you might have well written your `buildlist_` function."
   ]
  },
  {
   "cell_type": "code",
   "execution_count": null,
   "metadata": {
    "collapsed": true
   },
   "outputs": [],
   "source": []
  }
 ],
 "metadata": {
  "kernelspec": {
   "display_name": "Python 3",
   "language": "python",
   "name": "python3"
  },
  "language_info": {
   "codemirror_mode": {
    "name": "ipython",
    "version": 3
   },
   "file_extension": ".py",
   "mimetype": "text/x-python",
   "name": "python",
   "nbconvert_exporter": "python",
   "pygments_lexer": "ipython3",
   "version": "3.6.3"
  }
 },
 "nbformat": 4,
 "nbformat_minor": 1
}
