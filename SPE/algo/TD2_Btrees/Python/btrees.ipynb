{
 "cells": [
  {
   "cell_type": "markdown",
   "metadata": {
    "collapsed": true
   },
   "source": [
    "# 1. B-Trees"
   ]
  },
  {
   "cell_type": "markdown",
   "metadata": {},
   "source": [
    "### Definition\n",
    "\n",
    "- A B-tree can be empty, if it is not none of its subtrees is.\n",
    "- Each node of a B-tree contains a list of (increasingly) sorted keys. An **internal** node having $k$ keys has $(k+1)$ children we say it is a $(k+1)$-node.\n",
    "- Key in position $i$ of a node has a left child and right one, respectively the $i$-th and $(i+1)$-st child. The keys of the left child are smaller than the $i$-th key and the ones of the right child bigger. In that sense a B-tree is a general search tree. \n",
    "- All leaves have the same depth.\n",
    "- A B-tree has a degree $t > 1$ :\n",
    "    - the root has at most $2t-1$ keys\n",
    "    - any other node has at least $t-1$ keys and at most $2t-1$ ones."
   ]
  },
  {
   "cell_type": "code",
   "execution_count": 1,
   "metadata": {},
   "outputs": [],
   "source": [
    "from algopy import btree\n",
    "from algopy.btree import BTree"
   ]
  },
  {
   "cell_type": "raw",
   "metadata": {},
   "source": [
    "class BTree:\n",
    "    \"\"\"BTree class.\n",
    "\n",
    "    Attributes:\n",
    "        degree (int): Degree for all existing trees.\n",
    "        keys (list[Any]): List of node keys.\n",
    "        children (list[BTree]): lLst of children.\n",
    "\n",
    "    \"\"\"\n",
    "\n",
    "    degree = None\n",
    "\n",
    "    def __init__(self, keys=None, children=None):\n",
    "        \"\"\"BTree instance constructor.\n",
    "\n",
    "        Args:\n",
    "            keys (list[Any]).\n",
    "            children (list[BTree])\n",
    "\n",
    "        \"\"\"\n",
    "        self.keys = keys if keys else []\n",
    "        self.children = children if children else []\n",
    "\n",
    "    @property\n",
    "    def nbkeys(self):\n",
    "        \"\"\"Number of keys in node.\n",
    "\n",
    "        Returns:\n",
    "            int.\n",
    "\n",
    "        \"\"\"\n",
    "        return len(self.keys)"
   ]
  },
  {
   "cell_type": "markdown",
   "metadata": {},
   "source": [
    "In the previous implementation an empty B-tree is represented by the `None` object, a leaf by the fact its list of children is empty. The `degree` attribute is a class attribute, it enable to instantiate classes having a given degree. For example, for 2-4 trees we can define the class:"
   ]
  },
  {
   "cell_type": "code",
   "execution_count": 2,
   "metadata": {},
   "outputs": [],
   "source": [
    "class B24(BTree):\n",
    "    degree = 2"
   ]
  },
  {
   "cell_type": "code",
   "execution_count": 3,
   "metadata": {},
   "outputs": [],
   "source": [
    "Dummy = B24([22], \n",
    "             [B24([15], \n",
    "                   [B24([8, 12]), B24([18, 19, 20])]), \n",
    "              B24([27, 41], \n",
    "                   [B24([24, 25]), B24([30, 35, 38]), B24([45, 48])])])"
   ]
  },
  {
   "cell_type": "code",
   "execution_count": 4,
   "metadata": {},
   "outputs": [
    {
     "data": {
      "image/svg+xml": [
       "<svg height=\"191pt\" viewBox=\"0.00 0.00 434.00 191.00\" width=\"434pt\" xmlns=\"http://www.w3.org/2000/svg\" xmlns:xlink=\"http://www.w3.org/1999/xlink\">\n",
       "<g class=\"graph\" id=\"graph0\" transform=\"scale(1 1) rotate(0) translate(4 187)\">\n",
       "<title>temp</title>\n",
       "<polygon fill=\"#ffffff\" points=\"-4,4 -4,-187 430,-187 430,4 -4,4\" stroke=\"transparent\"/>\n",
       "<!-- 4596800144 -->\n",
       "<g class=\"node\" id=\"node1\">\n",
       "<title>4596800144</title>\n",
       "<path d=\"M148,-146.5C148,-146.5 178,-146.5 178,-146.5 184,-146.5 190,-152.5 190,-158.5 190,-158.5 190,-170.5 190,-170.5 190,-176.5 184,-182.5 178,-182.5 178,-182.5 148,-182.5 148,-182.5 142,-182.5 136,-176.5 136,-170.5 136,-170.5 136,-158.5 136,-158.5 136,-152.5 142,-146.5 148,-146.5\" fill=\"none\" stroke=\"#000000\"/>\n",
       "<text fill=\"#000000\" font-family=\"Times,serif\" font-size=\"14.00\" text-anchor=\"middle\" x=\"163\" y=\"-160.3\">22</text>\n",
       "</g>\n",
       "<!-- 4596799864 -->\n",
       "<g class=\"node\" id=\"node2\">\n",
       "<title>4596799864</title>\n",
       "<path d=\"M102,-73.5C102,-73.5 132,-73.5 132,-73.5 138,-73.5 144,-79.5 144,-85.5 144,-85.5 144,-97.5 144,-97.5 144,-103.5 138,-109.5 132,-109.5 132,-109.5 102,-109.5 102,-109.5 96,-109.5 90,-103.5 90,-97.5 90,-97.5 90,-85.5 90,-85.5 90,-79.5 96,-73.5 102,-73.5\" fill=\"none\" stroke=\"#000000\"/>\n",
       "<text fill=\"#000000\" font-family=\"Times,serif\" font-size=\"14.00\" text-anchor=\"middle\" x=\"117\" y=\"-87.3\">15</text>\n",
       "</g>\n",
       "<!-- 4596800144&#45;&#45;4596799864 -->\n",
       "<g class=\"edge\" id=\"edge1\">\n",
       "<title>4596800144--4596799864</title>\n",
       "<path d=\"M151.6292,-146.4551C144.5522,-135.2241 135.4818,-120.8298 128.3994,-109.5904\" fill=\"none\" stroke=\"#000000\"/>\n",
       "</g>\n",
       "<!-- 4596800088 -->\n",
       "<g class=\"node\" id=\"node3\">\n",
       "<title>4596800088</title>\n",
       "<path d=\"M238,-73.5C238,-73.5 274,-73.5 274,-73.5 280,-73.5 286,-79.5 286,-85.5 286,-85.5 286,-97.5 286,-97.5 286,-103.5 280,-109.5 274,-109.5 274,-109.5 238,-109.5 238,-109.5 232,-109.5 226,-103.5 226,-97.5 226,-97.5 226,-85.5 226,-85.5 226,-79.5 232,-73.5 238,-73.5\" fill=\"none\" stroke=\"#000000\"/>\n",
       "<text fill=\"#000000\" font-family=\"Times,serif\" font-size=\"14.00\" text-anchor=\"middle\" x=\"241\" y=\"-87.3\">27</text>\n",
       "<polyline fill=\"none\" points=\"256,-73.5 256,-109.5 \" stroke=\"#000000\"/>\n",
       "<text fill=\"#000000\" font-family=\"Times,serif\" font-size=\"14.00\" text-anchor=\"middle\" x=\"271\" y=\"-87.3\">41</text>\n",
       "</g>\n",
       "<!-- 4596800144&#45;&#45;4596800088 -->\n",
       "<g class=\"edge\" id=\"edge2\">\n",
       "<title>4596800144--4596800088</title>\n",
       "<path d=\"M185.9888,-146.4551C200.2966,-135.2241 218.6347,-120.8298 232.9534,-109.5904\" fill=\"none\" stroke=\"#000000\"/>\n",
       "</g>\n",
       "<!-- 4596799752 -->\n",
       "<g class=\"node\" id=\"node4\">\n",
       "<title>4596799752</title>\n",
       "<path d=\"M12,-.5C12,-.5 42,-.5 42,-.5 48,-.5 54,-6.5 54,-12.5 54,-12.5 54,-24.5 54,-24.5 54,-30.5 48,-36.5 42,-36.5 42,-36.5 12,-36.5 12,-36.5 6,-36.5 0,-30.5 0,-24.5 0,-24.5 0,-12.5 0,-12.5 0,-6.5 6,-.5 12,-.5\" fill=\"none\" stroke=\"#000000\"/>\n",
       "<text fill=\"#000000\" font-family=\"Times,serif\" font-size=\"14.00\" text-anchor=\"middle\" x=\"11.5\" y=\"-14.3\">8</text>\n",
       "<polyline fill=\"none\" points=\"23,-.5 23,-36.5 \" stroke=\"#000000\"/>\n",
       "<text fill=\"#000000\" font-family=\"Times,serif\" font-size=\"14.00\" text-anchor=\"middle\" x=\"38.5\" y=\"-14.3\">12</text>\n",
       "</g>\n",
       "<!-- 4596799864&#45;&#45;4596799752 -->\n",
       "<g class=\"edge\" id=\"edge3\">\n",
       "<title>4596799864--4596799752</title>\n",
       "<path d=\"M94.7528,-73.4551C80.9065,-62.2241 63.16,-47.8298 49.3032,-36.5904\" fill=\"none\" stroke=\"#000000\"/>\n",
       "</g>\n",
       "<!-- 4596799808 -->\n",
       "<g class=\"node\" id=\"node5\">\n",
       "<title>4596799808</title>\n",
       "<path d=\"M84,-.5C84,-.5 150,-.5 150,-.5 156,-.5 162,-6.5 162,-12.5 162,-12.5 162,-24.5 162,-24.5 162,-30.5 156,-36.5 150,-36.5 150,-36.5 84,-36.5 84,-36.5 78,-36.5 72,-30.5 72,-24.5 72,-24.5 72,-12.5 72,-12.5 72,-6.5 78,-.5 84,-.5\" fill=\"none\" stroke=\"#000000\"/>\n",
       "<text fill=\"#000000\" font-family=\"Times,serif\" font-size=\"14.00\" text-anchor=\"middle\" x=\"87\" y=\"-14.3\">18</text>\n",
       "<polyline fill=\"none\" points=\"102,-.5 102,-36.5 \" stroke=\"#000000\"/>\n",
       "<text fill=\"#000000\" font-family=\"Times,serif\" font-size=\"14.00\" text-anchor=\"middle\" x=\"117\" y=\"-14.3\">19</text>\n",
       "<polyline fill=\"none\" points=\"132,-.5 132,-36.5 \" stroke=\"#000000\"/>\n",
       "<text fill=\"#000000\" font-family=\"Times,serif\" font-size=\"14.00\" text-anchor=\"middle\" x=\"147\" y=\"-14.3\">20</text>\n",
       "</g>\n",
       "<!-- 4596799864&#45;&#45;4596799808 -->\n",
       "<g class=\"edge\" id=\"edge4\">\n",
       "<title>4596799864--4596799808</title>\n",
       "<path d=\"M117,-73.4551C117,-62.2241 117,-47.8298 117,-36.5904\" fill=\"none\" stroke=\"#000000\"/>\n",
       "</g>\n",
       "<!-- 4596799920 -->\n",
       "<g class=\"node\" id=\"node6\">\n",
       "<title>4596799920</title>\n",
       "<path d=\"M192,-.5C192,-.5 228,-.5 228,-.5 234,-.5 240,-6.5 240,-12.5 240,-12.5 240,-24.5 240,-24.5 240,-30.5 234,-36.5 228,-36.5 228,-36.5 192,-36.5 192,-36.5 186,-36.5 180,-30.5 180,-24.5 180,-24.5 180,-12.5 180,-12.5 180,-6.5 186,-.5 192,-.5\" fill=\"none\" stroke=\"#000000\"/>\n",
       "<text fill=\"#000000\" font-family=\"Times,serif\" font-size=\"14.00\" text-anchor=\"middle\" x=\"195\" y=\"-14.3\">24</text>\n",
       "<polyline fill=\"none\" points=\"210,-.5 210,-36.5 \" stroke=\"#000000\"/>\n",
       "<text fill=\"#000000\" font-family=\"Times,serif\" font-size=\"14.00\" text-anchor=\"middle\" x=\"225\" y=\"-14.3\">25</text>\n",
       "</g>\n",
       "<!-- 4596800088&#45;&#45;4596799920 -->\n",
       "<g class=\"edge\" id=\"edge5\">\n",
       "<title>4596800088--4596799920</title>\n",
       "<path d=\"M244.6292,-73.4551C237.5522,-62.2241 228.4818,-47.8298 221.3994,-36.5904\" fill=\"none\" stroke=\"#000000\"/>\n",
       "</g>\n",
       "<!-- 4596799976 -->\n",
       "<g class=\"node\" id=\"node7\">\n",
       "<title>4596799976</title>\n",
       "<path d=\"M270,-.5C270,-.5 336,-.5 336,-.5 342,-.5 348,-6.5 348,-12.5 348,-12.5 348,-24.5 348,-24.5 348,-30.5 342,-36.5 336,-36.5 336,-36.5 270,-36.5 270,-36.5 264,-36.5 258,-30.5 258,-24.5 258,-24.5 258,-12.5 258,-12.5 258,-6.5 264,-.5 270,-.5\" fill=\"none\" stroke=\"#000000\"/>\n",
       "<text fill=\"#000000\" font-family=\"Times,serif\" font-size=\"14.00\" text-anchor=\"middle\" x=\"273\" y=\"-14.3\">30</text>\n",
       "<polyline fill=\"none\" points=\"288,-.5 288,-36.5 \" stroke=\"#000000\"/>\n",
       "<text fill=\"#000000\" font-family=\"Times,serif\" font-size=\"14.00\" text-anchor=\"middle\" x=\"303\" y=\"-14.3\">35</text>\n",
       "<polyline fill=\"none\" points=\"318,-.5 318,-36.5 \" stroke=\"#000000\"/>\n",
       "<text fill=\"#000000\" font-family=\"Times,serif\" font-size=\"14.00\" text-anchor=\"middle\" x=\"333\" y=\"-14.3\">38</text>\n",
       "</g>\n",
       "<!-- 4596800088&#45;&#45;4596799976 -->\n",
       "<g class=\"edge\" id=\"edge6\">\n",
       "<title>4596800088--4596799976</title>\n",
       "<path d=\"M267.618,-73.4551C274.8488,-62.2241 284.1164,-47.8298 291.3528,-36.5904\" fill=\"none\" stroke=\"#000000\"/>\n",
       "</g>\n",
       "<!-- 4596800032 -->\n",
       "<g class=\"node\" id=\"node8\">\n",
       "<title>4596800032</title>\n",
       "<path d=\"M378,-.5C378,-.5 414,-.5 414,-.5 420,-.5 426,-6.5 426,-12.5 426,-12.5 426,-24.5 426,-24.5 426,-30.5 420,-36.5 414,-36.5 414,-36.5 378,-36.5 378,-36.5 372,-36.5 366,-30.5 366,-24.5 366,-24.5 366,-12.5 366,-12.5 366,-6.5 372,-.5 378,-.5\" fill=\"none\" stroke=\"#000000\"/>\n",
       "<text fill=\"#000000\" font-family=\"Times,serif\" font-size=\"14.00\" text-anchor=\"middle\" x=\"381\" y=\"-14.3\">45</text>\n",
       "<polyline fill=\"none\" points=\"396,-.5 396,-36.5 \" stroke=\"#000000\"/>\n",
       "<text fill=\"#000000\" font-family=\"Times,serif\" font-size=\"14.00\" text-anchor=\"middle\" x=\"411\" y=\"-14.3\">48</text>\n",
       "</g>\n",
       "<!-- 4596800088&#45;&#45;4596800032 -->\n",
       "<g class=\"edge\" id=\"edge7\">\n",
       "<title>4596800088--4596800032</title>\n",
       "<path d=\"M286.0335,-75.8397C309.4942,-63.6066 341.9624,-46.6768 365.5331,-34.3863\" fill=\"none\" stroke=\"#000000\"/>\n",
       "</g>\n",
       "</g>\n",
       "</svg>"
      ],
      "text/plain": [
       "<IPython.core.display.SVG object>"
      ]
     },
     "execution_count": 4,
     "metadata": {},
     "output_type": "execute_result"
    }
   ],
   "source": [
    "btree.display(Dummy)"
   ]
  },
  {
   "cell_type": "markdown",
   "metadata": {},
   "source": [
    "## Exercice 1.3 : Linear Representation\n",
    "\n",
    "### Serializing a B-Tree\n",
    "\n",
    "In preordre treatment we print the list of keys of a node we close parenthesis in post-order. "
   ]
  },
  {
   "cell_type": "code",
   "execution_count": 5,
   "metadata": {},
   "outputs": [],
   "source": [
    "def __btreetolist(B):\n",
    "    st = \"(<\"\n",
    "    # Represent list of keys as strings\n",
    "    for i in range(B.nbkeys -1):\n",
    "        st += str(B.keys[i]) + \",\"\n",
    "    st += str(B.keys[-1]) + \">\"\n",
    "    # Writing down recursive calls\n",
    "    for child in B.children:\n",
    "        st += __btreetolist(child)\n",
    "    return st + \")\"\n",
    "    \n",
    "def btreetolist(B):\n",
    "    return __btreetolist(B) if B else \"\""
   ]
  },
  {
   "cell_type": "code",
   "execution_count": 6,
   "metadata": {},
   "outputs": [
    {
     "data": {
      "text/plain": [
       "'(<22>(<15>(<8,12>)(<18,19,20>))(<27,41>(<24,25>)(<30,35,38>)(<45,48>)))'"
      ]
     },
     "execution_count": 6,
     "metadata": {},
     "output_type": "execute_result"
    }
   ],
   "source": [
    "btreetolist(Dummy)"
   ]
  },
  {
   "cell_type": "code",
   "execution_count": 7,
   "metadata": {},
   "outputs": [
    {
     "data": {
      "text/plain": [
       "''"
      ]
     },
     "execution_count": 7,
     "metadata": {},
     "output_type": "execute_result"
    }
   ],
   "source": [
    "btreetolist(None)"
   ]
  },
  {
   "cell_type": "markdown",
   "metadata": {},
   "source": [
    "## Exercise 1.4 : B-Tree or not B-Tree"
   ]
  },
  {
   "cell_type": "code",
   "execution_count": 8,
   "metadata": {},
   "outputs": [],
   "source": [
    "def dfs(B):\n",
    "    if not B.children:\n",
    "        for key in B.keys:\n",
    "            print(key, end=\" \")\n",
    "    else:\n",
    "        for i in range(B.nbkeys):\n",
    "            dfs(B.children[i])\n",
    "            print(B.keys[i], end=\" \")\n",
    "        dfs(B.children[B.nbkeys])"
   ]
  },
  {
   "cell_type": "code",
   "execution_count": 9,
   "metadata": {},
   "outputs": [
    {
     "name": "stdout",
     "output_type": "stream",
     "text": [
      "8 12 15 18 19 20 22 24 25 27 30 35 38 41 45 48 "
     ]
    }
   ],
   "source": [
    "dfs(Dummy)"
   ]
  },
  {
   "cell_type": "code",
   "execution_count": 10,
   "metadata": {},
   "outputs": [],
   "source": [
    "def ordered(B):\n",
    "    return _ordered(B, float(\"-inf\"), float(\"inf\"))\n",
    "\n",
    "def _ordered(B, min_, max_):\n",
    "    if B.children:\n",
    "        #test range\n",
    "        if B.keys[0] < min_ or B.keys[-1] > max_:\n",
    "            return False\n",
    "        for i in range(B.nbkeys):\n",
    "            #recursive call\n",
    "            if not _ordered(B.children[i], min_, B.keys[i]):\n",
    "                return False\n",
    "            min_ = B.keys[i]\n",
    "        return _ordered(B.children[-1], B.keys[-1], max_)\n",
    "    else:\n",
    "        if B.keys[0] < min_ or B.keys[-1] > max_:\n",
    "            return False\n",
    "        for i in range(1, B.nbkeys):\n",
    "            if B.keys[i - 1] > B.keys[i]:\n",
    "                return False\n",
    "        return True"
   ]
  },
  {
   "cell_type": "code",
   "execution_count": 11,
   "metadata": {},
   "outputs": [
    {
     "data": {
      "text/plain": [
       "True"
      ]
     },
     "execution_count": 11,
     "metadata": {},
     "output_type": "execute_result"
    }
   ],
   "source": [
    "ordered(Dummy)"
   ]
  },
  {
   "cell_type": "markdown",
   "metadata": {
    "collapsed": true
   },
   "source": [
    "# 2. Classics\n",
    "\n",
    "\n",
    "## Exercice 2.1 : Minimum and maximum\n",
    "\n",
    "### 1. Where do we find the minimal value of a B-tree, the maximal one?\n",
    "\n",
    "The minimal one is found on the first leaf to the left ; it's its first key.\n",
    "\n",
    "\n",
    "### 2. Write down the functions that enables us to get the minimal and maximal values of a B-tree."
   ]
  },
  {
   "cell_type": "code",
   "execution_count": 12,
   "metadata": {},
   "outputs": [],
   "source": [
    "def bmin(B):\n",
    "    if B is None:\n",
    "        raise Exception(\"B-Tree is empty.\")\n",
    "    while B.children:\n",
    "        B = B.children[0]\n",
    "    return B.keys[0]"
   ]
  },
  {
   "cell_type": "code",
   "execution_count": 13,
   "metadata": {},
   "outputs": [
    {
     "data": {
      "text/plain": [
       "8"
      ]
     },
     "execution_count": 13,
     "metadata": {},
     "output_type": "execute_result"
    }
   ],
   "source": [
    "bmin(Dummy)"
   ]
  },
  {
   "cell_type": "markdown",
   "metadata": {},
   "source": [
    "Recurively"
   ]
  },
  {
   "cell_type": "code",
   "execution_count": 14,
   "metadata": {},
   "outputs": [],
   "source": [
    "def _minbtree(B):\n",
    "    if B.children:\n",
    "        return _minbtree(B.children[0])\n",
    "    return B.keys[0]\n",
    "    \n",
    "def minbtree(B):\n",
    "    if B is None:\n",
    "        raise Exception(\"B-Tree is empty.\")\n",
    "    return _minbtree(B)"
   ]
  },
  {
   "cell_type": "code",
   "execution_count": 15,
   "metadata": {},
   "outputs": [
    {
     "data": {
      "text/plain": [
       "8"
      ]
     },
     "execution_count": 15,
     "metadata": {},
     "output_type": "execute_result"
    }
   ],
   "source": [
    "minbtree(Dummy)"
   ]
  },
  {
   "cell_type": "code",
   "execution_count": 16,
   "metadata": {},
   "outputs": [],
   "source": [
    "def bmax(B):\n",
    "    if B is None:\n",
    "        raise Exception(\"B-Tree is empty.\")\n",
    "    while B.children:\n",
    "        B = B.children[-1]\n",
    "    return B.keys[-1]"
   ]
  },
  {
   "cell_type": "code",
   "execution_count": 17,
   "metadata": {},
   "outputs": [
    {
     "data": {
      "text/plain": [
       "48"
      ]
     },
     "execution_count": 17,
     "metadata": {},
     "output_type": "execute_result"
    }
   ],
   "source": [
    "bmax(Dummy)"
   ]
  },
  {
   "cell_type": "code",
   "execution_count": 18,
   "metadata": {},
   "outputs": [],
   "source": [
    "def _maxbtree(B):\n",
    "    if B.children:\n",
    "        return _maxbtree(B.children[-1])\n",
    "    return B.keys[-1]\n",
    "    \n",
    "def maxbtree(B):\n",
    "    if B is None:\n",
    "        raise Exception(\"B-Tree is empty.\")\n",
    "    return _maxbtree(B)"
   ]
  },
  {
   "cell_type": "code",
   "execution_count": 19,
   "metadata": {},
   "outputs": [
    {
     "data": {
      "text/plain": [
       "48"
      ]
     },
     "execution_count": 19,
     "metadata": {},
     "output_type": "execute_result"
    }
   ],
   "source": [
    "maxbtree(Dummy)"
   ]
  },
  {
   "cell_type": "markdown",
   "metadata": {
    "collapsed": true
   },
   "source": [
    "## Exercice 2.2 : Search\n",
    "\n",
    "A fonction searches for an element in a B-tree. It returns `(N, i)` if the element is key of node `N` at position `i` otherwise it returns `(N, i)` where `N` is the node element is supposed to be in at position `i`."
   ]
  },
  {
   "cell_type": "markdown",
   "metadata": {},
   "source": [
    "First the iterative version of binary search on a sorted list."
   ]
  },
  {
   "cell_type": "code",
   "execution_count": 20,
   "metadata": {},
   "outputs": [],
   "source": [
    "def ksearch(L, x):\n",
    "    l, h = 0, len(L)\n",
    "    while l < h:\n",
    "        mid = (h + l) // 2\n",
    "        # print(\"{} id in between [{}, {}]\".format(mid, l, h))\n",
    "        if L[mid] == x:\n",
    "            return mid\n",
    "        else:\n",
    "            if L[mid] > x:\n",
    "                h = mid\n",
    "            else:\n",
    "                l = mid + 1\n",
    "    return l"
   ]
  },
  {
   "cell_type": "code",
   "execution_count": 21,
   "metadata": {},
   "outputs": [
    {
     "data": {
      "text/plain": [
       "8"
      ]
     },
     "execution_count": 21,
     "metadata": {},
     "output_type": "execute_result"
    }
   ],
   "source": [
    "L = [1, 2, 4, 5, 12, 23, 45, 90]\n",
    "ksearch(L, 100)"
   ]
  },
  {
   "cell_type": "code",
   "execution_count": 22,
   "metadata": {},
   "outputs": [
    {
     "ename": "IndexError",
     "evalue": "list index out of range",
     "output_type": "error",
     "traceback": [
      "\u001b[0;31m---------------------------------------------------------------------------\u001b[0m",
      "\u001b[0;31mIndexError\u001b[0m                                Traceback (most recent call last)",
      "\u001b[0;32m<ipython-input-22-c156c3698ea4>\u001b[0m in \u001b[0;36m<module>\u001b[0;34m()\u001b[0m\n\u001b[0;32m----> 1\u001b[0;31m \u001b[0mL\u001b[0m\u001b[0;34m[\u001b[0m\u001b[0;36m8\u001b[0m\u001b[0;34m]\u001b[0m\u001b[0;34m\u001b[0m\u001b[0m\n\u001b[0m",
      "\u001b[0;31mIndexError\u001b[0m: list index out of range"
     ]
    }
   ],
   "source": [
    "L[8]"
   ]
  },
  {
   "cell_type": "code",
   "execution_count": 23,
   "metadata": {},
   "outputs": [],
   "source": [
    "def bsearch(B, x):\n",
    "    i = ksearch(B.keys, x)\n",
    "    if i < B.nbkeys and B.keys[i] == x:\n",
    "        return B, i\n",
    "    else:\n",
    "        if not B.children:\n",
    "            return None\n",
    "        else:\n",
    "            return bsearch(B.children[i], x)"
   ]
  },
  {
   "cell_type": "code",
   "execution_count": 24,
   "metadata": {},
   "outputs": [
    {
     "data": {
      "text/plain": [
       "(<__main__.B24 at 0x111fd9a20>, 1)"
      ]
     },
     "execution_count": 24,
     "metadata": {},
     "output_type": "execute_result"
    }
   ],
   "source": [
    "bsearch(Dummy, 48)"
   ]
  },
  {
   "cell_type": "markdown",
   "metadata": {
    "collapsed": true
   },
   "source": [
    "## Exercice 2.3 : Insert a New Element (Classical Approach)\n",
    "\n",
    "\n",
    "### 1.a. Where can we insert an element in a B-tree while preserving its properties?\n",
    "\n",
    "We insert at leaves.\n",
    "\n",
    "### 1.b. What issues does it raise?\n",
    "\n",
    "Can't insert if leaf is full.\n",
    "\n",
    "### 1.c. What transformations can be done to solve theses issues? When are such transformations possible?\n",
    "\n",
    "Splitting!\n",
    "\n",
    "### 1.d. Write the insert function in case the parent is not filled and current node is not root."
   ]
  },
  {
   "cell_type": "code",
   "execution_count": 25,
   "metadata": {},
   "outputs": [],
   "source": [
    "def bsplit(A, i):\n",
    "    \"\"\"Split child i of node\n",
    "    \n",
    "    Splitting full child i of A assuming A has enough room \n",
    "    for median element\n",
    "    \n",
    "    \"\"\"\n",
    "    t = A.degree\n",
    "    class BTree_t(BTree):\n",
    "        degree = t \n",
    "    L, R = A.children[i], BTree_t()\n",
    "    # Popping mid key in the list of keys of A\n",
    "    A.keys.insert(i, L.keys.pop(t-1))\n",
    "    # Updating list of children and keys of L and R\n",
    "    L.keys, R.keys = L.keys[:t-1], L.keys[t-1:]\n",
    "    L.children, R.children = L.children[:t], L.children[t:]\n",
    "    # Linking R to the rest of the B-Tree\n",
    "    A.children.insert(i+1, R)"
   ]
  },
  {
   "cell_type": "code",
   "execution_count": 26,
   "metadata": {},
   "outputs": [],
   "source": [
    "subDummy = B24([15],[B24([8, 12]), B24([18, 19, 20])])"
   ]
  },
  {
   "cell_type": "code",
   "execution_count": 27,
   "metadata": {},
   "outputs": [
    {
     "data": {
      "image/svg+xml": [
       "<svg height=\"118pt\" viewBox=\"0.00 0.00 170.00 118.00\" width=\"170pt\" xmlns=\"http://www.w3.org/2000/svg\" xmlns:xlink=\"http://www.w3.org/1999/xlink\">\n",
       "<g class=\"graph\" id=\"graph0\" transform=\"scale(1 1) rotate(0) translate(4 114)\">\n",
       "<title>temp</title>\n",
       "<polygon fill=\"#ffffff\" points=\"-4,4 -4,-114 166,-114 166,4 -4,4\" stroke=\"transparent\"/>\n",
       "<!-- 4598305064 -->\n",
       "<g class=\"node\" id=\"node1\">\n",
       "<title>4598305064</title>\n",
       "<path d=\"M57,-73.5C57,-73.5 87,-73.5 87,-73.5 93,-73.5 99,-79.5 99,-85.5 99,-85.5 99,-97.5 99,-97.5 99,-103.5 93,-109.5 87,-109.5 87,-109.5 57,-109.5 57,-109.5 51,-109.5 45,-103.5 45,-97.5 45,-97.5 45,-85.5 45,-85.5 45,-79.5 51,-73.5 57,-73.5\" fill=\"none\" stroke=\"#000000\"/>\n",
       "<text fill=\"#000000\" font-family=\"Times,serif\" font-size=\"14.00\" text-anchor=\"middle\" x=\"72\" y=\"-87.3\">15</text>\n",
       "</g>\n",
       "<!-- 4597773368 -->\n",
       "<g class=\"node\" id=\"node2\">\n",
       "<title>4597773368</title>\n",
       "<path d=\"M12,-.5C12,-.5 42,-.5 42,-.5 48,-.5 54,-6.5 54,-12.5 54,-12.5 54,-24.5 54,-24.5 54,-30.5 48,-36.5 42,-36.5 42,-36.5 12,-36.5 12,-36.5 6,-36.5 0,-30.5 0,-24.5 0,-24.5 0,-12.5 0,-12.5 0,-6.5 6,-.5 12,-.5\" fill=\"none\" stroke=\"#000000\"/>\n",
       "<text fill=\"#000000\" font-family=\"Times,serif\" font-size=\"14.00\" text-anchor=\"middle\" x=\"11.5\" y=\"-14.3\">8</text>\n",
       "<polyline fill=\"none\" points=\"23,-.5 23,-36.5 \" stroke=\"#000000\"/>\n",
       "<text fill=\"#000000\" font-family=\"Times,serif\" font-size=\"14.00\" text-anchor=\"middle\" x=\"38.5\" y=\"-14.3\">12</text>\n",
       "</g>\n",
       "<!-- 4598305064&#45;&#45;4597773368 -->\n",
       "<g class=\"edge\" id=\"edge1\">\n",
       "<title>4598305064--4597773368</title>\n",
       "<path d=\"M60.8764,-73.4551C53.9532,-62.2241 45.08,-47.8298 38.1516,-36.5904\" fill=\"none\" stroke=\"#000000\"/>\n",
       "</g>\n",
       "<!-- 4598304952 -->\n",
       "<g class=\"node\" id=\"node3\">\n",
       "<title>4598304952</title>\n",
       "<path d=\"M84,-.5C84,-.5 150,-.5 150,-.5 156,-.5 162,-6.5 162,-12.5 162,-12.5 162,-24.5 162,-24.5 162,-30.5 156,-36.5 150,-36.5 150,-36.5 84,-36.5 84,-36.5 78,-36.5 72,-30.5 72,-24.5 72,-24.5 72,-12.5 72,-12.5 72,-6.5 78,-.5 84,-.5\" fill=\"none\" stroke=\"#000000\"/>\n",
       "<text fill=\"#000000\" font-family=\"Times,serif\" font-size=\"14.00\" text-anchor=\"middle\" x=\"87\" y=\"-14.3\">18</text>\n",
       "<polyline fill=\"none\" points=\"102,-.5 102,-36.5 \" stroke=\"#000000\"/>\n",
       "<text fill=\"#000000\" font-family=\"Times,serif\" font-size=\"14.00\" text-anchor=\"middle\" x=\"117\" y=\"-14.3\">19</text>\n",
       "<polyline fill=\"none\" points=\"132,-.5 132,-36.5 \" stroke=\"#000000\"/>\n",
       "<text fill=\"#000000\" font-family=\"Times,serif\" font-size=\"14.00\" text-anchor=\"middle\" x=\"147\" y=\"-14.3\">20</text>\n",
       "</g>\n",
       "<!-- 4598305064&#45;&#45;4598304952 -->\n",
       "<g class=\"edge\" id=\"edge2\">\n",
       "<title>4598305064--4598304952</title>\n",
       "<path d=\"M83.1236,-73.4551C90.0468,-62.2241 98.92,-47.8298 105.8484,-36.5904\" fill=\"none\" stroke=\"#000000\"/>\n",
       "</g>\n",
       "</g>\n",
       "</svg>"
      ],
      "text/plain": [
       "<IPython.core.display.SVG object>"
      ]
     },
     "execution_count": 27,
     "metadata": {},
     "output_type": "execute_result"
    }
   ],
   "source": [
    "btree.display(subDummy)"
   ]
  },
  {
   "cell_type": "code",
   "execution_count": 28,
   "metadata": {},
   "outputs": [],
   "source": [
    "bsplit(subDummy, 1)"
   ]
  },
  {
   "cell_type": "code",
   "execution_count": 29,
   "metadata": {},
   "outputs": [
    {
     "data": {
      "image/svg+xml": [
       "<svg height=\"118pt\" viewBox=\"0.00 0.00 206.00 118.00\" width=\"206pt\" xmlns=\"http://www.w3.org/2000/svg\" xmlns:xlink=\"http://www.w3.org/1999/xlink\">\n",
       "<g class=\"graph\" id=\"graph0\" transform=\"scale(1 1) rotate(0) translate(4 114)\">\n",
       "<title>temp</title>\n",
       "<polygon fill=\"#ffffff\" points=\"-4,4 -4,-114 202,-114 202,4 -4,4\" stroke=\"transparent\"/>\n",
       "<!-- 4598305064 -->\n",
       "<g class=\"node\" id=\"node1\">\n",
       "<title>4598305064</title>\n",
       "<path d=\"M81,-73.5C81,-73.5 117,-73.5 117,-73.5 123,-73.5 129,-79.5 129,-85.5 129,-85.5 129,-97.5 129,-97.5 129,-103.5 123,-109.5 117,-109.5 117,-109.5 81,-109.5 81,-109.5 75,-109.5 69,-103.5 69,-97.5 69,-97.5 69,-85.5 69,-85.5 69,-79.5 75,-73.5 81,-73.5\" fill=\"none\" stroke=\"#000000\"/>\n",
       "<text fill=\"#000000\" font-family=\"Times,serif\" font-size=\"14.00\" text-anchor=\"middle\" x=\"84\" y=\"-87.3\">15</text>\n",
       "<polyline fill=\"none\" points=\"99,-73.5 99,-109.5 \" stroke=\"#000000\"/>\n",
       "<text fill=\"#000000\" font-family=\"Times,serif\" font-size=\"14.00\" text-anchor=\"middle\" x=\"114\" y=\"-87.3\">19</text>\n",
       "</g>\n",
       "<!-- 4597773368 -->\n",
       "<g class=\"node\" id=\"node2\">\n",
       "<title>4597773368</title>\n",
       "<path d=\"M12,-.5C12,-.5 42,-.5 42,-.5 48,-.5 54,-6.5 54,-12.5 54,-12.5 54,-24.5 54,-24.5 54,-30.5 48,-36.5 42,-36.5 42,-36.5 12,-36.5 12,-36.5 6,-36.5 0,-30.5 0,-24.5 0,-24.5 0,-12.5 0,-12.5 0,-6.5 6,-.5 12,-.5\" fill=\"none\" stroke=\"#000000\"/>\n",
       "<text fill=\"#000000\" font-family=\"Times,serif\" font-size=\"14.00\" text-anchor=\"middle\" x=\"11.5\" y=\"-14.3\">8</text>\n",
       "<polyline fill=\"none\" points=\"23,-.5 23,-36.5 \" stroke=\"#000000\"/>\n",
       "<text fill=\"#000000\" font-family=\"Times,serif\" font-size=\"14.00\" text-anchor=\"middle\" x=\"38.5\" y=\"-14.3\">12</text>\n",
       "</g>\n",
       "<!-- 4598305064&#45;&#45;4597773368 -->\n",
       "<g class=\"edge\" id=\"edge1\">\n",
       "<title>4598305064--4597773368</title>\n",
       "<path d=\"M81.2022,-73.4551C70.1252,-62.2241 55.928,-47.8298 44.8425,-36.5904\" fill=\"none\" stroke=\"#000000\"/>\n",
       "</g>\n",
       "<!-- 4598304952 -->\n",
       "<g class=\"node\" id=\"node3\">\n",
       "<title>4598304952</title>\n",
       "<path d=\"M84,-.5C84,-.5 114,-.5 114,-.5 120,-.5 126,-6.5 126,-12.5 126,-12.5 126,-24.5 126,-24.5 126,-30.5 120,-36.5 114,-36.5 114,-36.5 84,-36.5 84,-36.5 78,-36.5 72,-30.5 72,-24.5 72,-24.5 72,-12.5 72,-12.5 72,-6.5 78,-.5 84,-.5\" fill=\"none\" stroke=\"#000000\"/>\n",
       "<text fill=\"#000000\" font-family=\"Times,serif\" font-size=\"14.00\" text-anchor=\"middle\" x=\"99\" y=\"-14.3\">18</text>\n",
       "</g>\n",
       "<!-- 4598305064&#45;&#45;4598304952 -->\n",
       "<g class=\"edge\" id=\"edge2\">\n",
       "<title>4598305064--4598304952</title>\n",
       "<path d=\"M99,-73.4551C99,-62.2241 99,-47.8298 99,-36.5904\" fill=\"none\" stroke=\"#000000\"/>\n",
       "</g>\n",
       "<!-- 4598364144 -->\n",
       "<g class=\"node\" id=\"node4\">\n",
       "<title>4598364144</title>\n",
       "<path d=\"M156,-.5C156,-.5 186,-.5 186,-.5 192,-.5 198,-6.5 198,-12.5 198,-12.5 198,-24.5 198,-24.5 198,-30.5 192,-36.5 186,-36.5 186,-36.5 156,-36.5 156,-36.5 150,-36.5 144,-30.5 144,-24.5 144,-24.5 144,-12.5 144,-12.5 144,-6.5 150,-.5 156,-.5\" fill=\"none\" stroke=\"#000000\"/>\n",
       "<text fill=\"#000000\" font-family=\"Times,serif\" font-size=\"14.00\" text-anchor=\"middle\" x=\"171\" y=\"-14.3\">20</text>\n",
       "</g>\n",
       "<!-- 4598305064&#45;&#45;4598364144 -->\n",
       "<g class=\"edge\" id=\"edge3\">\n",
       "<title>4598305064--4598364144</title>\n",
       "<path d=\"M116.7978,-73.4551C127.8748,-62.2241 142.072,-47.8298 153.1575,-36.5904\" fill=\"none\" stroke=\"#000000\"/>\n",
       "</g>\n",
       "</g>\n",
       "</svg>"
      ],
      "text/plain": [
       "<IPython.core.display.SVG object>"
      ]
     },
     "execution_count": 29,
     "metadata": {},
     "output_type": "execute_result"
    }
   ],
   "source": [
    "btree.display(subDummy)"
   ]
  },
  {
   "cell_type": "markdown",
   "metadata": {},
   "source": [
    "### 2. Write insertion function in a B-tree while following precautionary principle.\n"
   ]
  },
  {
   "cell_type": "code",
   "execution_count": 30,
   "metadata": {},
   "outputs": [],
   "source": [
    "def _binsert(A, x, t):\n",
    "    i = ksearch(A.keys, x)\n",
    "    if i == A.nbkeys or A.keys[i] != x:\n",
    "        if not A.children:\n",
    "            A.keys.insert(i, x)\n",
    "        else:\n",
    "            if A.children[i].nbkeys == 2*t - 1:\n",
    "                bsplit(A, i)\n",
    "                if A.keys[i] < x:\n",
    "                    _binsert(A.children[i+1], x, t)\n",
    "                elif A.keys[i] > x:\n",
    "                    _binsert(A.children[i], x, t)\n",
    "            else:\n",
    "                _binsert(A.children[i], x, t)\n",
    "\n",
    "def binsert(A, x, t): #Giving degree, needed when A is none.\n",
    "    # Bad coding style\n",
    "    class BTree_t(BTree):\n",
    "        degree = t\n",
    "    if not A:\n",
    "        A = BTree_t([x])\n",
    "    elif A.nbkeys == 2*t - 1:\n",
    "        A = BTree_t([], [A])\n",
    "        bsplit(A, 0)\n",
    "        _binsert(A, x, t)\n",
    "    else:\n",
    "        _binsert(A, x, t)\n",
    "    return A"
   ]
  },
  {
   "cell_type": "code",
   "execution_count": 31,
   "metadata": {},
   "outputs": [
    {
     "data": {
      "image/svg+xml": [
       "<svg height=\"191pt\" viewBox=\"0.00 0.00 476.00 191.00\" width=\"476pt\" xmlns=\"http://www.w3.org/2000/svg\" xmlns:xlink=\"http://www.w3.org/1999/xlink\">\n",
       "<g class=\"graph\" id=\"graph0\" transform=\"scale(1 1) rotate(0) translate(4 187)\">\n",
       "<title>temp</title>\n",
       "<polygon fill=\"#ffffff\" points=\"-4,4 -4,-187 472,-187 472,4 -4,4\" stroke=\"transparent\"/>\n",
       "<!-- 4596800144 -->\n",
       "<g class=\"node\" id=\"node1\">\n",
       "<title>4596800144</title>\n",
       "<path d=\"M186,-146.5C186,-146.5 216,-146.5 216,-146.5 222,-146.5 228,-152.5 228,-158.5 228,-158.5 228,-170.5 228,-170.5 228,-176.5 222,-182.5 216,-182.5 216,-182.5 186,-182.5 186,-182.5 180,-182.5 174,-176.5 174,-170.5 174,-170.5 174,-158.5 174,-158.5 174,-152.5 180,-146.5 186,-146.5\" fill=\"none\" stroke=\"#000000\"/>\n",
       "<text fill=\"#000000\" font-family=\"Times,serif\" font-size=\"14.00\" text-anchor=\"middle\" x=\"201\" y=\"-160.3\">22</text>\n",
       "</g>\n",
       "<!-- 4596799864 -->\n",
       "<g class=\"node\" id=\"node2\">\n",
       "<title>4596799864</title>\n",
       "<path d=\"M102,-73.5C102,-73.5 132,-73.5 132,-73.5 138,-73.5 144,-79.5 144,-85.5 144,-85.5 144,-97.5 144,-97.5 144,-103.5 138,-109.5 132,-109.5 132,-109.5 102,-109.5 102,-109.5 96,-109.5 90,-103.5 90,-97.5 90,-97.5 90,-85.5 90,-85.5 90,-79.5 96,-73.5 102,-73.5\" fill=\"none\" stroke=\"#000000\"/>\n",
       "<text fill=\"#000000\" font-family=\"Times,serif\" font-size=\"14.00\" text-anchor=\"middle\" x=\"117\" y=\"-87.3\">15</text>\n",
       "</g>\n",
       "<!-- 4596800144&#45;&#45;4596799864 -->\n",
       "<g class=\"edge\" id=\"edge1\">\n",
       "<title>4596800144--4596799864</title>\n",
       "<path d=\"M180.2359,-146.4551C167.3127,-135.2241 150.7493,-120.8298 137.8163,-109.5904\" fill=\"none\" stroke=\"#000000\"/>\n",
       "</g>\n",
       "<!-- 4596800088 -->\n",
       "<g class=\"node\" id=\"node3\">\n",
       "<title>4596800088</title>\n",
       "<path d=\"M252,-73.5C252,-73.5 318,-73.5 318,-73.5 324,-73.5 330,-79.5 330,-85.5 330,-85.5 330,-97.5 330,-97.5 330,-103.5 324,-109.5 318,-109.5 318,-109.5 252,-109.5 252,-109.5 246,-109.5 240,-103.5 240,-97.5 240,-97.5 240,-85.5 240,-85.5 240,-79.5 246,-73.5 252,-73.5\" fill=\"none\" stroke=\"#000000\"/>\n",
       "<text fill=\"#000000\" font-family=\"Times,serif\" font-size=\"14.00\" text-anchor=\"middle\" x=\"255\" y=\"-87.3\">27</text>\n",
       "<polyline fill=\"none\" points=\"270,-73.5 270,-109.5 \" stroke=\"#000000\"/>\n",
       "<text fill=\"#000000\" font-family=\"Times,serif\" font-size=\"14.00\" text-anchor=\"middle\" x=\"285\" y=\"-87.3\">35</text>\n",
       "<polyline fill=\"none\" points=\"300,-73.5 300,-109.5 \" stroke=\"#000000\"/>\n",
       "<text fill=\"#000000\" font-family=\"Times,serif\" font-size=\"14.00\" text-anchor=\"middle\" x=\"315\" y=\"-87.3\">41</text>\n",
       "</g>\n",
       "<!-- 4596800144&#45;&#45;4596800088 -->\n",
       "<g class=\"edge\" id=\"edge2\">\n",
       "<title>4596800144--4596800088</title>\n",
       "<path d=\"M221.7641,-146.4551C234.6873,-135.2241 251.2507,-120.8298 264.1837,-109.5904\" fill=\"none\" stroke=\"#000000\"/>\n",
       "</g>\n",
       "<!-- 4596799752 -->\n",
       "<g class=\"node\" id=\"node4\">\n",
       "<title>4596799752</title>\n",
       "<path d=\"M12,-.5C12,-.5 42,-.5 42,-.5 48,-.5 54,-6.5 54,-12.5 54,-12.5 54,-24.5 54,-24.5 54,-30.5 48,-36.5 42,-36.5 42,-36.5 12,-36.5 12,-36.5 6,-36.5 0,-30.5 0,-24.5 0,-24.5 0,-12.5 0,-12.5 0,-6.5 6,-.5 12,-.5\" fill=\"none\" stroke=\"#000000\"/>\n",
       "<text fill=\"#000000\" font-family=\"Times,serif\" font-size=\"14.00\" text-anchor=\"middle\" x=\"11.5\" y=\"-14.3\">8</text>\n",
       "<polyline fill=\"none\" points=\"23,-.5 23,-36.5 \" stroke=\"#000000\"/>\n",
       "<text fill=\"#000000\" font-family=\"Times,serif\" font-size=\"14.00\" text-anchor=\"middle\" x=\"38.5\" y=\"-14.3\">12</text>\n",
       "</g>\n",
       "<!-- 4596799864&#45;&#45;4596799752 -->\n",
       "<g class=\"edge\" id=\"edge3\">\n",
       "<title>4596799864--4596799752</title>\n",
       "<path d=\"M94.7528,-73.4551C80.9065,-62.2241 63.16,-47.8298 49.3032,-36.5904\" fill=\"none\" stroke=\"#000000\"/>\n",
       "</g>\n",
       "<!-- 4596799808 -->\n",
       "<g class=\"node\" id=\"node5\">\n",
       "<title>4596799808</title>\n",
       "<path d=\"M84,-.5C84,-.5 150,-.5 150,-.5 156,-.5 162,-6.5 162,-12.5 162,-12.5 162,-24.5 162,-24.5 162,-30.5 156,-36.5 150,-36.5 150,-36.5 84,-36.5 84,-36.5 78,-36.5 72,-30.5 72,-24.5 72,-24.5 72,-12.5 72,-12.5 72,-6.5 78,-.5 84,-.5\" fill=\"none\" stroke=\"#000000\"/>\n",
       "<text fill=\"#000000\" font-family=\"Times,serif\" font-size=\"14.00\" text-anchor=\"middle\" x=\"87\" y=\"-14.3\">18</text>\n",
       "<polyline fill=\"none\" points=\"102,-.5 102,-36.5 \" stroke=\"#000000\"/>\n",
       "<text fill=\"#000000\" font-family=\"Times,serif\" font-size=\"14.00\" text-anchor=\"middle\" x=\"117\" y=\"-14.3\">19</text>\n",
       "<polyline fill=\"none\" points=\"132,-.5 132,-36.5 \" stroke=\"#000000\"/>\n",
       "<text fill=\"#000000\" font-family=\"Times,serif\" font-size=\"14.00\" text-anchor=\"middle\" x=\"147\" y=\"-14.3\">20</text>\n",
       "</g>\n",
       "<!-- 4596799864&#45;&#45;4596799808 -->\n",
       "<g class=\"edge\" id=\"edge4\">\n",
       "<title>4596799864--4596799808</title>\n",
       "<path d=\"M117,-73.4551C117,-62.2241 117,-47.8298 117,-36.5904\" fill=\"none\" stroke=\"#000000\"/>\n",
       "</g>\n",
       "<!-- 4596799920 -->\n",
       "<g class=\"node\" id=\"node6\">\n",
       "<title>4596799920</title>\n",
       "<path d=\"M192,-.5C192,-.5 228,-.5 228,-.5 234,-.5 240,-6.5 240,-12.5 240,-12.5 240,-24.5 240,-24.5 240,-30.5 234,-36.5 228,-36.5 228,-36.5 192,-36.5 192,-36.5 186,-36.5 180,-30.5 180,-24.5 180,-24.5 180,-12.5 180,-12.5 180,-6.5 186,-.5 192,-.5\" fill=\"none\" stroke=\"#000000\"/>\n",
       "<text fill=\"#000000\" font-family=\"Times,serif\" font-size=\"14.00\" text-anchor=\"middle\" x=\"195\" y=\"-14.3\">24</text>\n",
       "<polyline fill=\"none\" points=\"210,-.5 210,-36.5 \" stroke=\"#000000\"/>\n",
       "<text fill=\"#000000\" font-family=\"Times,serif\" font-size=\"14.00\" text-anchor=\"middle\" x=\"225\" y=\"-14.3\">25</text>\n",
       "</g>\n",
       "<!-- 4596800088&#45;&#45;4596799920 -->\n",
       "<g class=\"edge\" id=\"edge5\">\n",
       "<title>4596800088--4596799920</title>\n",
       "<path d=\"M266.4607,-73.4551C254.9221,-62.2241 240.1333,-47.8298 228.586,-36.5904\" fill=\"none\" stroke=\"#000000\"/>\n",
       "</g>\n",
       "<!-- 4596799976 -->\n",
       "<g class=\"node\" id=\"node7\">\n",
       "<title>4596799976</title>\n",
       "<path d=\"M270,-.5C270,-.5 300,-.5 300,-.5 306,-.5 312,-6.5 312,-12.5 312,-12.5 312,-24.5 312,-24.5 312,-30.5 306,-36.5 300,-36.5 300,-36.5 270,-36.5 270,-36.5 264,-36.5 258,-30.5 258,-24.5 258,-24.5 258,-12.5 258,-12.5 258,-6.5 264,-.5 270,-.5\" fill=\"none\" stroke=\"#000000\"/>\n",
       "<text fill=\"#000000\" font-family=\"Times,serif\" font-size=\"14.00\" text-anchor=\"middle\" x=\"285\" y=\"-14.3\">30</text>\n",
       "</g>\n",
       "<!-- 4596800088&#45;&#45;4596799976 -->\n",
       "<g class=\"edge\" id=\"edge6\">\n",
       "<title>4596800088--4596799976</title>\n",
       "<path d=\"M285,-73.4551C285,-62.2241 285,-47.8298 285,-36.5904\" fill=\"none\" stroke=\"#000000\"/>\n",
       "</g>\n",
       "<!-- 4598362464 -->\n",
       "<g class=\"node\" id=\"node8\">\n",
       "<title>4598362464</title>\n",
       "<path d=\"M342,-.5C342,-.5 378,-.5 378,-.5 384,-.5 390,-6.5 390,-12.5 390,-12.5 390,-24.5 390,-24.5 390,-30.5 384,-36.5 378,-36.5 378,-36.5 342,-36.5 342,-36.5 336,-36.5 330,-30.5 330,-24.5 330,-24.5 330,-12.5 330,-12.5 330,-6.5 336,-.5 342,-.5\" fill=\"none\" stroke=\"#000000\"/>\n",
       "<text fill=\"#000000\" font-family=\"Times,serif\" font-size=\"14.00\" text-anchor=\"middle\" x=\"345\" y=\"-14.3\">36</text>\n",
       "<polyline fill=\"none\" points=\"360,-.5 360,-36.5 \" stroke=\"#000000\"/>\n",
       "<text fill=\"#000000\" font-family=\"Times,serif\" font-size=\"14.00\" text-anchor=\"middle\" x=\"375\" y=\"-14.3\">38</text>\n",
       "</g>\n",
       "<!-- 4596800088&#45;&#45;4598362464 -->\n",
       "<g class=\"edge\" id=\"edge7\">\n",
       "<title>4596800088--4598362464</title>\n",
       "<path d=\"M303.5393,-73.4551C315.0779,-62.2241 329.8667,-47.8298 341.414,-36.5904\" fill=\"none\" stroke=\"#000000\"/>\n",
       "</g>\n",
       "<!-- 4596800032 -->\n",
       "<g class=\"node\" id=\"node9\">\n",
       "<title>4596800032</title>\n",
       "<path d=\"M420,-.5C420,-.5 456,-.5 456,-.5 462,-.5 468,-6.5 468,-12.5 468,-12.5 468,-24.5 468,-24.5 468,-30.5 462,-36.5 456,-36.5 456,-36.5 420,-36.5 420,-36.5 414,-36.5 408,-30.5 408,-24.5 408,-24.5 408,-12.5 408,-12.5 408,-6.5 414,-.5 420,-.5\" fill=\"none\" stroke=\"#000000\"/>\n",
       "<text fill=\"#000000\" font-family=\"Times,serif\" font-size=\"14.00\" text-anchor=\"middle\" x=\"423\" y=\"-14.3\">45</text>\n",
       "<polyline fill=\"none\" points=\"438,-.5 438,-36.5 \" stroke=\"#000000\"/>\n",
       "<text fill=\"#000000\" font-family=\"Times,serif\" font-size=\"14.00\" text-anchor=\"middle\" x=\"453\" y=\"-14.3\">48</text>\n",
       "</g>\n",
       "<!-- 4596800088&#45;&#45;4596800032 -->\n",
       "<g class=\"edge\" id=\"edge8\">\n",
       "<title>4596800088--4596800032</title>\n",
       "<path d=\"M322.8202,-73.4551C349.0137,-60.9575 383.4174,-44.5427 407.7835,-32.917\" fill=\"none\" stroke=\"#000000\"/>\n",
       "</g>\n",
       "</g>\n",
       "</svg>"
      ],
      "text/plain": [
       "<IPython.core.display.SVG object>"
      ]
     },
     "execution_count": 31,
     "metadata": {},
     "output_type": "execute_result"
    }
   ],
   "source": [
    "binsert(Dummy, 36, 2)\n",
    "btree.display(Dummy)"
   ]
  },
  {
   "cell_type": "code",
   "execution_count": 32,
   "metadata": {},
   "outputs": [
    {
     "data": {
      "image/svg+xml": [
       "<svg height=\"191pt\" viewBox=\"0.00 0.00 518.00 191.00\" width=\"518pt\" xmlns=\"http://www.w3.org/2000/svg\" xmlns:xlink=\"http://www.w3.org/1999/xlink\">\n",
       "<g class=\"graph\" id=\"graph0\" transform=\"scale(1 1) rotate(0) translate(4 187)\">\n",
       "<title>temp</title>\n",
       "<polygon fill=\"#ffffff\" points=\"-4,4 -4,-187 514,-187 514,4 -4,4\" stroke=\"transparent\"/>\n",
       "<!-- 4596800144 -->\n",
       "<g class=\"node\" id=\"node1\">\n",
       "<title>4596800144</title>\n",
       "<path d=\"M235,-146.5C235,-146.5 265,-146.5 265,-146.5 271,-146.5 277,-152.5 277,-158.5 277,-158.5 277,-170.5 277,-170.5 277,-176.5 271,-182.5 265,-182.5 265,-182.5 235,-182.5 235,-182.5 229,-182.5 223,-176.5 223,-170.5 223,-170.5 223,-158.5 223,-158.5 223,-152.5 229,-146.5 235,-146.5\" fill=\"none\" stroke=\"#000000\"/>\n",
       "<text fill=\"#000000\" font-family=\"Times,serif\" font-size=\"14.00\" text-anchor=\"middle\" x=\"250\" y=\"-160.3\">22</text>\n",
       "</g>\n",
       "<!-- 4596799864 -->\n",
       "<g class=\"node\" id=\"node2\">\n",
       "<title>4596799864</title>\n",
       "<path d=\"M118,-73.5C118,-73.5 154,-73.5 154,-73.5 160,-73.5 166,-79.5 166,-85.5 166,-85.5 166,-97.5 166,-97.5 166,-103.5 160,-109.5 154,-109.5 154,-109.5 118,-109.5 118,-109.5 112,-109.5 106,-103.5 106,-97.5 106,-97.5 106,-85.5 106,-85.5 106,-79.5 112,-73.5 118,-73.5\" fill=\"none\" stroke=\"#000000\"/>\n",
       "<text fill=\"#000000\" font-family=\"Times,serif\" font-size=\"14.00\" text-anchor=\"middle\" x=\"121\" y=\"-87.3\">15</text>\n",
       "<polyline fill=\"none\" points=\"136,-73.5 136,-109.5 \" stroke=\"#000000\"/>\n",
       "<text fill=\"#000000\" font-family=\"Times,serif\" font-size=\"14.00\" text-anchor=\"middle\" x=\"151\" y=\"-87.3\">19</text>\n",
       "</g>\n",
       "<!-- 4596800144&#45;&#45;4596799864 -->\n",
       "<g class=\"edge\" id=\"edge1\">\n",
       "<title>4596800144--4596799864</title>\n",
       "<path d=\"M222.9836,-147.2C205.3378,-135.9005 182.3326,-121.1691 164.4133,-109.6945\" fill=\"none\" stroke=\"#000000\"/>\n",
       "</g>\n",
       "<!-- 4596800088 -->\n",
       "<g class=\"node\" id=\"node3\">\n",
       "<title>4596800088</title>\n",
       "<path d=\"M294,-73.5C294,-73.5 360,-73.5 360,-73.5 366,-73.5 372,-79.5 372,-85.5 372,-85.5 372,-97.5 372,-97.5 372,-103.5 366,-109.5 360,-109.5 360,-109.5 294,-109.5 294,-109.5 288,-109.5 282,-103.5 282,-97.5 282,-97.5 282,-85.5 282,-85.5 282,-79.5 288,-73.5 294,-73.5\" fill=\"none\" stroke=\"#000000\"/>\n",
       "<text fill=\"#000000\" font-family=\"Times,serif\" font-size=\"14.00\" text-anchor=\"middle\" x=\"297\" y=\"-87.3\">27</text>\n",
       "<polyline fill=\"none\" points=\"312,-73.5 312,-109.5 \" stroke=\"#000000\"/>\n",
       "<text fill=\"#000000\" font-family=\"Times,serif\" font-size=\"14.00\" text-anchor=\"middle\" x=\"327\" y=\"-87.3\">35</text>\n",
       "<polyline fill=\"none\" points=\"342,-73.5 342,-109.5 \" stroke=\"#000000\"/>\n",
       "<text fill=\"#000000\" font-family=\"Times,serif\" font-size=\"14.00\" text-anchor=\"middle\" x=\"357\" y=\"-87.3\">41</text>\n",
       "</g>\n",
       "<!-- 4596800144&#45;&#45;4596800088 -->\n",
       "<g class=\"edge\" id=\"edge2\">\n",
       "<title>4596800144--4596800088</title>\n",
       "<path d=\"M269.0337,-146.4551C280.88,-135.2241 296.0631,-120.8298 307.9184,-109.5904\" fill=\"none\" stroke=\"#000000\"/>\n",
       "</g>\n",
       "<!-- 4596799752 -->\n",
       "<g class=\"node\" id=\"node4\">\n",
       "<title>4596799752</title>\n",
       "<path d=\"M12,-.5C12,-.5 42,-.5 42,-.5 48,-.5 54,-6.5 54,-12.5 54,-12.5 54,-24.5 54,-24.5 54,-30.5 48,-36.5 42,-36.5 42,-36.5 12,-36.5 12,-36.5 6,-36.5 0,-30.5 0,-24.5 0,-24.5 0,-12.5 0,-12.5 0,-6.5 6,-.5 12,-.5\" fill=\"none\" stroke=\"#000000\"/>\n",
       "<text fill=\"#000000\" font-family=\"Times,serif\" font-size=\"14.00\" text-anchor=\"middle\" x=\"11.5\" y=\"-14.3\">8</text>\n",
       "<polyline fill=\"none\" points=\"23,-.5 23,-36.5 \" stroke=\"#000000\"/>\n",
       "<text fill=\"#000000\" font-family=\"Times,serif\" font-size=\"14.00\" text-anchor=\"middle\" x=\"38.5\" y=\"-14.3\">12</text>\n",
       "</g>\n",
       "<!-- 4596799864&#45;&#45;4596799752 -->\n",
       "<g class=\"edge\" id=\"edge3\">\n",
       "<title>4596799864--4596799752</title>\n",
       "<path d=\"M109.0562,-73.4551C92.2867,-62.2241 70.7938,-47.8298 54.0116,-36.5904\" fill=\"none\" stroke=\"#000000\"/>\n",
       "</g>\n",
       "<!-- 4596799808 -->\n",
       "<g class=\"node\" id=\"node5\">\n",
       "<title>4596799808</title>\n",
       "<path d=\"M84,-.5C84,-.5 114,-.5 114,-.5 120,-.5 126,-6.5 126,-12.5 126,-12.5 126,-24.5 126,-24.5 126,-30.5 120,-36.5 114,-36.5 114,-36.5 84,-36.5 84,-36.5 78,-36.5 72,-30.5 72,-24.5 72,-24.5 72,-12.5 72,-12.5 72,-6.5 78,-.5 84,-.5\" fill=\"none\" stroke=\"#000000\"/>\n",
       "<text fill=\"#000000\" font-family=\"Times,serif\" font-size=\"14.00\" text-anchor=\"middle\" x=\"99\" y=\"-14.3\">18</text>\n",
       "</g>\n",
       "<!-- 4596799864&#45;&#45;4596799808 -->\n",
       "<g class=\"edge\" id=\"edge4\">\n",
       "<title>4596799864--4596799808</title>\n",
       "<path d=\"M126.8539,-73.4551C121.1616,-62.2241 113.8658,-47.8298 108.1691,-36.5904\" fill=\"none\" stroke=\"#000000\"/>\n",
       "</g>\n",
       "<!-- 4598529832 -->\n",
       "<g class=\"node\" id=\"node6\">\n",
       "<title>4598529832</title>\n",
       "<path d=\"M156,-.5C156,-.5 192,-.5 192,-.5 198,-.5 204,-6.5 204,-12.5 204,-12.5 204,-24.5 204,-24.5 204,-30.5 198,-36.5 192,-36.5 192,-36.5 156,-36.5 156,-36.5 150,-36.5 144,-30.5 144,-24.5 144,-24.5 144,-12.5 144,-12.5 144,-6.5 150,-.5 156,-.5\" fill=\"none\" stroke=\"#000000\"/>\n",
       "<text fill=\"#000000\" font-family=\"Times,serif\" font-size=\"14.00\" text-anchor=\"middle\" x=\"159\" y=\"-14.3\">20</text>\n",
       "<polyline fill=\"none\" points=\"174,-.5 174,-36.5 \" stroke=\"#000000\"/>\n",
       "<text fill=\"#000000\" font-family=\"Times,serif\" font-size=\"14.00\" text-anchor=\"middle\" x=\"189\" y=\"-14.3\">21</text>\n",
       "</g>\n",
       "<!-- 4596799864&#45;&#45;4598529832 -->\n",
       "<g class=\"edge\" id=\"edge5\">\n",
       "<title>4596799864--4598529832</title>\n",
       "<path d=\"M145.3933,-73.4551C151.2395,-62.2241 158.7324,-47.8298 164.5831,-36.5904\" fill=\"none\" stroke=\"#000000\"/>\n",
       "</g>\n",
       "<!-- 4596799920 -->\n",
       "<g class=\"node\" id=\"node7\">\n",
       "<title>4596799920</title>\n",
       "<path d=\"M234,-.5C234,-.5 270,-.5 270,-.5 276,-.5 282,-6.5 282,-12.5 282,-12.5 282,-24.5 282,-24.5 282,-30.5 276,-36.5 270,-36.5 270,-36.5 234,-36.5 234,-36.5 228,-36.5 222,-30.5 222,-24.5 222,-24.5 222,-12.5 222,-12.5 222,-6.5 228,-.5 234,-.5\" fill=\"none\" stroke=\"#000000\"/>\n",
       "<text fill=\"#000000\" font-family=\"Times,serif\" font-size=\"14.00\" text-anchor=\"middle\" x=\"237\" y=\"-14.3\">24</text>\n",
       "<polyline fill=\"none\" points=\"252,-.5 252,-36.5 \" stroke=\"#000000\"/>\n",
       "<text fill=\"#000000\" font-family=\"Times,serif\" font-size=\"14.00\" text-anchor=\"middle\" x=\"267\" y=\"-14.3\">25</text>\n",
       "</g>\n",
       "<!-- 4596800088&#45;&#45;4596799920 -->\n",
       "<g class=\"edge\" id=\"edge6\">\n",
       "<title>4596800088--4596799920</title>\n",
       "<path d=\"M308.4607,-73.4551C296.9221,-62.2241 282.1333,-47.8298 270.586,-36.5904\" fill=\"none\" stroke=\"#000000\"/>\n",
       "</g>\n",
       "<!-- 4596799976 -->\n",
       "<g class=\"node\" id=\"node8\">\n",
       "<title>4596799976</title>\n",
       "<path d=\"M312,-.5C312,-.5 342,-.5 342,-.5 348,-.5 354,-6.5 354,-12.5 354,-12.5 354,-24.5 354,-24.5 354,-30.5 348,-36.5 342,-36.5 342,-36.5 312,-36.5 312,-36.5 306,-36.5 300,-30.5 300,-24.5 300,-24.5 300,-12.5 300,-12.5 300,-6.5 306,-.5 312,-.5\" fill=\"none\" stroke=\"#000000\"/>\n",
       "<text fill=\"#000000\" font-family=\"Times,serif\" font-size=\"14.00\" text-anchor=\"middle\" x=\"327\" y=\"-14.3\">30</text>\n",
       "</g>\n",
       "<!-- 4596800088&#45;&#45;4596799976 -->\n",
       "<g class=\"edge\" id=\"edge7\">\n",
       "<title>4596800088--4596799976</title>\n",
       "<path d=\"M327,-73.4551C327,-62.2241 327,-47.8298 327,-36.5904\" fill=\"none\" stroke=\"#000000\"/>\n",
       "</g>\n",
       "<!-- 4598362464 -->\n",
       "<g class=\"node\" id=\"node9\">\n",
       "<title>4598362464</title>\n",
       "<path d=\"M384,-.5C384,-.5 420,-.5 420,-.5 426,-.5 432,-6.5 432,-12.5 432,-12.5 432,-24.5 432,-24.5 432,-30.5 426,-36.5 420,-36.5 420,-36.5 384,-36.5 384,-36.5 378,-36.5 372,-30.5 372,-24.5 372,-24.5 372,-12.5 372,-12.5 372,-6.5 378,-.5 384,-.5\" fill=\"none\" stroke=\"#000000\"/>\n",
       "<text fill=\"#000000\" font-family=\"Times,serif\" font-size=\"14.00\" text-anchor=\"middle\" x=\"387\" y=\"-14.3\">36</text>\n",
       "<polyline fill=\"none\" points=\"402,-.5 402,-36.5 \" stroke=\"#000000\"/>\n",
       "<text fill=\"#000000\" font-family=\"Times,serif\" font-size=\"14.00\" text-anchor=\"middle\" x=\"417\" y=\"-14.3\">38</text>\n",
       "</g>\n",
       "<!-- 4596800088&#45;&#45;4598362464 -->\n",
       "<g class=\"edge\" id=\"edge8\">\n",
       "<title>4596800088--4598362464</title>\n",
       "<path d=\"M345.5393,-73.4551C357.0779,-62.2241 371.8667,-47.8298 383.414,-36.5904\" fill=\"none\" stroke=\"#000000\"/>\n",
       "</g>\n",
       "<!-- 4596800032 -->\n",
       "<g class=\"node\" id=\"node10\">\n",
       "<title>4596800032</title>\n",
       "<path d=\"M462,-.5C462,-.5 498,-.5 498,-.5 504,-.5 510,-6.5 510,-12.5 510,-12.5 510,-24.5 510,-24.5 510,-30.5 504,-36.5 498,-36.5 498,-36.5 462,-36.5 462,-36.5 456,-36.5 450,-30.5 450,-24.5 450,-24.5 450,-12.5 450,-12.5 450,-6.5 456,-.5 462,-.5\" fill=\"none\" stroke=\"#000000\"/>\n",
       "<text fill=\"#000000\" font-family=\"Times,serif\" font-size=\"14.00\" text-anchor=\"middle\" x=\"465\" y=\"-14.3\">45</text>\n",
       "<polyline fill=\"none\" points=\"480,-.5 480,-36.5 \" stroke=\"#000000\"/>\n",
       "<text fill=\"#000000\" font-family=\"Times,serif\" font-size=\"14.00\" text-anchor=\"middle\" x=\"495\" y=\"-14.3\">48</text>\n",
       "</g>\n",
       "<!-- 4596800088&#45;&#45;4596800032 -->\n",
       "<g class=\"edge\" id=\"edge9\">\n",
       "<title>4596800088--4596800032</title>\n",
       "<path d=\"M364.8202,-73.4551C391.0137,-60.9575 425.4174,-44.5427 449.7835,-32.917\" fill=\"none\" stroke=\"#000000\"/>\n",
       "</g>\n",
       "</g>\n",
       "</svg>"
      ],
      "text/plain": [
       "<IPython.core.display.SVG object>"
      ]
     },
     "execution_count": 32,
     "metadata": {},
     "output_type": "execute_result"
    }
   ],
   "source": [
    "binsert(Dummy, 21, 2)\n",
    "btree.display(Dummy)"
   ]
  },
  {
   "cell_type": "markdown",
   "metadata": {},
   "source": [
    "# Exercice 2.4 : Deleting an element *down-way*\n",
    "\n",
    "### 1. How to delete a key when it's not in a leaf.\n",
    "\n",
    "You fetch either the biggest key of left child of current key or smallest one of right child ; overwrite the current key to delete with that one then call back to delete redundancy.\n",
    "\n",
    "### 2. What approach adapted from AVLs can we put in place here?\n",
    "\n",
    "Rotations!\n",
    "\n",
    "### Left Rotation\n"
   ]
  },
  {
   "cell_type": "code",
   "execution_count": 33,
   "metadata": {},
   "outputs": [],
   "source": [
    "def blr(A, i):\n",
    "    \"\"\"Rotation from child i+1 to child i.\n",
    "    \n",
    "    Conditions: \n",
    "    - the tree A exists, \n",
    "    - its child i exists and its root is not a 2t-node, \n",
    "    - its child i+1 exists and its root is not a t-node.\n",
    "    \n",
    "    \"\"\"\n",
    "    Cr = A.children[i+1]\n",
    "    Cl = A.children[i]\n",
    "    \n",
    "    Cl.keys.append(A.keys[i])\n",
    "    \n",
    "    A.keys[i] = Cr.keys.pop(0)\n",
    "    \n",
    "    if Cr.children:\n",
    "        Cl.children.append(Cr.children.pop(0))"
   ]
  },
  {
   "cell_type": "code",
   "execution_count": 35,
   "metadata": {},
   "outputs": [
    {
     "data": {
      "image/svg+xml": [
       "<svg height=\"118pt\" viewBox=\"0.00 0.00 170.00 118.00\" width=\"170pt\" xmlns=\"http://www.w3.org/2000/svg\" xmlns:xlink=\"http://www.w3.org/1999/xlink\">\n",
       "<g class=\"graph\" id=\"graph0\" transform=\"scale(1 1) rotate(0) translate(4 114)\">\n",
       "<title>temp</title>\n",
       "<polygon fill=\"#ffffff\" points=\"-4,4 -4,-114 166,-114 166,4 -4,4\" stroke=\"transparent\"/>\n",
       "<!-- 4598706640 -->\n",
       "<g class=\"node\" id=\"node1\">\n",
       "<title>4598706640</title>\n",
       "<path d=\"M57,-73.5C57,-73.5 87,-73.5 87,-73.5 93,-73.5 99,-79.5 99,-85.5 99,-85.5 99,-97.5 99,-97.5 99,-103.5 93,-109.5 87,-109.5 87,-109.5 57,-109.5 57,-109.5 51,-109.5 45,-103.5 45,-97.5 45,-97.5 45,-85.5 45,-85.5 45,-79.5 51,-73.5 57,-73.5\" fill=\"none\" stroke=\"#000000\"/>\n",
       "<text fill=\"#000000\" font-family=\"Times,serif\" font-size=\"14.00\" text-anchor=\"middle\" x=\"72\" y=\"-87.3\">15</text>\n",
       "</g>\n",
       "<!-- 4598706752 -->\n",
       "<g class=\"node\" id=\"node2\">\n",
       "<title>4598706752</title>\n",
       "<path d=\"M12,-.5C12,-.5 42,-.5 42,-.5 48,-.5 54,-6.5 54,-12.5 54,-12.5 54,-24.5 54,-24.5 54,-30.5 48,-36.5 42,-36.5 42,-36.5 12,-36.5 12,-36.5 6,-36.5 0,-30.5 0,-24.5 0,-24.5 0,-12.5 0,-12.5 0,-6.5 6,-.5 12,-.5\" fill=\"none\" stroke=\"#000000\"/>\n",
       "<text fill=\"#000000\" font-family=\"Times,serif\" font-size=\"14.00\" text-anchor=\"middle\" x=\"11.5\" y=\"-14.3\">8</text>\n",
       "<polyline fill=\"none\" points=\"23,-.5 23,-36.5 \" stroke=\"#000000\"/>\n",
       "<text fill=\"#000000\" font-family=\"Times,serif\" font-size=\"14.00\" text-anchor=\"middle\" x=\"38.5\" y=\"-14.3\">12</text>\n",
       "</g>\n",
       "<!-- 4598706640&#45;&#45;4598706752 -->\n",
       "<g class=\"edge\" id=\"edge1\">\n",
       "<title>4598706640--4598706752</title>\n",
       "<path d=\"M60.8764,-73.4551C53.9532,-62.2241 45.08,-47.8298 38.1516,-36.5904\" fill=\"none\" stroke=\"#000000\"/>\n",
       "</g>\n",
       "<!-- 4598706696 -->\n",
       "<g class=\"node\" id=\"node3\">\n",
       "<title>4598706696</title>\n",
       "<path d=\"M84,-.5C84,-.5 150,-.5 150,-.5 156,-.5 162,-6.5 162,-12.5 162,-12.5 162,-24.5 162,-24.5 162,-30.5 156,-36.5 150,-36.5 150,-36.5 84,-36.5 84,-36.5 78,-36.5 72,-30.5 72,-24.5 72,-24.5 72,-12.5 72,-12.5 72,-6.5 78,-.5 84,-.5\" fill=\"none\" stroke=\"#000000\"/>\n",
       "<text fill=\"#000000\" font-family=\"Times,serif\" font-size=\"14.00\" text-anchor=\"middle\" x=\"87\" y=\"-14.3\">18</text>\n",
       "<polyline fill=\"none\" points=\"102,-.5 102,-36.5 \" stroke=\"#000000\"/>\n",
       "<text fill=\"#000000\" font-family=\"Times,serif\" font-size=\"14.00\" text-anchor=\"middle\" x=\"117\" y=\"-14.3\">19</text>\n",
       "<polyline fill=\"none\" points=\"132,-.5 132,-36.5 \" stroke=\"#000000\"/>\n",
       "<text fill=\"#000000\" font-family=\"Times,serif\" font-size=\"14.00\" text-anchor=\"middle\" x=\"147\" y=\"-14.3\">20</text>\n",
       "</g>\n",
       "<!-- 4598706640&#45;&#45;4598706696 -->\n",
       "<g class=\"edge\" id=\"edge2\">\n",
       "<title>4598706640--4598706696</title>\n",
       "<path d=\"M83.1236,-73.4551C90.0468,-62.2241 98.92,-47.8298 105.8484,-36.5904\" fill=\"none\" stroke=\"#000000\"/>\n",
       "</g>\n",
       "</g>\n",
       "</svg>"
      ],
      "text/plain": [
       "<IPython.core.display.SVG object>"
      ]
     },
     "execution_count": 35,
     "metadata": {},
     "output_type": "execute_result"
    }
   ],
   "source": [
    "subDummy = B24([15],[B24([8, 12]), B24([18, 19, 20])])\n",
    "btree.display(subDummy)"
   ]
  },
  {
   "cell_type": "code",
   "execution_count": 36,
   "metadata": {},
   "outputs": [
    {
     "data": {
      "image/svg+xml": [
       "<svg height=\"118pt\" viewBox=\"0.00 0.00 169.50 118.00\" width=\"170pt\" xmlns=\"http://www.w3.org/2000/svg\" xmlns:xlink=\"http://www.w3.org/1999/xlink\">\n",
       "<g class=\"graph\" id=\"graph0\" transform=\"scale(1 1) rotate(0) translate(4 114)\">\n",
       "<title>temp</title>\n",
       "<polygon fill=\"#ffffff\" points=\"-4,4 -4,-114 165.5,-114 165.5,4 -4,4\" stroke=\"transparent\"/>\n",
       "<!-- 4598706640 -->\n",
       "<g class=\"node\" id=\"node1\">\n",
       "<title>4598706640</title>\n",
       "<path d=\"M71.5,-73.5C71.5,-73.5 101.5,-73.5 101.5,-73.5 107.5,-73.5 113.5,-79.5 113.5,-85.5 113.5,-85.5 113.5,-97.5 113.5,-97.5 113.5,-103.5 107.5,-109.5 101.5,-109.5 101.5,-109.5 71.5,-109.5 71.5,-109.5 65.5,-109.5 59.5,-103.5 59.5,-97.5 59.5,-97.5 59.5,-85.5 59.5,-85.5 59.5,-79.5 65.5,-73.5 71.5,-73.5\" fill=\"none\" stroke=\"#000000\"/>\n",
       "<text fill=\"#000000\" font-family=\"Times,serif\" font-size=\"14.00\" text-anchor=\"middle\" x=\"86.5\" y=\"-87.3\">18</text>\n",
       "</g>\n",
       "<!-- 4598706752 -->\n",
       "<g class=\"node\" id=\"node2\">\n",
       "<title>4598706752</title>\n",
       "<path d=\"M12,-.5C12,-.5 71,-.5 71,-.5 77,-.5 83,-6.5 83,-12.5 83,-12.5 83,-24.5 83,-24.5 83,-30.5 77,-36.5 71,-36.5 71,-36.5 12,-36.5 12,-36.5 6,-36.5 0,-30.5 0,-24.5 0,-24.5 0,-12.5 0,-12.5 0,-6.5 6,-.5 12,-.5\" fill=\"none\" stroke=\"#000000\"/>\n",
       "<text fill=\"#000000\" font-family=\"Times,serif\" font-size=\"14.00\" text-anchor=\"middle\" x=\"11.5\" y=\"-14.3\">8</text>\n",
       "<polyline fill=\"none\" points=\"23,-.5 23,-36.5 \" stroke=\"#000000\"/>\n",
       "<text fill=\"#000000\" font-family=\"Times,serif\" font-size=\"14.00\" text-anchor=\"middle\" x=\"38\" y=\"-14.3\">12</text>\n",
       "<polyline fill=\"none\" points=\"53,-.5 53,-36.5 \" stroke=\"#000000\"/>\n",
       "<text fill=\"#000000\" font-family=\"Times,serif\" font-size=\"14.00\" text-anchor=\"middle\" x=\"68\" y=\"-14.3\">15</text>\n",
       "</g>\n",
       "<!-- 4598706640&#45;&#45;4598706752 -->\n",
       "<g class=\"edge\" id=\"edge1\">\n",
       "<title>4598706640--4598706752</title>\n",
       "<path d=\"M75.3764,-73.4551C68.4532,-62.2241 59.58,-47.8298 52.6516,-36.5904\" fill=\"none\" stroke=\"#000000\"/>\n",
       "</g>\n",
       "<!-- 4598706696 -->\n",
       "<g class=\"node\" id=\"node3\">\n",
       "<title>4598706696</title>\n",
       "<path d=\"M113.5,-.5C113.5,-.5 149.5,-.5 149.5,-.5 155.5,-.5 161.5,-6.5 161.5,-12.5 161.5,-12.5 161.5,-24.5 161.5,-24.5 161.5,-30.5 155.5,-36.5 149.5,-36.5 149.5,-36.5 113.5,-36.5 113.5,-36.5 107.5,-36.5 101.5,-30.5 101.5,-24.5 101.5,-24.5 101.5,-12.5 101.5,-12.5 101.5,-6.5 107.5,-.5 113.5,-.5\" fill=\"none\" stroke=\"#000000\"/>\n",
       "<text fill=\"#000000\" font-family=\"Times,serif\" font-size=\"14.00\" text-anchor=\"middle\" x=\"116.5\" y=\"-14.3\">19</text>\n",
       "<polyline fill=\"none\" points=\"131.5,-.5 131.5,-36.5 \" stroke=\"#000000\"/>\n",
       "<text fill=\"#000000\" font-family=\"Times,serif\" font-size=\"14.00\" text-anchor=\"middle\" x=\"146.5\" y=\"-14.3\">20</text>\n",
       "</g>\n",
       "<!-- 4598706640&#45;&#45;4598706696 -->\n",
       "<g class=\"edge\" id=\"edge2\">\n",
       "<title>4598706640--4598706696</title>\n",
       "<path d=\"M97.6236,-73.4551C104.5468,-62.2241 113.42,-47.8298 120.3484,-36.5904\" fill=\"none\" stroke=\"#000000\"/>\n",
       "</g>\n",
       "</g>\n",
       "</svg>"
      ],
      "text/plain": [
       "<IPython.core.display.SVG object>"
      ]
     },
     "execution_count": 36,
     "metadata": {},
     "output_type": "execute_result"
    }
   ],
   "source": [
    "blr(subDummy, 0)\n",
    "btree.display(subDummy)"
   ]
  },
  {
   "cell_type": "markdown",
   "metadata": {},
   "source": [
    "### Right rotation"
   ]
  },
  {
   "cell_type": "code",
   "execution_count": 37,
   "metadata": {},
   "outputs": [],
   "source": [
    "def brr(A, i):\n",
    "    \"\"\"Rotation from child i-1 to child i.\n",
    "    \n",
    "    Conditions: \n",
    "    - the tree A exists, \n",
    "    - its child i exists and its root is not a 2t-node, \n",
    "    - its child i-1 exists and its root is not a t-node.\n",
    "    \n",
    "    \"\"\"\n",
    "    Cr = A.children[i]\n",
    "    Cl = A.children[i-1]\n",
    "    \n",
    "    Cr.keys.insert(0, A.keys[i-1])\n",
    "    \n",
    "    A.keys[i-1] = Cl.keys.pop()\n",
    "    \n",
    "    if Cl.children:\n",
    "        Cr.children.insert(0, Cl.chidren.pop())"
   ]
  },
  {
   "cell_type": "code",
   "execution_count": 38,
   "metadata": {},
   "outputs": [
    {
     "data": {
      "image/svg+xml": [
       "<svg height=\"118pt\" viewBox=\"0.00 0.00 170.00 118.00\" width=\"170pt\" xmlns=\"http://www.w3.org/2000/svg\" xmlns:xlink=\"http://www.w3.org/1999/xlink\">\n",
       "<g class=\"graph\" id=\"graph0\" transform=\"scale(1 1) rotate(0) translate(4 114)\">\n",
       "<title>temp</title>\n",
       "<polygon fill=\"#ffffff\" points=\"-4,4 -4,-114 166,-114 166,4 -4,4\" stroke=\"transparent\"/>\n",
       "<!-- 4598706640 -->\n",
       "<g class=\"node\" id=\"node1\">\n",
       "<title>4598706640</title>\n",
       "<path d=\"M57,-73.5C57,-73.5 87,-73.5 87,-73.5 93,-73.5 99,-79.5 99,-85.5 99,-85.5 99,-97.5 99,-97.5 99,-103.5 93,-109.5 87,-109.5 87,-109.5 57,-109.5 57,-109.5 51,-109.5 45,-103.5 45,-97.5 45,-97.5 45,-85.5 45,-85.5 45,-79.5 51,-73.5 57,-73.5\" fill=\"none\" stroke=\"#000000\"/>\n",
       "<text fill=\"#000000\" font-family=\"Times,serif\" font-size=\"14.00\" text-anchor=\"middle\" x=\"72\" y=\"-87.3\">15</text>\n",
       "</g>\n",
       "<!-- 4598706752 -->\n",
       "<g class=\"node\" id=\"node2\">\n",
       "<title>4598706752</title>\n",
       "<path d=\"M12,-.5C12,-.5 42,-.5 42,-.5 48,-.5 54,-6.5 54,-12.5 54,-12.5 54,-24.5 54,-24.5 54,-30.5 48,-36.5 42,-36.5 42,-36.5 12,-36.5 12,-36.5 6,-36.5 0,-30.5 0,-24.5 0,-24.5 0,-12.5 0,-12.5 0,-6.5 6,-.5 12,-.5\" fill=\"none\" stroke=\"#000000\"/>\n",
       "<text fill=\"#000000\" font-family=\"Times,serif\" font-size=\"14.00\" text-anchor=\"middle\" x=\"11.5\" y=\"-14.3\">8</text>\n",
       "<polyline fill=\"none\" points=\"23,-.5 23,-36.5 \" stroke=\"#000000\"/>\n",
       "<text fill=\"#000000\" font-family=\"Times,serif\" font-size=\"14.00\" text-anchor=\"middle\" x=\"38.5\" y=\"-14.3\">12</text>\n",
       "</g>\n",
       "<!-- 4598706640&#45;&#45;4598706752 -->\n",
       "<g class=\"edge\" id=\"edge1\">\n",
       "<title>4598706640--4598706752</title>\n",
       "<path d=\"M60.8764,-73.4551C53.9532,-62.2241 45.08,-47.8298 38.1516,-36.5904\" fill=\"none\" stroke=\"#000000\"/>\n",
       "</g>\n",
       "<!-- 4598706696 -->\n",
       "<g class=\"node\" id=\"node3\">\n",
       "<title>4598706696</title>\n",
       "<path d=\"M84,-.5C84,-.5 150,-.5 150,-.5 156,-.5 162,-6.5 162,-12.5 162,-12.5 162,-24.5 162,-24.5 162,-30.5 156,-36.5 150,-36.5 150,-36.5 84,-36.5 84,-36.5 78,-36.5 72,-30.5 72,-24.5 72,-24.5 72,-12.5 72,-12.5 72,-6.5 78,-.5 84,-.5\" fill=\"none\" stroke=\"#000000\"/>\n",
       "<text fill=\"#000000\" font-family=\"Times,serif\" font-size=\"14.00\" text-anchor=\"middle\" x=\"87\" y=\"-14.3\">18</text>\n",
       "<polyline fill=\"none\" points=\"102,-.5 102,-36.5 \" stroke=\"#000000\"/>\n",
       "<text fill=\"#000000\" font-family=\"Times,serif\" font-size=\"14.00\" text-anchor=\"middle\" x=\"117\" y=\"-14.3\">19</text>\n",
       "<polyline fill=\"none\" points=\"132,-.5 132,-36.5 \" stroke=\"#000000\"/>\n",
       "<text fill=\"#000000\" font-family=\"Times,serif\" font-size=\"14.00\" text-anchor=\"middle\" x=\"147\" y=\"-14.3\">20</text>\n",
       "</g>\n",
       "<!-- 4598706640&#45;&#45;4598706696 -->\n",
       "<g class=\"edge\" id=\"edge2\">\n",
       "<title>4598706640--4598706696</title>\n",
       "<path d=\"M83.1236,-73.4551C90.0468,-62.2241 98.92,-47.8298 105.8484,-36.5904\" fill=\"none\" stroke=\"#000000\"/>\n",
       "</g>\n",
       "</g>\n",
       "</svg>"
      ],
      "text/plain": [
       "<IPython.core.display.SVG object>"
      ]
     },
     "execution_count": 38,
     "metadata": {},
     "output_type": "execute_result"
    }
   ],
   "source": [
    "brr(subDummy, 1)\n",
    "btree.display(subDummy)"
   ]
  },
  {
   "cell_type": "markdown",
   "metadata": {},
   "source": [
    "### 3. What other problem can appear when deleting a key?\n",
    "\n",
    "The fact there are not enough keys in neighbours of child we're following for search."
   ]
  },
  {
   "cell_type": "markdown",
   "metadata": {
    "collapsed": true
   },
   "source": [
    "### Fusion"
   ]
  },
  {
   "cell_type": "code",
   "execution_count": 39,
   "metadata": {},
   "outputs": [],
   "source": [
    "def fusion(A, i):\n",
    "    \"\"\"Merge A children i and i+1 into child i.\n",
    "    \n",
    "    Conditions: \n",
    "    - the tree A exists and its root is not a t-node,\n",
    "    - children i and i+1 exist and their roots are t-nodes.\n",
    "    \n",
    "    \"\"\"\n",
    "    Cr = A.children[i+1]\n",
    "    Cl = A.children[i]\n",
    "    \n",
    "    Cl.keys.append(A.keys.pop(i))\n",
    "    \n",
    "    Cl.keys += Cr.keys #creates a shallow copy\n",
    "    Cl.children += Cr.children #creates a shallow copy \n",
    "    \n",
    "    A.children.pop(i+1)"
   ]
  },
  {
   "cell_type": "code",
   "execution_count": 41,
   "metadata": {},
   "outputs": [
    {
     "data": {
      "image/svg+xml": [
       "<svg height=\"118pt\" viewBox=\"0.00 0.00 284.00 118.00\" width=\"284pt\" xmlns=\"http://www.w3.org/2000/svg\" xmlns:xlink=\"http://www.w3.org/1999/xlink\">\n",
       "<g class=\"graph\" id=\"graph0\" transform=\"scale(1 1) rotate(0) translate(4 114)\">\n",
       "<title>temp</title>\n",
       "<polygon fill=\"#ffffff\" points=\"-4,4 -4,-114 280,-114 280,4 -4,4\" stroke=\"transparent\"/>\n",
       "<!-- 4598305848 -->\n",
       "<g class=\"node\" id=\"node1\">\n",
       "<title>4598305848</title>\n",
       "<path d=\"M102,-73.5C102,-73.5 168,-73.5 168,-73.5 174,-73.5 180,-79.5 180,-85.5 180,-85.5 180,-97.5 180,-97.5 180,-103.5 174,-109.5 168,-109.5 168,-109.5 102,-109.5 102,-109.5 96,-109.5 90,-103.5 90,-97.5 90,-97.5 90,-85.5 90,-85.5 90,-79.5 96,-73.5 102,-73.5\" fill=\"none\" stroke=\"#000000\"/>\n",
       "<text fill=\"#000000\" font-family=\"Times,serif\" font-size=\"14.00\" text-anchor=\"middle\" x=\"105\" y=\"-87.3\">15</text>\n",
       "<polyline fill=\"none\" points=\"120,-73.5 120,-109.5 \" stroke=\"#000000\"/>\n",
       "<text fill=\"#000000\" font-family=\"Times,serif\" font-size=\"14.00\" text-anchor=\"middle\" x=\"135\" y=\"-87.3\">20</text>\n",
       "<polyline fill=\"none\" points=\"150,-73.5 150,-109.5 \" stroke=\"#000000\"/>\n",
       "<text fill=\"#000000\" font-family=\"Times,serif\" font-size=\"14.00\" text-anchor=\"middle\" x=\"165\" y=\"-87.3\">25</text>\n",
       "</g>\n",
       "<!-- 4598308536 -->\n",
       "<g class=\"node\" id=\"node2\">\n",
       "<title>4598308536</title>\n",
       "<path d=\"M12,-.5C12,-.5 42,-.5 42,-.5 48,-.5 54,-6.5 54,-12.5 54,-12.5 54,-24.5 54,-24.5 54,-30.5 48,-36.5 42,-36.5 42,-36.5 12,-36.5 12,-36.5 6,-36.5 0,-30.5 0,-24.5 0,-24.5 0,-12.5 0,-12.5 0,-6.5 6,-.5 12,-.5\" fill=\"none\" stroke=\"#000000\"/>\n",
       "<text fill=\"#000000\" font-family=\"Times,serif\" font-size=\"14.00\" text-anchor=\"middle\" x=\"27\" y=\"-14.3\">8</text>\n",
       "</g>\n",
       "<!-- 4598305848&#45;&#45;4598308536 -->\n",
       "<g class=\"edge\" id=\"edge1\">\n",
       "<title>4598305848--4598308536</title>\n",
       "<path d=\"M108.3034,-73.4551C91.6878,-62.2241 70.392,-47.8298 53.7638,-36.5904\" fill=\"none\" stroke=\"#000000\"/>\n",
       "</g>\n",
       "<!-- 4598305400 -->\n",
       "<g class=\"node\" id=\"node3\">\n",
       "<title>4598305400</title>\n",
       "<path d=\"M84,-.5C84,-.5 114,-.5 114,-.5 120,-.5 126,-6.5 126,-12.5 126,-12.5 126,-24.5 126,-24.5 126,-30.5 120,-36.5 114,-36.5 114,-36.5 84,-36.5 84,-36.5 78,-36.5 72,-30.5 72,-24.5 72,-24.5 72,-12.5 72,-12.5 72,-6.5 78,-.5 84,-.5\" fill=\"none\" stroke=\"#000000\"/>\n",
       "<text fill=\"#000000\" font-family=\"Times,serif\" font-size=\"14.00\" text-anchor=\"middle\" x=\"99\" y=\"-14.3\">18</text>\n",
       "</g>\n",
       "<!-- 4598305848&#45;&#45;4598305400 -->\n",
       "<g class=\"edge\" id=\"edge2\">\n",
       "<title>4598305848--4598305400</title>\n",
       "<path d=\"M126.1011,-73.4551C120.5626,-62.2241 113.464,-47.8298 107.9213,-36.5904\" fill=\"none\" stroke=\"#000000\"/>\n",
       "</g>\n",
       "<!-- 4598304952 -->\n",
       "<g class=\"node\" id=\"node4\">\n",
       "<title>4598304952</title>\n",
       "<path d=\"M156,-.5C156,-.5 186,-.5 186,-.5 192,-.5 198,-6.5 198,-12.5 198,-12.5 198,-24.5 198,-24.5 198,-30.5 192,-36.5 186,-36.5 186,-36.5 156,-36.5 156,-36.5 150,-36.5 144,-30.5 144,-24.5 144,-24.5 144,-12.5 144,-12.5 144,-6.5 150,-.5 156,-.5\" fill=\"none\" stroke=\"#000000\"/>\n",
       "<text fill=\"#000000\" font-family=\"Times,serif\" font-size=\"14.00\" text-anchor=\"middle\" x=\"171\" y=\"-14.3\">22</text>\n",
       "</g>\n",
       "<!-- 4598305848&#45;&#45;4598304952 -->\n",
       "<g class=\"edge\" id=\"edge3\">\n",
       "<title>4598305848--4598304952</title>\n",
       "<path d=\"M143.8989,-73.4551C149.4374,-62.2241 156.536,-47.8298 162.0787,-36.5904\" fill=\"none\" stroke=\"#000000\"/>\n",
       "</g>\n",
       "<!-- 4598305288 -->\n",
       "<g class=\"node\" id=\"node5\">\n",
       "<title>4598305288</title>\n",
       "<path d=\"M228,-.5C228,-.5 264,-.5 264,-.5 270,-.5 276,-6.5 276,-12.5 276,-12.5 276,-24.5 276,-24.5 276,-30.5 270,-36.5 264,-36.5 264,-36.5 228,-36.5 228,-36.5 222,-36.5 216,-30.5 216,-24.5 216,-24.5 216,-12.5 216,-12.5 216,-6.5 222,-.5 228,-.5\" fill=\"none\" stroke=\"#000000\"/>\n",
       "<text fill=\"#000000\" font-family=\"Times,serif\" font-size=\"14.00\" text-anchor=\"middle\" x=\"231\" y=\"-14.3\">27</text>\n",
       "<polyline fill=\"none\" points=\"246,-.5 246,-36.5 \" stroke=\"#000000\"/>\n",
       "<text fill=\"#000000\" font-family=\"Times,serif\" font-size=\"14.00\" text-anchor=\"middle\" x=\"261\" y=\"-14.3\">28</text>\n",
       "</g>\n",
       "<!-- 4598305848&#45;&#45;4598305288 -->\n",
       "<g class=\"edge\" id=\"edge4\">\n",
       "<title>4598305848--4598305288</title>\n",
       "<path d=\"M162.4382,-73.4551C179.5153,-62.2241 201.4027,-47.8298 218.4927,-36.5904\" fill=\"none\" stroke=\"#000000\"/>\n",
       "</g>\n",
       "</g>\n",
       "</svg>"
      ],
      "text/plain": [
       "<IPython.core.display.SVG object>"
      ]
     },
     "execution_count": 41,
     "metadata": {},
     "output_type": "execute_result"
    }
   ],
   "source": [
    "fusionDummy = B24([15,20,25],[B24([8]), B24([18]), B24([22]), B24([27, 28])])\n",
    "btree.display(fusionDummy)"
   ]
  },
  {
   "cell_type": "code",
   "execution_count": 42,
   "metadata": {},
   "outputs": [
    {
     "data": {
      "image/svg+xml": [
       "<svg height=\"118pt\" viewBox=\"0.00 0.00 248.00 118.00\" width=\"248pt\" xmlns=\"http://www.w3.org/2000/svg\" xmlns:xlink=\"http://www.w3.org/1999/xlink\">\n",
       "<g class=\"graph\" id=\"graph0\" transform=\"scale(1 1) rotate(0) translate(4 114)\">\n",
       "<title>temp</title>\n",
       "<polygon fill=\"#ffffff\" points=\"-4,4 -4,-114 244,-114 244,4 -4,4\" stroke=\"transparent\"/>\n",
       "<!-- 4598305848 -->\n",
       "<g class=\"node\" id=\"node1\">\n",
       "<title>4598305848</title>\n",
       "<path d=\"M99,-73.5C99,-73.5 135,-73.5 135,-73.5 141,-73.5 147,-79.5 147,-85.5 147,-85.5 147,-97.5 147,-97.5 147,-103.5 141,-109.5 135,-109.5 135,-109.5 99,-109.5 99,-109.5 93,-109.5 87,-103.5 87,-97.5 87,-97.5 87,-85.5 87,-85.5 87,-79.5 93,-73.5 99,-73.5\" fill=\"none\" stroke=\"#000000\"/>\n",
       "<text fill=\"#000000\" font-family=\"Times,serif\" font-size=\"14.00\" text-anchor=\"middle\" x=\"102\" y=\"-87.3\">15</text>\n",
       "<polyline fill=\"none\" points=\"117,-73.5 117,-109.5 \" stroke=\"#000000\"/>\n",
       "<text fill=\"#000000\" font-family=\"Times,serif\" font-size=\"14.00\" text-anchor=\"middle\" x=\"132\" y=\"-87.3\">25</text>\n",
       "</g>\n",
       "<!-- 4598308536 -->\n",
       "<g class=\"node\" id=\"node2\">\n",
       "<title>4598308536</title>\n",
       "<path d=\"M12,-.5C12,-.5 42,-.5 42,-.5 48,-.5 54,-6.5 54,-12.5 54,-12.5 54,-24.5 54,-24.5 54,-30.5 48,-36.5 42,-36.5 42,-36.5 12,-36.5 12,-36.5 6,-36.5 0,-30.5 0,-24.5 0,-24.5 0,-12.5 0,-12.5 0,-6.5 6,-.5 12,-.5\" fill=\"none\" stroke=\"#000000\"/>\n",
       "<text fill=\"#000000\" font-family=\"Times,serif\" font-size=\"14.00\" text-anchor=\"middle\" x=\"27\" y=\"-14.3\">8</text>\n",
       "</g>\n",
       "<!-- 4598305848&#45;&#45;4598308536 -->\n",
       "<g class=\"edge\" id=\"edge1\">\n",
       "<title>4598305848--4598308536</title>\n",
       "<path d=\"M94.7528,-73.4551C80.9065,-62.2241 63.16,-47.8298 49.3032,-36.5904\" fill=\"none\" stroke=\"#000000\"/>\n",
       "</g>\n",
       "<!-- 4598305400 -->\n",
       "<g class=\"node\" id=\"node3\">\n",
       "<title>4598305400</title>\n",
       "<path d=\"M84,-.5C84,-.5 150,-.5 150,-.5 156,-.5 162,-6.5 162,-12.5 162,-12.5 162,-24.5 162,-24.5 162,-30.5 156,-36.5 150,-36.5 150,-36.5 84,-36.5 84,-36.5 78,-36.5 72,-30.5 72,-24.5 72,-24.5 72,-12.5 72,-12.5 72,-6.5 78,-.5 84,-.5\" fill=\"none\" stroke=\"#000000\"/>\n",
       "<text fill=\"#000000\" font-family=\"Times,serif\" font-size=\"14.00\" text-anchor=\"middle\" x=\"87\" y=\"-14.3\">18</text>\n",
       "<polyline fill=\"none\" points=\"102,-.5 102,-36.5 \" stroke=\"#000000\"/>\n",
       "<text fill=\"#000000\" font-family=\"Times,serif\" font-size=\"14.00\" text-anchor=\"middle\" x=\"117\" y=\"-14.3\">20</text>\n",
       "<polyline fill=\"none\" points=\"132,-.5 132,-36.5 \" stroke=\"#000000\"/>\n",
       "<text fill=\"#000000\" font-family=\"Times,serif\" font-size=\"14.00\" text-anchor=\"middle\" x=\"147\" y=\"-14.3\">22</text>\n",
       "</g>\n",
       "<!-- 4598305848&#45;&#45;4598305400 -->\n",
       "<g class=\"edge\" id=\"edge2\">\n",
       "<title>4598305848--4598305400</title>\n",
       "<path d=\"M117,-73.4551C117,-62.2241 117,-47.8298 117,-36.5904\" fill=\"none\" stroke=\"#000000\"/>\n",
       "</g>\n",
       "<!-- 4598305288 -->\n",
       "<g class=\"node\" id=\"node4\">\n",
       "<title>4598305288</title>\n",
       "<path d=\"M192,-.5C192,-.5 228,-.5 228,-.5 234,-.5 240,-6.5 240,-12.5 240,-12.5 240,-24.5 240,-24.5 240,-30.5 234,-36.5 228,-36.5 228,-36.5 192,-36.5 192,-36.5 186,-36.5 180,-30.5 180,-24.5 180,-24.5 180,-12.5 180,-12.5 180,-6.5 186,-.5 192,-.5\" fill=\"none\" stroke=\"#000000\"/>\n",
       "<text fill=\"#000000\" font-family=\"Times,serif\" font-size=\"14.00\" text-anchor=\"middle\" x=\"195\" y=\"-14.3\">27</text>\n",
       "<polyline fill=\"none\" points=\"210,-.5 210,-36.5 \" stroke=\"#000000\"/>\n",
       "<text fill=\"#000000\" font-family=\"Times,serif\" font-size=\"14.00\" text-anchor=\"middle\" x=\"225\" y=\"-14.3\">28</text>\n",
       "</g>\n",
       "<!-- 4598305848&#45;&#45;4598305288 -->\n",
       "<g class=\"edge\" id=\"edge3\">\n",
       "<title>4598305848--4598305288</title>\n",
       "<path d=\"M139.9888,-73.4551C154.2966,-62.2241 172.6347,-47.8298 186.9534,-36.5904\" fill=\"none\" stroke=\"#000000\"/>\n",
       "</g>\n",
       "</g>\n",
       "</svg>"
      ],
      "text/plain": [
       "<IPython.core.display.SVG object>"
      ]
     },
     "execution_count": 42,
     "metadata": {},
     "output_type": "execute_result"
    }
   ],
   "source": [
    "fusion(fusionDummy, 1)\n",
    "btree.display(fusionDummy)"
   ]
  },
  {
   "cell_type": "markdown",
   "metadata": {},
   "source": [
    "### 4. Following precautionary principle how can one proceed to delete keys in a B-tree?\n",
    "\n",
    "Make sure there is always at least degree - 1 keys at any node we're following during search. This can be done by using rotations or fusion when no rotations are possible.\n",
    "\n",
    "### Deletion in B-tree"
   ]
  },
  {
   "cell_type": "code",
   "execution_count": 47,
   "metadata": {},
   "outputs": [],
   "source": [
    "def __delete(A, x):\n",
    "    pos = ksearch(A.keys, x)\n",
    "    if A.children:\n",
    "        if pos < A.nbkeys and A.keys[pos] == x:\n",
    "            if A.children[pos].nbkeys > A.children[pos + 1].nbkeys:\n",
    "                A.keys[pos] = maxbtree(A.children[pos])\n",
    "                __delete(A.children[pos], A.keys[pos])\n",
    "            elif A.children[pos+1].nbkeys > A.degree - 1:\n",
    "                A.keys[pos] = minbtree(A.children[pos+1])\n",
    "                __delete(A.children[pos+1], A.keys[pos])\n",
    "            else:\n",
    "                fusion(A, pos) # notice that you always have a right child in this case\n",
    "                __delete(A.children[pos], x)\n",
    "        else:        \n",
    "            if A.children[pos].nbkeys == A.degree - 1:\n",
    "                if pos > 0 and A.children[pos - 1].nbkeys > A.degree - 1:\n",
    "                    brr(A, pos)\n",
    "                elif pos < A.nbkeys and A.children[pos + 1].nbkeys > A.degree - 1:\n",
    "                    blr(A, pos)\n",
    "                else:\n",
    "                    if pos == A.nbkeys:\n",
    "                        fusion(A, pos-1)\n",
    "                    else:\n",
    "                        fusion(A, pos)\n",
    "            __delete(A.children[pos], x)\n",
    "    else:\n",
    "        if pos < A.nbkeys and A.keys[pos] == x:\n",
    "            A.keys.pop(pos)\n",
    "\n",
    "def delete(A, x):\n",
    "    if A:\n",
    "        __delete(A, x) \n",
    "        if A.nbkeys > 0:\n",
    "            return A\n",
    "        elif A.children:\n",
    "            return A.children[0]\n",
    "    else:\n",
    "        raise Exception(\"You're trying to delete from an empty tree\")"
   ]
  },
  {
   "cell_type": "code",
   "execution_count": 48,
   "metadata": {},
   "outputs": [
    {
     "data": {
      "image/svg+xml": [
       "<svg height=\"191pt\" viewBox=\"0.00 0.00 518.00 191.00\" width=\"518pt\" xmlns=\"http://www.w3.org/2000/svg\" xmlns:xlink=\"http://www.w3.org/1999/xlink\">\n",
       "<g class=\"graph\" id=\"graph0\" transform=\"scale(1 1) rotate(0) translate(4 187)\">\n",
       "<title>temp</title>\n",
       "<polygon fill=\"#ffffff\" points=\"-4,4 -4,-187 514,-187 514,4 -4,4\" stroke=\"transparent\"/>\n",
       "<!-- 4596800144 -->\n",
       "<g class=\"node\" id=\"node1\">\n",
       "<title>4596800144</title>\n",
       "<path d=\"M235,-146.5C235,-146.5 265,-146.5 265,-146.5 271,-146.5 277,-152.5 277,-158.5 277,-158.5 277,-170.5 277,-170.5 277,-176.5 271,-182.5 265,-182.5 265,-182.5 235,-182.5 235,-182.5 229,-182.5 223,-176.5 223,-170.5 223,-170.5 223,-158.5 223,-158.5 223,-152.5 229,-146.5 235,-146.5\" fill=\"none\" stroke=\"#000000\"/>\n",
       "<text fill=\"#000000\" font-family=\"Times,serif\" font-size=\"14.00\" text-anchor=\"middle\" x=\"250\" y=\"-160.3\">22</text>\n",
       "</g>\n",
       "<!-- 4596799864 -->\n",
       "<g class=\"node\" id=\"node2\">\n",
       "<title>4596799864</title>\n",
       "<path d=\"M118,-73.5C118,-73.5 154,-73.5 154,-73.5 160,-73.5 166,-79.5 166,-85.5 166,-85.5 166,-97.5 166,-97.5 166,-103.5 160,-109.5 154,-109.5 154,-109.5 118,-109.5 118,-109.5 112,-109.5 106,-103.5 106,-97.5 106,-97.5 106,-85.5 106,-85.5 106,-79.5 112,-73.5 118,-73.5\" fill=\"none\" stroke=\"#000000\"/>\n",
       "<text fill=\"#000000\" font-family=\"Times,serif\" font-size=\"14.00\" text-anchor=\"middle\" x=\"121\" y=\"-87.3\">15</text>\n",
       "<polyline fill=\"none\" points=\"136,-73.5 136,-109.5 \" stroke=\"#000000\"/>\n",
       "<text fill=\"#000000\" font-family=\"Times,serif\" font-size=\"14.00\" text-anchor=\"middle\" x=\"151\" y=\"-87.3\">19</text>\n",
       "</g>\n",
       "<!-- 4596800144&#45;&#45;4596799864 -->\n",
       "<g class=\"edge\" id=\"edge1\">\n",
       "<title>4596800144--4596799864</title>\n",
       "<path d=\"M222.9836,-147.2C205.3378,-135.9005 182.3326,-121.1691 164.4133,-109.6945\" fill=\"none\" stroke=\"#000000\"/>\n",
       "</g>\n",
       "<!-- 4596800088 -->\n",
       "<g class=\"node\" id=\"node3\">\n",
       "<title>4596800088</title>\n",
       "<path d=\"M294,-73.5C294,-73.5 360,-73.5 360,-73.5 366,-73.5 372,-79.5 372,-85.5 372,-85.5 372,-97.5 372,-97.5 372,-103.5 366,-109.5 360,-109.5 360,-109.5 294,-109.5 294,-109.5 288,-109.5 282,-103.5 282,-97.5 282,-97.5 282,-85.5 282,-85.5 282,-79.5 288,-73.5 294,-73.5\" fill=\"none\" stroke=\"#000000\"/>\n",
       "<text fill=\"#000000\" font-family=\"Times,serif\" font-size=\"14.00\" text-anchor=\"middle\" x=\"297\" y=\"-87.3\">27</text>\n",
       "<polyline fill=\"none\" points=\"312,-73.5 312,-109.5 \" stroke=\"#000000\"/>\n",
       "<text fill=\"#000000\" font-family=\"Times,serif\" font-size=\"14.00\" text-anchor=\"middle\" x=\"327\" y=\"-87.3\">35</text>\n",
       "<polyline fill=\"none\" points=\"342,-73.5 342,-109.5 \" stroke=\"#000000\"/>\n",
       "<text fill=\"#000000\" font-family=\"Times,serif\" font-size=\"14.00\" text-anchor=\"middle\" x=\"357\" y=\"-87.3\">41</text>\n",
       "</g>\n",
       "<!-- 4596800144&#45;&#45;4596800088 -->\n",
       "<g class=\"edge\" id=\"edge2\">\n",
       "<title>4596800144--4596800088</title>\n",
       "<path d=\"M269.0337,-146.4551C280.88,-135.2241 296.0631,-120.8298 307.9184,-109.5904\" fill=\"none\" stroke=\"#000000\"/>\n",
       "</g>\n",
       "<!-- 4596799752 -->\n",
       "<g class=\"node\" id=\"node4\">\n",
       "<title>4596799752</title>\n",
       "<path d=\"M12,-.5C12,-.5 42,-.5 42,-.5 48,-.5 54,-6.5 54,-12.5 54,-12.5 54,-24.5 54,-24.5 54,-30.5 48,-36.5 42,-36.5 42,-36.5 12,-36.5 12,-36.5 6,-36.5 0,-30.5 0,-24.5 0,-24.5 0,-12.5 0,-12.5 0,-6.5 6,-.5 12,-.5\" fill=\"none\" stroke=\"#000000\"/>\n",
       "<text fill=\"#000000\" font-family=\"Times,serif\" font-size=\"14.00\" text-anchor=\"middle\" x=\"11.5\" y=\"-14.3\">8</text>\n",
       "<polyline fill=\"none\" points=\"23,-.5 23,-36.5 \" stroke=\"#000000\"/>\n",
       "<text fill=\"#000000\" font-family=\"Times,serif\" font-size=\"14.00\" text-anchor=\"middle\" x=\"38.5\" y=\"-14.3\">12</text>\n",
       "</g>\n",
       "<!-- 4596799864&#45;&#45;4596799752 -->\n",
       "<g class=\"edge\" id=\"edge3\">\n",
       "<title>4596799864--4596799752</title>\n",
       "<path d=\"M109.0562,-73.4551C92.2867,-62.2241 70.7938,-47.8298 54.0116,-36.5904\" fill=\"none\" stroke=\"#000000\"/>\n",
       "</g>\n",
       "<!-- 4596799808 -->\n",
       "<g class=\"node\" id=\"node5\">\n",
       "<title>4596799808</title>\n",
       "<path d=\"M84,-.5C84,-.5 114,-.5 114,-.5 120,-.5 126,-6.5 126,-12.5 126,-12.5 126,-24.5 126,-24.5 126,-30.5 120,-36.5 114,-36.5 114,-36.5 84,-36.5 84,-36.5 78,-36.5 72,-30.5 72,-24.5 72,-24.5 72,-12.5 72,-12.5 72,-6.5 78,-.5 84,-.5\" fill=\"none\" stroke=\"#000000\"/>\n",
       "<text fill=\"#000000\" font-family=\"Times,serif\" font-size=\"14.00\" text-anchor=\"middle\" x=\"99\" y=\"-14.3\">18</text>\n",
       "</g>\n",
       "<!-- 4596799864&#45;&#45;4596799808 -->\n",
       "<g class=\"edge\" id=\"edge4\">\n",
       "<title>4596799864--4596799808</title>\n",
       "<path d=\"M126.8539,-73.4551C121.1616,-62.2241 113.8658,-47.8298 108.1691,-36.5904\" fill=\"none\" stroke=\"#000000\"/>\n",
       "</g>\n",
       "<!-- 4598529832 -->\n",
       "<g class=\"node\" id=\"node6\">\n",
       "<title>4598529832</title>\n",
       "<path d=\"M156,-.5C156,-.5 192,-.5 192,-.5 198,-.5 204,-6.5 204,-12.5 204,-12.5 204,-24.5 204,-24.5 204,-30.5 198,-36.5 192,-36.5 192,-36.5 156,-36.5 156,-36.5 150,-36.5 144,-30.5 144,-24.5 144,-24.5 144,-12.5 144,-12.5 144,-6.5 150,-.5 156,-.5\" fill=\"none\" stroke=\"#000000\"/>\n",
       "<text fill=\"#000000\" font-family=\"Times,serif\" font-size=\"14.00\" text-anchor=\"middle\" x=\"159\" y=\"-14.3\">20</text>\n",
       "<polyline fill=\"none\" points=\"174,-.5 174,-36.5 \" stroke=\"#000000\"/>\n",
       "<text fill=\"#000000\" font-family=\"Times,serif\" font-size=\"14.00\" text-anchor=\"middle\" x=\"189\" y=\"-14.3\">21</text>\n",
       "</g>\n",
       "<!-- 4596799864&#45;&#45;4598529832 -->\n",
       "<g class=\"edge\" id=\"edge5\">\n",
       "<title>4596799864--4598529832</title>\n",
       "<path d=\"M145.3933,-73.4551C151.2395,-62.2241 158.7324,-47.8298 164.5831,-36.5904\" fill=\"none\" stroke=\"#000000\"/>\n",
       "</g>\n",
       "<!-- 4596799920 -->\n",
       "<g class=\"node\" id=\"node7\">\n",
       "<title>4596799920</title>\n",
       "<path d=\"M234,-.5C234,-.5 270,-.5 270,-.5 276,-.5 282,-6.5 282,-12.5 282,-12.5 282,-24.5 282,-24.5 282,-30.5 276,-36.5 270,-36.5 270,-36.5 234,-36.5 234,-36.5 228,-36.5 222,-30.5 222,-24.5 222,-24.5 222,-12.5 222,-12.5 222,-6.5 228,-.5 234,-.5\" fill=\"none\" stroke=\"#000000\"/>\n",
       "<text fill=\"#000000\" font-family=\"Times,serif\" font-size=\"14.00\" text-anchor=\"middle\" x=\"237\" y=\"-14.3\">24</text>\n",
       "<polyline fill=\"none\" points=\"252,-.5 252,-36.5 \" stroke=\"#000000\"/>\n",
       "<text fill=\"#000000\" font-family=\"Times,serif\" font-size=\"14.00\" text-anchor=\"middle\" x=\"267\" y=\"-14.3\">25</text>\n",
       "</g>\n",
       "<!-- 4596800088&#45;&#45;4596799920 -->\n",
       "<g class=\"edge\" id=\"edge6\">\n",
       "<title>4596800088--4596799920</title>\n",
       "<path d=\"M308.4607,-73.4551C296.9221,-62.2241 282.1333,-47.8298 270.586,-36.5904\" fill=\"none\" stroke=\"#000000\"/>\n",
       "</g>\n",
       "<!-- 4596799976 -->\n",
       "<g class=\"node\" id=\"node8\">\n",
       "<title>4596799976</title>\n",
       "<path d=\"M312,-.5C312,-.5 342,-.5 342,-.5 348,-.5 354,-6.5 354,-12.5 354,-12.5 354,-24.5 354,-24.5 354,-30.5 348,-36.5 342,-36.5 342,-36.5 312,-36.5 312,-36.5 306,-36.5 300,-30.5 300,-24.5 300,-24.5 300,-12.5 300,-12.5 300,-6.5 306,-.5 312,-.5\" fill=\"none\" stroke=\"#000000\"/>\n",
       "<text fill=\"#000000\" font-family=\"Times,serif\" font-size=\"14.00\" text-anchor=\"middle\" x=\"327\" y=\"-14.3\">30</text>\n",
       "</g>\n",
       "<!-- 4596800088&#45;&#45;4596799976 -->\n",
       "<g class=\"edge\" id=\"edge7\">\n",
       "<title>4596800088--4596799976</title>\n",
       "<path d=\"M327,-73.4551C327,-62.2241 327,-47.8298 327,-36.5904\" fill=\"none\" stroke=\"#000000\"/>\n",
       "</g>\n",
       "<!-- 4598362464 -->\n",
       "<g class=\"node\" id=\"node9\">\n",
       "<title>4598362464</title>\n",
       "<path d=\"M384,-.5C384,-.5 420,-.5 420,-.5 426,-.5 432,-6.5 432,-12.5 432,-12.5 432,-24.5 432,-24.5 432,-30.5 426,-36.5 420,-36.5 420,-36.5 384,-36.5 384,-36.5 378,-36.5 372,-30.5 372,-24.5 372,-24.5 372,-12.5 372,-12.5 372,-6.5 378,-.5 384,-.5\" fill=\"none\" stroke=\"#000000\"/>\n",
       "<text fill=\"#000000\" font-family=\"Times,serif\" font-size=\"14.00\" text-anchor=\"middle\" x=\"387\" y=\"-14.3\">36</text>\n",
       "<polyline fill=\"none\" points=\"402,-.5 402,-36.5 \" stroke=\"#000000\"/>\n",
       "<text fill=\"#000000\" font-family=\"Times,serif\" font-size=\"14.00\" text-anchor=\"middle\" x=\"417\" y=\"-14.3\">38</text>\n",
       "</g>\n",
       "<!-- 4596800088&#45;&#45;4598362464 -->\n",
       "<g class=\"edge\" id=\"edge8\">\n",
       "<title>4596800088--4598362464</title>\n",
       "<path d=\"M345.5393,-73.4551C357.0779,-62.2241 371.8667,-47.8298 383.414,-36.5904\" fill=\"none\" stroke=\"#000000\"/>\n",
       "</g>\n",
       "<!-- 4596800032 -->\n",
       "<g class=\"node\" id=\"node10\">\n",
       "<title>4596800032</title>\n",
       "<path d=\"M462,-.5C462,-.5 498,-.5 498,-.5 504,-.5 510,-6.5 510,-12.5 510,-12.5 510,-24.5 510,-24.5 510,-30.5 504,-36.5 498,-36.5 498,-36.5 462,-36.5 462,-36.5 456,-36.5 450,-30.5 450,-24.5 450,-24.5 450,-12.5 450,-12.5 450,-6.5 456,-.5 462,-.5\" fill=\"none\" stroke=\"#000000\"/>\n",
       "<text fill=\"#000000\" font-family=\"Times,serif\" font-size=\"14.00\" text-anchor=\"middle\" x=\"465\" y=\"-14.3\">45</text>\n",
       "<polyline fill=\"none\" points=\"480,-.5 480,-36.5 \" stroke=\"#000000\"/>\n",
       "<text fill=\"#000000\" font-family=\"Times,serif\" font-size=\"14.00\" text-anchor=\"middle\" x=\"495\" y=\"-14.3\">48</text>\n",
       "</g>\n",
       "<!-- 4596800088&#45;&#45;4596800032 -->\n",
       "<g class=\"edge\" id=\"edge9\">\n",
       "<title>4596800088--4596800032</title>\n",
       "<path d=\"M364.8202,-73.4551C391.0137,-60.9575 425.4174,-44.5427 449.7835,-32.917\" fill=\"none\" stroke=\"#000000\"/>\n",
       "</g>\n",
       "</g>\n",
       "</svg>"
      ],
      "text/plain": [
       "<IPython.core.display.SVG object>"
      ]
     },
     "execution_count": 48,
     "metadata": {},
     "output_type": "execute_result"
    }
   ],
   "source": [
    "btree.display(Dummy)"
   ]
  },
  {
   "cell_type": "code",
   "execution_count": 55,
   "metadata": {},
   "outputs": [
    {
     "data": {
      "image/svg+xml": [
       "<svg height=\"191pt\" viewBox=\"0.00 0.00 362.00 191.00\" width=\"362pt\" xmlns=\"http://www.w3.org/2000/svg\" xmlns:xlink=\"http://www.w3.org/1999/xlink\">\n",
       "<g class=\"graph\" id=\"graph0\" transform=\"scale(1 1) rotate(0) translate(4 187)\">\n",
       "<title>temp</title>\n",
       "<polygon fill=\"#ffffff\" points=\"-4,4 -4,-187 358,-187 358,4 -4,4\" stroke=\"transparent\"/>\n",
       "<!-- 4596800144 -->\n",
       "<g class=\"node\" id=\"node1\">\n",
       "<title>4596800144</title>\n",
       "<path d=\"M196,-146.5C196,-146.5 226,-146.5 226,-146.5 232,-146.5 238,-152.5 238,-158.5 238,-158.5 238,-170.5 238,-170.5 238,-176.5 232,-182.5 226,-182.5 226,-182.5 196,-182.5 196,-182.5 190,-182.5 184,-176.5 184,-170.5 184,-170.5 184,-158.5 184,-158.5 184,-152.5 190,-146.5 196,-146.5\" fill=\"none\" stroke=\"#000000\"/>\n",
       "<text fill=\"#000000\" font-family=\"Times,serif\" font-size=\"14.00\" text-anchor=\"middle\" x=\"211\" y=\"-160.3\">22</text>\n",
       "</g>\n",
       "<!-- 4596799864 -->\n",
       "<g class=\"node\" id=\"node2\">\n",
       "<title>4596799864</title>\n",
       "<path d=\"M118,-73.5C118,-73.5 154,-73.5 154,-73.5 160,-73.5 166,-79.5 166,-85.5 166,-85.5 166,-97.5 166,-97.5 166,-103.5 160,-109.5 154,-109.5 154,-109.5 118,-109.5 118,-109.5 112,-109.5 106,-103.5 106,-97.5 106,-97.5 106,-85.5 106,-85.5 106,-79.5 112,-73.5 118,-73.5\" fill=\"none\" stroke=\"#000000\"/>\n",
       "<text fill=\"#000000\" font-family=\"Times,serif\" font-size=\"14.00\" text-anchor=\"middle\" x=\"121\" y=\"-87.3\">15</text>\n",
       "<polyline fill=\"none\" points=\"136,-73.5 136,-109.5 \" stroke=\"#000000\"/>\n",
       "<text fill=\"#000000\" font-family=\"Times,serif\" font-size=\"14.00\" text-anchor=\"middle\" x=\"151\" y=\"-87.3\">19</text>\n",
       "</g>\n",
       "<!-- 4596800144&#45;&#45;4596799864 -->\n",
       "<g class=\"edge\" id=\"edge1\">\n",
       "<title>4596800144--4596799864</title>\n",
       "<path d=\"M192.4607,-146.4551C180.9221,-135.2241 166.1333,-120.8298 154.586,-109.5904\" fill=\"none\" stroke=\"#000000\"/>\n",
       "</g>\n",
       "<!-- 4596800088 -->\n",
       "<g class=\"node\" id=\"node3\">\n",
       "<title>4596800088</title>\n",
       "<path d=\"M234,-73.5C234,-73.5 264,-73.5 264,-73.5 270,-73.5 276,-79.5 276,-85.5 276,-85.5 276,-97.5 276,-97.5 276,-103.5 270,-109.5 264,-109.5 264,-109.5 234,-109.5 234,-109.5 228,-109.5 222,-103.5 222,-97.5 222,-97.5 222,-85.5 222,-85.5 222,-79.5 228,-73.5 234,-73.5\" fill=\"none\" stroke=\"#000000\"/>\n",
       "<text fill=\"#000000\" font-family=\"Times,serif\" font-size=\"14.00\" text-anchor=\"middle\" x=\"249\" y=\"-87.3\">25</text>\n",
       "</g>\n",
       "<!-- 4596800144&#45;&#45;4596800088 -->\n",
       "<g class=\"edge\" id=\"edge2\">\n",
       "<title>4596800144--4596800088</title>\n",
       "<path d=\"M220.3933,-146.4551C226.2395,-135.2241 233.7324,-120.8298 239.5831,-109.5904\" fill=\"none\" stroke=\"#000000\"/>\n",
       "</g>\n",
       "<!-- 4596799752 -->\n",
       "<g class=\"node\" id=\"node4\">\n",
       "<title>4596799752</title>\n",
       "<path d=\"M12,-.5C12,-.5 42,-.5 42,-.5 48,-.5 54,-6.5 54,-12.5 54,-12.5 54,-24.5 54,-24.5 54,-30.5 48,-36.5 42,-36.5 42,-36.5 12,-36.5 12,-36.5 6,-36.5 0,-30.5 0,-24.5 0,-24.5 0,-12.5 0,-12.5 0,-6.5 6,-.5 12,-.5\" fill=\"none\" stroke=\"#000000\"/>\n",
       "<text fill=\"#000000\" font-family=\"Times,serif\" font-size=\"14.00\" text-anchor=\"middle\" x=\"11.5\" y=\"-14.3\">8</text>\n",
       "<polyline fill=\"none\" points=\"23,-.5 23,-36.5 \" stroke=\"#000000\"/>\n",
       "<text fill=\"#000000\" font-family=\"Times,serif\" font-size=\"14.00\" text-anchor=\"middle\" x=\"38.5\" y=\"-14.3\">12</text>\n",
       "</g>\n",
       "<!-- 4596799864&#45;&#45;4596799752 -->\n",
       "<g class=\"edge\" id=\"edge3\">\n",
       "<title>4596799864--4596799752</title>\n",
       "<path d=\"M109.0562,-73.4551C92.2867,-62.2241 70.7938,-47.8298 54.0116,-36.5904\" fill=\"none\" stroke=\"#000000\"/>\n",
       "</g>\n",
       "<!-- 4596799808 -->\n",
       "<g class=\"node\" id=\"node5\">\n",
       "<title>4596799808</title>\n",
       "<path d=\"M84,-.5C84,-.5 114,-.5 114,-.5 120,-.5 126,-6.5 126,-12.5 126,-12.5 126,-24.5 126,-24.5 126,-30.5 120,-36.5 114,-36.5 114,-36.5 84,-36.5 84,-36.5 78,-36.5 72,-30.5 72,-24.5 72,-24.5 72,-12.5 72,-12.5 72,-6.5 78,-.5 84,-.5\" fill=\"none\" stroke=\"#000000\"/>\n",
       "<text fill=\"#000000\" font-family=\"Times,serif\" font-size=\"14.00\" text-anchor=\"middle\" x=\"99\" y=\"-14.3\">18</text>\n",
       "</g>\n",
       "<!-- 4596799864&#45;&#45;4596799808 -->\n",
       "<g class=\"edge\" id=\"edge4\">\n",
       "<title>4596799864--4596799808</title>\n",
       "<path d=\"M126.8539,-73.4551C121.1616,-62.2241 113.8658,-47.8298 108.1691,-36.5904\" fill=\"none\" stroke=\"#000000\"/>\n",
       "</g>\n",
       "<!-- 4598529832 -->\n",
       "<g class=\"node\" id=\"node6\">\n",
       "<title>4598529832</title>\n",
       "<path d=\"M156,-.5C156,-.5 192,-.5 192,-.5 198,-.5 204,-6.5 204,-12.5 204,-12.5 204,-24.5 204,-24.5 204,-30.5 198,-36.5 192,-36.5 192,-36.5 156,-36.5 156,-36.5 150,-36.5 144,-30.5 144,-24.5 144,-24.5 144,-12.5 144,-12.5 144,-6.5 150,-.5 156,-.5\" fill=\"none\" stroke=\"#000000\"/>\n",
       "<text fill=\"#000000\" font-family=\"Times,serif\" font-size=\"14.00\" text-anchor=\"middle\" x=\"159\" y=\"-14.3\">20</text>\n",
       "<polyline fill=\"none\" points=\"174,-.5 174,-36.5 \" stroke=\"#000000\"/>\n",
       "<text fill=\"#000000\" font-family=\"Times,serif\" font-size=\"14.00\" text-anchor=\"middle\" x=\"189\" y=\"-14.3\">21</text>\n",
       "</g>\n",
       "<!-- 4596799864&#45;&#45;4598529832 -->\n",
       "<g class=\"edge\" id=\"edge5\">\n",
       "<title>4596799864--4598529832</title>\n",
       "<path d=\"M145.3933,-73.4551C151.2395,-62.2241 158.7324,-47.8298 164.5831,-36.5904\" fill=\"none\" stroke=\"#000000\"/>\n",
       "</g>\n",
       "<!-- 4596799920 -->\n",
       "<g class=\"node\" id=\"node7\">\n",
       "<title>4596799920</title>\n",
       "<path d=\"M234,-.5C234,-.5 264,-.5 264,-.5 270,-.5 276,-6.5 276,-12.5 276,-12.5 276,-24.5 276,-24.5 276,-30.5 270,-36.5 264,-36.5 264,-36.5 234,-36.5 234,-36.5 228,-36.5 222,-30.5 222,-24.5 222,-24.5 222,-12.5 222,-12.5 222,-6.5 228,-.5 234,-.5\" fill=\"none\" stroke=\"#000000\"/>\n",
       "<text fill=\"#000000\" font-family=\"Times,serif\" font-size=\"14.00\" text-anchor=\"middle\" x=\"249\" y=\"-14.3\">24</text>\n",
       "</g>\n",
       "<!-- 4596800088&#45;&#45;4596799920 -->\n",
       "<g class=\"edge\" id=\"edge6\">\n",
       "<title>4596800088--4596799920</title>\n",
       "<path d=\"M249,-73.4551C249,-62.2241 249,-47.8298 249,-36.5904\" fill=\"none\" stroke=\"#000000\"/>\n",
       "</g>\n",
       "<!-- 4596799976 -->\n",
       "<g class=\"node\" id=\"node8\">\n",
       "<title>4596799976</title>\n",
       "<path d=\"M306,-.5C306,-.5 342,-.5 342,-.5 348,-.5 354,-6.5 354,-12.5 354,-12.5 354,-24.5 354,-24.5 354,-30.5 348,-36.5 342,-36.5 342,-36.5 306,-36.5 306,-36.5 300,-36.5 294,-30.5 294,-24.5 294,-24.5 294,-12.5 294,-12.5 294,-6.5 300,-.5 306,-.5\" fill=\"none\" stroke=\"#000000\"/>\n",
       "<text fill=\"#000000\" font-family=\"Times,serif\" font-size=\"14.00\" text-anchor=\"middle\" x=\"309\" y=\"-14.3\">45</text>\n",
       "<polyline fill=\"none\" points=\"324,-.5 324,-36.5 \" stroke=\"#000000\"/>\n",
       "<text fill=\"#000000\" font-family=\"Times,serif\" font-size=\"14.00\" text-anchor=\"middle\" x=\"339\" y=\"-14.3\">48</text>\n",
       "</g>\n",
       "<!-- 4596800088&#45;&#45;4596799976 -->\n",
       "<g class=\"edge\" id=\"edge7\">\n",
       "<title>4596800088--4596799976</title>\n",
       "<path d=\"M267.5393,-73.4551C279.0779,-62.2241 293.8667,-47.8298 305.414,-36.5904\" fill=\"none\" stroke=\"#000000\"/>\n",
       "</g>\n",
       "</g>\n",
       "</svg>"
      ],
      "text/plain": [
       "<IPython.core.display.SVG object>"
      ]
     },
     "execution_count": 55,
     "metadata": {},
     "output_type": "execute_result"
    }
   ],
   "source": [
    "Dummy = delete(Dummy, 41)\n",
    "btree.display(Dummy)"
   ]
  },
  {
   "cell_type": "code",
   "execution_count": null,
   "metadata": {
    "collapsed": true
   },
   "outputs": [],
   "source": []
  }
 ],
 "metadata": {
  "kernelspec": {
   "display_name": "Python 3",
   "language": "python",
   "name": "python3"
  },
  "language_info": {
   "codemirror_mode": {
    "name": "ipython",
    "version": 3
   },
   "file_extension": ".py",
   "mimetype": "text/x-python",
   "name": "python",
   "nbconvert_exporter": "python",
   "pygments_lexer": "ipython3",
   "version": "3.7.0"
  }
 },
 "nbformat": 4,
 "nbformat_minor": 1
}
