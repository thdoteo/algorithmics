{
 "cells": [
  {
   "cell_type": "markdown",
   "metadata": {},
   "source": [
    "# Repetitive Tutorial"
   ]
  },
  {
   "cell_type": "markdown",
   "metadata": {},
   "source": [
    "## Exercise 1.2 | Multiplication"
   ]
  },
  {
   "cell_type": "code",
   "execution_count": 1,
   "metadata": {
    "collapsed": true
   },
   "outputs": [],
   "source": [
    "def multiplication(x, y):\n",
    "    \"\"\"Multiplies entries only using + and - signs.\n",
    "    \n",
    "    Only works for non-negative integers.\n",
    "    \n",
    "    \"\"\"\n",
    "    i = 1\n",
    "    res = 0\n",
    "    if y < x:\n",
    "        w = x\n",
    "        x = y\n",
    "        y = w\n",
    "    while i <= x:\n",
    "        res = res + y\n",
    "        i = i + 1\n",
    "        print(\"Current value of res is :\", res)\n",
    "    return res"
   ]
  },
  {
   "cell_type": "code",
   "execution_count": 2,
   "metadata": {},
   "outputs": [
    {
     "name": "stdout",
     "output_type": "stream",
     "text": [
      "Current value of res is : 3\n",
      "Current value of res is : 6\n"
     ]
    },
    {
     "data": {
      "text/plain": [
       "6"
      ]
     },
     "execution_count": 2,
     "metadata": {},
     "output_type": "execute_result"
    }
   ],
   "source": [
    "multiplication(2, 3)"
   ]
  },
  {
   "cell_type": "code",
   "execution_count": 3,
   "metadata": {
    "collapsed": true
   },
   "outputs": [],
   "source": [
    "def mult(x, y):\n",
    "    \"\"\"Mutliplying entries only using + and - signs.\n",
    "    \n",
    "    Works for any two integers.\n",
    "    \n",
    "    \"\"\"\n",
    "    if x < 0 and y < 0:\n",
    "        return mulitplication(-x, -y)\n",
    "    elif y < 0 and x > 0:\n",
    "        return - multiplication(x, -y)\n",
    "    elif y > 0 and x < 0:\n",
    "        return - multiplication(-x, y)\n",
    "    else:\n",
    "        return multiplication(x, y)"
   ]
  },
  {
   "cell_type": "code",
   "execution_count": 4,
   "metadata": {
    "collapsed": true
   },
   "outputs": [],
   "source": [
    "def mult (x,y):\n",
    "    sign = 1\n",
    "    if (x < 0):\n",
    "        x = -x\n",
    "        sign = -sign\n",
    "    if (y < 0):\n",
    "        y = -y\n",
    "        sign = -sign\n",
    "    return multiplication (x, y) * sign \n",
    "\n"
   ]
  },
  {
   "cell_type": "markdown",
   "metadata": {},
   "source": [
    "## Exercise 1.3\n",
    "\n",
    "Exponentiation."
   ]
  },
  {
   "cell_type": "code",
   "execution_count": 5,
   "metadata": {
    "collapsed": true
   },
   "outputs": [],
   "source": [
    "def power_naive(x, n):\n",
    "    \"\"\"Computes n-th power of x.\"\"\"\n",
    "    prod = 1\n",
    "    while n > 0:\n",
    "        prod = prod * x\n",
    "        n = n - 1\n",
    "    return prod"
   ]
  },
  {
   "cell_type": "code",
   "execution_count": 6,
   "metadata": {},
   "outputs": [
    {
     "data": {
      "text/plain": [
       "16"
      ]
     },
     "execution_count": 6,
     "metadata": {},
     "output_type": "execute_result"
    }
   ],
   "source": [
    "power_naive(2, 4)"
   ]
  },
  {
   "cell_type": "code",
   "execution_count": 7,
   "metadata": {
    "collapsed": true
   },
   "outputs": [],
   "source": [
    "def power_wrong(x, n):\n",
    "    \"\"\"Computes power of first argument using quick exponentiation.\"\"\"\n",
    "    if n == 0:\n",
    "        return 1\n",
    "    else:\n",
    "        res = x\n",
    "        while n > 1:\n",
    "            if n % 2 == 0:\n",
    "                res = res*res\n",
    "            else:\n",
    "                res = res*res*x\n",
    "            n = n // 2\n",
    "        return res"
   ]
  },
  {
   "cell_type": "code",
   "execution_count": 8,
   "metadata": {},
   "outputs": [
    {
     "data": {
      "text/plain": [
       "64"
      ]
     },
     "execution_count": 8,
     "metadata": {},
     "output_type": "execute_result"
    }
   ],
   "source": [
    "power_wrong(2, 5)"
   ]
  },
  {
   "cell_type": "code",
   "execution_count": 9,
   "metadata": {
    "collapsed": true
   },
   "outputs": [],
   "source": [
    "def power_bad(x, n):\n",
    "    \"\"\"Computes n-th power of x.\"\"\"\n",
    "    if n == 0 or x == 1:\n",
    "        return 1\n",
    "    elif x == -1:\n",
    "        if n % 2 == 0:\n",
    "            return 1\n",
    "        else:\n",
    "            return -1\n",
    "    else:\n",
    "        res, p = x, 1\n",
    "        while p < n :\n",
    "            if 2 * p <= n:\n",
    "                res = res * res\n",
    "                p = 2 * p\n",
    "            else:\n",
    "                res = res * x\n",
    "                p = p + 1\n",
    "        return res"
   ]
  },
  {
   "cell_type": "code",
   "execution_count": 10,
   "metadata": {},
   "outputs": [
    {
     "data": {
      "text/plain": [
       "242885856381553704244033182769167745909626619661929919967969211667757316688503569277434582640418366813604180601414562378295822014219460887902174088749264861997817755625692907224171567399928873849172620649349818568094905662183058933330925222626085934876337278326572723052998688610517351739775657009170790140759857530982662341853"
      ]
     },
     "execution_count": 10,
     "metadata": {},
     "output_type": "execute_result"
    }
   ],
   "source": [
    "power_bad(13, 293)"
   ]
  },
  {
   "cell_type": "code",
   "execution_count": 11,
   "metadata": {
    "collapsed": true
   },
   "outputs": [],
   "source": [
    "def power_better(x, n):\n",
    "    \"\"\"Computes n-th power of x.\"\"\"\n",
    "    p = 1\n",
    "    if n == 0 or x == 1:\n",
    "        return 1\n",
    "    elif x == -1:\n",
    "        if n % 2 == 0:\n",
    "            return 1\n",
    "        else:\n",
    "            return -1\n",
    "    else:\n",
    "        res = x\n",
    "        while 2 * p <= n:\n",
    "            res = res*res\n",
    "            p = 2 * p\n",
    "        while p < n:\n",
    "            res = res * x\n",
    "            p = p + 1\n",
    "        return res"
   ]
  },
  {
   "cell_type": "code",
   "execution_count": 12,
   "metadata": {},
   "outputs": [
    {
     "data": {
      "text/plain": [
       "242885856381553704244033182769167745909626619661929919967969211667757316688503569277434582640418366813604180601414562378295822014219460887902174088749264861997817755625692907224171567399928873849172620649349818568094905662183058933330925222626085934876337278326572723052998688610517351739775657009170790140759857530982662341853"
      ]
     },
     "execution_count": 12,
     "metadata": {},
     "output_type": "execute_result"
    }
   ],
   "source": [
    "power_better(13, 293)"
   ]
  },
  {
   "cell_type": "code",
   "execution_count": 13,
   "metadata": {
    "collapsed": true
   },
   "outputs": [],
   "source": [
    "def power(x, n):\n",
    "    \"\"\"Computes n-th power of x.\"\"\"\n",
    "    res = 1\n",
    "    pow_of_two = x\n",
    "    while n > 0:\n",
    "        if n % 2 == 1:\n",
    "            res = res * pow_of_two\n",
    "        pow_of_two = pow_of_two * pow_of_two\n",
    "        n = (n // 2)\n",
    "    return res"
   ]
  },
  {
   "cell_type": "code",
   "execution_count": 14,
   "metadata": {},
   "outputs": [
    {
     "data": {
      "text/plain": [
       "242885856381553704244033182769167745909626619661929919967969211667757316688503569277434582640418366813604180601414562378295822014219460887902174088749264861997817755625692907224171567399928873849172620649349818568094905662183058933330925222626085934876337278326572723052998688610517351739775657009170790140759857530982662341853"
      ]
     },
     "execution_count": 14,
     "metadata": {},
     "output_type": "execute_result"
    }
   ],
   "source": [
    "power(13, 293)"
   ]
  },
  {
   "cell_type": "markdown",
   "metadata": {},
   "source": [
    "## Exercise 1.4 | Fibonacci"
   ]
  },
  {
   "cell_type": "code",
   "execution_count": 15,
   "metadata": {
    "collapsed": true
   },
   "outputs": [],
   "source": [
    "def fibo(n):\n",
    "    if n < 0:\n",
    "        raise Exception(\"Rank cannot be negative.\")\n",
    "    else:\n",
    "        a, b = 1, 1\n",
    "        while n > 1:\n",
    "            b = a + b\n",
    "            a = b - a\n",
    "            n = n - 1\n",
    "        return b"
   ]
  },
  {
   "cell_type": "code",
   "execution_count": 16,
   "metadata": {},
   "outputs": [
    {
     "data": {
      "text/plain": [
       "89"
      ]
     },
     "execution_count": 16,
     "metadata": {},
     "output_type": "execute_result"
    }
   ],
   "source": [
    "fibo(10)"
   ]
  },
  {
   "cell_type": "code",
   "execution_count": 17,
   "metadata": {
    "collapsed": true,
    "scrolled": true
   },
   "outputs": [],
   "source": [
    "def fibo(n):\n",
    "    if n < 0:\n",
    "        raise Exception(\"Rank cannot be negative.\")\n",
    "    else:\n",
    "        a, b = 1, 1\n",
    "        while n > 0:\n",
    "            a, b = b, a + b\n",
    "            n = n - 1\n",
    "        return b"
   ]
  },
  {
   "cell_type": "markdown",
   "metadata": {},
   "source": [
    "## Exercise 1.5 | Sequence"
   ]
  },
  {
   "cell_type": "code",
   "execution_count": 18,
   "metadata": {
    "collapsed": true
   },
   "outputs": [],
   "source": [
    "def S_n(u, n):\n",
    "    \"\"\"Computes the sum of first n terms of sequence u.\"\"\"\n",
    "    res, i = 0, 1\n",
    "    while i <= n:\n",
    "        res = res + u(i)  # res += u(i)\n",
    "        i = i + 1         # i += 1\n",
    "    return res "
   ]
  },
  {
   "cell_type": "code",
   "execution_count": 19,
   "metadata": {},
   "outputs": [
    {
     "data": {
      "text/plain": [
       "374"
      ]
     },
     "execution_count": 19,
     "metadata": {},
     "output_type": "execute_result"
    }
   ],
   "source": [
    "import math as m \n",
    "\n",
    "def u(n):\n",
    "    return m.cos(n)\n",
    "\n",
    "S_n(fibo, 10)"
   ]
  },
  {
   "cell_type": "code",
   "execution_count": 20,
   "metadata": {
    "collapsed": true
   },
   "outputs": [],
   "source": [
    "def ssum_nBad(u, n):\n",
    "    \"\"\"Computes sum of sums up to n of first terms of sequence u.\"\"\"\n",
    "    res, j = 0,  1\n",
    "    while j <= n:\n",
    "        res = res + S_n(u, j)\n",
    "        j = j + 1\n",
    "    return res"
   ]
  },
  {
   "cell_type": "code",
   "execution_count": 21,
   "metadata": {},
   "outputs": [
    {
     "data": {
      "text/plain": [
       "55"
      ]
     },
     "execution_count": 21,
     "metadata": {},
     "output_type": "execute_result"
    }
   ],
   "source": [
    "def u(n):\n",
    "    return 1\n",
    "\n",
    "ssum_nBad(u, 10)"
   ]
  },
  {
   "cell_type": "code",
   "execution_count": 22,
   "metadata": {
    "collapsed": true
   },
   "outputs": [],
   "source": [
    "def ssum_nBad_explicit(u, n):\n",
    "    \"\"\"Computes sum of sums up to n of first terms of sequence u.\"\"\"\n",
    "    res, j = 0,  1\n",
    "    while j <= n:\n",
    "        res_int, i = 0, 1\n",
    "        while i <= j:\n",
    "            res_int += u(i)\n",
    "            i = i + 1\n",
    "        res = res + res_int\n",
    "        j = j + 1\n",
    "    return res"
   ]
  },
  {
   "cell_type": "code",
   "execution_count": 23,
   "metadata": {
    "collapsed": true
   },
   "outputs": [],
   "source": [
    "def ssum_n(u, n):\n",
    "    \"\"\"Computes sum of sums up to n of first terms of sequemce u.\"\"\"\n",
    "    res, j = 0, 1\n",
    "    sum_j = 0\n",
    "    while j <= n:\n",
    "        sum_j += u(j)\n",
    "        res += sum_j\n",
    "        j += 1\n",
    "    return res"
   ]
  },
  {
   "cell_type": "markdown",
   "metadata": {
    "collapsed": true
   },
   "source": [
    "## Exercise 2.1 | GCD"
   ]
  },
  {
   "cell_type": "code",
   "execution_count": 24,
   "metadata": {
    "collapsed": true
   },
   "outputs": [],
   "source": [
    "def gcd(a, b):\n",
    "    \"\"\"Computes gcd of positive integers.\"\"\"\n",
    "    if a <= 0 or b <= 0:\n",
    "        raise Exception(\"One of two entries is non-positive.\")\n",
    "    else:\n",
    "        print(\"a = \", a, \" | b = \", b)\n",
    "        while b != 0:\n",
    "            a, b  = b, a % b\n",
    "            print(\"a = \", a, \" | b = \", b)\n",
    "        return a"
   ]
  },
  {
   "cell_type": "code",
   "execution_count": 25,
   "metadata": {},
   "outputs": [
    {
     "name": "stdout",
     "output_type": "stream",
     "text": [
      "a =  24  | b =  36\n",
      "a =  36  | b =  24\n",
      "a =  24  | b =  12\n",
      "a =  12  | b =  0\n"
     ]
    },
    {
     "data": {
      "text/plain": [
       "12"
      ]
     },
     "execution_count": 25,
     "metadata": {},
     "output_type": "execute_result"
    }
   ],
   "source": [
    "gcd(24, 36)"
   ]
  },
  {
   "cell_type": "markdown",
   "metadata": {},
   "source": [
    "## Exercise 2.2 | Mirror"
   ]
  },
  {
   "cell_type": "code",
   "execution_count": 26,
   "metadata": {
    "collapsed": true
   },
   "outputs": [],
   "source": [
    "def mirror(n):\n",
    "    \"\"\"Computes mirror of non-negative integer.\"\"\"\n",
    "    if n < 0:\n",
    "        raise Exception(\"Entry has to be non-negative.\")\n",
    "    else:\n",
    "        accu = 0\n",
    "        while n > 0:\n",
    "            accu = accu * 10 + n % 10\n",
    "            n = n // 10\n",
    "        return accu"
   ]
  },
  {
   "cell_type": "code",
   "execution_count": 27,
   "metadata": {},
   "outputs": [
    {
     "data": {
      "text/plain": [
       "432921"
      ]
     },
     "execution_count": 27,
     "metadata": {},
     "output_type": "execute_result"
    }
   ],
   "source": [
    "mirror(129234)"
   ]
  },
  {
   "cell_type": "markdown",
   "metadata": {},
   "source": [
    "## Exercise 2.3 | Quotient"
   ]
  },
  {
   "cell_type": "code",
   "execution_count": 28,
   "metadata": {
    "collapsed": true
   },
   "outputs": [],
   "source": [
    "def quotient(a, b):\n",
    "    \"\"\"Computes integer division of a by b.\"\"\"\n",
    "    if a <= 0 or b <= 0:\n",
    "        raise Exception(\"One entry is not positive.\")\n",
    "    else:\n",
    "        q = 0\n",
    "        while a > b:\n",
    "            a = a - b\n",
    "            q = q + 1\n",
    "        return q"
   ]
  },
  {
   "cell_type": "code",
   "execution_count": 29,
   "metadata": {},
   "outputs": [
    {
     "data": {
      "text/plain": [
       "0"
      ]
     },
     "execution_count": 29,
     "metadata": {},
     "output_type": "execute_result"
    }
   ],
   "source": [
    "quotient(5, 36)"
   ]
  },
  {
   "cell_type": "markdown",
   "metadata": {
    "collapsed": true
   },
   "source": [
    "## Exercise 2.4 | Factorial Bound"
   ]
  },
  {
   "cell_type": "code",
   "execution_count": 39,
   "metadata": {
    "collapsed": true
   },
   "outputs": [],
   "source": [
    "def facto_bound(limit):\n",
    "    \"\"\"Computes highest even number whose factorial is smaller than limit.\"\"\"\n",
    "    facto = 1\n",
    "    n = 1 \n",
    "    while facto < limit:\n",
    "        n = n + 1\n",
    "        facto = facto * n\n",
    "    n = n - 1\n",
    "    return n - n % 2        "
   ]
  },
  {
   "cell_type": "code",
   "execution_count": 40,
   "metadata": {},
   "outputs": [
    {
     "data": {
      "text/plain": [
       "0"
      ]
     },
     "execution_count": 40,
     "metadata": {},
     "output_type": "execute_result"
    }
   ],
   "source": [
    "facto_bound(1)"
   ]
  },
  {
   "cell_type": "markdown",
   "metadata": {},
   "source": [
    "## Exercise 2.5 | Power"
   ]
  },
  {
   "cell_type": "code",
   "execution_count": 47,
   "metadata": {
    "collapsed": true
   },
   "outputs": [],
   "source": [
    "def is_power(a, b):\n",
    "    \"\"\"Checks whether a is a power of b.\"\"\"\n",
    "    if a <= 0 or b <= 0:\n",
    "        raise Exception(\"One entry is not positive.\")\n",
    "    elif b == 1:\n",
    "        return a == 1\n",
    "    else:\n",
    "        pow_b = 1\n",
    "        while pow_b < a:\n",
    "            pow_b = pow_b * b\n",
    "        return pow_b == a"
   ]
  },
  {
   "cell_type": "code",
   "execution_count": 48,
   "metadata": {},
   "outputs": [
    {
     "data": {
      "text/plain": [
       "False"
      ]
     },
     "execution_count": 48,
     "metadata": {},
     "output_type": "execute_result"
    }
   ],
   "source": [
    "is_power(33, 2)"
   ]
  },
  {
   "cell_type": "markdown",
   "metadata": {},
   "source": [
    "## Exercise 2.6 | Prime"
   ]
  },
  {
   "cell_type": "code",
   "execution_count": 49,
   "metadata": {
    "collapsed": true
   },
   "outputs": [],
   "source": [
    "def is_prime(n):\n",
    "    \"\"\"Tests whether a positive integer is prime.\"\"\"\n",
    "    if n < 2:\n",
    "        raise Exception(\"Entry has to be bigger than 1.\")\n",
    "    elif n % 2 == 0:\n",
    "        return n == 2\n",
    "    else:\n",
    "        prime = True\n",
    "        p = 3\n",
    "        while prime and p*p <= n:\n",
    "            if n % p == 0:\n",
    "                prime = False\n",
    "            p = p + 2\n",
    "        return prime"
   ]
  },
  {
   "cell_type": "code",
   "execution_count": null,
   "metadata": {
    "collapsed": true
   },
   "outputs": [],
   "source": []
  },
  {
   "cell_type": "code",
   "execution_count": null,
   "metadata": {
    "collapsed": true
   },
   "outputs": [],
   "source": []
  }
 ],
 "metadata": {
  "kernelspec": {
   "display_name": "Python 3",
   "language": "python",
   "name": "python3"
  },
  "language_info": {
   "codemirror_mode": {
    "name": "ipython",
    "version": 3
   },
   "file_extension": ".py",
   "mimetype": "text/x-python",
   "name": "python",
   "nbconvert_exporter": "python",
   "pygments_lexer": "ipython3",
   "version": "3.5.2"
  }
 },
 "nbformat": 4,
 "nbformat_minor": 2
}
