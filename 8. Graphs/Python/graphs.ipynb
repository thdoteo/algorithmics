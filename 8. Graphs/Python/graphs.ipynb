{
 "cells": [
  {
   "cell_type": "markdown",
   "metadata": {},
   "source": [
    "# Graphs - Implementations and Traversals\n",
    "\n",
    "We'll be looking into two ways of implementing graphs : the `static` approach using a matrix representation and a `dynamique` one (`hybrid` in fact) using adjacency lists. "
   ]
  },
  {
   "cell_type": "code",
   "execution_count": 1,
   "metadata": {
    "collapsed": true
   },
   "outputs": [],
   "source": [
    "from algopy import graph, graphmat\n",
    "from algopy.graphmat import GraphMat\n",
    "from algopy.graph import Graph\n"
   ]
  },
  {
   "cell_type": "markdown",
   "metadata": {},
   "source": [
    "## Exercise 1.1 : Adjacency Matrix\n",
    "\n",
    "The `adjacency matrix` is a square matrix of size $|V|$ where $V$ is the set of vertices of the graph. At row $i$ and column $j$ one finds $1$ if the graph contains the edge/arrow $(i, j)$ and $0$ otherwise. In case of a multi-graph the coefficient found at position $(i, j)$ is the number of edge/arrow between $(i, j)$. In the case the graph is undirected then the obtained matrix is symmetrical: if edge $(i, j)$ is in the graph then so is the case of edge $(j, i)$. \n",
    "\n",
    "Here it the `adjacency matrix` we'll be using : "
   ]
  },
  {
   "cell_type": "raw",
   "metadata": {
    "collapsed": true
   },
   "source": [
    "class GraphMat:\n",
    "    \"\"\" Simple class for static graph.\n",
    "\n",
    "    Attributes:\n",
    "        order (int): Number of vertices.\n",
    "        directed (bool): True if the graph is directed. False otherwise.\n",
    "        adj (List[List[int]]): Adjacency matrix\n",
    "    \"\"\"\n",
    "\n",
    "    def __init__(self, order, directed=False):\n",
    "        \"\"\"\n",
    "        Args:\n",
    "            order (int): Number of nodes.\n",
    "            directed (bool): True if the graph is directed. False otherwise.\n",
    "        \"\"\"\n",
    "        \n",
    "        self.order = order\n",
    "        self.directed = directed\n",
    "        self.adj = [[0 for j in range(order)] for i in range(order)]"
   ]
  },
  {
   "cell_type": "markdown",
   "metadata": {},
   "source": [
    "### How are mutli-graphs represented? \n",
    "\n",
    "As said previously, it is enough to store the number of edges/arrows between vertices $i$ and $j$ at position $(i, j)$ of adjacency matrix. \n",
    "\n",
    "### How to take into account possible valuations on edges / arrows ?\n",
    "\n",
    "In the case of a simple graph one can simply store the valuations within the adjacency matrix. In such a case be careful about the fact $0$ is not anymore a valid way of pointing out the fact there is no link between $i$ and $j$. In the case of a multi-graph there is need for another matrix of same shape to store valuations. "
   ]
  },
  {
   "cell_type": "markdown",
   "metadata": {},
   "source": [
    "### What storage complexity for this implementation ?\n",
    "\n",
    "It is $O(|V|^2)$\n",
    "\n",
    "### What advantages and disadvantages do we have to work with such implementation ?\n",
    "\n",
    "These advantages or disadvantages make sense mostly in the case when they are compared to the `adjacency lists` implementation. \n",
    "\n",
    "#### Advantages\n",
    "\n",
    "- It is easy to detect whether there is a link between two vertices. \n",
    "\n",
    "- It is practical if we're expecting to simultaneously work with all edge/arrows of a graph. That's for example the case for the Floyd-Warshall algorithm computing shortest paths between any two vertices of a graph. \n",
    "\n",
    "- We easily have the list of predecessors of a vertex : it is enough to look at the corresponding column. \n",
    "\n",
    "#### Disadvantages\n",
    "\n",
    "- Comparing to the `adjacency lists` implementation complexity is an issue ; specifically in the case of non-dense graphs. For instance, visiting the neighbours of a given vertex has complexity $O(|V|)$ using `adjacency matrix` which is most of the time smaller in case of `adjacency lists`. "
   ]
  },
  {
   "cell_type": "markdown",
   "metadata": {},
   "source": [
    "## Exercices 1.2 : Adjacency Lists \n",
    "\n",
    "In this implementation the graphs is represented as a list of lists. The first list corresponds to the vertex having identifier $0$, the second for the vertex having identifier $1$ and so on. The elements of an inner list contains the list of successors of corresponding vertex. \n",
    "\n",
    "Here is the `python` class we'll be dealing with:"
   ]
  },
  {
   "cell_type": "raw",
   "metadata": {
    "collapsed": true
   },
   "source": [
    "class Graph:\n",
    "    \"\"\" Simple class for graph: adjacency lists\n",
    "\n",
    "    Attributes:\n",
    "        order (int): Number of vertices.\n",
    "        directed (bool): True if the graph is directed. False otherwise.\n",
    "        adjlists (List[List[int]]): Lists of connected vertices for each vertex.\n",
    "\n",
    "    \"\"\"\n",
    "\n",
    "    def __init__(self, order, directed=False):\n",
    "        \"\"\"Init graph, allocate adjacency lists\n",
    "\n",
    "        Args:\n",
    "            order (int): Number of nodes.\n",
    "            directed (bool): True if the graph is directed. False otherwise.\n",
    "\n",
    "        \"\"\"\n",
    "\n",
    "        self.order = order\n",
    "        self.directed = directed\n",
    "        self.adjlists = []\n",
    "        for _ in range(order):\n",
    "            self.adjlists.append([])"
   ]
  },
  {
   "cell_type": "markdown",
   "metadata": {},
   "source": [
    "### How are multi-graphs represented? \n",
    "\n",
    "Given a vertex $v$ origin of many links to $s$, it is enough to repeat $s$ as many times as there are edges/arrows from $v$ to $s$. One could also store a tuple the second entry of which is the number of multi-links. \n",
    "\n",
    "### How to take valuations into account?\n",
    "\n",
    "You can replace vertices by couples. \n",
    "\n",
    "### What is the storage complexity for this implementation ?\n",
    "\n",
    "It is $O(|V| + |A|)$."
   ]
  },
  {
   "cell_type": "markdown",
   "metadata": {},
   "source": [
    "### What are the advantages and disadvantages of working with this implementation ?\n",
    "\n",
    "#### Advantages\n",
    "\n",
    "- It is easy to go through successors of a vertex ; complexity is lower than in the case of adjacency matrices. \n",
    "\n",
    "- It is easy to implement dynamically. \n",
    "\n",
    "#### Disadvantages\n",
    "\n",
    "- Detecting the existance of an edge/arrow is not easy. \n",
    "\n",
    "- As is it is not easy to look for predecessors. It is standard to have such a list of lists in this implentation. "
   ]
  },
  {
   "cell_type": "markdown",
   "metadata": {},
   "source": [
    "## Exercise 1.3 : Dot\n",
    "\n",
    "Write down the functions that give you back simplify `dot` formats for graphs using **both** previously implemented structures. "
   ]
  },
  {
   "cell_type": "markdown",
   "metadata": {},
   "source": [
    "### `Adjacency Matrix`"
   ]
  },
  {
   "cell_type": "code",
   "execution_count": 2,
   "metadata": {
    "collapsed": true
   },
   "outputs": [],
   "source": [
    "def todot_m(G):\n",
    "    \"\"\"Retunrs .dot file representing graph\n",
    "    \n",
    "    Graph is supposed to be implemented using adjacency matrix.\n",
    "    \n",
    "    \"\"\"\n",
    "    (dot, link) = (\"digraph {\\n\", \"->\") if G.directed else (\"graph {\\n\", \"--\")\n",
    "    # Going through vertices \n",
    "    for v in range(G.order):\n",
    "        # Going though links of a v\n",
    "        start = 0 if G.directed else v\n",
    "        for s in range(start, G.order):\n",
    "            for i in range(G.adj[v][s]): # Tests for link\n",
    "                dot += \"{} {} {}\\n\".format(v, link, s)\n",
    "    dot += \"}\"\n",
    "    return dot"
   ]
  },
  {
   "cell_type": "code",
   "execution_count": 3,
   "metadata": {},
   "outputs": [
    {
     "ename": "NameError",
     "evalue": "name 'graph_1' is not defined",
     "output_type": "error",
     "traceback": [
      "\u001b[0;31m---------------------------------------------------------------------------\u001b[0m",
      "\u001b[0;31mNameError\u001b[0m                                 Traceback (most recent call last)",
      "\u001b[0;32m<ipython-input-3-e6e7d7990ece>\u001b[0m in \u001b[0;36m<module>\u001b[0;34m()\u001b[0m\n\u001b[0;32m----> 1\u001b[0;31m \u001b[0mprint\u001b[0m\u001b[0;34m(\u001b[0m\u001b[0mtodot_m\u001b[0m\u001b[0;34m(\u001b[0m\u001b[0mgraph_1\u001b[0m\u001b[0;34m)\u001b[0m\u001b[0;34m)\u001b[0m\u001b[0;34m\u001b[0m\u001b[0m\n\u001b[0m",
      "\u001b[0;31mNameError\u001b[0m: name 'graph_1' is not defined"
     ]
    }
   ],
   "source": [
    "print(todot_m(graph_1))"
   ]
  },
  {
   "cell_type": "markdown",
   "metadata": {},
   "source": [
    "### `Adjacency Lists`"
   ]
  },
  {
   "cell_type": "code",
   "execution_count": null,
   "metadata": {
    "collapsed": true
   },
   "outputs": [],
   "source": [
    "def todot(G):\n",
    "    \"\"\"Retunrs .dot file representing graph\n",
    "    \n",
    "    Graph is supposed to be implemented using adjacency lists.\n",
    "    \n",
    "    \"\"\"\n",
    "    (dot, link) = (\"digraph {\\n\", \"->\") if G.directed else (\"graph {\\n\", \"--\")\n",
    "    # Going through vertices \n",
    "    for v in range(G.order):\n",
    "        # Going though links of a v\n",
    "        for s in G.adjlists[v]:\n",
    "            if G.directed or s >= v:\n",
    "                dot += \"{} {} {}\\n\".format(v, link, s)\n",
    "    dot += \"}\"\n",
    "    return dot"
   ]
  },
  {
   "cell_type": "code",
   "execution_count": 4,
   "metadata": {},
   "outputs": [
    {
     "ename": "NameError",
     "evalue": "name 'todot' is not defined",
     "output_type": "error",
     "traceback": [
      "\u001b[0;31m---------------------------------------------------------------------------\u001b[0m",
      "\u001b[0;31mNameError\u001b[0m                                 Traceback (most recent call last)",
      "\u001b[0;32m<ipython-input-4-b7c9d3e2e3ae>\u001b[0m in \u001b[0;36m<module>\u001b[0;34m()\u001b[0m\n\u001b[0;32m----> 1\u001b[0;31m \u001b[0mprint\u001b[0m\u001b[0;34m(\u001b[0m\u001b[0mtodot\u001b[0m\u001b[0;34m(\u001b[0m\u001b[0mgraph_2\u001b[0m\u001b[0;34m)\u001b[0m\u001b[0;34m)\u001b[0m\u001b[0;34m\u001b[0m\u001b[0m\n\u001b[0m",
      "\u001b[0;31mNameError\u001b[0m: name 'todot' is not defined"
     ]
    }
   ],
   "source": [
    "print(todot(graph_2))"
   ]
  },
  {
   "cell_type": "markdown",
   "metadata": {},
   "source": [
    "## Exercise 1.4 : Load\n",
    "\n",
    "### `Adjacency Matrix`\n"
   ]
  },
  {
   "cell_type": "code",
   "execution_count": 5,
   "metadata": {},
   "outputs": [
    {
     "data": {
      "text/plain": [
       "False"
      ]
     },
     "execution_count": 5,
     "metadata": {},
     "output_type": "execute_result"
    }
   ],
   "source": [
    "bool(int(\"0\"))"
   ]
  },
  {
   "cell_type": "code",
   "execution_count": 6,
   "metadata": {
    "collapsed": true
   },
   "outputs": [],
   "source": [
    "def loadGRA_m(filename):\n",
    "    f = open(filename)\n",
    "    directed = bool(int(f.readline())) # readline strips \\n\n",
    "    order = int(f.readline())\n",
    "    G = GraphMat(order, directed)\n",
    "    for line in f.readlines():\n",
    "        edge = line.strip().split(' ')\n",
    "        G.addedge(int(edge[0]), int(edge[1]))\n",
    "    f.close()\n",
    "    return G"
   ]
  },
  {
   "cell_type": "code",
   "execution_count": 7,
   "metadata": {
    "collapsed": true
   },
   "outputs": [],
   "source": [
    "graph_1_m = loadGRA_m(\"files/digraph1.gra\")"
   ]
  },
  {
   "cell_type": "code",
   "execution_count": 8,
   "metadata": {
    "collapsed": true
   },
   "outputs": [],
   "source": [
    "graph_2_m = loadGRA_m(\"files/graph2.gra\")"
   ]
  },
  {
   "cell_type": "code",
   "execution_count": 9,
   "metadata": {},
   "outputs": [
    {
     "data": {
      "image/svg+xml": [
       "<?xml version=\"1.0\" encoding=\"UTF-8\" standalone=\"no\"?>\n",
       "<!DOCTYPE svg PUBLIC \"-//W3C//DTD SVG 1.1//EN\"\n",
       " \"http://www.w3.org/Graphics/SVG/1.1/DTD/svg11.dtd\">\n",
       "<!-- Generated by graphviz version 2.40.1 (20161225.0304)\n",
       " -->\n",
       "<!-- Title: %3 Pages: 1 -->\n",
       "<svg width=\"262pt\" height=\"332pt\"\n",
       " viewBox=\"0.00 0.00 262.46 332.00\" xmlns=\"http://www.w3.org/2000/svg\" xmlns:xlink=\"http://www.w3.org/1999/xlink\">\n",
       "<g id=\"graph0\" class=\"graph\" transform=\"scale(1 1) rotate(0) translate(4 328)\">\n",
       "<title>%3</title>\n",
       "<polygon fill=\"#ffffff\" stroke=\"transparent\" points=\"-4,4 -4,-328 258.4556,-328 258.4556,4 -4,4\"/>\n",
       "<!-- 0 -->\n",
       "<g id=\"node1\" class=\"node\">\n",
       "<title>0</title>\n",
       "<ellipse fill=\"none\" stroke=\"#000000\" cx=\"172.4556\" cy=\"-306\" rx=\"27\" ry=\"18\"/>\n",
       "<text text-anchor=\"middle\" x=\"172.4556\" y=\"-301.8\" font-family=\"Times,serif\" font-size=\"14.00\" fill=\"#000000\">0</text>\n",
       "</g>\n",
       "<!-- 1 -->\n",
       "<g id=\"node2\" class=\"node\">\n",
       "<title>1</title>\n",
       "<ellipse fill=\"none\" stroke=\"#000000\" cx=\"227.4556\" cy=\"-234\" rx=\"27\" ry=\"18\"/>\n",
       "<text text-anchor=\"middle\" x=\"227.4556\" y=\"-229.8\" font-family=\"Times,serif\" font-size=\"14.00\" fill=\"#000000\">1</text>\n",
       "</g>\n",
       "<!-- 0&#45;&gt;1 -->\n",
       "<g id=\"edge1\" class=\"edge\">\n",
       "<title>0&#45;&gt;1</title>\n",
       "<path fill=\"none\" stroke=\"#000000\" d=\"M184.936,-289.6621C191.9681,-280.4564 200.8903,-268.7764 208.7439,-258.4953\"/>\n",
       "<polygon fill=\"#000000\" stroke=\"#000000\" points=\"211.7356,-260.3446 215.0247,-250.2733 206.1729,-256.0953 211.7356,-260.3446\"/>\n",
       "</g>\n",
       "<!-- 2 -->\n",
       "<g id=\"node3\" class=\"node\">\n",
       "<title>2</title>\n",
       "<ellipse fill=\"none\" stroke=\"#000000\" cx=\"79.4556\" cy=\"-162\" rx=\"27\" ry=\"18\"/>\n",
       "<text text-anchor=\"middle\" x=\"79.4556\" y=\"-157.8\" font-family=\"Times,serif\" font-size=\"14.00\" fill=\"#000000\">2</text>\n",
       "</g>\n",
       "<!-- 0&#45;&gt;2 -->\n",
       "<g id=\"edge2\" class=\"edge\">\n",
       "<title>0&#45;&gt;2</title>\n",
       "<path fill=\"none\" stroke=\"#000000\" d=\"M161.6053,-289.1995C145.3652,-264.0535 114.6264,-216.4579 95.7016,-187.1551\"/>\n",
       "<polygon fill=\"#000000\" stroke=\"#000000\" points=\"98.6023,-185.195 90.2368,-178.6934 92.722,-188.9927 98.6023,-185.195\"/>\n",
       "</g>\n",
       "<!-- 6 -->\n",
       "<g id=\"node4\" class=\"node\">\n",
       "<title>6</title>\n",
       "<ellipse fill=\"none\" stroke=\"#000000\" cx=\"172.4556\" cy=\"-90\" rx=\"27\" ry=\"18\"/>\n",
       "<text text-anchor=\"middle\" x=\"172.4556\" y=\"-85.8\" font-family=\"Times,serif\" font-size=\"14.00\" fill=\"#000000\">6</text>\n",
       "</g>\n",
       "<!-- 0&#45;&gt;6 -->\n",
       "<g id=\"edge3\" class=\"edge\">\n",
       "<title>0&#45;&gt;6</title>\n",
       "<path fill=\"none\" stroke=\"#000000\" d=\"M172.4556,-287.9555C172.4556,-250.3938 172.4556,-163.5541 172.4556,-118.4103\"/>\n",
       "<polygon fill=\"#000000\" stroke=\"#000000\" points=\"175.9557,-118.145 172.4556,-108.1451 168.9557,-118.1451 175.9557,-118.145\"/>\n",
       "</g>\n",
       "<!-- 3 -->\n",
       "<g id=\"node5\" class=\"node\">\n",
       "<title>3</title>\n",
       "<ellipse fill=\"none\" stroke=\"#000000\" cx=\"227.4556\" cy=\"-162\" rx=\"27\" ry=\"18\"/>\n",
       "<text text-anchor=\"middle\" x=\"227.4556\" y=\"-157.8\" font-family=\"Times,serif\" font-size=\"14.00\" fill=\"#000000\">3</text>\n",
       "</g>\n",
       "<!-- 1&#45;&gt;3 -->\n",
       "<g id=\"edge4\" class=\"edge\">\n",
       "<title>1&#45;&gt;3</title>\n",
       "<path fill=\"none\" stroke=\"#000000\" d=\"M227.4556,-215.8314C227.4556,-208.131 227.4556,-198.9743 227.4556,-190.4166\"/>\n",
       "<polygon fill=\"#000000\" stroke=\"#000000\" points=\"230.9557,-190.4132 227.4556,-180.4133 223.9557,-190.4133 230.9557,-190.4132\"/>\n",
       "</g>\n",
       "<!-- 2&#45;&gt;6 -->\n",
       "<g id=\"edge5\" class=\"edge\">\n",
       "<title>2&#45;&gt;6</title>\n",
       "<path fill=\"none\" stroke=\"#000000\" d=\"M97.387,-148.1177C111.282,-137.3602 130.7337,-122.3009 146.3547,-110.2072\"/>\n",
       "<polygon fill=\"#000000\" stroke=\"#000000\" points=\"148.8147,-112.729 154.5793,-103.8397 144.5295,-107.1939 148.8147,-112.729\"/>\n",
       "</g>\n",
       "<!-- 8 -->\n",
       "<g id=\"node6\" class=\"node\">\n",
       "<title>8</title>\n",
       "<ellipse fill=\"none\" stroke=\"#000000\" cx=\"33.4556\" cy=\"-90\" rx=\"27\" ry=\"18\"/>\n",
       "<text text-anchor=\"middle\" x=\"33.4556\" y=\"-85.8\" font-family=\"Times,serif\" font-size=\"14.00\" fill=\"#000000\">8</text>\n",
       "</g>\n",
       "<!-- 2&#45;&gt;8 -->\n",
       "<g id=\"edge6\" class=\"edge\">\n",
       "<title>2&#45;&gt;8</title>\n",
       "<path fill=\"none\" stroke=\"#000000\" d=\"M68.7867,-145.3008C63.097,-136.3952 55.978,-125.2524 49.624,-115.307\"/>\n",
       "<polygon fill=\"#000000\" stroke=\"#000000\" points=\"52.4001,-113.1513 44.0667,-106.6087 46.5012,-116.92 52.4001,-113.1513\"/>\n",
       "</g>\n",
       "<!-- 6&#45;&gt;3 -->\n",
       "<g id=\"edge11\" class=\"edge\">\n",
       "<title>6&#45;&gt;3</title>\n",
       "<path fill=\"none\" stroke=\"#000000\" d=\"M188.9509,-104.3649C197.1165,-113.4964 206.6722,-125.5802 214.3389,-136.3239\"/>\n",
       "<polygon fill=\"#000000\" stroke=\"#000000\" points=\"211.4646,-138.3211 220.0199,-144.5708 217.2293,-134.3501 211.4646,-138.3211\"/>\n",
       "</g>\n",
       "<!-- 4 -->\n",
       "<g id=\"node7\" class=\"node\">\n",
       "<title>4</title>\n",
       "<ellipse fill=\"none\" stroke=\"#000000\" cx=\"199.4556\" cy=\"-18\" rx=\"27\" ry=\"18\"/>\n",
       "<text text-anchor=\"middle\" x=\"199.4556\" y=\"-13.8\" font-family=\"Times,serif\" font-size=\"14.00\" fill=\"#000000\">4</text>\n",
       "</g>\n",
       "<!-- 6&#45;&gt;4 -->\n",
       "<g id=\"edge12\" class=\"edge\">\n",
       "<title>6&#45;&gt;4</title>\n",
       "<path fill=\"none\" stroke=\"#000000\" d=\"M179.1298,-72.2022C182.2032,-64.0064 185.9172,-54.1024 189.3252,-45.0145\"/>\n",
       "<polygon fill=\"#000000\" stroke=\"#000000\" points=\"192.6241,-46.1853 192.8582,-35.593 186.0698,-43.7274 192.6241,-46.1853\"/>\n",
       "</g>\n",
       "<!-- 3&#45;&gt;6 -->\n",
       "<g id=\"edge7\" class=\"edge\">\n",
       "<title>3&#45;&gt;6</title>\n",
       "<path fill=\"none\" stroke=\"#000000\" d=\"M210.7769,-147.4297C202.7,-138.3769 193.2939,-126.4814 185.7078,-115.8658\"/>\n",
       "<polygon fill=\"#000000\" stroke=\"#000000\" points=\"188.389,-113.5884 179.8326,-107.3403 182.6251,-117.5605 188.389,-113.5884\"/>\n",
       "</g>\n",
       "<!-- 4&#45;&gt;3 -->\n",
       "<g id=\"edge8\" class=\"edge\">\n",
       "<title>4&#45;&gt;3</title>\n",
       "<path fill=\"none\" stroke=\"#000000\" d=\"M202.9892,-36.1727C207.7914,-60.8697 216.4228,-105.2595 222.0439,-134.1684\"/>\n",
       "<polygon fill=\"#000000\" stroke=\"#000000\" points=\"218.6216,-134.9054 223.966,-144.0535 225.4929,-133.5692 218.6216,-134.9054\"/>\n",
       "</g>\n",
       "<!-- 5 -->\n",
       "<g id=\"node8\" class=\"node\">\n",
       "<title>5</title>\n",
       "<ellipse fill=\"none\" stroke=\"#000000\" cx=\"41.4556\" cy=\"-234\" rx=\"27\" ry=\"18\"/>\n",
       "<text text-anchor=\"middle\" x=\"41.4556\" y=\"-229.8\" font-family=\"Times,serif\" font-size=\"14.00\" fill=\"#000000\">5</text>\n",
       "</g>\n",
       "<!-- 5&#45;&gt;2 -->\n",
       "<g id=\"edge9\" class=\"edge\">\n",
       "<title>5&#45;&gt;2</title>\n",
       "<path fill=\"none\" stroke=\"#000000\" d=\"M50.4611,-216.937C54.9384,-208.4537 60.4508,-198.0092 65.4627,-188.513\"/>\n",
       "<polygon fill=\"#000000\" stroke=\"#000000\" points=\"68.6785,-189.9182 70.2508,-179.4407 62.4878,-186.6509 68.6785,-189.9182\"/>\n",
       "</g>\n",
       "<!-- 5&#45;&gt;6 -->\n",
       "<g id=\"edge10\" class=\"edge\">\n",
       "<title>5&#45;&gt;6</title>\n",
       "<path fill=\"none\" stroke=\"#000000\" d=\"M36.5283,-216.0457C32.2989,-196.5368 28.9313,-165.3084 43.4556,-144 64.0671,-113.7613 105.127,-100.4108 135.4108,-94.5441\"/>\n",
       "<polygon fill=\"#000000\" stroke=\"#000000\" points=\"136.3707,-97.9297 145.6219,-92.7657 135.1696,-91.0335 136.3707,-97.9297\"/>\n",
       "</g>\n",
       "<!-- 7 -->\n",
       "<g id=\"node9\" class=\"node\">\n",
       "<title>7</title>\n",
       "<ellipse fill=\"none\" stroke=\"#000000\" cx=\"41.4556\" cy=\"-306\" rx=\"27\" ry=\"18\"/>\n",
       "<text text-anchor=\"middle\" x=\"41.4556\" y=\"-301.8\" font-family=\"Times,serif\" font-size=\"14.00\" fill=\"#000000\">7</text>\n",
       "</g>\n",
       "<!-- 7&#45;&gt;6 -->\n",
       "<g id=\"edge14\" class=\"edge\">\n",
       "<title>7&#45;&gt;6</title>\n",
       "<path fill=\"none\" stroke=\"#000000\" d=\"M52.7337,-289.6172C59.958,-278.9939 69.446,-264.7986 77.4556,-252 107.0516,-204.7085 139.5254,-148.2619 157.808,-116.0263\"/>\n",
       "<polygon fill=\"#000000\" stroke=\"#000000\" points=\"160.9124,-117.6469 162.7909,-107.2199 154.82,-114.1997 160.9124,-117.6469\"/>\n",
       "</g>\n",
       "<!-- 7&#45;&gt;8 -->\n",
       "<g id=\"edge15\" class=\"edge\">\n",
       "<title>7&#45;&gt;8</title>\n",
       "<path fill=\"none\" stroke=\"#000000\" d=\"M27.3327,-290.2844C19.2022,-280.1468 9.7656,-266.2347 5.4556,-252 -8.6361,-205.4581 8.431,-149.1119 21.4244,-116.6261\"/>\n",
       "<polygon fill=\"#000000\" stroke=\"#000000\" points=\"24.6749,-117.9247 25.287,-107.3476 18.2125,-115.2344 24.6749,-117.9247\"/>\n",
       "</g>\n",
       "<!-- 7&#45;&gt;5 -->\n",
       "<g id=\"edge13\" class=\"edge\">\n",
       "<title>7&#45;&gt;5</title>\n",
       "<path fill=\"none\" stroke=\"#000000\" d=\"M41.4556,-287.8314C41.4556,-280.131 41.4556,-270.9743 41.4556,-262.4166\"/>\n",
       "<polygon fill=\"#000000\" stroke=\"#000000\" points=\"44.9557,-262.4132 41.4556,-252.4133 37.9557,-262.4133 44.9557,-262.4132\"/>\n",
       "</g>\n",
       "</g>\n",
       "</svg>\n"
      ],
      "text/plain": [
       "<graphviz.files.Source at 0x10aa6b6a0>"
      ]
     },
     "metadata": {},
     "output_type": "display_data"
    }
   ],
   "source": [
    "graphmat.display(graph_1_m)"
   ]
  },
  {
   "cell_type": "code",
   "execution_count": 10,
   "metadata": {},
   "outputs": [
    {
     "data": {
      "image/svg+xml": [
       "<?xml version=\"1.0\" encoding=\"UTF-8\" standalone=\"no\"?>\n",
       "<!DOCTYPE svg PUBLIC \"-//W3C//DTD SVG 1.1//EN\"\n",
       " \"http://www.w3.org/Graphics/SVG/1.1/DTD/svg11.dtd\">\n",
       "<!-- Generated by graphviz version 2.40.1 (20161225.0304)\n",
       " -->\n",
       "<!-- Title: %3 Pages: 1 -->\n",
       "<svg width=\"316pt\" height=\"260pt\"\n",
       " viewBox=\"0.00 0.00 316.00 260.00\" xmlns=\"http://www.w3.org/2000/svg\" xmlns:xlink=\"http://www.w3.org/1999/xlink\">\n",
       "<g id=\"graph0\" class=\"graph\" transform=\"scale(1 1) rotate(0) translate(4 256)\">\n",
       "<title>%3</title>\n",
       "<polygon fill=\"#ffffff\" stroke=\"transparent\" points=\"-4,4 -4,-256 312,-256 312,4 -4,4\"/>\n",
       "<!-- 0 -->\n",
       "<g id=\"node1\" class=\"node\">\n",
       "<title>0</title>\n",
       "<ellipse fill=\"none\" stroke=\"#000000\" cx=\"63\" cy=\"-234\" rx=\"27\" ry=\"18\"/>\n",
       "<text text-anchor=\"middle\" x=\"63\" y=\"-229.8\" font-family=\"Times,serif\" font-size=\"14.00\" fill=\"#000000\">0</text>\n",
       "</g>\n",
       "<!-- 1 -->\n",
       "<g id=\"node2\" class=\"node\">\n",
       "<title>1</title>\n",
       "<ellipse fill=\"none\" stroke=\"#000000\" cx=\"27\" cy=\"-162\" rx=\"27\" ry=\"18\"/>\n",
       "<text text-anchor=\"middle\" x=\"27\" y=\"-157.8\" font-family=\"Times,serif\" font-size=\"14.00\" fill=\"#000000\">1</text>\n",
       "</g>\n",
       "<!-- 0&#45;&#45;1 -->\n",
       "<g id=\"edge1\" class=\"edge\">\n",
       "<title>0&#45;&#45;1</title>\n",
       "<path fill=\"none\" stroke=\"#000000\" d=\"M54.2854,-216.5708C48.6253,-205.2506 41.2784,-190.5568 35.6343,-179.2687\"/>\n",
       "</g>\n",
       "<!-- 2 -->\n",
       "<g id=\"node3\" class=\"node\">\n",
       "<title>2</title>\n",
       "<ellipse fill=\"none\" stroke=\"#000000\" cx=\"99\" cy=\"-162\" rx=\"27\" ry=\"18\"/>\n",
       "<text text-anchor=\"middle\" x=\"99\" y=\"-157.8\" font-family=\"Times,serif\" font-size=\"14.00\" fill=\"#000000\">2</text>\n",
       "</g>\n",
       "<!-- 0&#45;&#45;2 -->\n",
       "<g id=\"edge2\" class=\"edge\">\n",
       "<title>0&#45;&#45;2</title>\n",
       "<path fill=\"none\" stroke=\"#000000\" d=\"M71.7146,-216.5708C77.3747,-205.2506 84.7216,-190.5568 90.3657,-179.2687\"/>\n",
       "</g>\n",
       "<!-- 3 -->\n",
       "<g id=\"node4\" class=\"node\">\n",
       "<title>3</title>\n",
       "<ellipse fill=\"none\" stroke=\"#000000\" cx=\"27\" cy=\"-90\" rx=\"27\" ry=\"18\"/>\n",
       "<text text-anchor=\"middle\" x=\"27\" y=\"-85.8\" font-family=\"Times,serif\" font-size=\"14.00\" fill=\"#000000\">3</text>\n",
       "</g>\n",
       "<!-- 1&#45;&#45;3 -->\n",
       "<g id=\"edge3\" class=\"edge\">\n",
       "<title>1&#45;&#45;3</title>\n",
       "<path fill=\"none\" stroke=\"#000000\" d=\"M27,-143.8314C27,-133 27,-119.2876 27,-108.4133\"/>\n",
       "</g>\n",
       "<!-- 4 -->\n",
       "<g id=\"node5\" class=\"node\">\n",
       "<title>4</title>\n",
       "<ellipse fill=\"none\" stroke=\"#000000\" cx=\"226\" cy=\"-234\" rx=\"27\" ry=\"18\"/>\n",
       "<text text-anchor=\"middle\" x=\"226\" y=\"-229.8\" font-family=\"Times,serif\" font-size=\"14.00\" fill=\"#000000\">4</text>\n",
       "</g>\n",
       "<!-- 5 -->\n",
       "<g id=\"node6\" class=\"node\">\n",
       "<title>5</title>\n",
       "<ellipse fill=\"none\" stroke=\"#000000\" cx=\"281\" cy=\"-162\" rx=\"27\" ry=\"18\"/>\n",
       "<text text-anchor=\"middle\" x=\"281\" y=\"-157.8\" font-family=\"Times,serif\" font-size=\"14.00\" fill=\"#000000\">5</text>\n",
       "</g>\n",
       "<!-- 4&#45;&#45;5 -->\n",
       "<g id=\"edge4\" class=\"edge\">\n",
       "<title>4&#45;&#45;5</title>\n",
       "<path fill=\"none\" stroke=\"#000000\" d=\"M238.4804,-217.6621C247.4814,-205.8788 259.5793,-190.0416 268.569,-178.2733\"/>\n",
       "</g>\n",
       "<!-- 6 -->\n",
       "<g id=\"node7\" class=\"node\">\n",
       "<title>6</title>\n",
       "<ellipse fill=\"none\" stroke=\"#000000\" cx=\"171\" cy=\"-162\" rx=\"27\" ry=\"18\"/>\n",
       "<text text-anchor=\"middle\" x=\"171\" y=\"-157.8\" font-family=\"Times,serif\" font-size=\"14.00\" fill=\"#000000\">6</text>\n",
       "</g>\n",
       "<!-- 4&#45;&#45;6 -->\n",
       "<g id=\"edge5\" class=\"edge\">\n",
       "<title>4&#45;&#45;6</title>\n",
       "<path fill=\"none\" stroke=\"#000000\" d=\"M213.5196,-217.6621C204.5186,-205.8788 192.4207,-190.0416 183.431,-178.2733\"/>\n",
       "</g>\n",
       "<!-- 7 -->\n",
       "<g id=\"node8\" class=\"node\">\n",
       "<title>7</title>\n",
       "<ellipse fill=\"none\" stroke=\"#000000\" cx=\"226\" cy=\"-90\" rx=\"27\" ry=\"18\"/>\n",
       "<text text-anchor=\"middle\" x=\"226\" y=\"-85.8\" font-family=\"Times,serif\" font-size=\"14.00\" fill=\"#000000\">7</text>\n",
       "</g>\n",
       "<!-- 4&#45;&#45;7 -->\n",
       "<g id=\"edge6\" class=\"edge\">\n",
       "<title>4&#45;&#45;7</title>\n",
       "<path fill=\"none\" stroke=\"#000000\" d=\"M226,-215.7623C226,-188.0633 226,-135.7005 226,-108.0896\"/>\n",
       "</g>\n",
       "<!-- 5&#45;&#45;7 -->\n",
       "<g id=\"edge7\" class=\"edge\">\n",
       "<title>5&#45;&#45;7</title>\n",
       "<path fill=\"none\" stroke=\"#000000\" d=\"M268.5196,-145.6621C259.5186,-133.8788 247.4207,-118.0416 238.431,-106.2733\"/>\n",
       "</g>\n",
       "<!-- 8 -->\n",
       "<g id=\"node9\" class=\"node\">\n",
       "<title>8</title>\n",
       "<ellipse fill=\"none\" stroke=\"#000000\" cx=\"253\" cy=\"-18\" rx=\"27\" ry=\"18\"/>\n",
       "<text text-anchor=\"middle\" x=\"253\" y=\"-13.8\" font-family=\"Times,serif\" font-size=\"14.00\" fill=\"#000000\">8</text>\n",
       "</g>\n",
       "<!-- 5&#45;&#45;8 -->\n",
       "<g id=\"edge8\" class=\"edge\">\n",
       "<title>5&#45;&#45;8</title>\n",
       "<path fill=\"none\" stroke=\"#000000\" d=\"M277.5104,-144.0535C272.1449,-116.4592 261.9255,-63.9026 256.5336,-36.1727\"/>\n",
       "</g>\n",
       "<!-- 6&#45;&#45;7 -->\n",
       "<g id=\"edge9\" class=\"edge\">\n",
       "<title>6&#45;&#45;7</title>\n",
       "<path fill=\"none\" stroke=\"#000000\" d=\"M183.4804,-145.6621C192.4814,-133.8788 204.5793,-118.0416 213.569,-106.2733\"/>\n",
       "</g>\n",
       "<!-- 7&#45;&#45;8 -->\n",
       "<g id=\"edge10\" class=\"edge\">\n",
       "<title>7&#45;&#45;8</title>\n",
       "<path fill=\"none\" stroke=\"#000000\" d=\"M232.6742,-72.2022C236.8593,-61.0419 242.2321,-46.7143 246.4026,-35.593\"/>\n",
       "</g>\n",
       "</g>\n",
       "</svg>\n"
      ],
      "text/plain": [
       "<graphviz.files.Source at 0x10aa6bb70>"
      ]
     },
     "metadata": {},
     "output_type": "display_data"
    }
   ],
   "source": [
    "graphmat.display(graph_2_m)"
   ]
  },
  {
   "cell_type": "markdown",
   "metadata": {},
   "source": [
    "### `Adjacency Lists`\n"
   ]
  },
  {
   "cell_type": "code",
   "execution_count": 11,
   "metadata": {
    "collapsed": true
   },
   "outputs": [],
   "source": [
    "def loadGRA(filename):\n",
    "    f = open(filename)\n",
    "    directed = bool(int(f.readline())) # readline strips \\n\n",
    "    order = int(f.readline())\n",
    "    G = Graph(order, directed)\n",
    "    for line in f.readlines():\n",
    "        edge = line.strip().split(' ')\n",
    "        G.addedge(int(edge[0]), int(edge[1]))\n",
    "    f.close()\n",
    "    return G"
   ]
  },
  {
   "cell_type": "code",
   "execution_count": 12,
   "metadata": {
    "collapsed": true
   },
   "outputs": [],
   "source": [
    "graph_1 = graph.loadgra(\"files/digraph1.gra\")"
   ]
  },
  {
   "cell_type": "code",
   "execution_count": 13,
   "metadata": {
    "collapsed": true
   },
   "outputs": [],
   "source": [
    "graph_2 = graph.loadgra(\"files/graph2.gra\")"
   ]
  },
  {
   "cell_type": "code",
   "execution_count": 14,
   "metadata": {},
   "outputs": [
    {
     "data": {
      "image/svg+xml": [
       "<?xml version=\"1.0\" encoding=\"UTF-8\" standalone=\"no\"?>\n",
       "<!DOCTYPE svg PUBLIC \"-//W3C//DTD SVG 1.1//EN\"\n",
       " \"http://www.w3.org/Graphics/SVG/1.1/DTD/svg11.dtd\">\n",
       "<!-- Generated by graphviz version 2.40.1 (20161225.0304)\n",
       " -->\n",
       "<!-- Title: %3 Pages: 1 -->\n",
       "<svg width=\"262pt\" height=\"332pt\"\n",
       " viewBox=\"0.00 0.00 262.46 332.00\" xmlns=\"http://www.w3.org/2000/svg\" xmlns:xlink=\"http://www.w3.org/1999/xlink\">\n",
       "<g id=\"graph0\" class=\"graph\" transform=\"scale(1 1) rotate(0) translate(4 328)\">\n",
       "<title>%3</title>\n",
       "<polygon fill=\"#ffffff\" stroke=\"transparent\" points=\"-4,4 -4,-328 258.4556,-328 258.4556,4 -4,4\"/>\n",
       "<!-- 0 -->\n",
       "<g id=\"node1\" class=\"node\">\n",
       "<title>0</title>\n",
       "<ellipse fill=\"none\" stroke=\"#000000\" cx=\"172.4556\" cy=\"-306\" rx=\"27\" ry=\"18\"/>\n",
       "<text text-anchor=\"middle\" x=\"172.4556\" y=\"-301.8\" font-family=\"Times,serif\" font-size=\"14.00\" fill=\"#000000\">0</text>\n",
       "</g>\n",
       "<!-- 1 -->\n",
       "<g id=\"node2\" class=\"node\">\n",
       "<title>1</title>\n",
       "<ellipse fill=\"none\" stroke=\"#000000\" cx=\"227.4556\" cy=\"-234\" rx=\"27\" ry=\"18\"/>\n",
       "<text text-anchor=\"middle\" x=\"227.4556\" y=\"-229.8\" font-family=\"Times,serif\" font-size=\"14.00\" fill=\"#000000\">1</text>\n",
       "</g>\n",
       "<!-- 0&#45;&gt;1 -->\n",
       "<g id=\"edge1\" class=\"edge\">\n",
       "<title>0&#45;&gt;1</title>\n",
       "<path fill=\"none\" stroke=\"#000000\" d=\"M184.936,-289.6621C191.9681,-280.4564 200.8903,-268.7764 208.7439,-258.4953\"/>\n",
       "<polygon fill=\"#000000\" stroke=\"#000000\" points=\"211.7356,-260.3446 215.0247,-250.2733 206.1729,-256.0953 211.7356,-260.3446\"/>\n",
       "</g>\n",
       "<!-- 6 -->\n",
       "<g id=\"node3\" class=\"node\">\n",
       "<title>6</title>\n",
       "<ellipse fill=\"none\" stroke=\"#000000\" cx=\"172.4556\" cy=\"-90\" rx=\"27\" ry=\"18\"/>\n",
       "<text text-anchor=\"middle\" x=\"172.4556\" y=\"-85.8\" font-family=\"Times,serif\" font-size=\"14.00\" fill=\"#000000\">6</text>\n",
       "</g>\n",
       "<!-- 0&#45;&gt;6 -->\n",
       "<g id=\"edge2\" class=\"edge\">\n",
       "<title>0&#45;&gt;6</title>\n",
       "<path fill=\"none\" stroke=\"#000000\" d=\"M172.4556,-287.9555C172.4556,-250.3938 172.4556,-163.5541 172.4556,-118.4103\"/>\n",
       "<polygon fill=\"#000000\" stroke=\"#000000\" points=\"175.9557,-118.145 172.4556,-108.1451 168.9557,-118.1451 175.9557,-118.145\"/>\n",
       "</g>\n",
       "<!-- 2 -->\n",
       "<g id=\"node4\" class=\"node\">\n",
       "<title>2</title>\n",
       "<ellipse fill=\"none\" stroke=\"#000000\" cx=\"79.4556\" cy=\"-162\" rx=\"27\" ry=\"18\"/>\n",
       "<text text-anchor=\"middle\" x=\"79.4556\" y=\"-157.8\" font-family=\"Times,serif\" font-size=\"14.00\" fill=\"#000000\">2</text>\n",
       "</g>\n",
       "<!-- 0&#45;&gt;2 -->\n",
       "<g id=\"edge3\" class=\"edge\">\n",
       "<title>0&#45;&gt;2</title>\n",
       "<path fill=\"none\" stroke=\"#000000\" d=\"M161.6053,-289.1995C145.3652,-264.0535 114.6264,-216.4579 95.7016,-187.1551\"/>\n",
       "<polygon fill=\"#000000\" stroke=\"#000000\" points=\"98.6023,-185.195 90.2368,-178.6934 92.722,-188.9927 98.6023,-185.195\"/>\n",
       "</g>\n",
       "<!-- 3 -->\n",
       "<g id=\"node5\" class=\"node\">\n",
       "<title>3</title>\n",
       "<ellipse fill=\"none\" stroke=\"#000000\" cx=\"227.4556\" cy=\"-162\" rx=\"27\" ry=\"18\"/>\n",
       "<text text-anchor=\"middle\" x=\"227.4556\" y=\"-157.8\" font-family=\"Times,serif\" font-size=\"14.00\" fill=\"#000000\">3</text>\n",
       "</g>\n",
       "<!-- 1&#45;&gt;3 -->\n",
       "<g id=\"edge4\" class=\"edge\">\n",
       "<title>1&#45;&gt;3</title>\n",
       "<path fill=\"none\" stroke=\"#000000\" d=\"M227.4556,-215.8314C227.4556,-208.131 227.4556,-198.9743 227.4556,-190.4166\"/>\n",
       "<polygon fill=\"#000000\" stroke=\"#000000\" points=\"230.9557,-190.4132 227.4556,-180.4133 223.9557,-190.4133 230.9557,-190.4132\"/>\n",
       "</g>\n",
       "<!-- 6&#45;&gt;3 -->\n",
       "<g id=\"edge11\" class=\"edge\">\n",
       "<title>6&#45;&gt;3</title>\n",
       "<path fill=\"none\" stroke=\"#000000\" d=\"M188.9509,-104.3649C197.1165,-113.4964 206.6722,-125.5802 214.3389,-136.3239\"/>\n",
       "<polygon fill=\"#000000\" stroke=\"#000000\" points=\"211.4646,-138.3211 220.0199,-144.5708 217.2293,-134.3501 211.4646,-138.3211\"/>\n",
       "</g>\n",
       "<!-- 4 -->\n",
       "<g id=\"node7\" class=\"node\">\n",
       "<title>4</title>\n",
       "<ellipse fill=\"none\" stroke=\"#000000\" cx=\"199.4556\" cy=\"-18\" rx=\"27\" ry=\"18\"/>\n",
       "<text text-anchor=\"middle\" x=\"199.4556\" y=\"-13.8\" font-family=\"Times,serif\" font-size=\"14.00\" fill=\"#000000\">4</text>\n",
       "</g>\n",
       "<!-- 6&#45;&gt;4 -->\n",
       "<g id=\"edge12\" class=\"edge\">\n",
       "<title>6&#45;&gt;4</title>\n",
       "<path fill=\"none\" stroke=\"#000000\" d=\"M179.1298,-72.2022C182.2032,-64.0064 185.9172,-54.1024 189.3252,-45.0145\"/>\n",
       "<polygon fill=\"#000000\" stroke=\"#000000\" points=\"192.6241,-46.1853 192.8582,-35.593 186.0698,-43.7274 192.6241,-46.1853\"/>\n",
       "</g>\n",
       "<!-- 2&#45;&gt;6 -->\n",
       "<g id=\"edge5\" class=\"edge\">\n",
       "<title>2&#45;&gt;6</title>\n",
       "<path fill=\"none\" stroke=\"#000000\" d=\"M97.387,-148.1177C111.282,-137.3602 130.7337,-122.3009 146.3547,-110.2072\"/>\n",
       "<polygon fill=\"#000000\" stroke=\"#000000\" points=\"148.8147,-112.729 154.5793,-103.8397 144.5295,-107.1939 148.8147,-112.729\"/>\n",
       "</g>\n",
       "<!-- 8 -->\n",
       "<g id=\"node6\" class=\"node\">\n",
       "<title>8</title>\n",
       "<ellipse fill=\"none\" stroke=\"#000000\" cx=\"33.4556\" cy=\"-90\" rx=\"27\" ry=\"18\"/>\n",
       "<text text-anchor=\"middle\" x=\"33.4556\" y=\"-85.8\" font-family=\"Times,serif\" font-size=\"14.00\" fill=\"#000000\">8</text>\n",
       "</g>\n",
       "<!-- 2&#45;&gt;8 -->\n",
       "<g id=\"edge6\" class=\"edge\">\n",
       "<title>2&#45;&gt;8</title>\n",
       "<path fill=\"none\" stroke=\"#000000\" d=\"M68.7867,-145.3008C63.097,-136.3952 55.978,-125.2524 49.624,-115.307\"/>\n",
       "<polygon fill=\"#000000\" stroke=\"#000000\" points=\"52.4001,-113.1513 44.0667,-106.6087 46.5012,-116.92 52.4001,-113.1513\"/>\n",
       "</g>\n",
       "<!-- 3&#45;&gt;6 -->\n",
       "<g id=\"edge7\" class=\"edge\">\n",
       "<title>3&#45;&gt;6</title>\n",
       "<path fill=\"none\" stroke=\"#000000\" d=\"M210.7769,-147.4297C202.7,-138.3769 193.2939,-126.4814 185.7078,-115.8658\"/>\n",
       "<polygon fill=\"#000000\" stroke=\"#000000\" points=\"188.389,-113.5884 179.8326,-107.3403 182.6251,-117.5605 188.389,-113.5884\"/>\n",
       "</g>\n",
       "<!-- 4&#45;&gt;3 -->\n",
       "<g id=\"edge8\" class=\"edge\">\n",
       "<title>4&#45;&gt;3</title>\n",
       "<path fill=\"none\" stroke=\"#000000\" d=\"M202.9892,-36.1727C207.7914,-60.8697 216.4228,-105.2595 222.0439,-134.1684\"/>\n",
       "<polygon fill=\"#000000\" stroke=\"#000000\" points=\"218.6216,-134.9054 223.966,-144.0535 225.4929,-133.5692 218.6216,-134.9054\"/>\n",
       "</g>\n",
       "<!-- 5 -->\n",
       "<g id=\"node8\" class=\"node\">\n",
       "<title>5</title>\n",
       "<ellipse fill=\"none\" stroke=\"#000000\" cx=\"41.4556\" cy=\"-234\" rx=\"27\" ry=\"18\"/>\n",
       "<text text-anchor=\"middle\" x=\"41.4556\" y=\"-229.8\" font-family=\"Times,serif\" font-size=\"14.00\" fill=\"#000000\">5</text>\n",
       "</g>\n",
       "<!-- 5&#45;&gt;6 -->\n",
       "<g id=\"edge10\" class=\"edge\">\n",
       "<title>5&#45;&gt;6</title>\n",
       "<path fill=\"none\" stroke=\"#000000\" d=\"M36.5283,-216.0457C32.2989,-196.5368 28.9313,-165.3084 43.4556,-144 64.0671,-113.7613 105.127,-100.4108 135.4108,-94.5441\"/>\n",
       "<polygon fill=\"#000000\" stroke=\"#000000\" points=\"136.3707,-97.9297 145.6219,-92.7657 135.1696,-91.0335 136.3707,-97.9297\"/>\n",
       "</g>\n",
       "<!-- 5&#45;&gt;2 -->\n",
       "<g id=\"edge9\" class=\"edge\">\n",
       "<title>5&#45;&gt;2</title>\n",
       "<path fill=\"none\" stroke=\"#000000\" d=\"M50.4611,-216.937C54.9384,-208.4537 60.4508,-198.0092 65.4627,-188.513\"/>\n",
       "<polygon fill=\"#000000\" stroke=\"#000000\" points=\"68.6785,-189.9182 70.2508,-179.4407 62.4878,-186.6509 68.6785,-189.9182\"/>\n",
       "</g>\n",
       "<!-- 7 -->\n",
       "<g id=\"node9\" class=\"node\">\n",
       "<title>7</title>\n",
       "<ellipse fill=\"none\" stroke=\"#000000\" cx=\"41.4556\" cy=\"-306\" rx=\"27\" ry=\"18\"/>\n",
       "<text text-anchor=\"middle\" x=\"41.4556\" y=\"-301.8\" font-family=\"Times,serif\" font-size=\"14.00\" fill=\"#000000\">7</text>\n",
       "</g>\n",
       "<!-- 7&#45;&gt;6 -->\n",
       "<g id=\"edge13\" class=\"edge\">\n",
       "<title>7&#45;&gt;6</title>\n",
       "<path fill=\"none\" stroke=\"#000000\" d=\"M52.7337,-289.6172C59.958,-278.9939 69.446,-264.7986 77.4556,-252 107.0516,-204.7085 139.5254,-148.2619 157.808,-116.0263\"/>\n",
       "<polygon fill=\"#000000\" stroke=\"#000000\" points=\"160.9124,-117.6469 162.7909,-107.2199 154.82,-114.1997 160.9124,-117.6469\"/>\n",
       "</g>\n",
       "<!-- 7&#45;&gt;8 -->\n",
       "<g id=\"edge15\" class=\"edge\">\n",
       "<title>7&#45;&gt;8</title>\n",
       "<path fill=\"none\" stroke=\"#000000\" d=\"M27.3327,-290.2844C19.2022,-280.1468 9.7656,-266.2347 5.4556,-252 -8.6361,-205.4581 8.431,-149.1119 21.4244,-116.6261\"/>\n",
       "<polygon fill=\"#000000\" stroke=\"#000000\" points=\"24.6749,-117.9247 25.287,-107.3476 18.2125,-115.2344 24.6749,-117.9247\"/>\n",
       "</g>\n",
       "<!-- 7&#45;&gt;5 -->\n",
       "<g id=\"edge14\" class=\"edge\">\n",
       "<title>7&#45;&gt;5</title>\n",
       "<path fill=\"none\" stroke=\"#000000\" d=\"M41.4556,-287.8314C41.4556,-280.131 41.4556,-270.9743 41.4556,-262.4166\"/>\n",
       "<polygon fill=\"#000000\" stroke=\"#000000\" points=\"44.9557,-262.4132 41.4556,-252.4133 37.9557,-262.4133 44.9557,-262.4132\"/>\n",
       "</g>\n",
       "</g>\n",
       "</svg>\n"
      ],
      "text/plain": [
       "<graphviz.files.Source at 0x10aa8df28>"
      ]
     },
     "metadata": {},
     "output_type": "display_data"
    }
   ],
   "source": [
    "graph.display(graph_1)"
   ]
  },
  {
   "cell_type": "code",
   "execution_count": 15,
   "metadata": {},
   "outputs": [
    {
     "data": {
      "image/svg+xml": [
       "<?xml version=\"1.0\" encoding=\"UTF-8\" standalone=\"no\"?>\n",
       "<!DOCTYPE svg PUBLIC \"-//W3C//DTD SVG 1.1//EN\"\n",
       " \"http://www.w3.org/Graphics/SVG/1.1/DTD/svg11.dtd\">\n",
       "<!-- Generated by graphviz version 2.40.1 (20161225.0304)\n",
       " -->\n",
       "<!-- Title: %3 Pages: 1 -->\n",
       "<svg width=\"316pt\" height=\"260pt\"\n",
       " viewBox=\"0.00 0.00 316.00 260.00\" xmlns=\"http://www.w3.org/2000/svg\" xmlns:xlink=\"http://www.w3.org/1999/xlink\">\n",
       "<g id=\"graph0\" class=\"graph\" transform=\"scale(1 1) rotate(0) translate(4 256)\">\n",
       "<title>%3</title>\n",
       "<polygon fill=\"#ffffff\" stroke=\"transparent\" points=\"-4,4 -4,-256 312,-256 312,4 -4,4\"/>\n",
       "<!-- 0 -->\n",
       "<g id=\"node1\" class=\"node\">\n",
       "<title>0</title>\n",
       "<ellipse fill=\"none\" stroke=\"#000000\" cx=\"63\" cy=\"-234\" rx=\"27\" ry=\"18\"/>\n",
       "<text text-anchor=\"middle\" x=\"63\" y=\"-229.8\" font-family=\"Times,serif\" font-size=\"14.00\" fill=\"#000000\">0</text>\n",
       "</g>\n",
       "<!-- 2 -->\n",
       "<g id=\"node2\" class=\"node\">\n",
       "<title>2</title>\n",
       "<ellipse fill=\"none\" stroke=\"#000000\" cx=\"27\" cy=\"-162\" rx=\"27\" ry=\"18\"/>\n",
       "<text text-anchor=\"middle\" x=\"27\" y=\"-157.8\" font-family=\"Times,serif\" font-size=\"14.00\" fill=\"#000000\">2</text>\n",
       "</g>\n",
       "<!-- 0&#45;&#45;2 -->\n",
       "<g id=\"edge1\" class=\"edge\">\n",
       "<title>0&#45;&#45;2</title>\n",
       "<path fill=\"none\" stroke=\"#000000\" d=\"M54.2854,-216.5708C48.6253,-205.2506 41.2784,-190.5568 35.6343,-179.2687\"/>\n",
       "</g>\n",
       "<!-- 1 -->\n",
       "<g id=\"node3\" class=\"node\">\n",
       "<title>1</title>\n",
       "<ellipse fill=\"none\" stroke=\"#000000\" cx=\"99\" cy=\"-162\" rx=\"27\" ry=\"18\"/>\n",
       "<text text-anchor=\"middle\" x=\"99\" y=\"-157.8\" font-family=\"Times,serif\" font-size=\"14.00\" fill=\"#000000\">1</text>\n",
       "</g>\n",
       "<!-- 0&#45;&#45;1 -->\n",
       "<g id=\"edge2\" class=\"edge\">\n",
       "<title>0&#45;&#45;1</title>\n",
       "<path fill=\"none\" stroke=\"#000000\" d=\"M71.7146,-216.5708C77.3747,-205.2506 84.7216,-190.5568 90.3657,-179.2687\"/>\n",
       "</g>\n",
       "<!-- 3 -->\n",
       "<g id=\"node4\" class=\"node\">\n",
       "<title>3</title>\n",
       "<ellipse fill=\"none\" stroke=\"#000000\" cx=\"99\" cy=\"-90\" rx=\"27\" ry=\"18\"/>\n",
       "<text text-anchor=\"middle\" x=\"99\" y=\"-85.8\" font-family=\"Times,serif\" font-size=\"14.00\" fill=\"#000000\">3</text>\n",
       "</g>\n",
       "<!-- 1&#45;&#45;3 -->\n",
       "<g id=\"edge3\" class=\"edge\">\n",
       "<title>1&#45;&#45;3</title>\n",
       "<path fill=\"none\" stroke=\"#000000\" d=\"M99,-143.8314C99,-133 99,-119.2876 99,-108.4133\"/>\n",
       "</g>\n",
       "<!-- 4 -->\n",
       "<g id=\"node5\" class=\"node\">\n",
       "<title>4</title>\n",
       "<ellipse fill=\"none\" stroke=\"#000000\" cx=\"226\" cy=\"-234\" rx=\"27\" ry=\"18\"/>\n",
       "<text text-anchor=\"middle\" x=\"226\" y=\"-229.8\" font-family=\"Times,serif\" font-size=\"14.00\" fill=\"#000000\">4</text>\n",
       "</g>\n",
       "<!-- 5 -->\n",
       "<g id=\"node6\" class=\"node\">\n",
       "<title>5</title>\n",
       "<ellipse fill=\"none\" stroke=\"#000000\" cx=\"281\" cy=\"-162\" rx=\"27\" ry=\"18\"/>\n",
       "<text text-anchor=\"middle\" x=\"281\" y=\"-157.8\" font-family=\"Times,serif\" font-size=\"14.00\" fill=\"#000000\">5</text>\n",
       "</g>\n",
       "<!-- 4&#45;&#45;5 -->\n",
       "<g id=\"edge4\" class=\"edge\">\n",
       "<title>4&#45;&#45;5</title>\n",
       "<path fill=\"none\" stroke=\"#000000\" d=\"M238.4804,-217.6621C247.4814,-205.8788 259.5793,-190.0416 268.569,-178.2733\"/>\n",
       "</g>\n",
       "<!-- 6 -->\n",
       "<g id=\"node7\" class=\"node\">\n",
       "<title>6</title>\n",
       "<ellipse fill=\"none\" stroke=\"#000000\" cx=\"171\" cy=\"-162\" rx=\"27\" ry=\"18\"/>\n",
       "<text text-anchor=\"middle\" x=\"171\" y=\"-157.8\" font-family=\"Times,serif\" font-size=\"14.00\" fill=\"#000000\">6</text>\n",
       "</g>\n",
       "<!-- 4&#45;&#45;6 -->\n",
       "<g id=\"edge5\" class=\"edge\">\n",
       "<title>4&#45;&#45;6</title>\n",
       "<path fill=\"none\" stroke=\"#000000\" d=\"M213.5196,-217.6621C204.5186,-205.8788 192.4207,-190.0416 183.431,-178.2733\"/>\n",
       "</g>\n",
       "<!-- 7 -->\n",
       "<g id=\"node8\" class=\"node\">\n",
       "<title>7</title>\n",
       "<ellipse fill=\"none\" stroke=\"#000000\" cx=\"226\" cy=\"-90\" rx=\"27\" ry=\"18\"/>\n",
       "<text text-anchor=\"middle\" x=\"226\" y=\"-85.8\" font-family=\"Times,serif\" font-size=\"14.00\" fill=\"#000000\">7</text>\n",
       "</g>\n",
       "<!-- 4&#45;&#45;7 -->\n",
       "<g id=\"edge6\" class=\"edge\">\n",
       "<title>4&#45;&#45;7</title>\n",
       "<path fill=\"none\" stroke=\"#000000\" d=\"M226,-215.7623C226,-188.0633 226,-135.7005 226,-108.0896\"/>\n",
       "</g>\n",
       "<!-- 5&#45;&#45;7 -->\n",
       "<g id=\"edge7\" class=\"edge\">\n",
       "<title>5&#45;&#45;7</title>\n",
       "<path fill=\"none\" stroke=\"#000000\" d=\"M268.5196,-145.6621C259.5186,-133.8788 247.4207,-118.0416 238.431,-106.2733\"/>\n",
       "</g>\n",
       "<!-- 8 -->\n",
       "<g id=\"node9\" class=\"node\">\n",
       "<title>8</title>\n",
       "<ellipse fill=\"none\" stroke=\"#000000\" cx=\"253\" cy=\"-18\" rx=\"27\" ry=\"18\"/>\n",
       "<text text-anchor=\"middle\" x=\"253\" y=\"-13.8\" font-family=\"Times,serif\" font-size=\"14.00\" fill=\"#000000\">8</text>\n",
       "</g>\n",
       "<!-- 5&#45;&#45;8 -->\n",
       "<g id=\"edge8\" class=\"edge\">\n",
       "<title>5&#45;&#45;8</title>\n",
       "<path fill=\"none\" stroke=\"#000000\" d=\"M277.5104,-144.0535C272.1449,-116.4592 261.9255,-63.9026 256.5336,-36.1727\"/>\n",
       "</g>\n",
       "<!-- 6&#45;&#45;7 -->\n",
       "<g id=\"edge9\" class=\"edge\">\n",
       "<title>6&#45;&#45;7</title>\n",
       "<path fill=\"none\" stroke=\"#000000\" d=\"M183.4804,-145.6621C192.4814,-133.8788 204.5793,-118.0416 213.569,-106.2733\"/>\n",
       "</g>\n",
       "<!-- 7&#45;&#45;8 -->\n",
       "<g id=\"edge10\" class=\"edge\">\n",
       "<title>7&#45;&#45;8</title>\n",
       "<path fill=\"none\" stroke=\"#000000\" d=\"M232.6742,-72.2022C236.8593,-61.0419 242.2321,-46.7143 246.4026,-35.593\"/>\n",
       "</g>\n",
       "</g>\n",
       "</svg>\n"
      ],
      "text/plain": [
       "<graphviz.files.Source at 0x10aa8de48>"
      ]
     },
     "metadata": {},
     "output_type": "display_data"
    }
   ],
   "source": [
    "graph.display(graph_2)"
   ]
  },
  {
   "cell_type": "markdown",
   "metadata": {
    "collapsed": true
   },
   "source": [
    "# Traversals\n",
    "\n",
    "**Unless explicitly stated otherwise** we'll be working under the assumption we're dealing with simple graphs (no loops nor multi-links).\n",
    "\n",
    "## Exercise 2.1 : BFT"
   ]
  },
  {
   "cell_type": "code",
   "execution_count": 16,
   "metadata": {
    "collapsed": true
   },
   "outputs": [],
   "source": [
    "from algopy import queue\n",
    "from algopy.queue import Queue"
   ]
  },
  {
   "cell_type": "markdown",
   "metadata": {},
   "source": [
    "### `Adjacency Matrix`"
   ]
  },
  {
   "cell_type": "code",
   "execution_count": 17,
   "metadata": {
    "collapsed": true
   },
   "outputs": [],
   "source": [
    "def bfs_m(G):\n",
    "    p = [None]*G.order\n",
    "    for s in range(G.order):\n",
    "        if p[s] is None:\n",
    "            __bfs_m(G, s, p)\n",
    "    return p"
   ]
  },
  {
   "cell_type": "code",
   "execution_count": 18,
   "metadata": {
    "collapsed": true
   },
   "outputs": [],
   "source": [
    "def __bfs_m(G, s, p):\n",
    "    q = Queue()\n",
    "    q.enqueue(s)\n",
    "    p[s] = -1\n",
    "    while not q.isempty():\n",
    "        s = q.dequeue()\n",
    "        print(s, end=\" \")\n",
    "        for v in range(G.order):\n",
    "            if G.adj[s][v] and p[v] is None: \n",
    "                p[v] = s\n",
    "                q.enqueue(v)"
   ]
  },
  {
   "cell_type": "code",
   "execution_count": 19,
   "metadata": {},
   "outputs": [
    {
     "name": "stdout",
     "output_type": "stream",
     "text": [
      "0 1 2 3 4 5 6 7 8 "
     ]
    },
    {
     "data": {
      "text/plain": [
       "[-1, 0, 0, 1, -1, 4, 4, 4, 5]"
      ]
     },
     "execution_count": 19,
     "metadata": {},
     "output_type": "execute_result"
    }
   ],
   "source": [
    "bfs_m(graph_2_m)"
   ]
  },
  {
   "cell_type": "markdown",
   "metadata": {},
   "source": [
    "### `Adjacency Lists`"
   ]
  },
  {
   "cell_type": "code",
   "execution_count": 20,
   "metadata": {
    "collapsed": true
   },
   "outputs": [],
   "source": [
    "def bfs(G):\n",
    "    p = [None]*G.order\n",
    "    for s in range(G.order):\n",
    "        if p[s] is None:\n",
    "            __bfs(G, s, p)\n",
    "    return p"
   ]
  },
  {
   "cell_type": "code",
   "execution_count": 21,
   "metadata": {
    "collapsed": true
   },
   "outputs": [],
   "source": [
    "def __bfs(G, s, p):\n",
    "    q = Queue()\n",
    "    q.enqueue(s)\n",
    "    p[s] = -1\n",
    "    while not q.isempty():\n",
    "        s = q.dequeue()\n",
    "        print(s, end=\" \")\n",
    "        for v in G.adjlists[s]:\n",
    "            if p[v] is None: \n",
    "                p[v] = s\n",
    "                q.enqueue(v)"
   ]
  },
  {
   "cell_type": "code",
   "execution_count": 22,
   "metadata": {},
   "outputs": [
    {
     "name": "stdout",
     "output_type": "stream",
     "text": [
      "0 2 1 3 4 5 6 7 8 "
     ]
    },
    {
     "data": {
      "text/plain": [
       "[-1, 0, 0, 1, -1, 4, 4, 4, 5]"
      ]
     },
     "execution_count": 22,
     "metadata": {},
     "output_type": "execute_result"
    }
   ],
   "source": [
    "bfs(graph_2)"
   ]
  },
  {
   "cell_type": "markdown",
   "metadata": {},
   "source": [
    "## Exercise 2.2 : DFT"
   ]
  },
  {
   "cell_type": "markdown",
   "metadata": {
    "collapsed": true
   },
   "source": [
    "### `Adjacency Matrix`"
   ]
  },
  {
   "cell_type": "code",
   "execution_count": 23,
   "metadata": {
    "collapsed": true
   },
   "outputs": [],
   "source": [
    "def dfs_m(G):\n",
    "    p = [None]*G.order\n",
    "    for s in range(G.order):\n",
    "        if p[s] is None:\n",
    "            p[s] = -1\n",
    "            __dfs_m(G, s, p)\n",
    "    return p\n",
    "\n",
    "def __dfs_m(G, s, p):\n",
    "    for v in range(G.order):\n",
    "        if G.adj[s][v]:\n",
    "            if p[v] is None:\n",
    "                p[v] = s\n",
    "                __dfs_m(G, v, p)\n",
    "            else:\n",
    "                if v != p[s] and s < v:\n",
    "                    print(\"[{} -> {}] is a backward edge\".format(v, s))"
   ]
  },
  {
   "cell_type": "code",
   "execution_count": 24,
   "metadata": {},
   "outputs": [
    {
     "name": "stdout",
     "output_type": "stream",
     "text": [
      "[8 -> 5] is a backward edge\n",
      "[6 -> 4] is a backward edge\n",
      "[7 -> 4] is a backward edge\n"
     ]
    },
    {
     "data": {
      "text/plain": [
       "[-1, 0, 0, 1, -1, 4, 7, 5, 7]"
      ]
     },
     "execution_count": 24,
     "metadata": {},
     "output_type": "execute_result"
    }
   ],
   "source": [
    "dfs_m(graph_2_m)"
   ]
  },
  {
   "cell_type": "markdown",
   "metadata": {},
   "source": [
    "### `Adjacency List`"
   ]
  },
  {
   "cell_type": "code",
   "execution_count": 25,
   "metadata": {
    "collapsed": true
   },
   "outputs": [],
   "source": [
    "def dfs(G):\n",
    "    p = [None]*G.order\n",
    "    for s in range(G.order):\n",
    "        if p[s] is None:\n",
    "            p[s] = -1\n",
    "            __dfs(G, s, p)\n",
    "    return p\n",
    "\n",
    "def __dfs(G, s, p):\n",
    "    for v in G.adjlists[s]:\n",
    "        if p[v] is None:\n",
    "            p[v] = s\n",
    "            __dfs(G, v, p)\n",
    "        else:\n",
    "            if v != p[s] and s < v:\n",
    "                print(\"[{} -> {}] is a backward edge\".format(v, s))"
   ]
  },
  {
   "cell_type": "code",
   "execution_count": 26,
   "metadata": {},
   "outputs": [
    {
     "name": "stdout",
     "output_type": "stream",
     "text": [
      "[8 -> 5] is a backward edge\n",
      "[6 -> 4] is a backward edge\n",
      "[7 -> 4] is a backward edge\n"
     ]
    },
    {
     "data": {
      "text/plain": [
       "[-1, 0, 0, 1, -1, 4, 7, 5, 7]"
      ]
     },
     "execution_count": 26,
     "metadata": {},
     "output_type": "execute_result"
    }
   ],
   "source": [
    "dfs(graph_2)"
   ]
  },
  {
   "cell_type": "markdown",
   "metadata": {},
   "source": [
    "## Exercise 3.1 : Path Finding"
   ]
  },
  {
   "cell_type": "markdown",
   "metadata": {},
   "source": [
    "### `Breadth First Traversal`"
   ]
  },
  {
   "cell_type": "code",
   "execution_count": 27,
   "metadata": {
    "collapsed": true
   },
   "outputs": [],
   "source": [
    "def __path_bfs(G, s, v, p):\n",
    "    q = Queue()\n",
    "    q.enqueue(s)\n",
    "    p[s] = -1\n",
    "    while not q.isempty():\n",
    "        w =  q.dequeue()\n",
    "        for u in G.adjlists[w]: \n",
    "            if p[u] is None:\n",
    "                q.enqueue(u)\n",
    "                p[u] = w\n",
    "                if u == v:\n",
    "                    return True\n",
    "    return False\n",
    "\n",
    "def path_bfs(G, s, v):\n",
    "    p = [None]*G.order\n",
    "    L = []\n",
    "    if __path_bfs(G, s, v, p):\n",
    "        while p[v] != -1:\n",
    "            L.insert(0, v)\n",
    "            v = p[v]\n",
    "        L.insert(0, s)\n",
    "    return L\n",
    "        \n",
    "        "
   ]
  },
  {
   "cell_type": "markdown",
   "metadata": {},
   "source": [
    "### `Depth First Traversal`"
   ]
  },
  {
   "cell_type": "code",
   "execution_count": 28,
   "metadata": {
    "collapsed": true
   },
   "outputs": [],
   "source": [
    "def __path_dfs(G, s, v, p, path):\n",
    "    for i in G.adjlists[s]:\n",
    "        if p[i] is None:\n",
    "            p[i] = s\n",
    "            if i == v or __path_dfs(G, i, v, p, path):\n",
    "                path.insert(0, i)\n",
    "                return True\n",
    "    return False\n",
    "\n",
    "def path_dfs(G, s, v):\n",
    "    p = [None] * G.order\n",
    "    path = []\n",
    "    if __path_dfs(G, s, v, p, path):\n",
    "        path.insert(0, s)\n",
    "    return path "
   ]
  },
  {
   "cell_type": "markdown",
   "metadata": {},
   "source": [
    "## Exercice 3.4 : IsTree"
   ]
  },
  {
   "cell_type": "code",
   "execution_count": 29,
   "metadata": {
    "collapsed": true
   },
   "outputs": [],
   "source": [
    "def __isTree_dfs(G, p, v):\n",
    "    for i in G.adjlists[v]:\n",
    "        if p[i] is None:\n",
    "            p[i] = v\n",
    "            if not __isTree_dfs(G, p, i):\n",
    "                return False\n",
    "        elif p[v] != i:\n",
    "            return False\n",
    "    return True\n",
    "\n",
    "def isTree_(G):\n",
    "    p = [None] * G.order\n",
    "    return __isTree_dfs(G, p, 0) and not (None in p) "
   ]
  },
  {
   "cell_type": "markdown",
   "metadata": {},
   "source": [
    "## DFS on Digraphs"
   ]
  },
  {
   "cell_type": "code",
   "execution_count": 30,
   "metadata": {
    "collapsed": true
   },
   "outputs": [],
   "source": [
    "def __dfs_dir(G, i, pre, pos, cpt):\n",
    "    pre[i] = cpt\n",
    "    for v in G.adjlists[i]:\n",
    "        if pre[v] is None: \n",
    "            cpt = __dfs_dir(G, v, pre, pos, cpt + 1)\n",
    "        else:\n",
    "            if pre[i] < pre[v]: # Forward Arrow\n",
    "                print(\"Forward arrow: {} -> {}\".format(i, v))\n",
    "            elif pos[v] is None: # Back Arrow \n",
    "                print(\"Back arrow: {} -> {}\".format(i, v))\n",
    "            else: # Cross Arrow\n",
    "                print(\"Cross arrow: {} -> {}\".format(i, v))\n",
    "    pos[i] = cpt + 1\n",
    "    return cpt + 1\n",
    "\n",
    "def dfs_dir(G):\n",
    "    cpt = 0\n",
    "    pre = [None]*G.order\n",
    "    pos = [None]*G.order\n",
    "    for i in range(G.order):\n",
    "        if pre[i] is None:\n",
    "            cpt = __dfs_dir(G, i, pre, pos, cpt)\n",
    "            cpt = cpt + 1"
   ]
  },
  {
   "cell_type": "code",
   "execution_count": 31,
   "metadata": {
    "collapsed": true
   },
   "outputs": [],
   "source": [
    "from random import randint"
   ]
  },
  {
   "cell_type": "code",
   "execution_count": 32,
   "metadata": {},
   "outputs": [
    {
     "data": {
      "text/plain": [
       "25"
      ]
     },
     "execution_count": 32,
     "metadata": {},
     "output_type": "execute_result"
    }
   ],
   "source": [
    "randint(1, 28)"
   ]
  },
  {
   "cell_type": "code",
   "execution_count": 33,
   "metadata": {},
   "outputs": [
    {
     "name": "stdout",
     "output_type": "stream",
     "text": [
      "Back arrow: 6 -> 3\n",
      "Back arrow: 4 -> 3\n",
      "Forward arrow: 0 -> 6\n",
      "Cross arrow: 2 -> 6\n",
      "Cross arrow: 5 -> 2\n",
      "Cross arrow: 5 -> 6\n",
      "Cross arrow: 7 -> 6\n",
      "Cross arrow: 7 -> 5\n",
      "Cross arrow: 7 -> 8\n"
     ]
    }
   ],
   "source": [
    "dfs_dir(graph_1)"
   ]
  },
  {
   "cell_type": "markdown",
   "metadata": {},
   "source": [
    "## Exercise 3.3 : Acyclic Digraph"
   ]
  },
  {
   "cell_type": "code",
   "execution_count": 34,
   "metadata": {
    "collapsed": true
   },
   "outputs": [],
   "source": [
    "def __acyclic(G, i, pre, pos):\n",
    "    pre[i] = True\n",
    "    for v in G.adjlists[i]:\n",
    "        if not pre[v]:\n",
    "            acyclic = __acyclic(G, v, pre, pos)\n",
    "            if not acyclic:\n",
    "                return False\n",
    "        elif not pos[v]: \n",
    "            return False\n",
    "    pos[i] = True\n",
    "    return True\n",
    "\n",
    "def acyclic(G):\n",
    "    pre = [False] * G.order\n",
    "    pos = [False] * G.order\n",
    "    for i in range(G.order):\n",
    "        if not pre[i]:\n",
    "            acyclic = __acyclic(G, i, pre, pos)\n",
    "        if not acyclic:\n",
    "            return False\n",
    "    return True"
   ]
  },
  {
   "cell_type": "code",
   "execution_count": 35,
   "metadata": {},
   "outputs": [
    {
     "data": {
      "text/plain": [
       "False"
      ]
     },
     "execution_count": 35,
     "metadata": {},
     "output_type": "execute_result"
    }
   ],
   "source": [
    "acyclic(graph_1)"
   ]
  },
  {
   "cell_type": "markdown",
   "metadata": {},
   "source": [
    "## Exercise 3.2: Bipartite"
   ]
  },
  {
   "cell_type": "code",
   "execution_count": 36,
   "metadata": {
    "collapsed": true
   },
   "outputs": [],
   "source": [
    "def __bipartite(G, s, M):\n",
    "    for v in G.adjlists[s]:\n",
    "        if M[v] is None:\n",
    "            M[v] = not M[s]\n",
    "            if not __bipartite(G, v, M):\n",
    "                return False\n",
    "        elif M[v] == M[s]:\n",
    "            return False\n",
    "    return True        \n",
    "\n",
    "def bipartite(G):\n",
    "    M = [None] * G.order\n",
    "    for s in range (G.order):\n",
    "        if M[s] is None:\n",
    "            M[s] = True\n",
    "            if not __bipartite(G, s, M):\n",
    "                return False\n",
    "    return True\n",
    "            "
   ]
  },
  {
   "cell_type": "code",
   "execution_count": 37,
   "metadata": {},
   "outputs": [
    {
     "data": {
      "text/plain": [
       "False"
      ]
     },
     "execution_count": 37,
     "metadata": {},
     "output_type": "execute_result"
    }
   ],
   "source": [
    "bipartite(graph_2)"
   ]
  },
  {
   "cell_type": "code",
   "execution_count": 38,
   "metadata": {
    "collapsed": true
   },
   "outputs": [],
   "source": [
    "from random import randint"
   ]
  },
  {
   "cell_type": "code",
   "execution_count": 39,
   "metadata": {},
   "outputs": [
    {
     "data": {
      "text/plain": [
       "20"
      ]
     },
     "execution_count": 39,
     "metadata": {},
     "output_type": "execute_result"
    }
   ],
   "source": [
    "randint(1, 25)"
   ]
  },
  {
   "cell_type": "code",
   "execution_count": 40,
   "metadata": {
    "collapsed": true
   },
   "outputs": [],
   "source": [
    "def __ecc(G, p, s):\n",
    "    q = Queue()\n",
    "    cnt = 0\n",
    "    q.enqueue(s)\n",
    "    p[s] = True\n",
    "    q.enqueue(None)\n",
    "    while not q.isempty():\n",
    "        s = q.dequeue()\n",
    "        if s is None:\n",
    "            cnt += 1\n",
    "            if not q.isempty():\n",
    "                q.enqueue(None)\n",
    "        else:\n",
    "            for j in G.adjlists[s]:\n",
    "                if not p[j]:\n",
    "                    q.enqueue(j)\n",
    "                    p[j] = True\n",
    "    return cnt"
   ]
  },
  {
   "cell_type": "code",
   "execution_count": 42,
   "metadata": {
    "collapsed": true
   },
   "outputs": [],
   "source": [
    "def center(G):\n",
    "    radius = float('inf')\n",
    "    L = []\n",
    "    for x in range (G.order):\n",
    "        p = [None]*G.order\n",
    "        ecc = __ecc(G, p, x)\n",
    "        if ecc <= radius:\n",
    "            radius = ecc\n",
    "            L.append(x, ecc)\n",
    "    i, cen = -1, []\n",
    "    if L:\n",
    "        while radius == L[i][1]:\n",
    "            cen.append(L[i][0])\n",
    "            i -= 1\n",
    "    return cen"
   ]
  },
  {
   "cell_type": "markdown",
   "metadata": {},
   "source": [
    "## Exercise 3.6"
   ]
  },
  {
   "cell_type": "code",
   "execution_count": 43,
   "metadata": {
    "collapsed": true
   },
   "outputs": [],
   "source": [
    "def __top_order(G, s, M, L):\n",
    "    for v in G.adjlists[s]:\n",
    "        if not M[v]:\n",
    "            M[v] = True\n",
    "            __top_order(G, v, M, L)\n",
    "    L.insert(0, s)\n",
    "    \n",
    "def top_order(G):\n",
    "    M, L = [False] * G.order, []\n",
    "    for s in range(G.order):\n",
    "        if not M[s]:\n",
    "            M[s] = True\n",
    "            __top_order(G, s, M, L)\n",
    "    return L"
   ]
  },
  {
   "cell_type": "code",
   "execution_count": null,
   "metadata": {
    "collapsed": true
   },
   "outputs": [],
   "source": []
  },
  {
   "cell_type": "code",
   "execution_count": null,
   "metadata": {
    "collapsed": true
   },
   "outputs": [],
   "source": []
  }
 ],
 "metadata": {
  "kernelspec": {
   "display_name": "Python 3",
   "language": "python",
   "name": "python3"
  },
  "language_info": {
   "codemirror_mode": {
    "name": "ipython",
    "version": 3
   },
   "file_extension": ".py",
   "mimetype": "text/x-python",
   "name": "python",
   "nbconvert_exporter": "python",
   "pygments_lexer": "ipython3",
   "version": "3.6.3"
  }
 },
 "nbformat": 4,
 "nbformat_minor": 1
}
