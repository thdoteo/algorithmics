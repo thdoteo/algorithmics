{
 "cells": [
  {
   "cell_type": "markdown",
   "metadata": {},
   "source": [
    "# Matrices"
   ]
  },
  {
   "cell_type": "code",
   "execution_count": 1,
   "metadata": {},
   "outputs": [
    {
     "data": {
      "text/plain": [
       "[[1, 0, 2, 3], [-1, 2, 3, 4], [2, 3, 4, 1]]"
      ]
     },
     "execution_count": 1,
     "metadata": {},
     "output_type": "execute_result"
    }
   ],
   "source": [
    "M = [[1, 0, 2, 3], \n",
    "     [-1, 2, 3, 4], \n",
    "     [2, 3, 4, 1]]\n",
    "M"
   ]
  },
  {
   "cell_type": "code",
   "execution_count": 2,
   "metadata": {},
   "outputs": [
    {
     "data": {
      "text/plain": [
       "[1, 0, 2, 3]"
      ]
     },
     "execution_count": 2,
     "metadata": {},
     "output_type": "execute_result"
    }
   ],
   "source": [
    "M[0]"
   ]
  },
  {
   "cell_type": "code",
   "execution_count": 3,
   "metadata": {},
   "outputs": [
    {
     "data": {
      "text/plain": [
       "3"
      ]
     },
     "execution_count": 3,
     "metadata": {},
     "output_type": "execute_result"
    }
   ],
   "source": [
    "M[0][3]"
   ]
  },
  {
   "cell_type": "code",
   "execution_count": 4,
   "metadata": {},
   "outputs": [
    {
     "data": {
      "text/plain": [
       "[[1, 0, 2, 10], [-1, 2, 3, 4], [2, 3, 4, 1]]"
      ]
     },
     "execution_count": 4,
     "metadata": {},
     "output_type": "execute_result"
    }
   ],
   "source": [
    "M[0][3] = 10\n",
    "M"
   ]
  },
  {
   "cell_type": "code",
   "execution_count": 5,
   "metadata": {
    "collapsed": true
   },
   "outputs": [],
   "source": [
    "def shape(M):\n",
    "    \"\"\"Returns (#rows, #cols) of matrix.\"\"\"\n",
    "    return len(M), len(M[0])"
   ]
  },
  {
   "cell_type": "code",
   "execution_count": 6,
   "metadata": {},
   "outputs": [
    {
     "data": {
      "text/plain": [
       "(3, 4)"
      ]
     },
     "execution_count": 6,
     "metadata": {},
     "output_type": "execute_result"
    }
   ],
   "source": [
    "shape(M)"
   ]
  },
  {
   "cell_type": "code",
   "execution_count": 7,
   "metadata": {},
   "outputs": [
    {
     "name": "stdout",
     "output_type": "stream",
     "text": [
      "1 0 2 10 -1 2 3 4 2 3 4 1 "
     ]
    }
   ],
   "source": [
    "n, m = len(M), len(M[0])\n",
    "for i in range(n):\n",
    "    for j in range(m):\n",
    "        print(M[i][j], end=\" \")"
   ]
  },
  {
   "cell_type": "code",
   "execution_count": 8,
   "metadata": {},
   "outputs": [
    {
     "name": "stdout",
     "output_type": "stream",
     "text": [
      "1 -1 2 0 2 3 2 3 4 10 4 1 "
     ]
    }
   ],
   "source": [
    "for j in range(m):\n",
    "    for i in range(n):\n",
    "        print(M[i][j], end=\" \")"
   ]
  },
  {
   "cell_type": "code",
   "execution_count": 9,
   "metadata": {},
   "outputs": [
    {
     "data": {
      "text/plain": [
       "[[1, 0, 2, 10], [-1, 2, 3, 4], [2, 3, 4, 1]]"
      ]
     },
     "execution_count": 9,
     "metadata": {},
     "output_type": "execute_result"
    }
   ],
   "source": [
    "M"
   ]
  },
  {
   "cell_type": "code",
   "execution_count": 10,
   "metadata": {
    "collapsed": true
   },
   "outputs": [],
   "source": [
    "def add_row(M):\n",
    "    \"\"\"Add a row of ones as a last row.\"\"\"\n",
    "    m = len(M[0])\n",
    "    last_row = []\n",
    "    for j in range(m):\n",
    "        last_row.append(1)\n",
    "    M.append(last_row) \n",
    "    M.append(last_row)"
   ]
  },
  {
   "cell_type": "code",
   "execution_count": 11,
   "metadata": {},
   "outputs": [
    {
     "data": {
      "text/plain": [
       "[[1, 0, 2, 10], [-1, 2, 3, 4], [2, 3, 4, 1], [1, 1, 1, 1], [1, 1, 1, 1]]"
      ]
     },
     "execution_count": 11,
     "metadata": {},
     "output_type": "execute_result"
    }
   ],
   "source": [
    "add_row(M)\n",
    "M"
   ]
  },
  {
   "cell_type": "code",
   "execution_count": 12,
   "metadata": {
    "scrolled": true
   },
   "outputs": [
    {
     "ename": "IndexError",
     "evalue": "list index out of range",
     "output_type": "error",
     "traceback": [
      "\u001b[0;31m---------------------------------------------------------------------------\u001b[0m",
      "\u001b[0;31mIndexError\u001b[0m                                Traceback (most recent call last)",
      "\u001b[0;32m<ipython-input-12-34924ef373d2>\u001b[0m in \u001b[0;36m<module>\u001b[0;34m()\u001b[0m\n\u001b[0;32m----> 1\u001b[0;31m \u001b[0mprint\u001b[0m\u001b[0;34m(\u001b[0m\u001b[0mid\u001b[0m\u001b[0;34m(\u001b[0m\u001b[0mM\u001b[0m\u001b[0;34m[\u001b[0m\u001b[0;36m5\u001b[0m\u001b[0;34m]\u001b[0m\u001b[0;34m[\u001b[0m\u001b[0;36m0\u001b[0m\u001b[0;34m]\u001b[0m\u001b[0;34m)\u001b[0m\u001b[0;34m)\u001b[0m\u001b[0;34m\u001b[0m\u001b[0m\n\u001b[0m\u001b[1;32m      2\u001b[0m \u001b[0mprint\u001b[0m\u001b[0;34m(\u001b[0m\u001b[0mid\u001b[0m\u001b[0;34m(\u001b[0m\u001b[0mM\u001b[0m\u001b[0;34m[\u001b[0m\u001b[0;36m4\u001b[0m\u001b[0;34m]\u001b[0m\u001b[0;34m[\u001b[0m\u001b[0;36m0\u001b[0m\u001b[0;34m]\u001b[0m\u001b[0;34m)\u001b[0m\u001b[0;34m)\u001b[0m\u001b[0;34m\u001b[0m\u001b[0m\n",
      "\u001b[0;31mIndexError\u001b[0m: list index out of range"
     ]
    }
   ],
   "source": [
    "print(id(M[5][0]))\n",
    "print(id(M[4][0]))\n"
   ]
  },
  {
   "cell_type": "code",
   "execution_count": 13,
   "metadata": {
    "collapsed": true
   },
   "outputs": [],
   "source": [
    "def add_col(M):\n",
    "    \"\"\"Add a col of -ones as last col.\"\"\"\n",
    "    n = len(M)\n",
    "    for i in range(n):\n",
    "        M[i].append(-1)"
   ]
  },
  {
   "cell_type": "code",
   "execution_count": 14,
   "metadata": {},
   "outputs": [
    {
     "data": {
      "text/plain": [
       "[[1, 0, 2, 10, -1],\n",
       " [-1, 2, 3, 4, -1],\n",
       " [2, 3, 4, 1, -1],\n",
       " [1, 1, 1, 1, -1, -1],\n",
       " [1, 1, 1, 1, -1, -1]]"
      ]
     },
     "execution_count": 14,
     "metadata": {},
     "output_type": "execute_result"
    }
   ],
   "source": [
    "add_col(M)\n",
    "M"
   ]
  },
  {
   "cell_type": "markdown",
   "metadata": {},
   "source": [
    "## Exercise | Print matrix"
   ]
  },
  {
   "cell_type": "code",
   "execution_count": 15,
   "metadata": {
    "collapsed": true
   },
   "outputs": [],
   "source": [
    "def print_matrix(M):\n",
    "    \"\"\"Prints matrix row per rwo.\"\"\"\n",
    "    n, m = len(M), len(M[0])\n",
    "    for i in range(n):\n",
    "        for j in range(m):\n",
    "            print(M[i][j], end=\" \")\n",
    "        print()"
   ]
  },
  {
   "cell_type": "code",
   "execution_count": 16,
   "metadata": {},
   "outputs": [
    {
     "name": "stdout",
     "output_type": "stream",
     "text": [
      "1 0 2 10 -1 \n",
      "-1 2 3 4 -1 \n",
      "2 3 4 1 -1 \n",
      "1 1 1 1 -1 \n",
      "1 1 1 1 -1 \n"
     ]
    }
   ],
   "source": [
    "print_matrix(M)"
   ]
  },
  {
   "cell_type": "markdown",
   "metadata": {},
   "source": [
    "## Exercise | Init and load matrix"
   ]
  },
  {
   "cell_type": "code",
   "execution_count": 17,
   "metadata": {
    "collapsed": true
   },
   "outputs": [],
   "source": [
    "def init_matrix(l, c, val):\n",
    "    \"\"\"Returns matrix of shape (l, c) having all coefficients to val.\"\"\"\n",
    "    M = []\n",
    "    for i in range(l):\n",
    "        M.append([])\n",
    "        for j in range(c):\n",
    "            M[i].append(val)\n",
    "    return M"
   ]
  },
  {
   "cell_type": "code",
   "execution_count": 18,
   "metadata": {},
   "outputs": [
    {
     "data": {
      "text/plain": [
       "[[0, 0, 0, 0],\n",
       " [0, 0, 0, 0],\n",
       " [0, 0, 0, 0],\n",
       " [0, 0, 0, 0],\n",
       " [0, 0, 0, 0],\n",
       " [0, 0, 0, 0],\n",
       " [0, 0, 0, 0],\n",
       " [0, 0, 0, 0],\n",
       " [0, 0, 0, 0],\n",
       " [0, 0, 0, 0]]"
      ]
     },
     "execution_count": 18,
     "metadata": {},
     "output_type": "execute_result"
    }
   ],
   "source": [
    "init_matrix(10, 4, 0)"
   ]
  },
  {
   "cell_type": "markdown",
   "metadata": {},
   "source": [
    "#### Attention\n",
    "\n",
    "Mutables are taken as reference in functions'  arguments."
   ]
  },
  {
   "cell_type": "code",
   "execution_count": 19,
   "metadata": {
    "collapsed": true
   },
   "outputs": [],
   "source": [
    "def init_matrix_bad(l, c, val):\n",
    "    M, row = [], []\n",
    "    for i in range(c):\n",
    "        row.append(val)\n",
    "    for j in range(l):\n",
    "        M.append(row)\n",
    "    return M"
   ]
  },
  {
   "cell_type": "code",
   "execution_count": 20,
   "metadata": {
    "collapsed": true
   },
   "outputs": [],
   "source": [
    "B = init_matrix_bad(6, 6, 1)"
   ]
  },
  {
   "cell_type": "code",
   "execution_count": 21,
   "metadata": {},
   "outputs": [
    {
     "data": {
      "text/plain": [
       "[[1, 1, 1, 1, 1, 1],\n",
       " [1, 1, 1, 1, 1, 1],\n",
       " [1, 1, 1, 1, 1, 1],\n",
       " [1, 1, 1, 1, 1, 1],\n",
       " [1, 1, 1, 1, 1, 1],\n",
       " [1, 1, 1, 1, 1, 1]]"
      ]
     },
     "execution_count": 21,
     "metadata": {},
     "output_type": "execute_result"
    }
   ],
   "source": [
    "B"
   ]
  },
  {
   "cell_type": "code",
   "execution_count": 22,
   "metadata": {
    "collapsed": true
   },
   "outputs": [],
   "source": [
    "B[0][4] = 2"
   ]
  },
  {
   "cell_type": "code",
   "execution_count": 23,
   "metadata": {},
   "outputs": [
    {
     "data": {
      "text/plain": [
       "[[1, 1, 1, 1, 2, 1],\n",
       " [1, 1, 1, 1, 2, 1],\n",
       " [1, 1, 1, 1, 2, 1],\n",
       " [1, 1, 1, 1, 2, 1],\n",
       " [1, 1, 1, 1, 2, 1],\n",
       " [1, 1, 1, 1, 2, 1]]"
      ]
     },
     "execution_count": 23,
     "metadata": {},
     "output_type": "execute_result"
    }
   ],
   "source": [
    "B"
   ]
  },
  {
   "cell_type": "code",
   "execution_count": 24,
   "metadata": {},
   "outputs": [
    {
     "name": "stdout",
     "output_type": "stream",
     "text": [
      "139681329273864\n",
      "139681329273864\n",
      "139681329273864\n",
      "139681329273864\n",
      "139681329273864\n",
      "139681329273864\n"
     ]
    }
   ],
   "source": [
    "for i in range(len(B)):\n",
    "    print(id(B[i]))"
   ]
  },
  {
   "cell_type": "code",
   "execution_count": 25,
   "metadata": {
    "collapsed": true
   },
   "outputs": [],
   "source": [
    "from random import randint"
   ]
  },
  {
   "cell_type": "code",
   "execution_count": 26,
   "metadata": {
    "collapsed": true
   },
   "outputs": [],
   "source": [
    "def build_matrix(l, c, vmax):\n",
    "    \"\"\"Returns a random matrix of shape (l, c).\"\"\"\n",
    "    M = []\n",
    "    for i in range(l):\n",
    "        M.append([])\n",
    "        for j in range(c):\n",
    "            M[i].append(randint(0, vmax-1))\n",
    "    return M"
   ]
  },
  {
   "cell_type": "code",
   "execution_count": 27,
   "metadata": {},
   "outputs": [
    {
     "data": {
      "text/plain": [
       "[[13, 57, 38, 25, 40, 14],\n",
       " [42, 1, 49, 18, 6, 53],\n",
       " [50, 35, 57, 56, 47, 55],\n",
       " [47, 18, 45, 8, 36, 28],\n",
       " [17, 22, 48, 38, 46, 25],\n",
       " [9, 55, 8, 48, 44, 31],\n",
       " [49, 53, 41, 14, 46, 3]]"
      ]
     },
     "execution_count": 27,
     "metadata": {},
     "output_type": "execute_result"
    }
   ],
   "source": [
    "build_matrix(7, 6, 58)"
   ]
  },
  {
   "cell_type": "code",
   "execution_count": 28,
   "metadata": {},
   "outputs": [
    {
     "data": {
      "text/plain": [
       "12873"
      ]
     },
     "execution_count": 28,
     "metadata": {},
     "output_type": "execute_result"
    }
   ],
   "source": [
    "int(\"12873\")"
   ]
  },
  {
   "cell_type": "code",
   "execution_count": 29,
   "metadata": {},
   "outputs": [
    {
     "ename": "ValueError",
     "evalue": "invalid literal for int() with base 10: '-1213 24'",
     "output_type": "error",
     "traceback": [
      "\u001b[0;31m---------------------------------------------------------------------------\u001b[0m",
      "\u001b[0;31mValueError\u001b[0m                                Traceback (most recent call last)",
      "\u001b[0;32m<ipython-input-29-6dcba38442ad>\u001b[0m in \u001b[0;36m<module>\u001b[0;34m()\u001b[0m\n\u001b[0;32m----> 1\u001b[0;31m \u001b[0mint\u001b[0m\u001b[0;34m(\u001b[0m\u001b[0;34m\"-1213 24\"\u001b[0m\u001b[0;34m)\u001b[0m\u001b[0;34m\u001b[0m\u001b[0m\n\u001b[0m",
      "\u001b[0;31mValueError\u001b[0m: invalid literal for int() with base 10: '-1213 24'"
     ]
    }
   ],
   "source": [
    "int(\"-1213 24\")"
   ]
  },
  {
   "cell_type": "code",
   "execution_count": 30,
   "metadata": {},
   "outputs": [
    {
     "data": {
      "text/plain": [
       "1"
      ]
     },
     "execution_count": 30,
     "metadata": {},
     "output_type": "execute_result"
    }
   ],
   "source": [
    "len(\"\\n\")"
   ]
  },
  {
   "cell_type": "code",
   "execution_count": 31,
   "metadata": {
    "collapsed": true
   },
   "outputs": [],
   "source": [
    "f = open(\"files/matrixS5.txt\")"
   ]
  },
  {
   "cell_type": "code",
   "execution_count": 32,
   "metadata": {},
   "outputs": [
    {
     "data": {
      "text/plain": [
       "'17 24 1 8 15\\n23 5 7 14 16\\n4 6 13 20 22\\n10 12 19 21 3\\n11 18 25 2 9\\n'"
      ]
     },
     "execution_count": 32,
     "metadata": {},
     "output_type": "execute_result"
    }
   ],
   "source": [
    "f.read()"
   ]
  },
  {
   "cell_type": "code",
   "execution_count": 33,
   "metadata": {
    "scrolled": true
   },
   "outputs": [
    {
     "data": {
      "text/plain": [
       "''"
      ]
     },
     "execution_count": 33,
     "metadata": {},
     "output_type": "execute_result"
    }
   ],
   "source": [
    "f.readline()"
   ]
  },
  {
   "cell_type": "code",
   "execution_count": 34,
   "metadata": {
    "collapsed": true
   },
   "outputs": [],
   "source": [
    "f.close()"
   ]
  },
  {
   "cell_type": "code",
   "execution_count": 35,
   "metadata": {
    "collapsed": true
   },
   "outputs": [],
   "source": [
    "def __str_to_matrix(s):\n",
    "    \"\"\"Reads a string in proper format into a matrix.\"\"\"\n",
    "    i, l = 0, len(s)\n",
    "    M, row = [], []\n",
    "    while i < l:\n",
    "        int_str = \"\"\n",
    "        #loading the current integer\n",
    "        while s[i] != \" \" and s[i] != \"\\n\":\n",
    "            int_str += s[i]\n",
    "            i += 1\n",
    "        intg = int(int_str)\n",
    "        row.append(intg)\n",
    "        if s[i] == \"\\n\":\n",
    "            M.append(row)\n",
    "            row = []\n",
    "        i += 1\n",
    "    return M           "
   ]
  },
  {
   "cell_type": "code",
   "execution_count": 36,
   "metadata": {
    "collapsed": true
   },
   "outputs": [],
   "source": [
    "def load_matrix(filename):\n",
    "    \"\"\"Loads matrix stored in txt file at filename.\"\"\"\n",
    "    f = open(filename)\n",
    "    s = f.read()\n",
    "    f.close()\n",
    "    return __str_to_matrix(s)"
   ]
  },
  {
   "cell_type": "code",
   "execution_count": 37,
   "metadata": {},
   "outputs": [
    {
     "data": {
      "text/plain": [
       "[[17, 24, 1, 8, 15],\n",
       " [23, 5, 7, 14, 16],\n",
       " [4, 6, 13, 20, 22],\n",
       " [10, 12, 19, 21, 3],\n",
       " [11, 18, 25, 2, 9]]"
      ]
     },
     "execution_count": 37,
     "metadata": {},
     "output_type": "execute_result"
    }
   ],
   "source": [
    "load_matrix(\"files/matrixS5.txt\")"
   ]
  },
  {
   "cell_type": "markdown",
   "metadata": {},
   "source": [
    "## Add matrices"
   ]
  },
  {
   "cell_type": "code",
   "execution_count": 38,
   "metadata": {
    "collapsed": true
   },
   "outputs": [],
   "source": [
    "def add_matrix(A, B):\n",
    "    \"\"\"Adds matrics A and B.\"\"\"\n",
    "    n_A, m_A, n_B, m_B = len(A), len(A[0]), len(B), len(B[0])\n",
    "    M = []\n",
    "    if n_A != n_B or m_A != m_B:\n",
    "        raise Exception(\"Matrices are not of same shape.\")\n",
    "    else:\n",
    "        for i in range(n_A):\n",
    "            L = []\n",
    "            for j in range(m_A):\n",
    "                L.append(A[i][j] + B[i][j])\n",
    "            M.append(L)\n",
    "        return M"
   ]
  },
  {
   "cell_type": "code",
   "execution_count": 39,
   "metadata": {
    "collapsed": true
   },
   "outputs": [],
   "source": [
    "A = [[1, 2, 3], [3, 4, 5]]\n",
    "B = [[0, 1, 6], [1, 2, -5]]"
   ]
  },
  {
   "cell_type": "code",
   "execution_count": 40,
   "metadata": {},
   "outputs": [
    {
     "data": {
      "text/plain": [
       "[[1, 3, 9], [4, 6, 0]]"
      ]
     },
     "execution_count": 40,
     "metadata": {},
     "output_type": "execute_result"
    }
   ],
   "source": [
    "add_matrix(A, B)\n"
   ]
  },
  {
   "cell_type": "code",
   "execution_count": 41,
   "metadata": {
    "collapsed": true
   },
   "outputs": [],
   "source": [
    "def add_matrix(A, B):\n",
    "    \"\"\"Adds matrics A and B.\"\"\"\n",
    "    n_A, m_A, n_B, m_B = len(A), len(A[0]), len(B), len(B[0])\n",
    "    M = []\n",
    "    if n_A != n_B or m_A != m_B:\n",
    "        raise Exception(\"Matrices are not of same shape.\")\n",
    "    else:\n",
    "        M = init_matrix(n_A, m_A, 0)  \n",
    "        # In C it would the definition of an array size and element type\n",
    "        for i in range(n_A):\n",
    "            for j in range(m_A):\n",
    "                M[i][j] = A[i][j] + B[i][j]\n",
    "        return M"
   ]
  },
  {
   "cell_type": "code",
   "execution_count": 42,
   "metadata": {},
   "outputs": [
    {
     "data": {
      "text/plain": [
       "[[1, 3, 9], [4, 6, 0]]"
      ]
     },
     "execution_count": 42,
     "metadata": {},
     "output_type": "execute_result"
    }
   ],
   "source": [
    "add_matrix(A, B)"
   ]
  },
  {
   "cell_type": "markdown",
   "metadata": {},
   "source": [
    "## Matrix multiplication"
   ]
  },
  {
   "cell_type": "code",
   "execution_count": 43,
   "metadata": {
    "collapsed": true
   },
   "outputs": [],
   "source": [
    "def mult_matrix(A, B):\n",
    "    \"\"\"Multiplies matrices A and B.\"\"\"\n",
    "    n_A, m_A, n_B, m_B = len(A), len(A[0]), len(B), len(B[0])\n",
    "    M = []\n",
    "    if m_A != n_B:\n",
    "        raise Exception(\"Matrices are not of proper shape.\")\n",
    "    else:\n",
    "        M = init_matrix(n_A, m_B, 0)\n",
    "        for i in range(n_A):\n",
    "            for j in range(m_B):\n",
    "                for k in range(m_A):\n",
    "                    M[i][j] += A[i][k]*B[k][j]\n",
    "        return M"
   ]
  },
  {
   "cell_type": "code",
   "execution_count": 44,
   "metadata": {
    "collapsed": true
   },
   "outputs": [],
   "source": [
    "C = [[1, 2], [3, 4], [5, 6]]"
   ]
  },
  {
   "cell_type": "code",
   "execution_count": 45,
   "metadata": {},
   "outputs": [
    {
     "data": {
      "text/plain": [
       "[[22, 28], [40, 52]]"
      ]
     },
     "execution_count": 45,
     "metadata": {},
     "output_type": "execute_result"
    }
   ],
   "source": [
    "mult_matrix(A, C)"
   ]
  },
  {
   "cell_type": "markdown",
   "metadata": {
    "collapsed": true
   },
   "source": [
    "## Exercise 2.1 | Search"
   ]
  },
  {
   "cell_type": "code",
   "execution_count": 46,
   "metadata": {
    "collapsed": true
   },
   "outputs": [],
   "source": [
    "def search_matrix(A, x):\n",
    "    \"\"\"Returns last occurence of x in matrix if any.\"\"\"\n",
    "    n, m = len(A), len(A[0])\n",
    "    res = (-1, -1)\n",
    "    for i in range(n):\n",
    "        for j in range(m):\n",
    "            if A[i][j] == x:\n",
    "                res = (i, j)\n",
    "    return res"
   ]
  },
  {
   "cell_type": "code",
   "execution_count": 47,
   "metadata": {
    "collapsed": true
   },
   "outputs": [],
   "source": [
    "def search_matrix(A, x):\n",
    "    \"\"\"Returns first occurence of x in matrix if any.\"\"\"\n",
    "    n, m = len(A), len(A[0])\n",
    "    i, j, searching = 0, 0, True\n",
    "    res = (-1, -1)\n",
    "    while i < n and searching:\n",
    "        j = 0\n",
    "        while j < m and searching:\n",
    "            if A[i][j] == x:\n",
    "                searching = False\n",
    "                res = (i, j)\n",
    "            j += 1\n",
    "        i += 1\n",
    "    return res"
   ]
  },
  {
   "cell_type": "code",
   "execution_count": 48,
   "metadata": {
    "collapsed": true
   },
   "outputs": [],
   "source": [
    "def search_matrix(A, x):\n",
    "    \"\"\"Returns first occurence of x in matrix if any.\"\"\"\n",
    "    n, m = len(A), len(A[0])\n",
    "    i, j = 0, m\n",
    "    while i < n and j == m:\n",
    "        j = 0\n",
    "        while j < m and A[i][j] != x:\n",
    "            j += 1\n",
    "        i += 1\n",
    "    if i == n and j == m:\n",
    "        return (-1, -1)\n",
    "    else:\n",
    "        return (i - 1, j)"
   ]
  },
  {
   "cell_type": "markdown",
   "metadata": {},
   "source": [
    "Can you write down this function with only one loop?"
   ]
  },
  {
   "cell_type": "code",
   "execution_count": 49,
   "metadata": {
    "collapsed": true
   },
   "outputs": [],
   "source": [
    "def search_matrix(A, x):\n",
    "    \"\"\"Returns first occurence of x in matrix if any.\"\"\"\n",
    "    n, m = len(A), len(A[0])\n",
    "    size = n * m\n",
    "    v = 0\n",
    "    while v < size and A[v // m][v % m] != x:\n",
    "        v += 1\n",
    "    if v == size:\n",
    "        return (-1, -1)\n",
    "    else:\n",
    "        return (v // m, v % m)    "
   ]
  },
  {
   "cell_type": "code",
   "execution_count": 50,
   "metadata": {},
   "outputs": [
    {
     "data": {
      "text/plain": [
       "(0, 1)"
      ]
     },
     "execution_count": 50,
     "metadata": {},
     "output_type": "execute_result"
    }
   ],
   "source": [
    "search_matrix(A, 2)"
   ]
  },
  {
   "cell_type": "markdown",
   "metadata": {},
   "source": [
    "## Exercise 2.2 | Max Gap"
   ]
  },
  {
   "cell_type": "code",
   "execution_count": 51,
   "metadata": {
    "collapsed": true
   },
   "outputs": [],
   "source": [
    "def max_gap (Mat):\n",
    "    gap = 0\n",
    "    n, m = len(Mat), len(Mat[0])\n",
    "    for i in range (n):\n",
    "        lower, higher = Mat[i][0], Mat[i][0]\n",
    "        for j in range(1, m):\n",
    "            if Mat[i][j] < lower:\n",
    "                lower = Mat[i][j]\n",
    "            elif Mat[i][j] > higher:\n",
    "                higher = Mat[i][j]\n",
    "        if (higher - lower > gap):\n",
    "            gap = higher - lower\n",
    "    return gap         "
   ]
  },
  {
   "cell_type": "code",
   "execution_count": 52,
   "metadata": {},
   "outputs": [
    {
     "data": {
      "text/plain": [
       "1"
      ]
     },
     "execution_count": 52,
     "metadata": {},
     "output_type": "execute_result"
    }
   ],
   "source": [
    "len(\"\\n\")"
   ]
  },
  {
   "cell_type": "code",
   "execution_count": 53,
   "metadata": {},
   "outputs": [
    {
     "data": {
      "text/plain": [
       "-inf"
      ]
     },
     "execution_count": 53,
     "metadata": {},
     "output_type": "execute_result"
    }
   ],
   "source": [
    "float('-inf')"
   ]
  },
  {
   "cell_type": "code",
   "execution_count": 54,
   "metadata": {
    "collapsed": true
   },
   "outputs": [],
   "source": [
    "def symetric(A):\n",
    "    \"\"\"Tests if a non empty matrix is symetric\"\"\"\n",
    "    n, m = len(A), len(A[0])\n",
    "    res = n == m\n",
    "    i = 0\n",
    "    while i < n and res:\n",
    "        j= i + 1\n",
    "        while j < n and res:\n",
    "            res = A[i][j] == A[j][i]\n",
    "            j+=1\n",
    "        i+=1\n",
    "    return res                     "
   ]
  },
  {
   "cell_type": "markdown",
   "metadata": {
    "collapsed": true
   },
   "source": [
    "## Exercise 3.1 | Magic Square\n",
    "\n",
    "Childish version."
   ]
  },
  {
   "cell_type": "code",
   "execution_count": 55,
   "metadata": {
    "collapsed": true
   },
   "outputs": [],
   "source": [
    "def __sum_col(M, j):\n",
    "    sum_c = 0\n",
    "    for i in range(len(M)):\n",
    "        sum_c += M[i][j]\n",
    "    return sum_c\n",
    "\n",
    "def __sum_row(M, i):\n",
    "    sum_r = 0\n",
    "    for j in range(len(M)):\n",
    "        sum_r += M[i][j]\n",
    "    return sum_r\n",
    "\n",
    "def __sum_diag(M):\n",
    "    sum_d = 0\n",
    "    for i in range(len(M)):\n",
    "        sum_d += M[i][i]\n",
    "    return sum_d\n",
    "\n",
    "def __sum_antidiag(M):\n",
    "    sum_a, n = 0, len(M)\n",
    "    for i in range(n):\n",
    "        sum_a += M[i][n-1-i]\n",
    "    return sum_a\n",
    "\n",
    "def test_MS_naive(M):\n",
    "    \"\"\"Tests whether a square matrix is magic.\"\"\"\n",
    "    n, m = len(M), len(M[0])\n",
    "    if n != m:\n",
    "        raise Exception(\"Matrix is not square. No magic there.\")\n",
    "    else:\n",
    "        d = __sum_diag(M)\n",
    "        if d != __sum_antidiag(M):\n",
    "            return False\n",
    "        else:\n",
    "            # Going through rows\n",
    "            i = 0\n",
    "            while i < n and d == __sum_row(M, i):\n",
    "                i += 1\n",
    "            if i == n:\n",
    "                # Going through columns\n",
    "                j = 0\n",
    "                while j < n and d == __sum_col(M ,j):\n",
    "                    j += 1\n",
    "                return j == n\n",
    "            else:\n",
    "                return False"
   ]
  },
  {
   "cell_type": "markdown",
   "metadata": {},
   "source": [
    "Teenagers version."
   ]
  },
  {
   "cell_type": "code",
   "execution_count": 56,
   "metadata": {
    "collapsed": true
   },
   "outputs": [],
   "source": [
    "def test_MS(M):\n",
    "    \"\"\"Tests whether a square matrix is magic.\"\"\"\n",
    "    n, m = len(M), len(M[0])\n",
    "    if n != m:\n",
    "        raise Exception(\"Matrix is not square. No magic there.\")\n",
    "    else:\n",
    "        # Summing up coefficients of diagonal and antidiagonal\n",
    "        sum_d, sum_ad = 0, 0\n",
    "        for i in range(n):\n",
    "            sum_d += M[i][i]\n",
    "            sum_ad += M[i][n-1-i]\n",
    "        if sum_d != sum_ad:\n",
    "            return False\n",
    "        else:\n",
    "            # Sumultaneously summing coefficents of each row and column\n",
    "            j, ok = 0, True\n",
    "            while j < n and ok: \n",
    "                sum_c, sum_r = 0, 0\n",
    "                for i in range(n):\n",
    "                    sum_c += M[i][j]\n",
    "                    sum_r += M[j][i]\n",
    "                ok = sum_c == sum_d and sum_r == sum_d\n",
    "                j += 1\n",
    "            return ok "
   ]
  },
  {
   "cell_type": "markdown",
   "metadata": {},
   "source": [
    "### Testing if Normal"
   ]
  },
  {
   "cell_type": "code",
   "execution_count": 57,
   "metadata": {
    "collapsed": true
   },
   "outputs": [],
   "source": [
    "def init_list(n, val):\n",
    "    \"\"\"Initializes matrix of length n having values to val.\"\"\"\n",
    "    L = []\n",
    "    for _ in range(n):\n",
    "        L.append(val)\n",
    "    return L"
   ]
  },
  {
   "cell_type": "code",
   "execution_count": 58,
   "metadata": {
    "collapsed": true
   },
   "outputs": [],
   "source": [
    "def test_MSN(M):\n",
    "    \"\"\"Tests whether a magic square is normal.\"\"\"\n",
    "    n = len(M)\n",
    "    size = n*n\n",
    "    # Building histogram\n",
    "    histo = init_list(size + 1, False)\n",
    "    i, j = 0, 0\n",
    "    ok = True\n",
    "    while i < n and ok:\n",
    "        while j < n and ok:\n",
    "            coef = M[i][j]\n",
    "            # Is it in the right range\n",
    "            if coef < 1 or coef > size:\n",
    "                ok = False\n",
    "            # Did we already encounter coeff?\n",
    "            elif histo[coef]:\n",
    "                ok = False\n",
    "            else:\n",
    "                histo[coef] = True\n",
    "                j += 1\n",
    "        i += 1\n",
    "    return ok"
   ]
  },
  {
   "cell_type": "code",
   "execution_count": 59,
   "metadata": {
    "collapsed": true
   },
   "outputs": [],
   "source": [
    "from math import *"
   ]
  },
  {
   "cell_type": "code",
   "execution_count": 60,
   "metadata": {},
   "outputs": [
    {
     "ename": "TypeError",
     "evalue": "a float is required",
     "output_type": "error",
     "traceback": [
      "\u001b[0;31m---------------------------------------------------------------------------\u001b[0m",
      "\u001b[0;31mTypeError\u001b[0m                                 Traceback (most recent call last)",
      "\u001b[0;32m<ipython-input-60-545c1c695dec>\u001b[0m in \u001b[0;36m<module>\u001b[0;34m()\u001b[0m\n\u001b[0;32m----> 1\u001b[0;31m \u001b[0mcos\u001b[0m\u001b[0;34m(\u001b[0m\u001b[0mA\u001b[0m\u001b[0;34m)\u001b[0m\u001b[0;34m\u001b[0m\u001b[0m\n\u001b[0m",
      "\u001b[0;31mTypeError\u001b[0m: a float is required"
     ]
    }
   ],
   "source": [
    "cos(A)"
   ]
  },
  {
   "cell_type": "code",
   "execution_count": 61,
   "metadata": {
    "collapsed": true
   },
   "outputs": [],
   "source": [
    "import numpy as np"
   ]
  },
  {
   "cell_type": "code",
   "execution_count": 62,
   "metadata": {
    "collapsed": true
   },
   "outputs": [],
   "source": [
    "np.random.randint?"
   ]
  },
  {
   "cell_type": "code",
   "execution_count": 63,
   "metadata": {
    "collapsed": true
   },
   "outputs": [],
   "source": [
    "A = np.array(np.random.randint(0, 22, size=100)).reshape(4, -1)"
   ]
  },
  {
   "cell_type": "code",
   "execution_count": 64,
   "metadata": {},
   "outputs": [
    {
     "data": {
      "text/plain": [
       "array([[ 0.0044257 , -0.95765948, -0.91113026,  0.28366219,  0.0044257 ,\n",
       "        -0.91113026, -0.75968791,  0.84385396, -0.27516334, -0.95765948,\n",
       "        -0.54772926, -0.95765948, -0.54772926, -0.14550003,  0.40808206,\n",
       "        -0.9899925 , -0.41614684,  1.        , -0.95765948,  0.98870462,\n",
       "         0.0044257 , -0.95765948, -0.54772926,  0.54030231,  0.13673722],\n",
       "       [ 0.96017029,  0.28366219,  0.90744678, -0.14550003,  0.13673722,\n",
       "         0.90744678, -0.9899925 , -0.14550003,  0.40808206, -0.41614684,\n",
       "        -0.9899925 , -0.83907153, -0.41614684,  0.0044257 , -0.95765948,\n",
       "        -0.41614684,  0.54030231, -0.83907153,  0.66031671, -0.9899925 ,\n",
       "         0.90744678,  1.        ,  0.84385396,  1.        ,  0.13673722],\n",
       "       [ 0.96017029, -0.41614684,  0.96017029,  0.75390225,  1.        ,\n",
       "        -0.83907153, -0.9899925 , -0.9899925 ,  0.84385396, -0.9899925 ,\n",
       "        -0.91113026,  0.84385396, -0.14550003,  0.84385396,  0.84385396,\n",
       "        -0.91113026,  1.        , -0.75968791,  0.90744678,  0.54030231,\n",
       "        -0.27516334,  0.96017029, -0.14550003,  0.66031671,  0.90744678],\n",
       "       [ 0.13673722,  0.28366219,  0.98870462,  0.28366219,  0.40808206,\n",
       "         0.40808206,  0.84385396, -0.9899925 , -0.41614684, -0.54772926,\n",
       "        -0.65364362, -0.9899925 , -0.9899925 , -0.83907153,  0.28366219,\n",
       "         0.96017029, -0.14550003, -0.9899925 , -0.83907153,  1.        ,\n",
       "         0.13673722,  0.90744678,  0.40808206,  0.96017029, -0.75968791]])"
      ]
     },
     "execution_count": 64,
     "metadata": {},
     "output_type": "execute_result"
    }
   ],
   "source": [
    "np.cos(A)"
   ]
  },
  {
   "cell_type": "code",
   "execution_count": 65,
   "metadata": {
    "collapsed": true
   },
   "outputs": [],
   "source": [
    "from matplotlib import pyplot"
   ]
  },
  {
   "cell_type": "code",
   "execution_count": 66,
   "metadata": {
    "collapsed": true
   },
   "outputs": [],
   "source": [
    "from algopy import matrix"
   ]
  },
  {
   "cell_type": "code",
   "execution_count": 67,
   "metadata": {},
   "outputs": [
    {
     "name": "stdout",
     "output_type": "stream",
     "text": [
      "------------------------------------------------------------------------------------------------------------------------------\n",
      "| 11 | 16 |  9 |  5 | 11 |  9 | 15 | 12 | 17 | 16 | 21 | 16 | 21 |  8 | 20 |  3 |  2 |  0 | 16 | 19 | 11 | 16 | 21 |  1 | 14 |\n",
      "------------------------------------------------------------------------------------------------------------------------------\n",
      "|  6 |  5 | 13 |  8 | 14 | 13 |  3 |  8 | 20 |  2 |  3 | 10 |  2 | 11 | 16 |  2 |  1 | 10 | 18 |  3 | 13 |  0 | 12 |  0 | 14 |\n",
      "------------------------------------------------------------------------------------------------------------------------------\n",
      "|  6 |  2 |  6 |  7 |  0 | 10 |  3 |  3 | 12 |  3 |  9 | 12 |  8 | 12 | 12 |  9 |  0 | 15 | 13 |  1 | 17 |  6 |  8 | 18 | 13 |\n",
      "------------------------------------------------------------------------------------------------------------------------------\n",
      "| 14 |  5 | 19 |  5 | 20 | 20 | 12 |  3 |  2 | 21 |  4 |  3 |  3 | 10 |  5 |  6 |  8 |  3 | 10 |  0 | 14 | 13 | 20 |  6 | 15 |\n",
      "------------------------------------------------------------------------------------------------------------------------------\n"
     ]
    }
   ],
   "source": [
    "matrix.prettyprint(A)"
   ]
  },
  {
   "cell_type": "markdown",
   "metadata": {
    "collapsed": true
   },
   "source": [
    "## Exercise 3 | Harry Potter"
   ]
  },
  {
   "cell_type": "code",
   "execution_count": 68,
   "metadata": {
    "collapsed": true
   },
   "outputs": [],
   "source": [
    "def __HP_brute(M, i, j, n, m):\n",
    "    if i >= n or j < 0 or j >= m:\n",
    "        return 0\n",
    "    else:\n",
    "        res = M[i][j] + max(__HP_brute(M, i+1, j-1, n, m),\n",
    "                            __HP_brute(M, i+1, j, n, m),\n",
    "                            __HP_brute(M, i+1, j+1, n, m))\n",
    "        return res\n",
    "    \n",
    "def HP_brute(M):\n",
    "    \"\"\"Harry Potter solver using brute force.\"\"\"\n",
    "    n, m = len(M), len(M[0])\n",
    "    gain = 0\n",
    "    for j in range(m):\n",
    "        gain = max(gain, __HP_brute(M, 0, j, n, m))\n",
    "    return gain"
   ]
  },
  {
   "cell_type": "code",
   "execution_count": 69,
   "metadata": {
    "collapsed": true
   },
   "outputs": [],
   "source": [
    "HP10 = matrix.loadMatrix(\"files/HarryPotter10.txt\")\n",
    "HP15 = matrix.loadMatrix(\"files/HarryPotter15.txt\")\n",
    "HP20 = matrix.loadMatrix(\"files/HarryPotter20.txt\")\n",
    "HP50 = matrix.loadMatrix(\"files/HarryPotter50.txt\")"
   ]
  },
  {
   "cell_type": "code",
   "execution_count": 70,
   "metadata": {},
   "outputs": [
    {
     "name": "stdout",
     "output_type": "stream",
     "text": [
      "CPU times: user 144 ms, sys: 8 ms, total: 152 ms\n",
      "Wall time: 153 ms\n"
     ]
    },
    {
     "data": {
      "text/plain": [
       "866"
      ]
     },
     "execution_count": 70,
     "metadata": {},
     "output_type": "execute_result"
    }
   ],
   "source": [
    "%%time\n",
    "HP_brute(HP10)"
   ]
  },
  {
   "cell_type": "code",
   "execution_count": 75,
   "metadata": {},
   "outputs": [
    {
     "data": {
      "text/plain": [
       "215233605"
      ]
     },
     "execution_count": 75,
     "metadata": {},
     "output_type": "execute_result"
    }
   ],
   "source": [
    "15*3**15"
   ]
  },
  {
   "cell_type": "code",
   "execution_count": 77,
   "metadata": {},
   "outputs": [
    {
     "name": "stdout",
     "output_type": "stream",
     "text": [
      "CPU times: user 49.1 s, sys: 0 ns, total: 49.1 s\n",
      "Wall time: 49.1 s\n"
     ]
    },
    {
     "data": {
      "text/plain": [
       "129"
      ]
     },
     "execution_count": 77,
     "metadata": {},
     "output_type": "execute_result"
    }
   ],
   "source": [
    "%%time\n",
    "HP_brute(HP15)"
   ]
  },
  {
   "cell_type": "markdown",
   "metadata": {},
   "source": [
    "Trying out a greedy strategy. **It doesn't give an optimal solution, hopefully a closer one than the random case.**"
   ]
  },
  {
   "cell_type": "code",
   "execution_count": 79,
   "metadata": {
    "collapsed": true
   },
   "outputs": [],
   "source": [
    "def HP_greedy(M):\n",
    "    \"\"\"Harry Potter solver using a greedy strategy. NOT VALID.\"\"\"\n",
    "    n, m = len(M), len(M[0])\n",
    "    # Compute maximum of first row\n",
    "    maxi, max_idx = M[0][0], 0\n",
    "    for j in range(1, m):\n",
    "        if maxi < M[0][j]:\n",
    "            maxi, max_idx = M[0][j], j\n",
    "    p = max_idx\n",
    "    gain = maxi\n",
    "    \n",
    "    # Going throw rows to udpate gain\n",
    "    for i in range(1, n):\n",
    "        maxi = M[i][p]\n",
    "        if p > 0:\n",
    "            if M[i][p-1] > maxi:\n",
    "                maxi, max_idx = M[i][p-1], p-1\n",
    "        if p < m - 1: \n",
    "            if M[i][p+1] > maxi:\n",
    "                maxi, max_idx = M[i][p+1], p+1\n",
    "        gain += maxi\n",
    "        p = max_idx\n",
    "    return gain\n",
    "    \n",
    "    "
   ]
  },
  {
   "cell_type": "code",
   "execution_count": 80,
   "metadata": {},
   "outputs": [
    {
     "data": {
      "text/plain": [
       "729"
      ]
     },
     "execution_count": 80,
     "metadata": {},
     "output_type": "execute_result"
    }
   ],
   "source": [
    "HP_greedy(HP10)"
   ]
  },
  {
   "cell_type": "code",
   "execution_count": 81,
   "metadata": {},
   "outputs": [
    {
     "data": {
      "text/plain": [
       "128"
      ]
     },
     "execution_count": 81,
     "metadata": {},
     "output_type": "execute_result"
    }
   ],
   "source": [
    "HP_greedy(HP15)"
   ]
  },
  {
   "cell_type": "code",
   "execution_count": 82,
   "metadata": {},
   "outputs": [
    {
     "data": {
      "text/plain": [
       "1561"
      ]
     },
     "execution_count": 82,
     "metadata": {},
     "output_type": "execute_result"
    }
   ],
   "source": [
    "HP_greedy(HP20)"
   ]
  },
  {
   "cell_type": "code",
   "execution_count": 83,
   "metadata": {},
   "outputs": [
    {
     "data": {
      "text/plain": [
       "3943"
      ]
     },
     "execution_count": 83,
     "metadata": {},
     "output_type": "execute_result"
    }
   ],
   "source": [
    "HP_greedy(HP50)"
   ]
  },
  {
   "cell_type": "code",
   "execution_count": null,
   "metadata": {
    "collapsed": true
   },
   "outputs": [],
   "source": [
    "%%time \n",
    "HP_brute(HP20)"
   ]
  },
  {
   "cell_type": "code",
   "execution_count": null,
   "metadata": {
    "collapsed": true
   },
   "outputs": [],
   "source": []
  }
 ],
 "metadata": {
  "kernelspec": {
   "display_name": "Python 3",
   "language": "python",
   "name": "python3"
  },
  "language_info": {
   "codemirror_mode": {
    "name": "ipython",
    "version": 3
   },
   "file_extension": ".py",
   "mimetype": "text/x-python",
   "name": "python",
   "nbconvert_exporter": "python",
   "pygments_lexer": "ipython3",
   "version": "3.6.3"
  }
 },
 "nbformat": 4,
 "nbformat_minor": 2
}
